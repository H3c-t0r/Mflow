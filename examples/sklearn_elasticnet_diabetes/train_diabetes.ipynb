{
 "cells": [
  {
   "cell_type": "markdown",
   "metadata": {},
   "source": [
    "#   MLflow model using ElasticNet (sklearn) and Plots ElasticNet Descent Paths\n",
    "- Uses the sklearn Diabetes dataset to predict diabetes progression using ElasticNet\n",
    "- The predicted \"progression\" column is a quantitative measure of disease progression one year after baseline http://scikit-learn.org/stable/modules/generated/sklearn.datasets.load_diabetes.html\n",
    "- Combines the above with the Lasso Coordinate Descent Path Plot http://scikit-learn.org/stable/auto_examples/linear_model/plot_lasso_coordinate_descent_path.html\n",
    "- Original author: Alexandre Gramfort <alexandre.gramfort@inria.fr>\n",
    "- License: BSD 3 clause"
   ]
  },
  {
   "cell_type": "code",
   "execution_count": 1,
   "metadata": {},
   "outputs": [],
   "source": [
    "%matplotlib inline\n",
    "import os, warnings, sys\n",
    "warnings.filterwarnings(\"ignore\")\n",
    "\n",
    "import pandas as pd\n",
    "import numpy as np\n",
    "from itertools import cycle\n",
    "import matplotlib.pyplot as plt\n",
    "from sklearn.metrics import mean_squared_error, mean_absolute_error, r2_score\n",
    "from sklearn.model_selection import train_test_split\n",
    "from sklearn.linear_model import ElasticNet\n",
    "from sklearn.linear_model import lasso_path, enet_path\n",
    "from sklearn import datasets"
   ]
  },
  {
   "cell_type": "code",
   "execution_count": 2,
   "metadata": {},
   "outputs": [],
   "source": [
    "# Load Diabetes datasets\n",
    "diabetes = datasets.load_diabetes()\n",
    "X = diabetes.data\n",
    "y = diabetes.target\n",
    "\n",
    "# Create pandas DataFrame for sklearn ElasticNet linear_model\n",
    "Y = np.array([y]).transpose()\n",
    "d = np.concatenate((X, Y), axis=1)\n",
    "cols = diabetes.feature_names + ['progression']\n",
    "data = pd.DataFrame(d, columns=cols)"
   ]
  },
  {
   "cell_type": "code",
   "execution_count": 3,
   "metadata": {},
   "outputs": [],
   "source": [
    "# Import mlflow\n",
    "import mlflow\n",
    "import mlflow.sklearn"
   ]
  },
  {
   "cell_type": "code",
   "execution_count": 4,
   "metadata": {},
   "outputs": [],
   "source": [
    "# Evaluate metrics\n",
    "def eval_metrics(actual, pred):\n",
    "    rmse = np.sqrt(mean_squared_error(actual, pred))\n",
    "    mae = mean_absolute_error(actual, pred)\n",
    "    r2 = r2_score(actual, pred)\n",
    "    return rmse, mae, r2"
   ]
  },
  {
   "cell_type": "code",
   "execution_count": 5,
   "metadata": {},
   "outputs": [],
   "source": [
    "np.random.seed(40)\n",
    "\n",
    "# Split the data into training and test sets. (0.75, 0.25) split.\n",
    "train, test = train_test_split(data)\n",
    "\n",
    "# The predicted column is \"progression\" which is a quantitative measure of disease progression one year after baseline\n",
    "train_x = train.drop([\"progression\"], axis=1)\n",
    "test_x = test.drop([\"progression\"], axis=1)\n",
    "train_y = train[[\"progression\"]]\n",
    "test_y = test[[\"progression\"]]"
   ]
  },
  {
   "cell_type": "code",
   "execution_count": 6,
   "metadata": {},
   "outputs": [],
   "source": [
    "alpha =  0.05\n",
    "l1_ratio = 0.05\n",
    "\n",
    "# Run ElasticNet\n",
    "lr = ElasticNet(alpha=alpha, l1_ratio=l1_ratio, random_state=42)\n",
    "lr.fit(train_x, train_y)\n",
    "predicted_qualities = lr.predict(test_x)\n",
    "(rmse, mae, r2) = eval_metrics(test_y, predicted_qualities)"
   ]
  },
  {
   "cell_type": "code",
   "execution_count": 7,
   "metadata": {},
   "outputs": [
    {
     "name": "stdout",
     "output_type": "stream",
     "text": [
      "Elasticnet model (alpha=0.050000, l1_ratio=0.050000):\n",
      "  RMSE: 78.59248628523486\n",
      "  MAE: 66.30996047256438\n",
      "  R2: 0.06607454600721252\n"
     ]
    }
   ],
   "source": [
    "# Print out ElasticNet model metrics\n",
    "print(\"Elasticnet model (alpha=%f, l1_ratio=%f):\" % (alpha, l1_ratio))\n",
    "print(\"  RMSE: %s\" % rmse)\n",
    "print(\"  MAE: %s\" % mae)\n",
    "print(\"  R2: %s\" % r2)\n",
    "\n",
    "# Log mlflow attributes for mlflow UI\n",
    "mlflow.log_param(\"alpha\", alpha)\n",
    "mlflow.log_param(\"l1_ratio\", l1_ratio)\n",
    "mlflow.log_metric(\"rmse\", rmse)\n",
    "mlflow.log_metric(\"r2\", r2)\n",
    "mlflow.log_metric(\"mae\", mae)\n",
    "mlflow.sklearn.log_model(lr, \"model\")"
   ]
  },
  {
   "cell_type": "code",
   "execution_count": 8,
   "metadata": {},
   "outputs": [
    {
     "name": "stdout",
     "output_type": "stream",
     "text": [
      "Computing regularization path using the elastic net.\n"
     ]
    }
   ],
   "source": [
    "# Compute paths\n",
    "eps = 5e-3  # the smaller it is the longer is the path\n",
    "\n",
    "print(\"Computing regularization path using the elastic net.\")\n",
    "alphas_enet, coefs_enet, _ = enet_path(X, y, eps=eps, l1_ratio=l1_ratio, fit_intercept=False)"
   ]
  },
  {
   "cell_type": "code",
   "execution_count": 9,
   "metadata": {},
   "outputs": [
    {
     "data": {
      "image/png": "[encoded data removed]",
      "text/plain": [
       "<Figure size 432x288 with 1 Axes>"
      ]
     },
     "metadata": {},
     "output_type": "display_data"
    }
   ],
   "source": [
    "# Display results\n",
    "fig = plt.figure(1)\n",
    "ax = plt.gca()\n",
    "\n",
    "colors = cycle(['b', 'r', 'g', 'c', 'k'])\n",
    "neg_log_alphas_enet = -np.log10(alphas_enet)\n",
    "for coef_e, c in zip(coefs_enet, colors):\n",
    "    l2 = plt.plot(neg_log_alphas_enet, coef_e, linestyle='--', c=c)\n",
    "\n",
    "plt.xlabel('-Log(alpha)')\n",
    "plt.ylabel('coefficients')\n",
    "title = 'ElasticNet Path by alpha for l1_ratio = ' + str(l1_ratio)\n",
    "plt.title(title)\n",
    "plt.axis('tight')\n",
    "\n",
    "\n",
    "# Save figures\n",
    "fig.savefig(\"ElasticNet-paths.png\")"
   ]
  },
  {
   "cell_type": "code",
   "execution_count": 10,
   "metadata": {},
   "outputs": [],
   "source": [
    "# Log artifacts (output files)\n",
    "mlflow.log_artifact(\"ElasticNet-paths.png\")"
   ]
  },
  {
   "cell_type": "code",
   "execution_count": null,
   "metadata": {},
   "outputs": [],
   "source": []
  }
 ],
 "metadata": {
  "kernelspec": {
   "display_name": "Python 3",
   "language": "python",
   "name": "python3"
  },
  "language_info": {
   "codemirror_mode": {
    "name": "ipython",
    "version": 3
   },
   "file_extension": ".py",
   "mimetype": "text/x-python",
   "name": "python",
   "nbconvert_exporter": "python",
   "pygments_lexer": "ipython3",
   "version": "3.6.3"
  }
 },
 "nbformat": 4,
 "nbformat_minor": 2
}
