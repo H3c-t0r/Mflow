{
  "cells": [
    {
      "cell_type": "code",
      "execution_count": null,
      "metadata": {
        "gather": {
          "logged": 1645643378553
        }
      },
      "outputs": [],
      "source": [
        "import mlflow.fastai\n",
        "from fastai.vision.all import (\n",
        "    CategoryBlock,\n",
        "    DataBlock,\n",
        "    GrandparentSplitter,\n",
        "    ImageBlock,\n",
        "    PILImage,\n",
        "    URLs,\n",
        ")\n",
        "from fastai.vision.all import cnn_learner, get_image_files, parent_label, resnet18, untar_data"
      ]
    },
    {
      "cell_type": "code",
      "execution_count": null,
      "metadata": {
        "gather": {
          "logged": 1645643379578
        }
      },
      "outputs": [],
      "source": [
        "splitter = GrandparentSplitter(train_name=\"training\", valid_name=\"testing\")\n",
        "\n",
        "# Prepare DataBlock which is a generic container to quickly build Datasets and DataLoaders\n",
        "mnist = DataBlock(\n",
        "    blocks=(ImageBlock(PILImage), CategoryBlock),\n",
        "    get_items=get_image_files,\n",
        "    splitter=splitter,\n",
        "    get_y=parent_label,\n",
        ")"
      ]
    },
    {
      "cell_type": "code",
      "execution_count": null,
      "metadata": {
        "gather": {
          "logged": 1645643388256
        }
      },
      "outputs": [],
      "source": [
        "data = mnist.dataloaders(untar_data(URLs.MNIST), bs=256, num_workers=0)"
      ]
    },
    {
      "cell_type": "code",
      "execution_count": null,
      "metadata": {
        "gather": {
          "logged": 1645577187840
        }
      },
      "outputs": [],
      "source": [
        "    # mlflow.fastai.autolog()"
      ]
    },
    {
      "cell_type": "code",
      "execution_count": null,
      "metadata": {
        "gather": {
          "logged": 1645643392803
        }
      },
      "outputs": [],
      "source": [
        "# Create Learner model\n",
        "learn = cnn_learner(data, resnet18)"
      ]
    },
    {
      "cell_type": "code",
      "execution_count": null,
      "metadata": {
        "gather": {
          "logged": 1645649125050
        }
      },
      "outputs": [],
      "source": [
        "\n",
        "with mlflow.start_run() as run:\n",
        "    # Train and fit with default or supplied command line arguments\n",
        "    learn.fit_one_cycle(1, 0.1)\n",
        "    mlflow.fastai.log_model(learn, \"model\")"
      ]
    },
    {
      "cell_type": "code",
      "execution_count": null,
      "metadata": {
        "gather": {
          "logged": 1645649135343
        }
      },
      "outputs": [],
      "source": [
        "model_uri = \"runs:/{}/model\".format(run.info.run_id)\n",
        "loaded_model = mlflow.fastai.load_model(model_uri)"
      ]
    },
    {
      "cell_type": "code",
      "execution_count": 112,
      "metadata": {
        "gather": {
          "logged": 1645662697285
        },
        "jupyter": {
          "outputs_hidden": false,
          "source_hidden": false
        },
        "nteract": {
          "transient": {
            "deleting": false
          }
        }
      },
      "outputs": [
        {
          "data": {
            "text/html": [
              "\n",
              "<style>\n",
              "    /* Turns off some styling */\n",
              "    progress {\n",
              "        /* gets rid of default border in Firefox and Opera. */\n",
              "        border: none;\n",
              "        /* Needs to be in here for Safari polyfill so background images work as expected. */\n",
              "        background-size: auto;\n",
              "    }\n",
              "    .progress-bar-interrupted, .progress-bar-interrupted::-webkit-progress-bar {\n",
              "        background: #F44336;\n",
              "    }\n",
              "</style>\n"
            ],
            "text/plain": [
              "<IPython.core.display.HTML object>"
            ]
          },
          "metadata": {},
          "output_type": "display_data"
        },
        {
          "data": {
            "text/html": [],
            "text/plain": [
              "<IPython.core.display.HTML object>"
            ]
          },
          "metadata": {},
          "output_type": "display_data"
        },
        {
          "data": {
            "text/plain": [
              "('3',\n",
              " TensorBase(3),\n",
              " TensorBase([1.3418e-13, 5.8279e-14, 5.2054e-12, 1.0000e+00, 3.8687e-13, 1.6166e-07,\n",
              "         3.1506e-11, 4.8758e-13, 2.6322e-06, 4.4112e-10]))"
            ]
          },
          "execution_count": 112,
          "metadata": {},
          "output_type": "execute_result"
        }
      ],
      "source": [
        "loaded_model.predict(data.train_ds[0][0])"
      ]
    },
    {
      "cell_type": "code",
      "execution_count": null,
      "metadata": {
        "gather": {
          "logged": 1645649136805
        },
        "jupyter": {
          "outputs_hidden": false,
          "source_hidden": false
        },
        "nteract": {
          "transient": {
            "deleting": false
          }
        }
      },
      "outputs": [],
      "source": [
        "model_uri"
      ]
    },
    {
      "cell_type": "code",
      "execution_count": null,
      "metadata": {
        "jupyter": {
          "outputs_hidden": false,
          "source_hidden": false
        },
        "nteract": {
          "transient": {
            "deleting": false
          }
        }
      },
      "outputs": [],
      "source": []
    }
  ],
  "metadata": {
    "interpreter": {
      "hash": "be8044724b2cbee1342fe65a0610284ff5019b1e0ba802b1198420140d8e61b1"
    },
    "kernel_info": {
      "name": "fastai"
    },
    "kernelspec": {
      "display_name": "fastai",
      "language": "python",
      "name": "fastai"
    },
    "language_info": {
      "codemirror_mode": {
        "name": "ipython",
        "version": 3
      },
      "file_extension": ".py",
      "mimetype": "text/x-python",
      "name": "python",
      "nbconvert_exporter": "python",
      "pygments_lexer": "ipython3",
      "version": "3.7.5"
    },
    "microsoft": {
      "host": {
        "AzureML": {
          "notebookHasBeenCompleted": true
        }
      }
    },
    "nteract": {
      "version": "nteract-front-end@1.0.0"
    },
    "orig_nbformat": 4
  },
  "nbformat": 4,
  "nbformat_minor": 0
}
