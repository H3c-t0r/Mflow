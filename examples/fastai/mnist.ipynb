{
  "cells": [
    {
      "cell_type": "markdown",
      "metadata": {},
      "source": [
        "### This example illustrates how to use mlflow to track parameters, metrics, artifacts and models while training a simple MNIST model."
      ]
    },
    {
      "cell_type": "code",
      "execution_count": 3,
      "metadata": {
        "gather": {
          "logged": 1645815650326
        }
      },
      "outputs": [],
      "source": [
        "import mlflow.fastai\n",
        "from fastai.vision.all import (\n",
        "    CategoryBlock,\n",
        "    DataBlock,\n",
        "    GrandparentSplitter,\n",
        "    ImageBlock,\n",
        "    PILImage,\n",
        "    URLs,\n",
        ")\n",
        "from fastai.vision.all import cnn_learner, get_image_files, parent_label, resnet18, untar_data\n",
        "import numpy as np"
      ]
    },
    {
      "cell_type": "markdown",
      "metadata": {},
      "source": [
        "#### Splitting data between training and validation"
      ]
    },
    {
      "cell_type": "code",
      "execution_count": 4,
      "metadata": {
        "gather": {
          "logged": 1645815652376
        }
      },
      "outputs": [],
      "source": [
        "splitter = GrandparentSplitter(train_name=\"training\", valid_name=\"testing\")\n",
        "\n",
        "# Prepare DataBlock which is a generic container to quickly build Datasets and DataLoaders\n",
        "mnist = DataBlock(\n",
        "    blocks=(ImageBlock(PILImage), CategoryBlock),\n",
        "    get_items=get_image_files,\n",
        "    splitter=splitter,\n",
        "    get_y=parent_label,\n",
        ")"
      ]
    },
    {
      "cell_type": "markdown",
      "metadata": {},
      "source": [
        "#### Downloading MNIST data set and creating DataLoader from Datablock"
      ]
    },
    {
      "cell_type": "code",
      "execution_count": 5,
      "metadata": {
        "gather": {
          "logged": 1645815670763
        }
      },
      "outputs": [
        {
          "data": {
            "text/html": [
              "\n",
              "<style>\n",
              "    /* Turns off some styling */\n",
              "    progress {\n",
              "        /* gets rid of default border in Firefox and Opera. */\n",
              "        border: none;\n",
              "        /* Needs to be in here for Safari polyfill so background images work as expected. */\n",
              "        background-size: auto;\n",
              "    }\n",
              "    .progress-bar-interrupted, .progress-bar-interrupted::-webkit-progress-bar {\n",
              "        background: #F44336;\n",
              "    }\n",
              "</style>\n"
            ],
            "text/plain": [
              "<IPython.core.display.HTML object>"
            ]
          },
          "metadata": {},
          "output_type": "display_data"
        },
        {
          "data": {
            "text/html": [
              "\n",
              "    <div>\n",
              "      <progress value='15687680' class='' max='15683414' style='width:300px; height:20px; vertical-align: middle;'></progress>\n",
              "      100.03% [15687680/15683414 00:00<00:00]\n",
              "    </div>\n",
              "    "
            ],
            "text/plain": [
              "<IPython.core.display.HTML object>"
            ]
          },
          "metadata": {},
          "output_type": "display_data"
        },
        {
          "name": "stdout",
          "output_type": "stream",
          "text": [
            "Data located at: /home/azureuser/.fastai/data/mnist_png\n"
          ]
        }
      ],
      "source": [
        "data_path = untar_data(URLs.MNIST)\n",
        "image_files = get_image_files(data_path)\n",
        "print('Data located at:', data_path)\n",
        "\n",
        "data = mnist.dataloaders(data_path, bs=256, num_workers=0)\n",
        "\n",
        "data.train.show_batch()\n"
      ]
    },
    {
      "cell_type": "markdown",
      "metadata": {},
      "source": [
        "##### Creating signature"
      ]
    },
    {
      "cell_type": "code",
      "execution_count": 9,
      "metadata": {
        "gather": {
          "logged": 1645815722770
        }
      },
      "outputs": [],
      "source": [
        "import numpy as np\n",
        "from mlflow.models.signature import ModelSignature\n",
        "from mlflow.types.schema import Schema, TensorSpec\n",
        "\n",
        "input_schema = Schema([\n",
        "  TensorSpec(np.dtype(np.uint8), (-1, -1, -1, 3)),\n",
        "])\n",
        "output_schema = Schema([\n",
        "  TensorSpec(np.dtype(np.float32), (-1, 2)),\n",
        "])\n",
        "signature = ModelSignature(inputs=input_schema, outputs=output_schema)"
      ]
    },
    {
      "cell_type": "markdown",
      "metadata": {},
      "source": [
        "##### Enabling autologging from mlflow"
      ]
    },
    {
      "cell_type": "code",
      "execution_count": null,
      "metadata": {
        "gather": {
          "logged": 1645577187840
        }
      },
      "outputs": [],
      "source": [
        "# mlflow.fastai.autolog()"
      ]
    },
    {
      "cell_type": "markdown",
      "metadata": {},
      "source": [
        "##### Create Learner model"
      ]
    },
    {
      "cell_type": "code",
      "execution_count": 10,
      "metadata": {
        "gather": {
          "logged": 1645815731924
        }
      },
      "outputs": [
        {
          "name": "stderr",
          "output_type": "stream",
          "text": [
            "Downloading: \"https://download.pytorch.org/models/resnet18-f37072fd.pth\" to /home/azureuser/.cache/torch/hub/checkpoints/resnet18-f37072fd.pth\n"
          ]
        },
        {
          "data": {
            "application/vnd.jupyter.widget-view+json": {
              "model_id": "2dd59b518bae489a9451021bacea44d6",
              "version_major": 2,
              "version_minor": 0
            },
            "text/plain": [
              "  0%|          | 0.00/44.7M [00:00<?, ?B/s]"
            ]
          },
          "metadata": {},
          "output_type": "display_data"
        }
      ],
      "source": [
        "\n",
        "learn = cnn_learner(data, resnet18)"
      ]
    },
    {
      "cell_type": "markdown",
      "metadata": {},
      "source": [
        "##### Using different loading function"
      ]
    },
    {
      "cell_type": "code",
      "execution_count": 11,
      "metadata": {},
      "outputs": [
        {
          "name": "stdout",
          "output_type": "stream",
          "text": [
            "Writing fastai_model_loader.py\n"
          ]
        }
      ],
      "source": [
        "%%writefile fastai_model_loader.py\n",
        "import os\n",
        "import numpy as np\n",
        "import pandas as pd\n",
        "\n",
        "class _FastaiModelWrapperPatch:\n",
        "    def __init__(self, learner):\n",
        "        self.learner = learner\n",
        "\n",
        "    def predict(self, dataframe):\n",
        "        dl = self.learner.dls.test_dl(dataframe)\n",
        "        preds, _ = self.learner.get_preds(dl=dl)\n",
        "        return pd.Series(map(np.array, preds.numpy())).to_frame('predictions')\n",
        "\n",
        "def _load_model(path):\n",
        "    from fastai.learner import load_learner\n",
        "\n",
        "    return load_learner(os.path.abspath(path))\n",
        "\n",
        "def _load_pyfunc(path):\n",
        "    \"\"\"\n",
        "    Load PyFunc implementation. Called by ``pyfunc.load_pyfunc``.\n",
        "    :param path: Local filesystem path to the MLflow Model with the ``fastai`` flavor.\n",
        "    \"\"\"\n",
        "    print(\"Model loaded from:\",path)\n",
        "    return _FastaiModelWrapperPatch(_load_model(path))"
      ]
    },
    {
      "cell_type": "markdown",
      "metadata": {},
      "source": [
        "##### Training model"
      ]
    },
    {
      "cell_type": "code",
      "execution_count": 21,
      "metadata": {
        "gather": {
          "logged": 1645816743691
        }
      },
      "outputs": [
        {
          "data": {
            "text/html": [
              "\n",
              "<style>\n",
              "    /* Turns off some styling */\n",
              "    progress {\n",
              "        /* gets rid of default border in Firefox and Opera. */\n",
              "        border: none;\n",
              "        /* Needs to be in here for Safari polyfill so background images work as expected. */\n",
              "        background-size: auto;\n",
              "    }\n",
              "    .progress-bar-interrupted, .progress-bar-interrupted::-webkit-progress-bar {\n",
              "        background: #F44336;\n",
              "    }\n",
              "</style>\n"
            ],
            "text/plain": [
              "<IPython.core.display.HTML object>"
            ]
          },
          "metadata": {},
          "output_type": "display_data"
        },
        {
          "data": {
            "text/html": [
              "<table border=\"1\" class=\"dataframe\">\n",
              "  <thead>\n",
              "    <tr style=\"text-align: left;\">\n",
              "      <th>epoch</th>\n",
              "      <th>train_loss</th>\n",
              "      <th>valid_loss</th>\n",
              "      <th>time</th>\n",
              "    </tr>\n",
              "  </thead>\n",
              "  <tbody>\n",
              "    <tr>\n",
              "      <td>0</td>\n",
              "      <td>nan</td>\n",
              "      <td>None</td>\n",
              "      <td>00:00</td>\n",
              "    </tr>\n",
              "  </tbody>\n",
              "</table>"
            ],
            "text/plain": [
              "<IPython.core.display.HTML object>"
            ]
          },
          "metadata": {},
          "output_type": "display_data"
        },
        {
          "name": "stderr",
          "output_type": "stream",
          "text": [
            "/anaconda/envs/fastai-example/lib/python3.7/site-packages/fastprogress/fastprogress.py:74: UserWarning: Your generator is empty.\n",
            "  warn(\"Your generator is empty.\")\n",
            "Successfully registered model 'digits_cnn_model'.\n",
            "2022/02/25 19:19:03 INFO mlflow.tracking._model_registry.client: Waiting up to 300 seconds for model version to finish creation.                     Model name: digits_cnn_model, version 1\n",
            "Created version '1' of model 'digits_cnn_model'.\n"
          ]
        }
      ],
      "source": [
        "saved_model = \"/home/azureuser/.fastai/model.fastai\"\n",
        "\n",
        "with mlflow.start_run() as run:\n",
        "    # Train and fit with default or supplied command line arguments\n",
        "    learn.fit_one_cycle(1, 0.1)\n",
        "    learn.export(saved_model)\n",
        "    model = mlflow.pyfunc.log_model(\"model\", \n",
        "                                    registered_model_name=\"digits_cnn_model\",\n",
        "                                    data_path=saved_model, \n",
        "                                    code_path=[\"./fastai_model_loader.py\"], \n",
        "                                    loader_module=\"fastai_model_loader\", \n",
        "                                    signature=signature)"
      ]
    },
    {
      "cell_type": "markdown",
      "metadata": {},
      "source": [
        "#### Loading trained model from the run"
      ]
    },
    {
      "cell_type": "code",
      "execution_count": 40,
      "metadata": {
        "gather": {
          "logged": 1645817417914
        }
      },
      "outputs": [
        {
          "name": "stdout",
          "output_type": "stream",
          "text": [
            "Model loaded from: /tmp/tmp355uj81s/model/data/model.fastai\n"
          ]
        },
        {
          "data": {
            "text/plain": [
              "'runs:/11df06dd-907f-4134-a537-9ee435c5b47a/model'"
            ]
          },
          "execution_count": 40,
          "metadata": {},
          "output_type": "execute_result"
        }
      ],
      "source": [
        "model_uri = \"runs:/{}/model\".format(run.info.run_id)\n",
        "loaded_model = mlflow.pyfunc.load_model(model_uri)\n",
        "model_uri"
      ]
    },
    {
      "cell_type": "markdown",
      "metadata": {
        "nteract": {
          "transient": {
            "deleting": false
          }
        }
      },
      "source": [
        " #### Creating a sample batch for predcition to a rest endpoint"
      ]
    },
    {
      "cell_type": "code",
      "execution_count": 32,
      "metadata": {
        "gather": {
          "logged": 1645817122779
        },
        "jupyter": {
          "outputs_hidden": false,
          "source_hidden": false
        },
        "nteract": {
          "transient": {
            "deleting": false
          }
        }
      },
      "outputs": [],
      "source": [
        "from fastai.vision.core import load_image\n",
        "\n",
        "# sample_img = load_image(image_files[1])\n",
        "sample_img_arr = np.array(data.train_ds[0][0])\n",
        "\n",
        "sample_batch = sample_img_arr.reshape(1, sample_img.height, sample_img.width,3)"
      ]
    },
    {
      "cell_type": "code",
      "execution_count": 47,
      "metadata": {
        "gather": {
          "logged": 1645817819268
        },
        "jupyter": {
          "outputs_hidden": false,
          "source_hidden": false
        },
        "nteract": {
          "transient": {
            "deleting": false
          }
        }
      },
      "outputs": [
        {
          "data": {
            "image/png": "[encoded data removed]",
            "text/plain": [
              "PILImage mode=RGB size=28x28"
            ]
          },
          "execution_count": 47,
          "metadata": {},
          "output_type": "execute_result"
        }
      ],
      "source": [
        "data.train_ds[0][0]"
      ]
    },
    {
      "cell_type": "markdown",
      "metadata": {},
      "source": [
        "##### Local prediction"
      ]
    },
    {
      "cell_type": "code",
      "execution_count": 48,
      "metadata": {
        "gather": {
          "logged": 1645817845135
        },
        "jupyter": {
          "outputs_hidden": false,
          "source_hidden": false
        },
        "nteract": {
          "transient": {
            "deleting": false
          }
        }
      },
      "outputs": [
        {
          "data": {
            "text/html": [
              "\n",
              "<style>\n",
              "    /* Turns off some styling */\n",
              "    progress {\n",
              "        /* gets rid of default border in Firefox and Opera. */\n",
              "        border: none;\n",
              "        /* Needs to be in here for Safari polyfill so background images work as expected. */\n",
              "        background-size: auto;\n",
              "    }\n",
              "    .progress-bar-interrupted, .progress-bar-interrupted::-webkit-progress-bar {\n",
              "        background: #F44336;\n",
              "    }\n",
              "</style>\n"
            ],
            "text/plain": [
              "<IPython.core.display.HTML object>"
            ]
          },
          "metadata": {},
          "output_type": "display_data"
        },
        {
          "data": {
            "text/html": [],
            "text/plain": [
              "<IPython.core.display.HTML object>"
            ]
          },
          "metadata": {},
          "output_type": "display_data"
        },
        {
          "data": {
            "text/html": [
              "<div>\n",
              "<style scoped>\n",
              "    .dataframe tbody tr th:only-of-type {\n",
              "        vertical-align: middle;\n",
              "    }\n",
              "\n",
              "    .dataframe tbody tr th {\n",
              "        vertical-align: top;\n",
              "    }\n",
              "\n",
              "    .dataframe thead th {\n",
              "        text-align: right;\n",
              "    }\n",
              "</style>\n",
              "<table border=\"1\" class=\"dataframe\">\n",
              "  <thead>\n",
              "    <tr style=\"text-align: right;\">\n",
              "      <th></th>\n",
              "      <th>predictions</th>\n",
              "    </tr>\n",
              "  </thead>\n",
              "  <tbody>\n",
              "    <tr>\n",
              "      <th>0</th>\n",
              "      <td>[8.421067e-07, 2.8983236e-06, 1.3368848e-06, 0.9994823, 1.6431642e-06, 8.523096e-05, 7.7165737e-07, 4.1304946e-07, 0.00041827984, 6.3882144e-06]</td>\n",
              "    </tr>\n",
              "  </tbody>\n",
              "</table>\n",
              "</div>"
            ],
            "text/plain": [
              "                                                                                                                                        predictions\n",
              "0  [8.421067e-07, 2.8983236e-06, 1.3368848e-06, 0.9994823, 1.6431642e-06, 8.523096e-05, 7.7165737e-07, 4.1304946e-07, 0.00041827984, 6.3882144e-06]"
            ]
          },
          "execution_count": 48,
          "metadata": {},
          "output_type": "execute_result"
        }
      ],
      "source": [
        "loaded_model.predict(sample_batch)"
      ]
    },
    {
      "cell_type": "markdown",
      "metadata": {
        "nteract": {
          "transient": {
            "deleting": false
          }
        }
      },
      "source": [
        "### Running the model as a local endpoint"
      ]
    },
    {
      "cell_type": "code",
      "execution_count": 45,
      "metadata": {
        "gather": {
          "logged": 1645817791313
        },
        "jupyter": {
          "outputs_hidden": false,
          "source_hidden": false
        },
        "nteract": {
          "transient": {
            "deleting": false
          }
        }
      },
      "outputs": [],
      "source": [
        "import json\n",
        "import requests\n",
        "\n",
        "inference_request = {\n",
        "    \"instances\": sample_batch.tolist()\n",
        "}"
      ]
    },
    {
      "cell_type": "code",
      "execution_count": 46,
      "metadata": {
        "gather": {
          "logged": 1645817792605
        },
        "jupyter": {
          "outputs_hidden": false,
          "source_hidden": false
        },
        "nteract": {
          "transient": {
            "deleting": false
          }
        }
      },
      "outputs": [
        {
          "data": {
            "text/plain": [
              "[{'predictions': [8.421067150266026e-07,\n",
              "   2.8983236006752122e-06,\n",
              "   1.3368847930905758e-06,\n",
              "   0.999482274055481,\n",
              "   1.6431641824965482e-06,\n",
              "   8.523096039425582e-05,\n",
              "   7.716573691141093e-07,\n",
              "   4.130494630771864e-07,\n",
              "   0.0004182798438705504,\n",
              "   6.388214387698099e-06]}]"
            ]
          },
          "execution_count": 46,
          "metadata": {},
          "output_type": "execute_result"
        }
      ],
      "source": [
        "endpoint = \"http://localhost:5000/invocations\"\n",
        "response = requests.post(endpoint, json=inference_request)\n",
        "\n",
        "response.json()"
      ]
    }
  ],
  "metadata": {
    "interpreter": {
      "hash": "be8044724b2cbee1342fe65a0610284ff5019b1e0ba802b1198420140d8e61b1"
    },
    "kernel_info": {
      "name": "fastai-example"
    },
    "kernelspec": {
      "display_name": "fastai-example",
      "language": "python",
      "name": "fastai-example"
    },
    "language_info": {
      "codemirror_mode": {
        "name": "ipython",
        "version": 3
      },
      "file_extension": ".py",
      "mimetype": "text/x-python",
      "name": "python",
      "nbconvert_exporter": "python",
      "pygments_lexer": "ipython3",
      "version": "3.7.5"
    },
    "microsoft": {
      "host": {
        "AzureML": {
          "notebookHasBeenCompleted": true
        }
      }
    },
    "nteract": {
      "version": "nteract-front-end@1.0.0"
    },
    "orig_nbformat": 4
  },
  "nbformat": 4,
  "nbformat_minor": 0
}
