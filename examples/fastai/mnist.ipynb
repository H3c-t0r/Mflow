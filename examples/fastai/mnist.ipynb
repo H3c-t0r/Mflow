{
  "cells": [
    {
      "cell_type": "markdown",
      "source": [
        "### This example illustrates how to use mlflow to track parameters, metrics, artifacts and models while training a simple MNIST model."
      ],
      "metadata": {}
    },
    {
      "cell_type": "code",
      "source": [
        "import mlflow.fastai\n",
        "from fastai.vision.all import (\n",
        "    CategoryBlock,\n",
        "    DataBlock,\n",
        "    GrandparentSplitter,\n",
        "    ImageBlock,\n",
        "    PILImage,\n",
        "    URLs,\n",
        ")\n",
        "from fastai.vision.all import cnn_learner, get_image_files, parent_label, resnet18, untar_data\n",
        "import numpy as np"
      ],
      "outputs": [],
      "execution_count": 50,
      "metadata": {
        "gather": {
          "logged": 1645819857086
        }
      }
    },
    {
      "cell_type": "markdown",
      "source": [
        "#### Splitting data between training and validation"
      ],
      "metadata": {}
    },
    {
      "cell_type": "code",
      "source": [
        "splitter = GrandparentSplitter(train_name=\"training\", valid_name=\"testing\")\n",
        "\n",
        "# Prepare DataBlock which is a generic container to quickly build Datasets and DataLoaders\n",
        "mnist = DataBlock(\n",
        "    blocks=(ImageBlock(PILImage), CategoryBlock),\n",
        "    get_items=get_image_files,\n",
        "    splitter=splitter,\n",
        "    get_y=parent_label,\n",
        ")"
      ],
      "outputs": [],
      "execution_count": 51,
      "metadata": {
        "gather": {
          "logged": 1645819861074
        }
      }
    },
    {
      "cell_type": "markdown",
      "source": [
        "#### Downloading MNIST data set and creating DataLoader from Datablock"
      ],
      "metadata": {}
    },
    {
      "cell_type": "code",
      "source": [
        "data_path = untar_data(URLs.MNIST)\n",
        "image_files = get_image_files(data_path)\n",
        "print('Data located at:', data_path)\n",
        "\n",
        "data = mnist.dataloaders(data_path, bs=256, num_workers=0)\n",
        "\n",
        "data.train.show_batch()\n"
      ],
      "outputs": [
        {
          "output_type": "stream",
          "name": "stdout",
          "text": "Data located at: /home/azureuser/.fastai/data/mnist_png\n"
        }
      ],
      "execution_count": 55,
      "metadata": {
        "gather": {
          "logged": 1645820059423
        }
      }
    },
    {
      "cell_type": "code",
      "source": [
        "data.valid_ds[0]"
      ],
      "outputs": [
        {
          "output_type": "execute_result",
          "execution_count": 61,
          "data": {
            "text/plain": "(PILImage mode=RGB size=28x28, TensorCategory(3))"
          },
          "metadata": {}
        }
      ],
      "execution_count": 61,
      "metadata": {
        "jupyter": {
          "source_hidden": false,
          "outputs_hidden": false
        },
        "nteract": {
          "transient": {
            "deleting": false
          }
        },
        "gather": {
          "logged": 1645820312256
        }
      }
    },
    {
      "cell_type": "markdown",
      "source": [
        "### Creating signature\r\n",
        "#### This helps to define what input does our model take. With this info we can easily share model without users having to ponder on what input does a model take\r\n",
        "\r\n",
        "We will register our model with a given signature.This means that our inputs will be tensors of shape (IMAGE_HEIGHT, IMAGE_WIDTH, CHANNELS). Since the model expects batches of images, the right input shape is (BATCH_SIZE, IMAGE_HEIGHT, IMAGE_WIDTH, CHANNELS).\r\n",
        "\r\n",
        "**input_schema**: Our model can handle variable image sizes.Then, we can indicate a variable input size using -1 in height and width. The same applies to batch size, since we can handle variable sizes.\r\n",
        "\r\n",
        "**output_schema**: Our model will return class probabilities. Since we have 10 classes, then the out of the model has shape (BATCH_SIZE, NUM_CLASSES) or (-1, 10)."
      ],
      "metadata": {}
    },
    {
      "cell_type": "code",
      "source": [],
      "outputs": [],
      "execution_count": null,
      "metadata": {
        "jupyter": {
          "source_hidden": false,
          "outputs_hidden": false
        },
        "nteract": {
          "transient": {
            "deleting": false
          }
        }
      }
    },
    {
      "cell_type": "code",
      "source": [
        "import numpy as np\n",
        "from mlflow.models.signature import ModelSignature\n",
        "from mlflow.types.schema import Schema, TensorSpec\n",
        "\n",
        "input_schema = Schema([\n",
        "  TensorSpec(np.dtype(np.uint8), (-1, -1, -1, 3)),\n",
        "])\n",
        "output_schema = Schema([\n",
        "  TensorSpec(np.dtype(np.float32), (-1, 10)),\n",
        "])\n",
        "signature = ModelSignature(inputs=input_schema, outputs=output_schema)"
      ],
      "outputs": [],
      "execution_count": 62,
      "metadata": {
        "gather": {
          "logged": 1645820560513
        }
      }
    },
    {
      "cell_type": "markdown",
      "source": [
        "##### Enabling autologging from mlflow"
      ],
      "metadata": {}
    },
    {
      "cell_type": "code",
      "source": [
        "# mlflow.fastai.autolog()"
      ],
      "outputs": [],
      "execution_count": null,
      "metadata": {
        "gather": {
          "logged": 1645577187840
        }
      }
    },
    {
      "cell_type": "markdown",
      "source": [
        "##### Create Learner model\r\n",
        "Once our dataset is ready, it's time to create our NN. CNN represents a very convenient way to solve Computer Vision problems, specially when combined with transfer learning. We use transfer learning with a pretrained image classification models"
      ],
      "metadata": {}
    },
    {
      "cell_type": "code",
      "source": [
        "\n",
        "learn = cnn_learner(data, resnet18)"
      ],
      "outputs": [],
      "execution_count": 63,
      "metadata": {
        "gather": {
          "logged": 1645820565229
        }
      }
    },
    {
      "cell_type": "markdown",
      "source": [
        "##### Using different loading function"
      ],
      "metadata": {}
    },
    {
      "cell_type": "code",
      "source": [
        "%%writefile fastai_model_loader.py\n",
        "import os\n",
        "import numpy as np\n",
        "import pandas as pd\n",
        "\n",
        "class _FastaiModelWrapperPatch:\n",
        "    def __init__(self, learner):\n",
        "        self.learner = learner\n",
        "\n",
        "    def predict(self, dataframe):\n",
        "        dl = self.learner.dls.test_dl(dataframe)\n",
        "        preds, _ = self.learner.get_preds(dl=dl)\n",
        "        return pd.Series(map(np.array, preds.numpy())).to_frame('predictions')\n",
        "\n",
        "def _load_model(path):\n",
        "    from fastai.learner import load_learner\n",
        "\n",
        "    return load_learner(os.path.abspath(path))\n",
        "\n",
        "def _load_pyfunc(path):\n",
        "    \"\"\"\n",
        "    Load PyFunc implementation. Called by ``pyfunc.load_pyfunc``.\n",
        "    :param path: Local filesystem path to the MLflow Model with the ``fastai`` flavor.\n",
        "    \"\"\"\n",
        "    print(\"Model loaded from:\",path)\n",
        "    return _FastaiModelWrapperPatch(_load_model(path))"
      ],
      "outputs": [
        {
          "output_type": "stream",
          "name": "stdout",
          "text": "Writing fastai_model_loader.py\n"
        }
      ],
      "execution_count": 64,
      "metadata": {}
    },
    {
      "cell_type": "markdown",
      "source": [
        "##### Training model"
      ],
      "metadata": {}
    },
    {
      "cell_type": "code",
      "source": [
        "saved_model = \"/home/azureuser/.fastai/model.fastai\"\n",
        "\n",
        "with mlflow.start_run() as run:\n",
        "    # Train and fit with default or supplied command line arguments\n",
        "    learn.fit_one_cycle(1, 0.1)\n",
        "    learn.export(saved_model)\n",
        "    model = mlflow.pyfunc.log_model(\"model\", \n",
        "                                    registered_model_name=\"digits_cnn_model\",\n",
        "                                    data_path=saved_model, \n",
        "                                    code_path=[\"./fastai_model_loader.py\"], \n",
        "                                    loader_module=\"fastai_model_loader\", \n",
        "                                    signature=signature)"
      ],
      "outputs": [
        {
          "output_type": "display_data",
          "data": {
            "text/plain": "<IPython.core.display.HTML object>",
            "text/html": "\n<style>\n    /* Turns off some styling */\n    progress {\n        /* gets rid of default border in Firefox and Opera. */\n        border: none;\n        /* Needs to be in here for Safari polyfill so background images work as expected. */\n        background-size: auto;\n    }\n    .progress-bar-interrupted, .progress-bar-interrupted::-webkit-progress-bar {\n        background: #F44336;\n    }\n</style>\n"
          },
          "metadata": {}
        },
        {
          "output_type": "display_data",
          "data": {
            "text/plain": "<IPython.core.display.HTML object>",
            "text/html": "<table border=\"1\" class=\"dataframe\">\n  <thead>\n    <tr style=\"text-align: left;\">\n      <th>epoch</th>\n      <th>train_loss</th>\n      <th>valid_loss</th>\n      <th>time</th>\n    </tr>\n  </thead>\n  <tbody>\n    <tr>\n      <td>0</td>\n      <td>0.103479</td>\n      <td>0.044797</td>\n      <td>01:41</td>\n    </tr>\n  </tbody>\n</table>"
          },
          "metadata": {}
        },
        {
          "output_type": "stream",
          "name": "stderr",
          "text": "Registered model 'digits_cnn_model' already exists. Creating a new version of this model...\n2022/02/25 20:24:44 INFO mlflow.tracking._model_registry.client: Waiting up to 300 seconds for model version to finish creation.                     Model name: digits_cnn_model, version 2\nCreated version '2' of model 'digits_cnn_model'.\n"
        }
      ],
      "execution_count": 65,
      "metadata": {
        "gather": {
          "logged": 1645820685016
        }
      }
    },
    {
      "cell_type": "markdown",
      "source": [
        "#### Loading trained model from the run"
      ],
      "metadata": {}
    },
    {
      "cell_type": "code",
      "source": [
        "model_uri = \"runs:/{}/model\".format(run.info.run_id)\n",
        "loaded_model = mlflow.pyfunc.load_model(model_uri)\n",
        "model_uri"
      ],
      "outputs": [
        {
          "output_type": "stream",
          "name": "stdout",
          "text": "Model loaded from: /tmp/tmpmcpel_3t/model/data/model.fastai\n"
        },
        {
          "output_type": "execute_result",
          "execution_count": 66,
          "data": {
            "text/plain": "'runs:/2b300ab1-93de-46d4-938a-15f411c77576/model'"
          },
          "metadata": {}
        }
      ],
      "execution_count": 66,
      "metadata": {
        "gather": {
          "logged": 1645820720044
        }
      }
    },
    {
      "cell_type": "markdown",
      "source": [
        " #### Creating a sample batch for predcition to a rest endpoint"
      ],
      "metadata": {
        "nteract": {
          "transient": {
            "deleting": false
          }
        }
      }
    },
    {
      "cell_type": "code",
      "source": [
        "from fastai.vision.core import load_image\n",
        "\n",
        "# sample_img = load_image(image_files[1])\n",
        "sample_img_arr = np.array(data.train_ds[0][0])\n",
        "\n",
        "sample_batch = sample_img_arr.reshape(1, sample_img.height, sample_img.width,3)"
      ],
      "outputs": [],
      "execution_count": 67,
      "metadata": {
        "gather": {
          "logged": 1645820722395
        },
        "jupyter": {
          "outputs_hidden": false,
          "source_hidden": false
        },
        "nteract": {
          "transient": {
            "deleting": false
          }
        }
      }
    },
    {
      "cell_type": "code",
      "source": [
        "data.train_ds[0][0]"
      ],
      "outputs": [
        {
          "output_type": "execute_result",
          "execution_count": 68,
          "data": {
            "text/plain": "PILImage mode=RGB size=28x28",
            "image/png": "[encoded data removed]"
          },
          "metadata": {}
        }
      ],
      "execution_count": 68,
      "metadata": {
        "gather": {
          "logged": 1645820725436
        },
        "jupyter": {
          "outputs_hidden": false,
          "source_hidden": false
        },
        "nteract": {
          "transient": {
            "deleting": false
          }
        }
      }
    },
    {
      "cell_type": "markdown",
      "source": [
        "##### Local prediction"
      ],
      "metadata": {}
    },
    {
      "cell_type": "code",
      "source": [
        "loaded_model.predict(sample_batch)"
      ],
      "outputs": [
        {
          "output_type": "display_data",
          "data": {
            "text/plain": "<IPython.core.display.HTML object>",
            "text/html": "\n<style>\n    /* Turns off some styling */\n    progress {\n        /* gets rid of default border in Firefox and Opera. */\n        border: none;\n        /* Needs to be in here for Safari polyfill so background images work as expected. */\n        background-size: auto;\n    }\n    .progress-bar-interrupted, .progress-bar-interrupted::-webkit-progress-bar {\n        background: #F44336;\n    }\n</style>\n"
          },
          "metadata": {}
        },
        {
          "output_type": "display_data",
          "data": {
            "text/plain": "<IPython.core.display.HTML object>",
            "text/html": ""
          },
          "metadata": {}
        },
        {
          "output_type": "execute_result",
          "execution_count": 69,
          "data": {
            "text/plain": "                                                                                                                                       predictions\n0  [1.0928232e-08, 7.922903e-08, 1.7171018e-05, 0.9996363, 2.0671924e-07, 5.190059e-06, 8.323384e-07, 1.8514454e-07, 0.00010446645, 0.00023542823]",
            "text/html": "<div>\n<style scoped>\n    .dataframe tbody tr th:only-of-type {\n        vertical-align: middle;\n    }\n\n    .dataframe tbody tr th {\n        vertical-align: top;\n    }\n\n    .dataframe thead th {\n        text-align: right;\n    }\n</style>\n<table border=\"1\" class=\"dataframe\">\n  <thead>\n    <tr style=\"text-align: right;\">\n      <th></th>\n      <th>predictions</th>\n    </tr>\n  </thead>\n  <tbody>\n    <tr>\n      <th>0</th>\n      <td>[1.0928232e-08, 7.922903e-08, 1.7171018e-05, 0.9996363, 2.0671924e-07, 5.190059e-06, 8.323384e-07, 1.8514454e-07, 0.00010446645, 0.00023542823]</td>\n    </tr>\n  </tbody>\n</table>\n</div>"
          },
          "metadata": {}
        }
      ],
      "execution_count": 69,
      "metadata": {
        "gather": {
          "logged": 1645820728340
        },
        "jupyter": {
          "outputs_hidden": false,
          "source_hidden": false
        },
        "nteract": {
          "transient": {
            "deleting": false
          }
        }
      }
    },
    {
      "cell_type": "markdown",
      "source": [
        "### Running the model as a local endpoint"
      ],
      "metadata": {
        "nteract": {
          "transient": {
            "deleting": false
          }
        }
      }
    },
    {
      "cell_type": "code",
      "source": [
        "import json\n",
        "import requests\n",
        "\n",
        "inference_request = {\n",
        "    \"instances\": sample_batch.tolist()\n",
        "}"
      ],
      "outputs": [],
      "execution_count": 70,
      "metadata": {
        "gather": {
          "logged": 1645820748049
        },
        "jupyter": {
          "outputs_hidden": false,
          "source_hidden": false
        },
        "nteract": {
          "transient": {
            "deleting": false
          }
        }
      }
    },
    {
      "cell_type": "code",
      "source": [
        "endpoint = \"http://localhost:5000/invocations\"\n",
        "response = requests.post(endpoint, json=inference_request)\n",
        "\n",
        "response.json()"
      ],
      "outputs": [
        {
          "output_type": "execute_result",
          "execution_count": 71,
          "data": {
            "text/plain": "[{'predictions': [1.0928231652940212e-08,\n   7.922903222379318e-08,\n   1.7171018043882214e-05,\n   0.9996362924575806,\n   2.0671923550708016e-07,\n   5.190058800508268e-06,\n   8.323384008690482e-07,\n   1.8514454325213592e-07,\n   0.00010446645319461823,\n   0.00023542823328170925]}]"
          },
          "metadata": {}
        }
      ],
      "execution_count": 71,
      "metadata": {
        "gather": {
          "logged": 1645820768098
        },
        "jupyter": {
          "outputs_hidden": false,
          "source_hidden": false
        },
        "nteract": {
          "transient": {
            "deleting": false
          }
        }
      }
    }
  ],
  "metadata": {
    "interpreter": {
      "hash": "be8044724b2cbee1342fe65a0610284ff5019b1e0ba802b1198420140d8e61b1"
    },
    "kernel_info": {
      "name": "fastai-example"
    },
    "kernelspec": {
      "name": "fastai-example",
      "language": "python",
      "display_name": "fastai-example"
    },
    "language_info": {
      "name": "python",
      "version": "3.7.5",
      "mimetype": "text/x-python",
      "codemirror_mode": {
        "name": "ipython",
        "version": 3
      },
      "pygments_lexer": "ipython3",
      "nbconvert_exporter": "python",
      "file_extension": ".py"
    },
    "microsoft": {
      "host": {
        "AzureML": {
          "notebookHasBeenCompleted": true
        }
      }
    },
    "nteract": {
      "version": "nteract-front-end@1.0.0"
    },
    "orig_nbformat": 4
  },
  "nbformat": 4,
  "nbformat_minor": 0
}