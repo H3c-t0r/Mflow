{
  "cells": [
    {
      "cell_type": "markdown",
      "source": [
        "# AML Workshop Tutorial\n",
        "\n",
        "\n",
        "### This tutorial uses a dataset to predict the quality of wine based on quantitative features like the wine’s “fixed acidity”, “pH”, “residual sugar”, and so on.\n",
        "#### The dataset is from UCI’s machine learning repository. 1\n",
        "\n",
        "#### This tutorial showcases how you can use MLflow end-to-end to:\n",
        "\n",
        "* Train a linear regression model\n",
        "* Package the code that trains the model in a reusable and reproducible model format\n",
        "* Deploy the model into a simple HTTP server that will enable you to score predictions"
      ],
      "metadata": {}
    },
    {
      "cell_type": "markdown",
      "source": [
        "\n",
        "##### This `train.pynb` Jupyter notebook predicts the quality of wine using [sklearn.linear_model.ElasticNet](http://scikit-learn.org/stable/modules/generated/sklearn.linear_model.ElasticNet.html).  \n",
        "\n",
        "> This is the Jupyter notebook version of the `train.py` example\n"
      ],
      "metadata": {}
    },
    {
      "cell_type": "code",
      "source": [
        "import os\n",
        "import pandas as pd\n",
        "import numpy as np\n",
        "from sklearn.metrics import mean_squared_error, mean_absolute_error, r2_score\n",
        "from sklearn.model_selection import train_test_split\n",
        "from sklearn.linear_model import ElasticNet\n",
        "\n",
        "import mlflow\n",
        "import mlflow.sklearn\n",
        "\n",
        "np.random.seed(40)"
      ],
      "outputs": [],
      "execution_count": 1,
      "metadata": {}
    },
    {
      "cell_type": "markdown",
      "source": [
        "#### Reading wine quality data to be used for training the model"
      ],
      "metadata": {}
    },
    {
      "cell_type": "code",
      "source": [
        "# Read the wine-quality csv file from the URL\n",
        "csv_url =\\\n",
        "    'http://archive.ics.uci.edu/ml/machine-learning-databases/wine-quality/winequality-red.csv'\n",
        "try:\n",
        "    data = pd.read_csv(csv_url, sep=';')\n",
        "except Exception as e:\n",
        "    print(\"Unable to download training & test CSV, check your internet connection. Error: %s\", e)"
      ],
      "outputs": [],
      "execution_count": 2,
      "metadata": {}
    },
    {
      "cell_type": "markdown",
      "source": [
        "##### Splitting data into training and test set"
      ],
      "metadata": {}
    },
    {
      "cell_type": "code",
      "source": [
        "# Split the data into training and test sets. (0.75, 0.25) split.\n",
        "train, test = train_test_split(data)\n",
        "\n",
        "# The predicted column is \"quality\" which is a scalar from [3, 9]\n",
        "train_x = train.drop([\"quality\"], axis=1)\n",
        "test_x = test.drop([\"quality\"], axis=1)\n",
        "train_y = train[[\"quality\"]]\n",
        "test_y = test[[\"quality\"]]"
      ],
      "outputs": [],
      "execution_count": 3,
      "metadata": {}
    },
    {
      "cell_type": "markdown",
      "source": [
        "#### Training a Scikit learn liner regression model and registering it in model registry"
      ],
      "metadata": {}
    },
    {
      "cell_type": "code",
      "source": [
        "# Enable autolog to log metrics, params, artifacts, models automatically\n",
        "mlflow.autolog(log_input_examples=True)\n",
        "\n",
        "alpha = 0.5\n",
        "l1_ratio = 0.5\n",
        "\n",
        "with mlflow.start_run() as run:\n",
        "    # Execute ElasticNet\n",
        "    lr = ElasticNet(alpha=alpha, l1_ratio=l1_ratio, random_state=42)\n",
        "    lr.fit(train_x, train_y)\n",
        "\n",
        "    predicted_qualities = lr.predict(test_x)\n",
        "\n",
        "    mlflow.register_model(\n",
        "        \"runs:/{}/model\".format(run.info.run_id),\n",
        "        \"ElasticnetWineModel-notebook\"\n",
        "    )"
      ],
      "outputs": [
        {
          "output_type": "stream",
          "name": "stderr",
          "text": "2022/05/19 21:19:07 INFO mlflow.tracking.fluent: Autologging successfully enabled for sklearn.\n2022/05/19 21:19:07 INFO mlflow.tracking.fluent: Autologging successfully enabled for pyspark.\n2022/05/19 21:19:07 INFO mlflow.pyspark.ml: No SparkSession detected. Autologging will log pyspark.ml models contained in the default allowlist. To specify a custom allowlist, initialize a SparkSession prior to calling mlflow.pyspark.ml.autolog() and specify the path to your allowlist file via the spark.mlflow.pysparkml.autolog.logModelAllowlistFile conf.\n2022/05/19 21:19:07 INFO mlflow.tracking.fluent: Autologging successfully enabled for pyspark.ml.\nRegistered model 'ElasticnetWineModel-notebook' already exists. Creating a new version of this model...\n2022/05/19 21:19:15 INFO mlflow.tracking._model_registry.client: Waiting up to 300 seconds for model version to finish creation.                     Model name: ElasticnetWineModel-notebook, version 1\nCreated version '1' of model 'ElasticnetWineModel-notebook'.\n"
        }
      ],
      "execution_count": 5,
      "metadata": {}
    }
  ],
  "metadata": {
    "kernelspec": {
      "name": "python3",
      "language": "python",
      "display_name": "Python 3"
    },
    "language_info": {
      "name": "python",
      "version": "3.8.5",
      "mimetype": "text/x-python",
      "codemirror_mode": {
        "name": "ipython",
        "version": 3
      },
      "pygments_lexer": "ipython3",
      "nbconvert_exporter": "python",
      "file_extension": ".py"
    },
    "kernel_info": {
      "name": "python3"
    },
    "nteract": {
      "version": "nteract-front-end@1.0.0"
    }
  },
  "nbformat": 4,
  "nbformat_minor": 0
}