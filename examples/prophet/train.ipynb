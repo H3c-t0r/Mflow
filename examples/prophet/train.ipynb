{
 "cells": [
  {
   "cell_type": "markdown",
   "metadata": {},
   "source": [
    "# MLflow Prophet Tutorial\n",
    "\n",
    "This `train.pynb` Jupyter notebook predicts page views of a wikipedia page using [Prophet](https://facebook.github.io/prophet/).  \n",
    "\n",
    "> This is the Jupyter notebook version of the `train.py` example\n",
    "\n",
    "Attribution\n",
    "* The data set used in this example is from https://github.com/facebook/prophet/blob/master/examples/example_wp_log_peyton_manning.csv\n",
    "* The data was scraped from https://en.wikipedia.org/wiki/Peyton_Manning\n"
   ]
  },
  {
   "cell_type": "code",
   "execution_count": 30,
   "metadata": {},
   "outputs": [],
   "source": [
    "\n",
    "import mlflow.pyfunc\n",
    "import cloudpickle\n",
    "import fbprophet\n",
    "from fbprophet import Prophet\n",
    "\n",
    "class FbProphetWrapper(mlflow.pyfunc.PythonModel):\n",
    "\n",
    "    m = None\n",
    "\n",
    "    def __init__(self, model):\n",
    "        m = model\n",
    "        super(FbProphetWrapper, self).__init__()\n",
    "\n",
    "\n",
    "    def load_context(self, context):\n",
    "        from fbprophet import Prophet\n",
    "        return\n",
    "\n",
    "    def predict(self, context, model_input):\n",
    "        future = m.make_future_dataframe(periods=model_input['periods'])\n",
    "        return m.predict(future)\n",
    "\n",
    "conda_env = {\n",
    "    'channels': ['defaults'],\n",
    "    'dependencies': [\n",
    "      'fbprophet={}'.format(fbprophet.__version__),\n",
    "      'cloudpickle={}'.format(cloudpickle.__version__),\n",
    "    ],\n",
    "    'name': 'fbp_env'\n",
    "}"
   ]
  },
  {
   "cell_type": "code",
   "execution_count": 31,
   "metadata": {},
   "outputs": [],
   "source": [
    "# page view stats\n",
    "def train(rolling_window):\n",
    "    import os\n",
    "    import warnings\n",
    "    import sys\n",
    "\n",
    "    import pandas as pd\n",
    "    import numpy as np\n",
    "    # Python\n",
    "    from fbprophet import Prophet\n",
    "    from fbprophet.diagnostics import cross_validation\n",
    "    from fbprophet.diagnostics import performance_metrics\n",
    "\n",
    "    import mlflow\n",
    "    import mlflow.pyfunc\n",
    "    \n",
    "    import logging\n",
    "    logging.basicConfig(level=logging.WARN)\n",
    "    logger = logging.getLogger(__name__)\n",
    "\n",
    " \n",
    "    warnings.filterwarnings(\"ignore\")\n",
    "    np.random.seed(40)\n",
    "\n",
    "    # Read the csv file from the URL\n",
    "    csv_url =\\\n",
    "        'https://raw.githubusercontent.com/facebook/prophet/e21a05f4f9290649255a2a306855e8b4620816d7/examples/example_wp_log_peyton_manning.csv'\n",
    "    try:\n",
    "        df = pd.read_csv(csv_url)\n",
    "    except Exception as e:\n",
    "        logger.exception(\n",
    "            \"Unable to download training & test CSV, check your internet connection. Error: %s\", e)\n",
    "\n",
    "    \n",
    "    # Useful for multiple runs (only doing one run in this sample notebook)    \n",
    "    with mlflow.start_run():\n",
    "        m = Prophet()\n",
    "        m.fit(df)\n",
    "\n",
    "        # Evaluate Metrics\n",
    "        df_cv = cross_validation(m, initial='730 days', period='180 days', horizon = '365 days')\n",
    "        df_p = performance_metrics(df_cv, rolling_window=rolling_window)\n",
    "\n",
    "        # Print out metrics\n",
    "        print(\"Prophet model (rolling_window=%f):\" % (rolling_window))\n",
    "        print(\"  CV: \\n%s\" % df_cv.head())\n",
    "        print(\"  Perf: \\n%s\" % df_p.head())\n",
    "\n",
    "        # Log parameter, metrics, and model to MLflow\n",
    "        mlflow.log_param(\"rolling_window\", rolling_window)\n",
    "        mlflow.log_metric(\"rmse\", df_p.loc[0,'rmse'])\n",
    "\n",
    "        mlflow.pyfunc.log_model(\"model\", conda_env=conda_env, python_model=FbProphetWrapper(m) )"
   ]
  },
  {
   "cell_type": "code",
   "execution_count": 32,
   "metadata": {},
   "outputs": [
    {
     "name": "stderr",
     "output_type": "stream",
     "text": "INFO:fbprophet:Disabling daily seasonality. Run prophet with daily_seasonality=True to override this.\nINFO:fbprophet:Making 11 forecasts with cutoffs between 2010-02-15 00:00:00 and 2015-01-20 00:00:00\nProphet model (rolling_window=0.100000):\n  CV: \n          ds      yhat  yhat_lower  yhat_upper         y     cutoff\n0 2010-02-16  8.960441    8.459464    9.468232  8.242493 2010-02-15\n1 2010-02-17  8.726966    8.233446    9.192014  8.008033 2010-02-15\n2 2010-02-18  8.610869    8.096453    9.075837  8.045268 2010-02-15\n3 2010-02-19  8.532795    8.037051    9.053431  7.928766 2010-02-15\n4 2010-02-20  8.274904    7.807443    8.790022  7.745003 2010-02-15\n  Perf: \n  horizon       mse      rmse       mae      mape  coverage\n0 37 days  0.495161  0.703677  0.505237  0.058536  0.689127\n1 38 days  0.500957  0.707783  0.510231  0.059114  0.687985\n2 39 days  0.523235  0.723350  0.516340  0.059715  0.685244\n3 40 days  0.530583  0.728411  0.519241  0.060026  0.688899\n4 41 days  0.538145  0.733584  0.520267  0.060108  0.696437\n"
    }
   ],
   "source": [
    "train(0.1)"
   ]
  },
  {
   "cell_type": "code",
   "execution_count": null,
   "metadata": {},
   "outputs": [],
   "source": []
  }
 ],
 "metadata": {
  "kernelspec": {
   "display_name": "Python 3",
   "language": "python",
   "name": "python3"
  },
  "language_info": {
   "codemirror_mode": {
    "name": "ipython",
    "version": 3
   },
   "file_extension": ".py",
   "mimetype": "text/x-python",
   "name": "python",
   "nbconvert_exporter": "python",
   "pygments_lexer": "ipython3",
   "version": "3.6.5"
  }
 },
 "nbformat": 4,
 "nbformat_minor": 2
}