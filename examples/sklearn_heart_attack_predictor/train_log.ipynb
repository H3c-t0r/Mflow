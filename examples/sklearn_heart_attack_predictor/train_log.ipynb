{
 "cells": [
  {
   "cell_type": "code",
   "execution_count": 4,
   "metadata": {
    "vscode": {
     "languageId": "powershell"
    }
   },
   "outputs": [
    {
     "name": "stdout",
     "output_type": "stream",
     "text": [
      "\u001b[33mWARNING: Ignoring invalid distribution -ip (/opt/python/3.10.4/lib/python3.10/site-packages)\u001b[0m\u001b[33m\n",
      "\u001b[0m\u001b[33mWARNING: Ignoring invalid distribution -ip (/opt/python/3.10.4/lib/python3.10/site-packages)\u001b[0m\u001b[33m\n",
      "\u001b[0mRequirement already satisfied: mlflow in /opt/python/3.10.4/lib/python3.10/site-packages (1.26.1)\n",
      "Requirement already satisfied: importlib-metadata!=4.7.0,>=3.7.0 in /opt/python/3.10.4/lib/python3.10/site-packages (from mlflow) (4.11.4)\n",
      "Requirement already satisfied: sqlparse>=0.3.1 in /opt/python/3.10.4/lib/python3.10/site-packages (from mlflow) (0.4.2)\n",
      "Requirement already satisfied: pandas in /opt/python/3.10.4/lib/python3.10/site-packages (from mlflow) (1.4.2)\n",
      "Requirement already satisfied: gitpython>=2.1.0 in /opt/python/3.10.4/lib/python3.10/site-packages (from mlflow) (3.1.27)\n",
      "Requirement already satisfied: databricks-cli>=0.8.7 in /opt/python/3.10.4/lib/python3.10/site-packages (from mlflow) (0.17.0)\n",
      "Requirement already satisfied: querystring-parser in /opt/python/3.10.4/lib/python3.10/site-packages (from mlflow) (1.2.4)\n",
      "Requirement already satisfied: Flask in /opt/python/3.10.4/lib/python3.10/site-packages (from mlflow) (2.1.2)\n",
      "Requirement already satisfied: protobuf>=3.12.0 in /opt/python/3.10.4/lib/python3.10/site-packages (from mlflow) (3.19.4)\n",
      "Requirement already satisfied: pyyaml>=5.1 in /opt/python/3.10.4/lib/python3.10/site-packages (from mlflow) (6.0)\n",
      "Requirement already satisfied: gunicorn in /opt/python/3.10.4/lib/python3.10/site-packages (from mlflow) (20.1.0)\n",
      "Requirement already satisfied: entrypoints in /opt/python/3.10.4/lib/python3.10/site-packages (from mlflow) (0.4)\n",
      "Requirement already satisfied: requests>=2.17.3 in /opt/python/3.10.4/lib/python3.10/site-packages (from mlflow) (2.27.1)\n",
      "Requirement already satisfied: pytz in /opt/python/3.10.4/lib/python3.10/site-packages (from mlflow) (2022.1)\n",
      "Requirement already satisfied: cloudpickle in /opt/python/3.10.4/lib/python3.10/site-packages (from mlflow) (2.1.0)\n",
      "Requirement already satisfied: alembic in /opt/python/3.10.4/lib/python3.10/site-packages (from mlflow) (1.8.0)\n",
      "Requirement already satisfied: sqlalchemy in /opt/python/3.10.4/lib/python3.10/site-packages (from mlflow) (1.4.37)\n",
      "Requirement already satisfied: packaging in /opt/python/3.10.4/lib/python3.10/site-packages (from mlflow) (21.3)\n",
      "Requirement already satisfied: scipy in /opt/python/3.10.4/lib/python3.10/site-packages (from mlflow) (1.8.1)\n",
      "Requirement already satisfied: prometheus-flask-exporter in /opt/python/3.10.4/lib/python3.10/site-packages (from mlflow) (0.20.2)\n",
      "Requirement already satisfied: docker>=4.0.0 in /opt/python/3.10.4/lib/python3.10/site-packages (from mlflow) (5.0.3)\n",
      "Requirement already satisfied: click>=7.0 in /opt/python/3.10.4/lib/python3.10/site-packages (from mlflow) (8.1.3)\n",
      "Requirement already satisfied: numpy in /opt/python/3.10.4/lib/python3.10/site-packages (from mlflow) (1.22.4)\n",
      "Requirement already satisfied: tabulate>=0.7.7 in /opt/python/3.10.4/lib/python3.10/site-packages (from databricks-cli>=0.8.7->mlflow) (0.8.9)\n",
      "Requirement already satisfied: pyjwt>=1.7.0 in /opt/python/3.10.4/lib/python3.10/site-packages (from databricks-cli>=0.8.7->mlflow) (2.4.0)\n",
      "Requirement already satisfied: six>=1.10.0 in /opt/python/3.10.4/lib/python3.10/site-packages (from databricks-cli>=0.8.7->mlflow) (1.16.0)\n",
      "Requirement already satisfied: oauthlib>=3.1.0 in /opt/python/3.10.4/lib/python3.10/site-packages (from databricks-cli>=0.8.7->mlflow) (3.2.0)\n",
      "Requirement already satisfied: websocket-client>=0.32.0 in /opt/python/3.10.4/lib/python3.10/site-packages (from docker>=4.0.0->mlflow) (1.3.2)\n",
      "Requirement already satisfied: gitdb<5,>=4.0.1 in /opt/python/3.10.4/lib/python3.10/site-packages (from gitpython>=2.1.0->mlflow) (4.0.9)\n",
      "Requirement already satisfied: zipp>=0.5 in /opt/python/3.10.4/lib/python3.10/site-packages (from importlib-metadata!=4.7.0,>=3.7.0->mlflow) (3.8.0)\n",
      "Requirement already satisfied: idna<4,>=2.5 in /opt/python/3.10.4/lib/python3.10/site-packages (from requests>=2.17.3->mlflow) (3.3)\n",
      "Requirement already satisfied: urllib3<1.27,>=1.21.1 in /opt/python/3.10.4/lib/python3.10/site-packages (from requests>=2.17.3->mlflow) (1.26.9)\n",
      "Requirement already satisfied: charset-normalizer~=2.0.0 in /opt/python/3.10.4/lib/python3.10/site-packages (from requests>=2.17.3->mlflow) (2.0.12)\n",
      "Requirement already satisfied: certifi>=2017.4.17 in /opt/python/3.10.4/lib/python3.10/site-packages (from requests>=2.17.3->mlflow) (2022.5.18.1)\n",
      "Requirement already satisfied: Mako in /opt/python/3.10.4/lib/python3.10/site-packages (from alembic->mlflow) (1.2.0)\n",
      "Requirement already satisfied: greenlet!=0.4.17 in /opt/python/3.10.4/lib/python3.10/site-packages (from sqlalchemy->mlflow) (1.1.2)\n",
      "Requirement already satisfied: Werkzeug>=2.0 in /opt/python/3.10.4/lib/python3.10/site-packages (from Flask->mlflow) (2.1.2)\n",
      "Requirement already satisfied: itsdangerous>=2.0 in /opt/python/3.10.4/lib/python3.10/site-packages (from Flask->mlflow) (2.1.2)\n",
      "Requirement already satisfied: Jinja2>=3.0 in /opt/python/3.10.4/lib/python3.10/site-packages (from Flask->mlflow) (3.1.2)\n",
      "Requirement already satisfied: setuptools>=3.0 in /opt/python/3.10.4/lib/python3.10/site-packages (from gunicorn->mlflow) (61.3.0)\n",
      "Requirement already satisfied: pyparsing!=3.0.5,>=2.0.2 in /opt/python/3.10.4/lib/python3.10/site-packages (from packaging->mlflow) (3.0.9)\n",
      "Requirement already satisfied: python-dateutil>=2.8.1 in /opt/python/3.10.4/lib/python3.10/site-packages (from pandas->mlflow) (2.8.2)\n",
      "Requirement already satisfied: prometheus-client in /opt/python/3.10.4/lib/python3.10/site-packages (from prometheus-flask-exporter->mlflow) (0.14.1)\n",
      "Requirement already satisfied: smmap<6,>=3.0.1 in /opt/python/3.10.4/lib/python3.10/site-packages (from gitdb<5,>=4.0.1->gitpython>=2.1.0->mlflow) (5.0.0)\n",
      "Requirement already satisfied: MarkupSafe>=2.0 in /opt/python/3.10.4/lib/python3.10/site-packages (from Jinja2>=3.0->Flask->mlflow) (2.1.1)\n",
      "\u001b[33mWARNING: Ignoring invalid distribution -ip (/opt/python/3.10.4/lib/python3.10/site-packages)\u001b[0m\u001b[33m\n",
      "\u001b[0m\u001b[33mWARNING: Ignoring invalid distribution -ip (/opt/python/3.10.4/lib/python3.10/site-packages)\u001b[0m\u001b[33m\n",
      "\u001b[0m\u001b[33mWARNING: Ignoring invalid distribution -ip (/opt/python/3.10.4/lib/python3.10/site-packages)\u001b[0m\u001b[33m\n",
      "\u001b[0m\u001b[33mWARNING: Ignoring invalid distribution -ip (/opt/python/3.10.4/lib/python3.10/site-packages)\u001b[0m\u001b[33m\n",
      "\u001b[0m"
     ]
    }
   ],
   "source": [
    "!pip3 install mlflow"
   ]
  },
  {
   "cell_type": "markdown",
   "metadata": {},
   "source": [
    "##               **** Training the Heart-attack Prediction model ****"
   ]
  },
  {
   "cell_type": "markdown",
   "metadata": {},
   "source": [
    "### --> Importing Libraries"
   ]
  },
  {
   "cell_type": "code",
   "execution_count": 5,
   "metadata": {},
   "outputs": [],
   "source": [
    "\n",
    "import numpy as np\n",
    "import pandas as pd\n",
    "from sklearn.model_selection import train_test_split\n",
    "from sklearn.linear_model import LogisticRegression\n",
    "import pickle\n",
    "from sklearn.metrics import f1_score ,accuracy_score"
   ]
  },
  {
   "cell_type": "markdown",
   "metadata": {},
   "source": [
    "### --> Loading Data"
   ]
  },
  {
   "cell_type": "code",
   "execution_count": 6,
   "metadata": {},
   "outputs": [],
   "source": [
    "main_df = pd.read_csv(\"heart.csv\")\n",
    "df = main_df.copy()\n"
   ]
  },
  {
   "cell_type": "markdown",
   "metadata": {},
   "source": [
    "### --> Data Preprocessing"
   ]
  },
  {
   "cell_type": "code",
   "execution_count": 7,
   "metadata": {},
   "outputs": [],
   "source": [
    "cols = [\"trtbps\", \"chol\", \"thalachh\", \"oldpeak\", \"age\"]\n",
    "for col in cols:\n",
    "    minimum = min(df[col])\n",
    "    maximum = max(df[col])\n",
    "    df[col] = (df[col] - minimum) / (maximum - minimum)"
   ]
  },
  {
   "cell_type": "code",
   "execution_count": 8,
   "metadata": {},
   "outputs": [],
   "source": [
    "X = df.drop(\"output\", axis=1)\n",
    "y = df[\"output\"]"
   ]
  },
  {
   "cell_type": "markdown",
   "metadata": {},
   "source": [
    "### --> Spliting Training and testing data"
   ]
  },
  {
   "cell_type": "code",
   "execution_count": 9,
   "metadata": {},
   "outputs": [],
   "source": [
    "X_train, X_test, y_train, y_test = train_test_split(X, y, train_size=0.8, random_state=42)"
   ]
  },
  {
   "cell_type": "markdown",
   "metadata": {},
   "source": [
    "### --> Training model"
   ]
  },
  {
   "cell_type": "code",
   "execution_count": 10,
   "metadata": {},
   "outputs": [
    {
     "data": {
      "text/html": [
       "<style>#sk-container-id-1 {color: black;background-color: white;}#sk-container-id-1 pre{padding: 0;}#sk-container-id-1 div.sk-toggleable {background-color: white;}#sk-container-id-1 label.sk-toggleable__label {cursor: pointer;display: block;width: 100%;margin-bottom: 0;padding: 0.3em;box-sizing: border-box;text-align: center;}#sk-container-id-1 label.sk-toggleable__label-arrow:before {content: \"▸\";float: left;margin-right: 0.25em;color: #696969;}#sk-container-id-1 label.sk-toggleable__label-arrow:hover:before {color: black;}#sk-container-id-1 div.sk-estimator:hover label.sk-toggleable__label-arrow:before {color: black;}#sk-container-id-1 div.sk-toggleable__content {max-height: 0;max-width: 0;overflow: hidden;text-align: left;background-color: #f0f8ff;}#sk-container-id-1 div.sk-toggleable__content pre {margin: 0.2em;color: black;border-radius: 0.25em;background-color: #f0f8ff;}#sk-container-id-1 input.sk-toggleable__control:checked~div.sk-toggleable__content {max-height: 200px;max-width: 100%;overflow: auto;}#sk-container-id-1 input.sk-toggleable__control:checked~label.sk-toggleable__label-arrow:before {content: \"▾\";}#sk-container-id-1 div.sk-estimator input.sk-toggleable__control:checked~label.sk-toggleable__label {background-color: #d4ebff;}#sk-container-id-1 div.sk-label input.sk-toggleable__control:checked~label.sk-toggleable__label {background-color: #d4ebff;}#sk-container-id-1 input.sk-hidden--visually {border: 0;clip: rect(1px 1px 1px 1px);clip: rect(1px, 1px, 1px, 1px);height: 1px;margin: -1px;overflow: hidden;padding: 0;position: absolute;width: 1px;}#sk-container-id-1 div.sk-estimator {font-family: monospace;background-color: #f0f8ff;border: 1px dotted black;border-radius: 0.25em;box-sizing: border-box;margin-bottom: 0.5em;}#sk-container-id-1 div.sk-estimator:hover {background-color: #d4ebff;}#sk-container-id-1 div.sk-parallel-item::after {content: \"\";width: 100%;border-bottom: 1px solid gray;flex-grow: 1;}#sk-container-id-1 div.sk-label:hover label.sk-toggleable__label {background-color: #d4ebff;}#sk-container-id-1 div.sk-serial::before {content: \"\";position: absolute;border-left: 1px solid gray;box-sizing: border-box;top: 0;bottom: 0;left: 50%;z-index: 0;}#sk-container-id-1 div.sk-serial {display: flex;flex-direction: column;align-items: center;background-color: white;padding-right: 0.2em;padding-left: 0.2em;position: relative;}#sk-container-id-1 div.sk-item {position: relative;z-index: 1;}#sk-container-id-1 div.sk-parallel {display: flex;align-items: stretch;justify-content: center;background-color: white;position: relative;}#sk-container-id-1 div.sk-item::before, #sk-container-id-1 div.sk-parallel-item::before {content: \"\";position: absolute;border-left: 1px solid gray;box-sizing: border-box;top: 0;bottom: 0;left: 50%;z-index: -1;}#sk-container-id-1 div.sk-parallel-item {display: flex;flex-direction: column;z-index: 1;position: relative;background-color: white;}#sk-container-id-1 div.sk-parallel-item:first-child::after {align-self: flex-end;width: 50%;}#sk-container-id-1 div.sk-parallel-item:last-child::after {align-self: flex-start;width: 50%;}#sk-container-id-1 div.sk-parallel-item:only-child::after {width: 0;}#sk-container-id-1 div.sk-dashed-wrapped {border: 1px dashed gray;margin: 0 0.4em 0.5em 0.4em;box-sizing: border-box;padding-bottom: 0.4em;background-color: white;}#sk-container-id-1 div.sk-label label {font-family: monospace;font-weight: bold;display: inline-block;line-height: 1.2em;}#sk-container-id-1 div.sk-label-container {text-align: center;}#sk-container-id-1 div.sk-container {/* jupyter's `normalize.less` sets `[hidden] { display: none; }` but bootstrap.min.css set `[hidden] { display: none !important; }` so we also need the `!important` here to be able to override the default hidden behavior on the sphinx rendered scikit-learn.org. See: https://github.com/scikit-learn/scikit-learn/issues/21755 */display: inline-block !important;position: relative;}#sk-container-id-1 div.sk-text-repr-fallback {display: none;}</style><div id=\"sk-container-id-1\" class=\"sk-top-container\"><div class=\"sk-text-repr-fallback\"><pre>LogisticRegression(max_iter=120, n_jobs=20, random_state=0)</pre><b>In a Jupyter environment, please rerun this cell to show the HTML representation or trust the notebook. <br />On GitHub, the HTML representation is unable to render, please try loading this page with nbviewer.org.</b></div><div class=\"sk-container\" hidden><div class=\"sk-item\"><div class=\"sk-estimator sk-toggleable\"><input class=\"sk-toggleable__control sk-hidden--visually\" id=\"sk-estimator-id-1\" type=\"checkbox\" checked><label for=\"sk-estimator-id-1\" class=\"sk-toggleable__label sk-toggleable__label-arrow\">LogisticRegression</label><div class=\"sk-toggleable__content\"><pre>LogisticRegression(max_iter=120, n_jobs=20, random_state=0)</pre></div></div></div></div></div>"
      ],
      "text/plain": [
       "LogisticRegression(max_iter=120, n_jobs=20, random_state=0)"
      ]
     },
     "execution_count": 10,
     "metadata": {},
     "output_type": "execute_result"
    }
   ],
   "source": [
    "model_lg = LogisticRegression(max_iter=120, random_state=0, n_jobs=20)\n",
    "model_lg.fit(X_train, y_train)"
   ]
  },
  {
   "cell_type": "markdown",
   "metadata": {},
   "source": [
    "### --> Calculating the metrics"
   ]
  },
  {
   "cell_type": "code",
   "execution_count": 11,
   "metadata": {},
   "outputs": [],
   "source": [
    "y_pred = model_lg.predict(X_test)\n",
    "accuracy = accuracy_score(y_test, y_pred)\n",
    "f1 = f1_score(y_test, y_pred)"
   ]
  },
  {
   "cell_type": "markdown",
   "metadata": {},
   "source": [
    "### --> Saving the model"
   ]
  },
  {
   "cell_type": "code",
   "execution_count": 12,
   "metadata": {},
   "outputs": [
    {
     "name": "stdout",
     "output_type": "stream",
     "text": [
      "Model File Created...\n"
     ]
    }
   ],
   "source": [
    "filename = \"heart-attack-prediction.pkl\"\n",
    "pickle.dump(model_lg, open(filename, \"wb\"))\n",
    "print(\"Model File Created...\")"
   ]
  },
  {
   "cell_type": "markdown",
   "metadata": {},
   "source": [
    "##               **** Logging the Heart-attack Prediction model ****"
   ]
  },
  {
   "cell_type": "markdown",
   "metadata": {},
   "source": [
    "### --> Importing Libraries"
   ]
  },
  {
   "cell_type": "code",
   "execution_count": 13,
   "metadata": {},
   "outputs": [],
   "source": [
    "import pickle\n",
    "import mlflow\n",
    "import mlflow.sklearn\n",
    "from mlflow.tracking import MlflowClient\n",
    "from mlflow.types.schema import Schema, ColSpec\n",
    "from mlflow.models.signature import ModelSignature\n",
    "from mlflow import log_metrics"
   ]
  },
  {
   "cell_type": "markdown",
   "metadata": {},
   "source": [
    "### --> Loading Model"
   ]
  },
  {
   "cell_type": "code",
   "execution_count": 14,
   "metadata": {},
   "outputs": [
    {
     "name": "stdout",
     "output_type": "stream",
     "text": [
      "Loaded Model\n"
     ]
    }
   ],
   "source": [
    "infile = open(\"heart-attack-prediction.pkl\", \"rb\")\n",
    "model = pickle.load(infile)\n",
    "print(\"Loaded Model\")\n",
    "infile.close()"
   ]
  },
  {
   "cell_type": "markdown",
   "metadata": {},
   "source": [
    "### --> Creating Signature"
   ]
  },
  {
   "cell_type": "code",
   "execution_count": 15,
   "metadata": {},
   "outputs": [],
   "source": [
    "mlflow.set_tracking_uri(\"sqlite:///mlruns.db\")\n",
    "\n",
    "input_schema = Schema(\n",
    "    [\n",
    "        ColSpec(\"double\", \"age\"),\n",
    "        ColSpec(\"integer\", \"sex\"),\n",
    "        ColSpec(\"integer\", \"cp\"),\n",
    "        ColSpec(\"double\", \"trtbps\"),\n",
    "        ColSpec(\"double\", \"chol\"),\n",
    "        ColSpec(\"integer\", \"fbs\"),\n",
    "        ColSpec(\"integer\", \"restecg\"),\n",
    "        ColSpec(\"double\", \"thalachh\"),\n",
    "        ColSpec(\"integer\", \"exng\"),\n",
    "        ColSpec(\"double\", \"oldpeak\"),\n",
    "        ColSpec(\"integer\", \"slp\"),\n",
    "        ColSpec(\"integer\", \"caa\"),\n",
    "        ColSpec(\"integer\", \"thall\"),\n",
    "    ]\n",
    ")\n",
    "\n",
    "signature = ModelSignature(inputs=input_schema)"
   ]
  },
  {
   "cell_type": "markdown",
   "metadata": {},
   "source": [
    "### --> Logging Model artifacts"
   ]
  },
  {
   "cell_type": "code",
   "execution_count": 16,
   "metadata": {},
   "outputs": [
    {
     "name": "stderr",
     "output_type": "stream",
     "text": [
      "/opt/python/3.10.4/lib/python3.10/site-packages/_distutils_hack/__init__.py:30: UserWarning: Setuptools is replacing distutils.\n",
      "  warnings.warn(\"Setuptools is replacing distutils.\")\n",
      "Registered model 'heart-attack-prediction-model' already exists. Creating a new version of this model...\n",
      "2022/06/19 09:54:42 INFO mlflow.tracking._model_registry.client: Waiting up to 300 seconds for model version to finish creation.                     Model name: heart-attack-prediction-model, version 2\n"
     ]
    },
    {
     "name": "stdout",
     "output_type": "stream",
     "text": [
      "Logged another model\n"
     ]
    },
    {
     "name": "stderr",
     "output_type": "stream",
     "text": [
      "Created version '2' of model 'heart-attack-prediction-model'.\n"
     ]
    }
   ],
   "source": [
    "mlflow.sklearn.log_model(\n",
    "    model,\n",
    "    \"heart-attack-prediction-model\",\n",
    "    registered_model_name=\"heart-attack-prediction-model\",\n",
    "    signature=signature,\n",
    ")\n",
    "print(\"Logged another model\")"
   ]
  },
  {
   "cell_type": "markdown",
   "metadata": {},
   "source": [
    "### --> Logging Metric"
   ]
  },
  {
   "cell_type": "code",
   "execution_count": 19,
   "metadata": {},
   "outputs": [],
   "source": [
    "metrics = {\"accuracy\": accuracy, \"f1_score\": f1}\n",
    "mlflow.log_metrics(metrics)"
   ]
  },
  {
   "cell_type": "markdown",
   "metadata": {},
   "source": [
    "### --> Transition into production"
   ]
  },
  {
   "cell_type": "code",
   "execution_count": 21,
   "metadata": {},
   "outputs": [
    {
     "data": {
      "text/plain": [
       "<ModelVersion: creation_timestamp=1655631152321, current_stage='Production', description=None, last_updated_timestamp=1655632548246, name='heart-attack-prediction-model', run_id='4f238b29f4dd4f308f62c160a49d4190', run_link=None, source='./mlruns/0/4f238b29f4dd4f308f62c160a49d4190/artifacts/heart-attack-prediction-model', status='READY', status_message=None, tags={}, user_id=None, version=1>"
      ]
     },
     "execution_count": 21,
     "metadata": {},
     "output_type": "execute_result"
    }
   ],
   "source": [
    "client = MlflowClient()\n",
    "client.transition_model_version_stage(\n",
    "    name=\"heart-attack-prediction-model\", version=1, stage=\"Production\"\n",
    ")"
   ]
  }
 ],
 "metadata": {
  "kernelspec": {
   "display_name": "Python 3.10.4 64-bit",
   "language": "python",
   "name": "python3"
  },
  "language_info": {
   "codemirror_mode": {
    "name": "ipython",
    "version": 3
   },
   "file_extension": ".py",
   "mimetype": "text/x-python",
   "name": "python",
   "nbconvert_exporter": "python",
   "pygments_lexer": "ipython3",
   "version": "3.10.4"
  },
  "orig_nbformat": 4,
  "vscode": {
   "interpreter": {
    "hash": "4f946df053fbf2b937619d3c5458e7af74262f9a954d8797ba0b27400bcafe06"
   }
  }
 },
 "nbformat": 4,
 "nbformat_minor": 2
}
