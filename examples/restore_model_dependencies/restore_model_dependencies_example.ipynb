{
 "cells": [
  {
   "cell_type": "code",
   "execution_count": 5,
   "id": "70a2b95e",
   "metadata": {},
   "outputs": [
    {
     "name": "stderr",
     "output_type": "stream",
     "text": [
      "2022/04/21 16:56:40 INFO mlflow.pyfunc: To install these model dependencies, run the following command: 'pip install -r /tmp/sk_model_01/requirements.txt'.\n"
     ]
    }
   ],
   "source": [
    "import mlflow\n",
    "from sklearn import datasets\n",
    "from sklearn.neighbors import KNeighborsClassifier\n",
    "\n",
    "X, y = datasets.load_iris(as_frame=True, return_X_y=True)\n",
    "model = KNeighborsClassifier()\n",
    "model.fit(X, y)\n",
    "\n",
    "model_path = \"/tmp/sk_model_01\"\n",
    "\n",
    "mlflow.sklearn.save_model(model, model_path)\n",
    "\n",
    "req_file_path = mlflow.pyfunc.get_model_dependencies(model_path)"
   ]
  },
  {
   "cell_type": "code",
   "execution_count": 6,
   "id": "1f9b51b9",
   "metadata": {},
   "outputs": [
    {
     "name": "stdout",
     "output_type": "stream",
     "text": [
      "Requirement already satisfied: mlflow in /Users/weichen.xu/work/mlflow (from -r /tmp/sk_model_01/requirements.txt (line 1)) (1.24.1.dev0)\n",
      "Requirement already satisfied: cloudpickle==2.0.0 in /Users/weichen.xu/opt/miniconda3/envs/py38/lib/python3.8/site-packages (from -r /tmp/sk_model_01/requirements.txt (line 2)) (2.0.0)\n",
      "Requirement already satisfied: psutil==5.9.0 in /Users/weichen.xu/opt/miniconda3/envs/py38/lib/python3.8/site-packages (from -r /tmp/sk_model_01/requirements.txt (line 3)) (5.9.0)\n",
      "Requirement already satisfied: scikit-learn==1.0.2 in /Users/weichen.xu/opt/miniconda3/envs/py38/lib/python3.8/site-packages (from -r /tmp/sk_model_01/requirements.txt (line 4)) (1.0.2)\n",
      "Requirement already satisfied: typing-extensions==4.0.1 in /Users/weichen.xu/opt/miniconda3/envs/py38/lib/python3.8/site-packages (from -r /tmp/sk_model_01/requirements.txt (line 5)) (4.0.1)\n",
      "Requirement already satisfied: numpy>=1.14.6 in /Users/weichen.xu/opt/miniconda3/envs/py38/lib/python3.8/site-packages (from scikit-learn==1.0.2->-r /tmp/sk_model_01/requirements.txt (line 4)) (1.21.5)\n",
      "Requirement already satisfied: joblib>=0.11 in /Users/weichen.xu/opt/miniconda3/envs/py38/lib/python3.8/site-packages (from scikit-learn==1.0.2->-r /tmp/sk_model_01/requirements.txt (line 4)) (1.1.0)\n",
      "Requirement already satisfied: threadpoolctl>=2.0.0 in /Users/weichen.xu/opt/miniconda3/envs/py38/lib/python3.8/site-packages (from scikit-learn==1.0.2->-r /tmp/sk_model_01/requirements.txt (line 4)) (3.0.0)\n",
      "Requirement already satisfied: scipy>=1.1.0 in /Users/weichen.xu/opt/miniconda3/envs/py38/lib/python3.8/site-packages (from scikit-learn==1.0.2->-r /tmp/sk_model_01/requirements.txt (line 4)) (1.7.3)\n",
      "Requirement already satisfied: click>=7.0 in /Users/weichen.xu/opt/miniconda3/envs/py38/lib/python3.8/site-packages (from mlflow->-r /tmp/sk_model_01/requirements.txt (line 1)) (8.0.3)\n",
      "Requirement already satisfied: databricks-cli>=0.8.7 in /Users/weichen.xu/opt/miniconda3/envs/py38/lib/python3.8/site-packages (from mlflow->-r /tmp/sk_model_01/requirements.txt (line 1)) (0.16.3.dev0)\n",
      "Requirement already satisfied: entrypoints in /Users/weichen.xu/opt/miniconda3/envs/py38/lib/python3.8/site-packages (from mlflow->-r /tmp/sk_model_01/requirements.txt (line 1)) (0.3)\n",
      "Requirement already satisfied: gitpython>=2.1.0 in /Users/weichen.xu/opt/miniconda3/envs/py38/lib/python3.8/site-packages (from mlflow->-r /tmp/sk_model_01/requirements.txt (line 1)) (3.1.26)\n",
      "Requirement already satisfied: pyyaml>=5.1 in /Users/weichen.xu/opt/miniconda3/envs/py38/lib/python3.8/site-packages (from mlflow->-r /tmp/sk_model_01/requirements.txt (line 1)) (6.0)\n",
      "Requirement already satisfied: protobuf>=3.7.0 in /Users/weichen.xu/opt/miniconda3/envs/py38/lib/python3.8/site-packages (from mlflow->-r /tmp/sk_model_01/requirements.txt (line 1)) (3.19.4)\n",
      "Requirement already satisfied: pytz in /Users/weichen.xu/opt/miniconda3/envs/py38/lib/python3.8/site-packages (from mlflow->-r /tmp/sk_model_01/requirements.txt (line 1)) (2021.3)\n",
      "Requirement already satisfied: requests>=2.17.3 in /Users/weichen.xu/opt/miniconda3/envs/py38/lib/python3.8/site-packages (from mlflow->-r /tmp/sk_model_01/requirements.txt (line 1)) (2.27.1)\n",
      "Requirement already satisfied: packaging in /Users/weichen.xu/opt/miniconda3/envs/py38/lib/python3.8/site-packages (from mlflow->-r /tmp/sk_model_01/requirements.txt (line 1)) (21.3)\n",
      "Requirement already satisfied: importlib_metadata!=4.7.0,>=3.7.0 in /Users/weichen.xu/opt/miniconda3/envs/py38/lib/python3.8/site-packages (from mlflow->-r /tmp/sk_model_01/requirements.txt (line 1)) (4.10.1)\n",
      "Requirement already satisfied: alembic in /Users/weichen.xu/opt/miniconda3/envs/py38/lib/python3.8/site-packages (from mlflow->-r /tmp/sk_model_01/requirements.txt (line 1)) (1.7.5)\n",
      "Requirement already satisfied: docker>=4.0.0 in /Users/weichen.xu/opt/miniconda3/envs/py38/lib/python3.8/site-packages (from mlflow->-r /tmp/sk_model_01/requirements.txt (line 1)) (5.0.3)\n",
      "Requirement already satisfied: Flask in /Users/weichen.xu/opt/miniconda3/envs/py38/lib/python3.8/site-packages (from mlflow->-r /tmp/sk_model_01/requirements.txt (line 1)) (2.0.2)\n",
      "Requirement already satisfied: pandas in /Users/weichen.xu/opt/miniconda3/envs/py38/lib/python3.8/site-packages (from mlflow->-r /tmp/sk_model_01/requirements.txt (line 1)) (1.4.0)\n",
      "Requirement already satisfied: prometheus-flask-exporter in /Users/weichen.xu/opt/miniconda3/envs/py38/lib/python3.8/site-packages (from mlflow->-r /tmp/sk_model_01/requirements.txt (line 1)) (0.18.7)\n",
      "Requirement already satisfied: querystring_parser in /Users/weichen.xu/opt/miniconda3/envs/py38/lib/python3.8/site-packages (from mlflow->-r /tmp/sk_model_01/requirements.txt (line 1)) (1.2.4)\n",
      "Requirement already satisfied: sqlparse>=0.3.1 in /Users/weichen.xu/opt/miniconda3/envs/py38/lib/python3.8/site-packages (from mlflow->-r /tmp/sk_model_01/requirements.txt (line 1)) (0.4.2)\n",
      "Requirement already satisfied: sqlalchemy in /Users/weichen.xu/opt/miniconda3/envs/py38/lib/python3.8/site-packages (from mlflow->-r /tmp/sk_model_01/requirements.txt (line 1)) (1.4.31)\n",
      "Requirement already satisfied: gunicorn in /Users/weichen.xu/opt/miniconda3/envs/py38/lib/python3.8/site-packages (from mlflow->-r /tmp/sk_model_01/requirements.txt (line 1)) (20.1.0)\n",
      "Requirement already satisfied: python-socketio>=5.4 in /Users/weichen.xu/opt/miniconda3/envs/py38/lib/python3.8/site-packages (from databricks-cli>=0.8.7->mlflow->-r /tmp/sk_model_01/requirements.txt (line 1)) (5.5.1)\n",
      "Requirement already satisfied: tornado>=6.1 in /Users/weichen.xu/opt/miniconda3/envs/py38/lib/python3.8/site-packages (from databricks-cli>=0.8.7->mlflow->-r /tmp/sk_model_01/requirements.txt (line 1)) (6.1)\n",
      "Requirement already satisfied: cryptography>=3.4.6 in /Users/weichen.xu/opt/miniconda3/envs/py38/lib/python3.8/site-packages (from databricks-cli>=0.8.7->mlflow->-r /tmp/sk_model_01/requirements.txt (line 1)) (36.0.1)\n",
      "Requirement already satisfied: aiohttp>=3.7.4 in /Users/weichen.xu/opt/miniconda3/envs/py38/lib/python3.8/site-packages (from databricks-cli>=0.8.7->mlflow->-r /tmp/sk_model_01/requirements.txt (line 1)) (3.8.1)\n",
      "Requirement already satisfied: tenacity>=5.0 in /Users/weichen.xu/opt/miniconda3/envs/py38/lib/python3.8/site-packages (from databricks-cli>=0.8.7->mlflow->-r /tmp/sk_model_01/requirements.txt (line 1)) (8.0.1)\n",
      "Requirement already satisfied: six>=1.10.0 in /Users/weichen.xu/opt/miniconda3/envs/py38/lib/python3.8/site-packages (from databricks-cli>=0.8.7->mlflow->-r /tmp/sk_model_01/requirements.txt (line 1)) (1.16.0)\n",
      "Requirement already satisfied: tabulate>=0.7.7 in /Users/weichen.xu/opt/miniconda3/envs/py38/lib/python3.8/site-packages (from databricks-cli>=0.8.7->mlflow->-r /tmp/sk_model_01/requirements.txt (line 1)) (0.8.9)\n",
      "Requirement already satisfied: multidict<7.0,>=4.5 in /Users/weichen.xu/opt/miniconda3/envs/py38/lib/python3.8/site-packages (from aiohttp>=3.7.4->databricks-cli>=0.8.7->mlflow->-r /tmp/sk_model_01/requirements.txt (line 1)) (6.0.2)\n",
      "Requirement already satisfied: aiosignal>=1.1.2 in /Users/weichen.xu/opt/miniconda3/envs/py38/lib/python3.8/site-packages (from aiohttp>=3.7.4->databricks-cli>=0.8.7->mlflow->-r /tmp/sk_model_01/requirements.txt (line 1)) (1.2.0)\n",
      "Requirement already satisfied: async-timeout<5.0,>=4.0.0a3 in /Users/weichen.xu/opt/miniconda3/envs/py38/lib/python3.8/site-packages (from aiohttp>=3.7.4->databricks-cli>=0.8.7->mlflow->-r /tmp/sk_model_01/requirements.txt (line 1)) (4.0.2)\n",
      "Requirement already satisfied: attrs>=17.3.0 in /Users/weichen.xu/opt/miniconda3/envs/py38/lib/python3.8/site-packages (from aiohttp>=3.7.4->databricks-cli>=0.8.7->mlflow->-r /tmp/sk_model_01/requirements.txt (line 1)) (21.4.0)\n",
      "Requirement already satisfied: charset-normalizer<3.0,>=2.0 in /Users/weichen.xu/opt/miniconda3/envs/py38/lib/python3.8/site-packages (from aiohttp>=3.7.4->databricks-cli>=0.8.7->mlflow->-r /tmp/sk_model_01/requirements.txt (line 1)) (2.0.11)\n",
      "Requirement already satisfied: yarl<2.0,>=1.0 in /Users/weichen.xu/opt/miniconda3/envs/py38/lib/python3.8/site-packages (from aiohttp>=3.7.4->databricks-cli>=0.8.7->mlflow->-r /tmp/sk_model_01/requirements.txt (line 1)) (1.7.2)\n",
      "Requirement already satisfied: frozenlist>=1.1.1 in /Users/weichen.xu/opt/miniconda3/envs/py38/lib/python3.8/site-packages (from aiohttp>=3.7.4->databricks-cli>=0.8.7->mlflow->-r /tmp/sk_model_01/requirements.txt (line 1)) (1.3.0)\n",
      "Requirement already satisfied: cffi>=1.12 in /Users/weichen.xu/opt/miniconda3/envs/py38/lib/python3.8/site-packages (from cryptography>=3.4.6->databricks-cli>=0.8.7->mlflow->-r /tmp/sk_model_01/requirements.txt (line 1)) (1.15.0)\n",
      "Requirement already satisfied: pycparser in /Users/weichen.xu/opt/miniconda3/envs/py38/lib/python3.8/site-packages (from cffi>=1.12->cryptography>=3.4.6->databricks-cli>=0.8.7->mlflow->-r /tmp/sk_model_01/requirements.txt (line 1)) (2.21)\n",
      "Requirement already satisfied: websocket-client>=0.32.0 in /Users/weichen.xu/opt/miniconda3/envs/py38/lib/python3.8/site-packages (from docker>=4.0.0->mlflow->-r /tmp/sk_model_01/requirements.txt (line 1)) (1.2.3)\n",
      "Requirement already satisfied: gitdb<5,>=4.0.1 in /Users/weichen.xu/opt/miniconda3/envs/py38/lib/python3.8/site-packages (from gitpython>=2.1.0->mlflow->-r /tmp/sk_model_01/requirements.txt (line 1)) (4.0.9)\n",
      "Requirement already satisfied: smmap<6,>=3.0.1 in /Users/weichen.xu/opt/miniconda3/envs/py38/lib/python3.8/site-packages (from gitdb<5,>=4.0.1->gitpython>=2.1.0->mlflow->-r /tmp/sk_model_01/requirements.txt (line 1)) (5.0.0)\n",
      "Requirement already satisfied: zipp>=0.5 in /Users/weichen.xu/opt/miniconda3/envs/py38/lib/python3.8/site-packages (from importlib_metadata!=4.7.0,>=3.7.0->mlflow->-r /tmp/sk_model_01/requirements.txt (line 1)) (3.7.0)\n",
      "Requirement already satisfied: python-engineio>=4.3.0 in /Users/weichen.xu/opt/miniconda3/envs/py38/lib/python3.8/site-packages (from python-socketio>=5.4->databricks-cli>=0.8.7->mlflow->-r /tmp/sk_model_01/requirements.txt (line 1)) (4.3.1)\n",
      "Requirement already satisfied: bidict>=0.21.0 in /Users/weichen.xu/opt/miniconda3/envs/py38/lib/python3.8/site-packages (from python-socketio>=5.4->databricks-cli>=0.8.7->mlflow->-r /tmp/sk_model_01/requirements.txt (line 1)) (0.21.4)\n",
      "Requirement already satisfied: certifi>=2017.4.17 in /Users/weichen.xu/opt/miniconda3/envs/py38/lib/python3.8/site-packages (from requests>=2.17.3->mlflow->-r /tmp/sk_model_01/requirements.txt (line 1)) (2021.10.8)\n",
      "Requirement already satisfied: idna<4,>=2.5 in /Users/weichen.xu/opt/miniconda3/envs/py38/lib/python3.8/site-packages (from requests>=2.17.3->mlflow->-r /tmp/sk_model_01/requirements.txt (line 1)) (3.3)\n",
      "Requirement already satisfied: urllib3<1.27,>=1.21.1 in /Users/weichen.xu/opt/miniconda3/envs/py38/lib/python3.8/site-packages (from requests>=2.17.3->mlflow->-r /tmp/sk_model_01/requirements.txt (line 1)) (1.26.8)\n",
      "Requirement already satisfied: Mako in /Users/weichen.xu/opt/miniconda3/envs/py38/lib/python3.8/site-packages (from alembic->mlflow->-r /tmp/sk_model_01/requirements.txt (line 1)) (1.1.6)\n",
      "Requirement already satisfied: importlib-resources in /Users/weichen.xu/opt/miniconda3/envs/py38/lib/python3.8/site-packages (from alembic->mlflow->-r /tmp/sk_model_01/requirements.txt (line 1)) (5.4.0)\n",
      "Requirement already satisfied: greenlet!=0.4.17 in /Users/weichen.xu/opt/miniconda3/envs/py38/lib/python3.8/site-packages (from sqlalchemy->mlflow->-r /tmp/sk_model_01/requirements.txt (line 1)) (1.1.2)\n",
      "Requirement already satisfied: itsdangerous>=2.0 in /Users/weichen.xu/opt/miniconda3/envs/py38/lib/python3.8/site-packages (from Flask->mlflow->-r /tmp/sk_model_01/requirements.txt (line 1)) (2.0.1)\n",
      "Requirement already satisfied: Jinja2>=3.0 in /Users/weichen.xu/opt/miniconda3/envs/py38/lib/python3.8/site-packages (from Flask->mlflow->-r /tmp/sk_model_01/requirements.txt (line 1)) (3.0.3)\n",
      "Requirement already satisfied: Werkzeug>=2.0 in /Users/weichen.xu/opt/miniconda3/envs/py38/lib/python3.8/site-packages (from Flask->mlflow->-r /tmp/sk_model_01/requirements.txt (line 1)) (2.0.2)\n",
      "Requirement already satisfied: MarkupSafe>=2.0 in /Users/weichen.xu/opt/miniconda3/envs/py38/lib/python3.8/site-packages (from Jinja2>=3.0->Flask->mlflow->-r /tmp/sk_model_01/requirements.txt (line 1)) (2.0.1)\n",
      "Requirement already satisfied: setuptools>=3.0 in /Users/weichen.xu/opt/miniconda3/envs/py38/lib/python3.8/site-packages (from gunicorn->mlflow->-r /tmp/sk_model_01/requirements.txt (line 1)) (59.5.0)\n",
      "Requirement already satisfied: pyparsing!=3.0.5,>=2.0.2 in /Users/weichen.xu/opt/miniconda3/envs/py38/lib/python3.8/site-packages (from packaging->mlflow->-r /tmp/sk_model_01/requirements.txt (line 1)) (3.0.7)\n",
      "Requirement already satisfied: python-dateutil>=2.8.1 in /Users/weichen.xu/opt/miniconda3/envs/py38/lib/python3.8/site-packages (from pandas->mlflow->-r /tmp/sk_model_01/requirements.txt (line 1)) (2.8.2)\n",
      "Requirement already satisfied: prometheus-client in /Users/weichen.xu/opt/miniconda3/envs/py38/lib/python3.8/site-packages (from prometheus-flask-exporter->mlflow->-r /tmp/sk_model_01/requirements.txt (line 1)) (0.13.1)\n",
      "Note: you may need to restart the kernel to use updated packages.\n"
     ]
    }
   ],
   "source": [
    "%pip install -r $req_file_path"
   ]
  },
  {
   "cell_type": "code",
   "execution_count": null,
   "id": "9b0a183b",
   "metadata": {},
   "outputs": [],
   "source": [
    "# In order to enable the environment restored by %pip command above,\n",
    "# you need to manually click the kernel restart button."
   ]
  },
  {
   "cell_type": "code",
   "execution_count": 3,
   "id": "1262da7f",
   "metadata": {},
   "outputs": [
    {
     "name": "stdout",
     "output_type": "stream",
     "text": [
      "[0 0 0 0 0 0 0 0 0 0 0 0 0 0 0 0 0 0 0 0 0 0 0 0 0 0 0 0 0 0 0 0 0 0 0 0 0\n",
      " 0 0 0 0 0 0 0 0 0 0 0 0 0 1 1 1 1 1 1 1 1 1 1 1 1 1 1 1 1 1 1 1 1 2 1 2 1\n",
      " 1 1 1 1 1 1 1 1 1 2 1 1 1 1 1 1 1 1 1 1 1 1 1 1 1 1 2 2 2 2 2 2 1 2 2 2 2\n",
      " 2 2 2 2 2 2 2 2 1 2 2 2 2 2 2 2 2 2 2 2 2 2 2 2 2 2 2 2 2 2 2 2 2 2 2 2 2\n",
      " 2 2]\n"
     ]
    }
   ],
   "source": [
    "import mlflow\n",
    "model = mlflow.pyfunc.load_model(\"/tmp/sk_model_01\")\n",
    "\n",
    "from sklearn import datasets\n",
    "X, y = datasets.load_iris(as_frame=True, return_X_y=True)\n",
    "result = model.predict(X)\n",
    "\n",
    "print(result)"
   ]
  },
  {
   "cell_type": "code",
   "execution_count": null,
   "id": "ec7562cb",
   "metadata": {},
   "outputs": [],
   "source": []
  }
 ],
 "metadata": {
  "kernelspec": {
   "display_name": "Python 3 (ipykernel)",
   "language": "python",
   "name": "python3"
  },
  "language_info": {
   "codemirror_mode": {
    "name": "ipython",
    "version": 3
   },
   "file_extension": ".py",
   "mimetype": "text/x-python",
   "name": "python",
   "nbconvert_exporter": "python",
   "pygments_lexer": "ipython3",
   "version": "3.8.12"
  }
 },
 "nbformat": 4,
 "nbformat_minor": 5
}
