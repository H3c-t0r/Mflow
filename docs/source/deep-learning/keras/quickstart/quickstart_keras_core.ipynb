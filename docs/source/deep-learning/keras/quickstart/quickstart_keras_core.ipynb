{
 "cells": [
  {
   "cell_type": "markdown",
   "metadata": {},
   "source": [
    "# Get Started with Keras 3.0 + MLflow\n",
    "\n",
    "This tutorial is an end-to-end tutorial on training a MINST classifier with **Keras 3.0** and logging results with **MLflow**. It will demonstrate the use of `mlflow.keras_core.MLflowCallback`, and how to subclass it to implement custom logging logic.\n",
    "\n",
    "**Keras** is a high-level api that is designed to be simple, flexible, and powerful - allowing everyone from beginners to advanced users to quickly build, train, and evaluate models. **Keras 3.0**, or Keras Core, is a full rewrite of the Keras codebase that rebases it on top of a modular backend architecture. It makes it possible to run Keras workflows on top of arbitrary frameworks — starting with TensorFlow, JAX, and PyTorch."
   ]
  },
  {
   "cell_type": "markdown",
   "metadata": {},
   "source": [
    "## Install Packages\n",
    "\n",
    "`pip install -q keras-core mlflow jax jaxlib torch tensorflow`"
   ]
  },
  {
   "cell_type": "markdown",
   "metadata": {},
   "source": [
    "## Import Packages / Configure Backend\n",
    "Keras 3.0 is inherently multi-backend, so you will need to set the backend environment variable **before** importing the package."
   ]
  },
  {
   "cell_type": "code",
   "execution_count": 11,
   "metadata": {},
   "outputs": [],
   "source": [
    "import os\n",
    "\n",
    "# You can use 'tensorflow', 'torch' or 'jax' as backend. Make sure to set the environment variable before importing.\n",
    "os.environ[\"KERAS_BACKEND\"] = \"tensorflow\""
   ]
  },
  {
   "cell_type": "code",
   "execution_count": 12,
   "metadata": {},
   "outputs": [],
   "source": [
    "import keras_core\n",
    "import mlflow\n",
    "import numpy as np"
   ]
  },
  {
   "cell_type": "markdown",
   "metadata": {},
   "source": [
    "## Load Dataset\n",
    "We will use the MNIST dataset. This is a dataset of handwritten digits and will be used for an image classification task. There are 10 classes corresponding to the 10 digits."
   ]
  },
  {
   "cell_type": "code",
   "execution_count": 13,
   "metadata": {},
   "outputs": [
    {
     "data": {
      "text/plain": [
       "(28, 28, 1)"
      ]
     },
     "execution_count": 13,
     "metadata": {},
     "output_type": "execute_result"
    }
   ],
   "source": [
    "(x_train, y_train), (x_test, y_test) = keras_core.datasets.mnist.load_data()\n",
    "x_train = np.expand_dims(x_train, axis=3)\n",
    "x_test = np.expand_dims(x_test, axis=3)\n",
    "x_train[0].shape"
   ]
  },
  {
   "cell_type": "code",
   "execution_count": 14,
   "metadata": {},
   "outputs": [],
   "source": [
    "# # Visualize Dataset\n",
    "# import matplotlib.pyplot as plt\n",
    "\n",
    "# grid = 3\n",
    "# fig, axes = plt.subplots(grid, grid, figsize=(6, 6))\n",
    "# for i in range(grid):\n",
    "#     for j in range(grid):\n",
    "#         axes[i][j].imshow(x_train[i * grid + j])\n",
    "#         axes[i][j].set_title(f\"label={y_train[i * grid + j]}\")\n",
    "# plt.tight_layout()"
   ]
  },
  {
   "cell_type": "markdown",
   "metadata": {},
   "source": [
    "## Build Model\n",
    "We will use the Keras 3.0 sequential API to build a simple CNN."
   ]
  },
  {
   "cell_type": "code",
   "execution_count": 15,
   "metadata": {},
   "outputs": [],
   "source": [
    "NUM_CLASSES = 10\n",
    "INPUT_SHAPE = (28, 28, 1)\n",
    "\n",
    "\n",
    "def initialize_model():\n",
    "    model = keras_core.Sequential(\n",
    "        [\n",
    "            keras_core.Input(shape=INPUT_SHAPE),\n",
    "            keras_core.layers.Conv2D(32, kernel_size=(3, 3), activation=\"relu\"),\n",
    "            keras_core.layers.Conv2D(32, kernel_size=(3, 3), activation=\"relu\"),\n",
    "            keras_core.layers.Conv2D(32, kernel_size=(3, 3), activation=\"relu\"),\n",
    "            keras_core.layers.GlobalAveragePooling2D(),\n",
    "            keras_core.layers.Dense(NUM_CLASSES, activation=\"softmax\"),\n",
    "        ]\n",
    "    )\n",
    "    return model\n",
    "\n",
    "\n",
    "model = initialize_model()"
   ]
  },
  {
   "cell_type": "markdown",
   "metadata": {},
   "source": [
    "## Train Model (Default Callback)\n",
    "We will fit the model on the dataset, using MLflow's `mlflow.keras_core.MLflowCallback` to log metrics during training."
   ]
  },
  {
   "cell_type": "code",
   "execution_count": 16,
   "metadata": {},
   "outputs": [],
   "source": [
    "BATCH_SIZE = 64  # adjust this based on the memory of your machine\n",
    "EPOCHS = 3"
   ]
  },
  {
   "cell_type": "markdown",
   "metadata": {},
   "source": [
    "### Log Per Epoch\n",
    "An epoch defined as one pass through the entire training dataset."
   ]
  },
  {
   "cell_type": "code",
   "execution_count": 17,
   "metadata": {},
   "outputs": [],
   "source": [
    "# model = initialize_model()\n",
    "\n",
    "# model.compile(\n",
    "#     loss=keras_core.losses.SparseCategoricalCrossentropy(),\n",
    "#     optimizer=keras_core.optimizers.Adam(),\n",
    "#     metrics=[\"accuracy\"],\n",
    "# )\n",
    "\n",
    "# with mlflow.start_run() as run:\n",
    "#     model.fit(\n",
    "#         x_train,\n",
    "#         y_train,\n",
    "#         batch_size=BATCH_SIZE,\n",
    "#         epochs=EPOCHS,\n",
    "#         validation_split=0.1,\n",
    "#         callbacks=[mlflow.keras_core.MLflowCallback(run)],\n",
    "#     )"
   ]
  },
  {
   "cell_type": "markdown",
   "metadata": {},
   "source": [
    "<!-- ### Log Results\n",
    "The callback for the run would log **parameters**, **metrics** and **artifacts** to MLflow dashboard.\n",
    "\n",
    "![run page](https://i.imgur.com/YLGFDJEl.png) -->"
   ]
  },
  {
   "cell_type": "markdown",
   "metadata": {},
   "source": [
    "<!-- ### Log Per Batch\n",
    "Within each epoch, the training dataset is broken down to batches based on the defined `BATCH_SIZE`. If we set the callback to not log based on epochs with `log_every_epoch=False`, and to log every 5 batches with `log_every_n_steps=5`, we can adjust the logging to be based on the batches. -->"
   ]
  },
  {
   "cell_type": "code",
   "execution_count": 18,
   "metadata": {},
   "outputs": [],
   "source": [
    "# model = initialize_model()\n",
    "\n",
    "# model.compile(\n",
    "#     loss=keras_core.losses.SparseCategoricalCrossentropy(),\n",
    "#     optimizer=keras_core.optimizers.Adam(),\n",
    "#     metrics=[\"accuracy\"],\n",
    "# )\n",
    "\n",
    "# with mlflow.start_run() as run:\n",
    "#     model.fit(\n",
    "#         x_train,\n",
    "#         y_train,\n",
    "#         batch_size=BATCH_SIZE,\n",
    "#         epochs=EPOCHS,\n",
    "#         validation_split=0.1,\n",
    "#         callbacks=[\n",
    "#             mlflow.keras_core.MLflowCallback(run, log_every_epoch=False, log_every_n_steps=5)\n",
    "#         ],\n",
    "#     )"
   ]
  },
  {
   "cell_type": "markdown",
   "metadata": {},
   "source": [
    "<!-- ### Log Results\n",
    "\n",
    "If we **log per epoch**, we will only have three datapoints, since there are only 3 epochs:\n",
    "\n",
    "![log per epoch](https://i.imgur.com/rFDj8SHl.png)\n",
    "\n",
    "By **logging per batch**, we can get more datapoints, but they can be noisier:\n",
    "\n",
    "![log per batch](https://i.imgur.com/ZCYXLqll.png) -->"
   ]
  },
  {
   "cell_type": "markdown",
   "metadata": {},
   "source": [
    "<!-- ## Train Model (Custom Callback)\n",
    "Let's train the model again, for the purpose of demonstrating how to use subclass and customize MLflow's `mlflow.keras_core.MLflowCallback` for logging. \n",
    "\n",
    "The pre-defined `MLflowCallback` allows us to adjust whether we want to log every epoch or every batch through parameters `log_every_epoch` and `log_every_n_steps`. However, currently each time the callback logs is defined as a `step`, so if we log every 5 batches, it will just be 1 step. What if we want the steps to correspond exactly to the batches seen?\n",
    "\n",
    "Notice that the logging that happens every 5 batches is logged as one step along the x-axis:\n",
    "\n",
    "![5 Batches Per Step](https://i.imgur.com/RK1HotHl.png?1)\n",
    "\n",
    "The method we will look at is `on_batch_end()`. This method is a callback that is called at the end of every batch. `self._log_step` counts the logging steps and is shown as one of the x-axis on the graph.\n",
    "\n",
    "```\n",
    "def on_batch_end(self, batch, logs=None):\n",
    "  \"\"\"Log metrics at the end of each batch with user specified frequency.\"\"\"\n",
    "  if self.log_every_n_steps is None or logs is None:\n",
    "      return\n",
    "  if (batch + 1) % self.log_every_n_steps == 0:\n",
    "      self.metrics_logger.record_metrics(logs, self._log_step)\n",
    "      self._log_step += 1\n",
    "``` -->"
   ]
  },
  {
   "cell_type": "code",
   "execution_count": 19,
   "metadata": {},
   "outputs": [],
   "source": [
    "# class MlflowCallbackLogPerBatch(mlflow.keras_core.MLflowCallback):\n",
    "#     def on_batch_end(self, batch, logs=None):\n",
    "#         if self.log_every_n_steps is None or logs is None:\n",
    "#             return\n",
    "#         if (batch + 1) % self.log_every_n_steps == 0:\n",
    "#             self.metrics_logger.record_metrics(logs, self._log_step)\n",
    "#             self._log_step += self.log_every_n_steps"
   ]
  },
  {
   "cell_type": "code",
   "execution_count": 20,
   "metadata": {},
   "outputs": [],
   "source": [
    "# model = initialize_model()\n",
    "\n",
    "# model.compile(\n",
    "#     loss=keras_core.losses.SparseCategoricalCrossentropy(),\n",
    "#     optimizer=keras_core.optimizers.Adam(),\n",
    "#     metrics=[\"accuracy\"],\n",
    "# )\n",
    "\n",
    "# with mlflow.start_run() as run:\n",
    "#     model.fit(\n",
    "#         x_train,\n",
    "#         y_train,\n",
    "#         batch_size=BATCH_SIZE,\n",
    "#         epochs=EPOCHS,\n",
    "#         validation_split=0.1,\n",
    "#         callbacks=[MlflowCallbackLogPerBatch(run, log_every_epoch=False, log_every_n_steps=5)],\n",
    "#     )"
   ]
  },
  {
   "cell_type": "markdown",
   "metadata": {},
   "source": [
    "<!-- ### Log Results\n",
    "\n",
    "Observe that with the customized callback, the steps correspond directly to the number of batches seen. 1 batch corresponds to 1 step.\n",
    "\n",
    "![1 batch per step](https://i.imgur.com/hhO178jl.png?1) -->"
   ]
  },
  {
   "cell_type": "markdown",
   "metadata": {},
   "source": [
    "## Evaluation\n",
    "Similar to training, you can use the callback to log the evaluation result."
   ]
  },
  {
   "cell_type": "code",
   "execution_count": 21,
   "metadata": {},
   "outputs": [],
   "source": [
    "# with mlflow.start_run() as run:\n",
    "#     model.evaluate(x_test, y_test, callbacks=[mlflow.keras_core.MLflowCallback(run)])ig"
   ]
  }
 ],
 "metadata": {
  "kernelspec": {
   "display_name": "Python 3",
   "language": "python",
   "name": "python3"
  },
  "language_info": {
   "codemirror_mode": {
    "name": "ipython",
    "version": 3
   },
   "file_extension": ".py",
   "mimetype": "text/x-python",
   "name": "python",
   "nbconvert_exporter": "python",
   "pygments_lexer": "ipython3",
   "version": "3.8.13"
  }
 },
 "nbformat": 4,
 "nbformat_minor": 2
}
