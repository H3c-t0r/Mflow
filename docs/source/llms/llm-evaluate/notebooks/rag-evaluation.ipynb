{
 "cells": [
  {
   "cell_type": "markdown",
   "metadata": {
    "application/vnd.databricks.v1+cell": {
     "cellMetadata": {},
     "inputWidgets": {},
     "nuid": "42084110-295b-493a-9b3e-5d8d29ff78b3",
     "showTitle": false,
     "title": ""
    }
   },
   "source": [
    "# LLM RAG Evaluation with MLflow Example Notebook\n",
    "\n",
    "In this notebook, we will demonstrate how to evaluate various a RAG system with MLflow."
   ]
  },
  {
   "cell_type": "code",
   "execution_count": 1,
   "metadata": {},
   "outputs": [],
   "source": [
    "import os"
   ]
  },
  {
   "cell_type": "markdown",
   "metadata": {
    "application/vnd.databricks.v1+cell": {
     "cellMetadata": {},
     "inputWidgets": {},
     "nuid": "bdff35e3-0e09-48b8-87ce-78759de88998",
     "showTitle": false,
     "title": ""
    }
   },
   "source": [
    "Set OpenAI Key"
   ]
  },
  {
   "cell_type": "code",
   "execution_count": 2,
   "metadata": {
    "application/vnd.databricks.v1+cell": {
     "cellMetadata": {
      "byteLimit": 2048000,
      "rowLimit": 10000
     },
     "inputWidgets": {},
     "nuid": "bec25067-224d-4ee8-9b5d-0beeb6cde684",
     "showTitle": false,
     "title": ""
    }
   },
   "outputs": [],
   "source": [
    "os.environ[\"OPENAI_API_KEY\"] = \"redacted\""
   ]
  },
  {
   "cell_type": "code",
   "execution_count": 3,
   "metadata": {
    "application/vnd.databricks.v1+cell": {
     "cellMetadata": {
      "byteLimit": 2048000,
      "rowLimit": 10000
     },
     "inputWidgets": {},
     "nuid": "fb946228-62fb-4d68-9732-75935c9cb401",
     "showTitle": false,
     "title": ""
    }
   },
   "outputs": [],
   "source": [
    "import pandas as pd\n",
    "\n",
    "import mlflow"
   ]
  },
  {
   "cell_type": "markdown",
   "metadata": {
    "application/vnd.databricks.v1+cell": {
     "cellMetadata": {},
     "inputWidgets": {},
     "nuid": "273d1345-95d7-435a-a7b6-a5f3dbb3f073",
     "showTitle": false,
     "title": ""
    }
   },
   "source": [
    "## Create a RAG system\n",
    "\n",
    "Use Langchain and Chroma to create a RAG system that answers questions based on the MLflow documentation."
   ]
  },
  {
   "cell_type": "code",
   "execution_count": 4,
   "metadata": {
    "application/vnd.databricks.v1+cell": {
     "cellMetadata": {
      "byteLimit": 2048000,
      "rowLimit": 10000
     },
     "inputWidgets": {},
     "nuid": "2c28d0ad-f469-46ab-a2b4-c5e8db50a729",
     "showTitle": false,
     "title": ""
    }
   },
   "outputs": [],
   "source": [
    "from langchain.chains import RetrievalQA\n",
    "from langchain.document_loaders import WebBaseLoader\n",
    "from langchain.embeddings.openai import OpenAIEmbeddings\n",
    "from langchain.llms import OpenAI\n",
    "from langchain.text_splitter import CharacterTextSplitter\n",
    "from langchain.vectorstores import Chroma"
   ]
  },
  {
   "cell_type": "code",
   "execution_count": 5,
   "metadata": {
    "application/vnd.databricks.v1+cell": {
     "cellMetadata": {
      "byteLimit": 2048000,
      "rowLimit": 10000
     },
     "inputWidgets": {},
     "nuid": "83a7e77e-6717-472a-86dc-02e2c356ddef",
     "showTitle": false,
     "title": ""
    }
   },
   "outputs": [],
   "source": [
    "loader = WebBaseLoader(\"https://mlflow.org/docs/latest/index.html\")\n",
    "\n",
    "documents = loader.load()\n",
    "text_splitter = CharacterTextSplitter(chunk_size=1000, chunk_overlap=0)\n",
    "texts = text_splitter.split_documents(documents)\n",
    "\n",
    "embeddings = OpenAIEmbeddings()\n",
    "docsearch = Chroma.from_documents(texts, embeddings)\n",
    "\n",
    "qa = RetrievalQA.from_chain_type(\n",
    "    llm=OpenAI(temperature=0),\n",
    "    chain_type=\"stuff\",\n",
    "    retriever=docsearch.as_retriever(),\n",
    "    return_source_documents=True,\n",
    ")"
   ]
  },
  {
   "cell_type": "markdown",
   "metadata": {
    "application/vnd.databricks.v1+cell": {
     "cellMetadata": {},
     "inputWidgets": {},
     "nuid": "fd70bcf6-7c44-44d3-9435-567b82611e1c",
     "showTitle": false,
     "title": ""
    }
   },
   "source": [
    "## Evaluate the RAG system using `mlflow.evaluate()`"
   ]
  },
  {
   "cell_type": "markdown",
   "metadata": {
    "application/vnd.databricks.v1+cell": {
     "cellMetadata": {},
     "inputWidgets": {},
     "nuid": "de1bc359-2e40-459c-bea4-bed35a117988",
     "showTitle": false,
     "title": ""
    }
   },
   "source": [
    "Create a simple function that runs each input through the RAG chain"
   ]
  },
  {
   "cell_type": "code",
   "execution_count": 6,
   "metadata": {
    "application/vnd.databricks.v1+cell": {
     "cellMetadata": {
      "byteLimit": 2048000,
      "rowLimit": 10000
     },
     "inputWidgets": {},
     "nuid": "667ec809-2bb5-4170-9937-6804386b41ec",
     "showTitle": false,
     "title": ""
    }
   },
   "outputs": [],
   "source": [
    "def model(input_df):\n",
    "    answer = []\n",
    "    for index, row in input_df.iterrows():\n",
    "        answer.append(qa(row[\"questions\"]))\n",
    "\n",
    "    return answer"
   ]
  },
  {
   "cell_type": "markdown",
   "metadata": {
    "application/vnd.databricks.v1+cell": {
     "cellMetadata": {},
     "inputWidgets": {},
     "nuid": "d1064306-b7f3-4b3e-825c-4353d808f21d",
     "showTitle": false,
     "title": ""
    }
   },
   "source": [
    "Create an eval dataset"
   ]
  },
  {
   "cell_type": "code",
   "execution_count": 7,
   "metadata": {
    "application/vnd.databricks.v1+cell": {
     "cellMetadata": {
      "byteLimit": 2048000,
      "rowLimit": 10000
     },
     "inputWidgets": {},
     "nuid": "a5481491-e4a9-42ea-8a3f-f527faffd04d",
     "showTitle": false,
     "title": ""
    }
   },
   "outputs": [],
   "source": [
    "eval_df = pd.DataFrame(\n",
    "    {\n",
    "        \"questions\": [\n",
    "            \"What is MLflow?\",\n",
    "            \"How to run Mlflow.evalaute()?\",\n",
    "            \"How to log_table()?\",\n",
    "            \"How to load_table()?\",\n",
    "        ],\n",
    "    }\n",
    ")"
   ]
  },
  {
   "cell_type": "markdown",
   "metadata": {
    "application/vnd.databricks.v1+cell": {
     "cellMetadata": {},
     "inputWidgets": {},
     "nuid": "9c3c8023-8feb-427a-b36d-34cd1853a5dc",
     "showTitle": false,
     "title": ""
    }
   },
   "source": [
    "Create a faithfulness metric"
   ]
  },
  {
   "cell_type": "code",
   "execution_count": 8,
   "metadata": {
    "application/vnd.databricks.v1+cell": {
     "cellMetadata": {
      "byteLimit": 2048000,
      "rowLimit": 10000
     },
     "inputWidgets": {},
     "nuid": "3882b940-9c25-41ce-a301-72d8c0c90aaa",
     "showTitle": false,
     "title": ""
    }
   },
   "outputs": [
    {
     "name": "stdout",
     "output_type": "stream",
     "text": [
      "EvaluationMetric(name=faithfulness, greater_is_better=True, long_name=faithfulness, version=v1, metric_details=\n",
      "Task:\n",
      "You are an impartial judge. You will be given an input that was sent to a machine\n",
      "learning model, and you will be given an output that the model produced. You\n",
      "may also be given additional information that was used by the model to generate the output.\n",
      "\n",
      "Your task is to determine a numerical score called faithfulness based on the input and output.\n",
      "A definition of faithfulness and a grading rubric are provided below.\n",
      "You must use the grading rubric to determine your score. You must also justify your score.\n",
      "\n",
      "Examples could be included below for reference. Make sure to use them as references and to\n",
      "understand them before completing the task.\n",
      "\n",
      "Input:\n",
      "{input}\n",
      "\n",
      "Output:\n",
      "{output}\n",
      "\n",
      "{grading_context_columns}\n",
      "\n",
      "Metric definition:\n",
      "Faithfulness is only evaluated with the provided output and provided context, please ignore the provided input entirely when scoring faithfulness. Faithfulness assesses how much of the provided output is factually consistent with the provided context. A higher score indicates that a higher proportion of claims present in the output can be derived from the provided context. Faithfulness does not consider how much extra information from the context is not present in the output.\n",
      "\n",
      "Grading rubric:\n",
      "Faithfulness: Below are the details for different scores:\n",
      "- Score 1: None of the claims in the output can be inferred from the provided context.\n",
      "- Score 2: Some of the claims in the output can be inferred from the provided context, but the majority of the output is missing from, inconsistent with, or contradictory to the provided context.\n",
      "- Score 3: Half or more of the claims in the output can be inferred from the provided context.\n",
      "- Score 4: Most of the claims in the output can be inferred from the provided context, with very little information that is not directly supported by the provided context.\n",
      "- Score 5: All of the claims in the output are directly supported by the provided context, demonstrating high faithfulness to the provided context.\n",
      "\n",
      "Examples:\n",
      "\n",
      "Input:\n",
      "How do I disable MLflow autologging?\n",
      "\n",
      "Output:\n",
      "mlflow.autolog(disable=True) will disable autologging for all functions. In Databricks, autologging is enabled by default. \n",
      "\n",
      "Additional information used by the model:\n",
      "key: context\n",
      "value:\n",
      "mlflow.autolog(log_input_examples: bool = False, log_model_signatures: bool = True, log_models: bool = True, log_datasets: bool = True, disable: bool = False, exclusive: bool = False, disable_for_unsupported_versions: bool = False, silent: bool = False, extra_tags: Optional[Dict[str, str]] = None) → None[source] Enables (or disables) and configures autologging for all supported integrations. The parameters are passed to any autologging integrations that support them. See the tracking docs for a list of supported autologging integrations. Note that framework-specific configurations set at any point will take precedence over any configurations set by this function.\n",
      "\n",
      "score: 2\n",
      "justification: The output provides a working solution, using the mlflow.autolog() function that is provided in the context.\n",
      "        \n",
      "\n",
      "Input:\n",
      "How do I disable MLflow autologging?\n",
      "\n",
      "Output:\n",
      "mlflow.autolog(disable=True) will disable autologging for all functions.\n",
      "\n",
      "Additional information used by the model:\n",
      "key: context\n",
      "value:\n",
      "mlflow.autolog(log_input_examples: bool = False, log_model_signatures: bool = True, log_models: bool = True, log_datasets: bool = True, disable: bool = False, exclusive: bool = False, disable_for_unsupported_versions: bool = False, silent: bool = False, extra_tags: Optional[Dict[str, str]] = None) → None[source] Enables (or disables) and configures autologging for all supported integrations. The parameters are passed to any autologging integrations that support them. See the tracking docs for a list of supported autologging integrations. Note that framework-specific configurations set at any point will take precedence over any configurations set by this function.\n",
      "\n",
      "score: 5\n",
      "justification: The output provides a solution that is using the mlflow.autolog() function that is provided in the context.\n",
      "        \n",
      "\n",
      "You must return the following fields in your response one below the other:\n",
      "score: Your numerical score for the model's faithfulness based on the rubric\n",
      "justification: Your step-by-step reasoning about the model's faithfulness score\n",
      "    )\n"
     ]
    }
   ],
   "source": [
    "from mlflow.metrics import faithfulness, EvaluationExample\n",
    "\n",
    "# Create a good and bad example for faithfulness in the context of this problem\n",
    "faithfulness_examples = [\n",
    "    EvaluationExample(\n",
    "        input=\"How do I disable MLflow autologging?\",\n",
    "        output=\"mlflow.autolog(disable=True) will disable autologging for all functions. In Databricks, autologging is enabled by default. \",\n",
    "        score=2,\n",
    "        justification=\"The output provides a working solution, using the mlflow.autolog() function that is provided in the context.\",\n",
    "        grading_context={\n",
    "            \"context\": \"mlflow.autolog(log_input_examples: bool = False, log_model_signatures: bool = True, log_models: bool = True, log_datasets: bool = True, disable: bool = False, exclusive: bool = False, disable_for_unsupported_versions: bool = False, silent: bool = False, extra_tags: Optional[Dict[str, str]] = None) → None[source] Enables (or disables) and configures autologging for all supported integrations. The parameters are passed to any autologging integrations that support them. See the tracking docs for a list of supported autologging integrations. Note that framework-specific configurations set at any point will take precedence over any configurations set by this function.\"\n",
    "        },\n",
    "    ),\n",
    "    EvaluationExample(\n",
    "        input=\"How do I disable MLflow autologging?\",\n",
    "        output=\"mlflow.autolog(disable=True) will disable autologging for all functions.\",\n",
    "        score=5,\n",
    "        justification=\"The output provides a solution that is using the mlflow.autolog() function that is provided in the context.\",\n",
    "        grading_context={\n",
    "            \"context\": \"mlflow.autolog(log_input_examples: bool = False, log_model_signatures: bool = True, log_models: bool = True, log_datasets: bool = True, disable: bool = False, exclusive: bool = False, disable_for_unsupported_versions: bool = False, silent: bool = False, extra_tags: Optional[Dict[str, str]] = None) → None[source] Enables (or disables) and configures autologging for all supported integrations. The parameters are passed to any autologging integrations that support them. See the tracking docs for a list of supported autologging integrations. Note that framework-specific configurations set at any point will take precedence over any configurations set by this function.\"\n",
    "        },\n",
    "    ),\n",
    "]\n",
    "\n",
    "faithfulness_metric = faithfulness(model=\"openai:/gpt-4\", examples=faithfulness_examples)\n",
    "print(faithfulness_metric)"
   ]
  },
  {
   "cell_type": "markdown",
   "metadata": {},
   "source": [
    "Create an answer relevance metric"
   ]
  },
  {
   "cell_type": "code",
   "execution_count": 9,
   "metadata": {},
   "outputs": [
    {
     "name": "stdout",
     "output_type": "stream",
     "text": [
      "EvaluationMetric(name=answer_relevance, greater_is_better=True, long_name=answer_relevance, version=v1, metric_details=\n",
      "Task:\n",
      "You are an impartial judge. You will be given an input that was sent to a machine\n",
      "learning model, and you will be given an output that the model produced. You\n",
      "may also be given additional information that was used by the model to generate the output.\n",
      "\n",
      "Your task is to determine a numerical score called answer_relevance based on the input and output.\n",
      "A definition of answer_relevance and a grading rubric are provided below.\n",
      "You must use the grading rubric to determine your score. You must also justify your score.\n",
      "\n",
      "Examples could be included below for reference. Make sure to use them as references and to\n",
      "understand them before completing the task.\n",
      "\n",
      "Input:\n",
      "{input}\n",
      "\n",
      "Output:\n",
      "{output}\n",
      "\n",
      "{grading_context_columns}\n",
      "\n",
      "Metric definition:\n",
      "Answer relevance measures the appropriateness and applicability of the output with respect to the input. Scores should reflect the extent to which the output directly addresses the question provided in the input, and give lower scores for incomplete or redundant output.\n",
      "\n",
      "Grading rubric:\n",
      "Answer relevance: Please give a score from 1-5 based on the degree of relevance to the input, where the lowest and highest scores are defined as follows:- Score 1: the output doesn't mention anything about the question or is completely irrelevant to the input.\n",
      "- Score 5: the output addresses all aspects of the question and all parts of the output are meaningful and relevant to the question.\n",
      "\n",
      "Examples:\n",
      "\n",
      "Input:\n",
      "How is MLflow related to Databricks?\n",
      "\n",
      "Output:\n",
      "Databricks is a company that specializes in big data and machine learning solutions.\n",
      "\n",
      "Additional information used by the model:\n",
      "key: context\n",
      "value:\n",
      "MLflow is an open-source platform for managing the end-to-end machine learning (ML) lifecycle. It was developed by Databricks, a company that specializes in big data and machine learning solutions. MLflow is designed to address the challenges that data scientists and machine learning engineers face when developing, training, and deploying machine learning models.\n",
      "\n",
      "score: 2\n",
      "justification: The output provided by the model does give some information about Databricks, which is part of the input question. However, it does not address the main point of the question, which is the relationship between MLflow and Databricks. Therefore, while the output is not completely irrelevant, it does not fully answer the question, leading to a lower score.\n",
      "        \n",
      "\n",
      "Input:\n",
      "How is MLflow related to Databricks?\n",
      "\n",
      "Output:\n",
      "MLflow is a product created by Databricks to enhance the efficiency of machine learning processes.\n",
      "\n",
      "Additional information used by the model:\n",
      "key: context\n",
      "value:\n",
      "MLflow is an open-source platform for managing the end-to-end machine learning (ML) lifecycle. It was developed by Databricks, a company that specializes in big data and machine learning solutions. MLflow is designed to address the challenges that data scientists and machine learning engineers face when developing, training, and deploying machine learning models.\n",
      "\n",
      "score: 5\n",
      "justification: The output directly addresses the input question by explaining the relationship between MLflow and Databricks. It provides a clear and concise answer that MLflow is a product created by Databricks, and also adds relevant information about the purpose of MLflow, which is to enhance the efficiency of machine learning processes. Therefore, the output is highly relevant to the input and deserves a full score.\n",
      "        \n",
      "\n",
      "You must return the following fields in your response one below the other:\n",
      "score: Your numerical score for the model's answer_relevance based on the rubric\n",
      "justification: Your step-by-step reasoning about the model's answer_relevance score\n",
      "    )\n"
     ]
    }
   ],
   "source": [
    "from mlflow.metrics import answer_relevance, EvaluationExample\n",
    "\n",
    "\n",
    "answer_relevance_metric = answer_relevance(model=\"openai:/gpt-4\")\n",
    "print(answer_relevance_metric)"
   ]
  },
  {
   "cell_type": "code",
   "execution_count": 10,
   "metadata": {
    "application/vnd.databricks.v1+cell": {
     "cellMetadata": {
      "byteLimit": 2048000,
      "rowLimit": 10000
     },
     "inputWidgets": {},
     "nuid": "ea40ce52-6ac7-4c20-9669-d24f80a6cebe",
     "showTitle": false,
     "title": ""
    }
   },
   "outputs": [
    {
     "name": "stderr",
     "output_type": "stream",
     "text": [
      "2023/10/25 16:45:19 INFO mlflow.models.evaluation.base: Evaluating the model with the default evaluator.\n",
      "2023/10/25 16:45:19 INFO mlflow.models.evaluation.default_evaluator: Computing model predictions.\n",
      "Number of requested results 4 is greater than number of elements in index 3, updating n_results = 3\n",
      "Number of requested results 4 is greater than number of elements in index 3, updating n_results = 3\n",
      "Number of requested results 4 is greater than number of elements in index 3, updating n_results = 3\n",
      "Number of requested results 4 is greater than number of elements in index 3, updating n_results = 3\n",
      "Using default facebook/roberta-hate-speech-dynabench-r4-target checkpoint\n",
      "Using pad_token, but it is not set yet.\n"
     ]
    },
    {
     "data": {
      "application/vnd.jupyter.widget-view+json": {
       "model_id": "6fd96bc82f444a67808fa5c63beb59a5",
       "version_major": 2,
       "version_minor": 0
      },
      "text/plain": [
       "  0%|          | 0/1 [00:00<?, ?it/s]"
      ]
     },
     "metadata": {},
     "output_type": "display_data"
    },
    {
     "name": "stderr",
     "output_type": "stream",
     "text": [
      "2023/10/25 16:45:59 INFO mlflow.models.evaluation.default_evaluator: Evaluating builtin metrics: token_count\n",
      "2023/10/25 16:45:59 INFO mlflow.models.evaluation.default_evaluator: Evaluating builtin metrics: toxicity\n",
      "2023/10/25 16:45:59 INFO mlflow.models.evaluation.default_evaluator: Evaluating builtin metrics: perplexity\n",
      "Using pad_token, but it is not set yet.\n"
     ]
    },
    {
     "data": {
      "application/vnd.jupyter.widget-view+json": {
       "model_id": "5043ae4079d24924b0c5ef03e95c4dd0",
       "version_major": 2,
       "version_minor": 0
      },
      "text/plain": [
       "  0%|          | 0/1 [00:00<?, ?it/s]"
      ]
     },
     "metadata": {},
     "output_type": "display_data"
    },
    {
     "name": "stderr",
     "output_type": "stream",
     "text": [
      "2023/10/25 16:46:03 INFO mlflow.models.evaluation.default_evaluator: Evaluating builtin metrics: flesch_kincaid_grade_level\n",
      "2023/10/25 16:46:03 INFO mlflow.models.evaluation.default_evaluator: Evaluating builtin metrics: ari_grade_level\n",
      "2023/10/25 16:46:03 INFO mlflow.models.evaluation.default_evaluator: Evaluating builtin metrics: exact_match\n",
      "2023/10/25 16:46:03 INFO mlflow.models.evaluation.default_evaluator: Evaluating metrics: faithfulness\n",
      "2023/10/25 16:46:10 INFO mlflow.models.evaluation.default_evaluator: Evaluating metrics: answer_relevance\n",
      "2023/10/25 16:46:10 WARNING mlflow.openai.api_request_parallel_processor: Request #0 failed with RateLimitError(message='Rate limit reached for gpt-4 in organization org-n6HsoZWRns6Q46qNiDMiTFU7 on tokens per min. Limit: 10000 / min. Please try again in 6ms. Contact us through our help center at help.openai.com if you continue to have issues.', http_status=429, request_id=None)\n",
      "2023/10/25 16:46:10 WARNING mlflow.openai.api_request_parallel_processor: Request #0 failed with RateLimitError(message='Rate limit reached for gpt-4 in organization org-n6HsoZWRns6Q46qNiDMiTFU7 on tokens per min. Limit: 10000 / min. Please try again in 6ms. Contact us through our help center at help.openai.com if you continue to have issues.', http_status=429, request_id=None)\n",
      "2023/10/25 16:46:10 WARNING mlflow.openai.api_request_parallel_processor: Retrying request 0: APIRequest(index=0, task=<class 'openai.api_resources.chat_completion.ChatCompletion'>, request_json={'model': 'gpt-4', 'temperature': 0.0, 'max_tokens': 200, 'top_p': 1.0, 'messages': [{'role': 'user', 'content': \"\\nTask:\\nYou are an impartial judge. You will be given an input that was sent to a machine\\nlearning model, and you will be given an output that the model produced. You\\nmay also be given additional information that was used by the model to generate the output.\\n\\nYour task is to determine a numerical score called answer_relevance based on the input and output.\\nA definition of answer_relevance and a grading rubric are provided below.\\nYou must use the grading rubric to determine your score. You must also justify your score.\\n\\nExamples could be included below for reference. Make sure to use them as references and to\\nunderstand them before completing the task.\\n\\nInput:\\nHow to log_table()?\\n\\nOutput:\\n log_table() is not a function in MLflow.\\n\\nAdditional information used by the model:\\nkey: context\\nvalue:\\n[Document(page_content='MLflow Documentation — MLflow 2.7.1 documentation\\\\n\\\\n\\\\n2.7.1\\\\n\\\\n\\\\n MLflow\\\\n\\\\nWhat is MLflow?\\\\nQuickstart: Install MLflow, instrument code & view results in minutes\\\\nQuickstart: Compare runs, choose a model, and deploy it to a REST API\\\\nTutorials and Examples\\\\nConcepts\\\\nMLflow Tracking\\\\nMLflow LLM Tracking\\\\nMLflow Projects\\\\nMLflow Models\\\\nMLflow Model Registry\\\\nMLflow Recipes\\\\nMLflow AI Gateway (Experimental)\\\\nPrompt Engineering UI (Experimental)\\\\nMLflow Plugins\\\\nMLflow Authentication\\\\nCommand-Line Interface\\\\nSearch Runs\\\\nSearch Experiments\\\\nPython API\\\\nR API\\\\nJava API\\\\nREST API\\\\nOfficial MLflow Docker Image\\\\nCommunity Model Flavors\\\\n\\\\n\\\\nContribute\\\\n\\\\n\\\\nDocumentation \\\\nMLflow Documentation\\\\n\\\\n\\\\nMLflow Documentation \\\\nMLflow is an open source platform for managing the end-to-end machine learning lifecycle.\\\\nIt tackles four primary functions:', metadata={'language': 'en', 'source': 'https://mlflow.org/docs/latest/index.html', 'title': 'MLflow Documentation — MLflow 2.7.1 documentation'}), Document(page_content='Tracking experiments to record and compare parameters and results (MLflow Tracking).\\\\nPackaging ML code in a reusable, reproducible form in order to share with other data\\\\nscientists or transfer to production (MLflow Projects).\\\\nManaging and deploying models from a variety of ML libraries to a variety of model serving and\\\\ninference platforms (MLflow Models).\\\\nProviding a central model store to collaboratively manage the full lifecycle of an MLflow Model,\\\\nincluding model versioning, stage transitions, and annotations (MLflow Model Registry).\\\\n\\\\nMLflow is library-agnostic. You can use it with any machine learning library, and in any\\\\nprogramming language, since all functions are accessible through a REST API\\\\nand CLI. For convenience, the project also includes a Python API, R API,\\\\nand Java API.\\\\nGet started using the Quickstart: Install MLflow, instrument code & view results in minutes or by reading about the key concepts.', metadata={'language': 'en', 'source': 'https://mlflow.org/docs/latest/index.html', 'title': 'MLflow Documentation — MLflow 2.7.1 documentation'}), Document(page_content='What is MLflow?\\\\nQuickstart: Install MLflow, instrument code & view results in minutes\\\\nQuickstart: Compare runs, choose a model, and deploy it to a REST API\\\\nTutorials and Examples\\\\nConcepts\\\\nMLflow Tracking\\\\nMLflow LLM Tracking\\\\nMLflow Projects\\\\nMLflow Models\\\\nMLflow Model Registry\\\\nMLflow Recipes\\\\nMLflow AI Gateway (Experimental)\\\\nPrompt Engineering UI (Experimental)\\\\nMLflow Plugins\\\\nMLflow Authentication\\\\nCommand-Line Interface\\\\nSearch Runs\\\\nSearch Experiments\\\\nPython API\\\\nR API\\\\nJava API\\\\nREST API\\\\nOfficial MLflow Docker Image\\\\nCommunity Model Flavors\\\\n\\\\nNext \\\\n\\\\n\\\\n          © MLflow Project, a Series of LF Projects, LLC. All rights reserved.', metadata={'language': 'en', 'source': 'https://mlflow.org/docs/latest/index.html', 'title': 'MLflow Documentation — MLflow 2.7.1 documentation'})]\\n\\nMetric definition:\\nAnswer relevance measures the appropriateness and applicability of the output with respect to the input. Scores should reflect the extent to which the output directly addresses the question provided in the input, and give lower scores for incomplete or redundant output.\\n\\nGrading rubric:\\nAnswer relevance: Please give a score from 1-5 based on the degree of relevance to the input, where the lowest and highest scores are defined as follows:- Score 1: the output doesn't mention anything about the question or is completely irrelevant to the input.\\n- Score 5: the output addresses all aspects of the question and all parts of the output are meaningful and relevant to the question.\\n\\nExamples:\\n\\nInput:\\nHow is MLflow related to Databricks?\\n\\nOutput:\\nDatabricks is a company that specializes in big data and machine learning solutions.\\n\\nAdditional information used by the model:\\nkey: context\\nvalue:\\nMLflow is an open-source platform for managing the end-to-end machine learning (ML) lifecycle. It was developed by Databricks, a company that specializes in big data and machine learning solutions. MLflow is designed to address the challenges that data scientists and machine learning engineers face when developing, training, and deploying machine learning models.\\n\\nscore: 2\\njustification: The output provided by the model does give some information about Databricks, which is part of the input question. However, it does not address the main point of the question, which is the relationship between MLflow and Databricks. Therefore, while the output is not completely irrelevant, it does not fully answer the question, leading to a lower score.\\n        \\n\\nInput:\\nHow is MLflow related to Databricks?\\n\\nOutput:\\nMLflow is a product created by Databricks to enhance the efficiency of machine learning processes.\\n\\nAdditional information used by the model:\\nkey: context\\nvalue:\\nMLflow is an open-source platform for managing the end-to-end machine learning (ML) lifecycle. It was developed by Databricks, a company that specializes in big data and machine learning solutions. MLflow is designed to address the challenges that data scientists and machine learning engineers face when developing, training, and deploying machine learning models.\\n\\nscore: 5\\njustification: The output directly addresses the input question by explaining the relationship between MLflow and Databricks. It provides a clear and concise answer that MLflow is a product created by Databricks, and also adds relevant information about the purpose of MLflow, which is to enhance the efficiency of machine learning processes. Therefore, the output is highly relevant to the input and deserves a full score.\\n        \\n\\nYou must return the following fields in your response one below the other:\\nscore: Your numerical score for the model's answer_relevance based on the rubric\\njustification: Your step-by-step reasoning about the model's answer_relevance score\\n    \"}]}, token_consumption=1640, attempts_left=4, results=[])\n",
      "2023/10/25 16:46:10 WARNING mlflow.openai.api_request_parallel_processor: Encountered rate limit error. Pausing to cool down for 14.997617959976196 seconds...\n",
      "2023/10/25 16:46:10 WARNING mlflow.openai.api_request_parallel_processor: Retrying request 0: APIRequest(index=0, task=<class 'openai.api_resources.chat_completion.ChatCompletion'>, request_json={'model': 'gpt-4', 'temperature': 0.0, 'max_tokens': 200, 'top_p': 1.0, 'messages': [{'role': 'user', 'content': \"\\nTask:\\nYou are an impartial judge. You will be given an input that was sent to a machine\\nlearning model, and you will be given an output that the model produced. You\\nmay also be given additional information that was used by the model to generate the output.\\n\\nYour task is to determine a numerical score called answer_relevance based on the input and output.\\nA definition of answer_relevance and a grading rubric are provided below.\\nYou must use the grading rubric to determine your score. You must also justify your score.\\n\\nExamples could be included below for reference. Make sure to use them as references and to\\nunderstand them before completing the task.\\n\\nInput:\\nWhat is MLflow?\\n\\nOutput:\\n MLflow is an open source platform for managing the end-to-end machine learning lifecycle. It tackles four primary functions: Tracking experiments to record and compare parameters and results (MLflow Tracking); Packaging ML code in a reusable, reproducible form in order to share with other data scientists or transfer to production (MLflow Projects); Managing and deploying models from a variety of ML libraries to a variety of model serving and inference platforms (MLflow Models); and Providing a central model store to collaboratively manage the full lifecycle of an MLflow Model, including model versioning, stage transitions, and annotations (MLflow Model Registry). MLflow is library-agnostic. You can use it with any machine learning library, and in any programming language, since all functions are accessible through a REST API and CLI. For convenience, the project also includes a Python API, R API, and Java API.\\n\\nAdditional information used by the model:\\nkey: context\\nvalue:\\n[Document(page_content='What is MLflow?\\\\nQuickstart: Install MLflow, instrument code & view results in minutes\\\\nQuickstart: Compare runs, choose a model, and deploy it to a REST API\\\\nTutorials and Examples\\\\nConcepts\\\\nMLflow Tracking\\\\nMLflow LLM Tracking\\\\nMLflow Projects\\\\nMLflow Models\\\\nMLflow Model Registry\\\\nMLflow Recipes\\\\nMLflow AI Gateway (Experimental)\\\\nPrompt Engineering UI (Experimental)\\\\nMLflow Plugins\\\\nMLflow Authentication\\\\nCommand-Line Interface\\\\nSearch Runs\\\\nSearch Experiments\\\\nPython API\\\\nR API\\\\nJava API\\\\nREST API\\\\nOfficial MLflow Docker Image\\\\nCommunity Model Flavors\\\\n\\\\nNext \\\\n\\\\n\\\\n          © MLflow Project, a Series of LF Projects, LLC. All rights reserved.', metadata={'language': 'en', 'source': 'https://mlflow.org/docs/latest/index.html', 'title': 'MLflow Documentation — MLflow 2.7.1 documentation'}), Document(page_content='Tracking experiments to record and compare parameters and results (MLflow Tracking).\\\\nPackaging ML code in a reusable, reproducible form in order to share with other data\\\\nscientists or transfer to production (MLflow Projects).\\\\nManaging and deploying models from a variety of ML libraries to a variety of model serving and\\\\ninference platforms (MLflow Models).\\\\nProviding a central model store to collaboratively manage the full lifecycle of an MLflow Model,\\\\nincluding model versioning, stage transitions, and annotations (MLflow Model Registry).\\\\n\\\\nMLflow is library-agnostic. You can use it with any machine learning library, and in any\\\\nprogramming language, since all functions are accessible through a REST API\\\\nand CLI. For convenience, the project also includes a Python API, R API,\\\\nand Java API.\\\\nGet started using the Quickstart: Install MLflow, instrument code & view results in minutes or by reading about the key concepts.', metadata={'language': 'en', 'source': 'https://mlflow.org/docs/latest/index.html', 'title': 'MLflow Documentation — MLflow 2.7.1 documentation'}), Document(page_content='MLflow Documentation — MLflow 2.7.1 documentation\\\\n\\\\n\\\\n2.7.1\\\\n\\\\n\\\\n MLflow\\\\n\\\\nWhat is MLflow?\\\\nQuickstart: Install MLflow, instrument code & view results in minutes\\\\nQuickstart: Compare runs, choose a model, and deploy it to a REST API\\\\nTutorials and Examples\\\\nConcepts\\\\nMLflow Tracking\\\\nMLflow LLM Tracking\\\\nMLflow Projects\\\\nMLflow Models\\\\nMLflow Model Registry\\\\nMLflow Recipes\\\\nMLflow AI Gateway (Experimental)\\\\nPrompt Engineering UI (Experimental)\\\\nMLflow Plugins\\\\nMLflow Authentication\\\\nCommand-Line Interface\\\\nSearch Runs\\\\nSearch Experiments\\\\nPython API\\\\nR API\\\\nJava API\\\\nREST API\\\\nOfficial MLflow Docker Image\\\\nCommunity Model Flavors\\\\n\\\\n\\\\nContribute\\\\n\\\\n\\\\nDocumentation \\\\nMLflow Documentation\\\\n\\\\n\\\\nMLflow Documentation \\\\nMLflow is an open source platform for managing the end-to-end machine learning lifecycle.\\\\nIt tackles four primary functions:', metadata={'language': 'en', 'source': 'https://mlflow.org/docs/latest/index.html', 'title': 'MLflow Documentation — MLflow 2.7.1 documentation'})]\\n\\nMetric definition:\\nAnswer relevance measures the appropriateness and applicability of the output with respect to the input. Scores should reflect the extent to which the output directly addresses the question provided in the input, and give lower scores for incomplete or redundant output.\\n\\nGrading rubric:\\nAnswer relevance: Please give a score from 1-5 based on the degree of relevance to the input, where the lowest and highest scores are defined as follows:- Score 1: the output doesn't mention anything about the question or is completely irrelevant to the input.\\n- Score 5: the output addresses all aspects of the question and all parts of the output are meaningful and relevant to the question.\\n\\nExamples:\\n\\nInput:\\nHow is MLflow related to Databricks?\\n\\nOutput:\\nDatabricks is a company that specializes in big data and machine learning solutions.\\n\\nAdditional information used by the model:\\nkey: context\\nvalue:\\nMLflow is an open-source platform for managing the end-to-end machine learning (ML) lifecycle. It was developed by Databricks, a company that specializes in big data and machine learning solutions. MLflow is designed to address the challenges that data scientists and machine learning engineers face when developing, training, and deploying machine learning models.\\n\\nscore: 2\\njustification: The output provided by the model does give some information about Databricks, which is part of the input question. However, it does not address the main point of the question, which is the relationship between MLflow and Databricks. Therefore, while the output is not completely irrelevant, it does not fully answer the question, leading to a lower score.\\n        \\n\\nInput:\\nHow is MLflow related to Databricks?\\n\\nOutput:\\nMLflow is a product created by Databricks to enhance the efficiency of machine learning processes.\\n\\nAdditional information used by the model:\\nkey: context\\nvalue:\\nMLflow is an open-source platform for managing the end-to-end machine learning (ML) lifecycle. It was developed by Databricks, a company that specializes in big data and machine learning solutions. MLflow is designed to address the challenges that data scientists and machine learning engineers face when developing, training, and deploying machine learning models.\\n\\nscore: 5\\njustification: The output directly addresses the input question by explaining the relationship between MLflow and Databricks. It provides a clear and concise answer that MLflow is a product created by Databricks, and also adds relevant information about the purpose of MLflow, which is to enhance the efficiency of machine learning processes. Therefore, the output is highly relevant to the input and deserves a full score.\\n        \\n\\nYou must return the following fields in your response one below the other:\\nscore: Your numerical score for the model's answer_relevance based on the rubric\\njustification: Your step-by-step reasoning about the model's answer_relevance score\\n    \"}]}, token_consumption=1804, attempts_left=4, results=[])\n",
      "2023/10/25 16:46:10 WARNING mlflow.openai.api_request_parallel_processor: Encountered rate limit error. Pausing to cool down for 14.997935056686401 seconds...\n",
      "2023/10/25 16:46:10 WARNING mlflow.openai.api_request_parallel_processor: Request #0 failed with RateLimitError(message='Rate limit reached for gpt-4 in organization org-n6HsoZWRns6Q46qNiDMiTFU7 on tokens per min. Limit: 10000 / min. Please try again in 6ms. Contact us through our help center at help.openai.com if you continue to have issues.', http_status=429, request_id=None)\n",
      "2023/10/25 16:46:10 WARNING mlflow.openai.api_request_parallel_processor: Retrying request 0: APIRequest(index=0, task=<class 'openai.api_resources.chat_completion.ChatCompletion'>, request_json={'model': 'gpt-4', 'temperature': 0.0, 'max_tokens': 200, 'top_p': 1.0, 'messages': [{'role': 'user', 'content': \"\\nTask:\\nYou are an impartial judge. You will be given an input that was sent to a machine\\nlearning model, and you will be given an output that the model produced. You\\nmay also be given additional information that was used by the model to generate the output.\\n\\nYour task is to determine a numerical score called answer_relevance based on the input and output.\\nA definition of answer_relevance and a grading rubric are provided below.\\nYou must use the grading rubric to determine your score. You must also justify your score.\\n\\nExamples could be included below for reference. Make sure to use them as references and to\\nunderstand them before completing the task.\\n\\nInput:\\nHow to load_table()?\\n\\nOutput:\\n load_table() is not a function in MLflow.\\n\\nAdditional information used by the model:\\nkey: context\\nvalue:\\n[Document(page_content='What is MLflow?\\\\nQuickstart: Install MLflow, instrument code & view results in minutes\\\\nQuickstart: Compare runs, choose a model, and deploy it to a REST API\\\\nTutorials and Examples\\\\nConcepts\\\\nMLflow Tracking\\\\nMLflow LLM Tracking\\\\nMLflow Projects\\\\nMLflow Models\\\\nMLflow Model Registry\\\\nMLflow Recipes\\\\nMLflow AI Gateway (Experimental)\\\\nPrompt Engineering UI (Experimental)\\\\nMLflow Plugins\\\\nMLflow Authentication\\\\nCommand-Line Interface\\\\nSearch Runs\\\\nSearch Experiments\\\\nPython API\\\\nR API\\\\nJava API\\\\nREST API\\\\nOfficial MLflow Docker Image\\\\nCommunity Model Flavors\\\\n\\\\nNext \\\\n\\\\n\\\\n          © MLflow Project, a Series of LF Projects, LLC. All rights reserved.', metadata={'language': 'en', 'source': 'https://mlflow.org/docs/latest/index.html', 'title': 'MLflow Documentation — MLflow 2.7.1 documentation'}), Document(page_content='MLflow Documentation — MLflow 2.7.1 documentation\\\\n\\\\n\\\\n2.7.1\\\\n\\\\n\\\\n MLflow\\\\n\\\\nWhat is MLflow?\\\\nQuickstart: Install MLflow, instrument code & view results in minutes\\\\nQuickstart: Compare runs, choose a model, and deploy it to a REST API\\\\nTutorials and Examples\\\\nConcepts\\\\nMLflow Tracking\\\\nMLflow LLM Tracking\\\\nMLflow Projects\\\\nMLflow Models\\\\nMLflow Model Registry\\\\nMLflow Recipes\\\\nMLflow AI Gateway (Experimental)\\\\nPrompt Engineering UI (Experimental)\\\\nMLflow Plugins\\\\nMLflow Authentication\\\\nCommand-Line Interface\\\\nSearch Runs\\\\nSearch Experiments\\\\nPython API\\\\nR API\\\\nJava API\\\\nREST API\\\\nOfficial MLflow Docker Image\\\\nCommunity Model Flavors\\\\n\\\\n\\\\nContribute\\\\n\\\\n\\\\nDocumentation \\\\nMLflow Documentation\\\\n\\\\n\\\\nMLflow Documentation \\\\nMLflow is an open source platform for managing the end-to-end machine learning lifecycle.\\\\nIt tackles four primary functions:', metadata={'language': 'en', 'source': 'https://mlflow.org/docs/latest/index.html', 'title': 'MLflow Documentation — MLflow 2.7.1 documentation'}), Document(page_content='Tracking experiments to record and compare parameters and results (MLflow Tracking).\\\\nPackaging ML code in a reusable, reproducible form in order to share with other data\\\\nscientists or transfer to production (MLflow Projects).\\\\nManaging and deploying models from a variety of ML libraries to a variety of model serving and\\\\ninference platforms (MLflow Models).\\\\nProviding a central model store to collaboratively manage the full lifecycle of an MLflow Model,\\\\nincluding model versioning, stage transitions, and annotations (MLflow Model Registry).\\\\n\\\\nMLflow is library-agnostic. You can use it with any machine learning library, and in any\\\\nprogramming language, since all functions are accessible through a REST API\\\\nand CLI. For convenience, the project also includes a Python API, R API,\\\\nand Java API.\\\\nGet started using the Quickstart: Install MLflow, instrument code & view results in minutes or by reading about the key concepts.', metadata={'language': 'en', 'source': 'https://mlflow.org/docs/latest/index.html', 'title': 'MLflow Documentation — MLflow 2.7.1 documentation'})]\\n\\nMetric definition:\\nAnswer relevance measures the appropriateness and applicability of the output with respect to the input. Scores should reflect the extent to which the output directly addresses the question provided in the input, and give lower scores for incomplete or redundant output.\\n\\nGrading rubric:\\nAnswer relevance: Please give a score from 1-5 based on the degree of relevance to the input, where the lowest and highest scores are defined as follows:- Score 1: the output doesn't mention anything about the question or is completely irrelevant to the input.\\n- Score 5: the output addresses all aspects of the question and all parts of the output are meaningful and relevant to the question.\\n\\nExamples:\\n\\nInput:\\nHow is MLflow related to Databricks?\\n\\nOutput:\\nDatabricks is a company that specializes in big data and machine learning solutions.\\n\\nAdditional information used by the model:\\nkey: context\\nvalue:\\nMLflow is an open-source platform for managing the end-to-end machine learning (ML) lifecycle. It was developed by Databricks, a company that specializes in big data and machine learning solutions. MLflow is designed to address the challenges that data scientists and machine learning engineers face when developing, training, and deploying machine learning models.\\n\\nscore: 2\\njustification: The output provided by the model does give some information about Databricks, which is part of the input question. However, it does not address the main point of the question, which is the relationship between MLflow and Databricks. Therefore, while the output is not completely irrelevant, it does not fully answer the question, leading to a lower score.\\n        \\n\\nInput:\\nHow is MLflow related to Databricks?\\n\\nOutput:\\nMLflow is a product created by Databricks to enhance the efficiency of machine learning processes.\\n\\nAdditional information used by the model:\\nkey: context\\nvalue:\\nMLflow is an open-source platform for managing the end-to-end machine learning (ML) lifecycle. It was developed by Databricks, a company that specializes in big data and machine learning solutions. MLflow is designed to address the challenges that data scientists and machine learning engineers face when developing, training, and deploying machine learning models.\\n\\nscore: 5\\njustification: The output directly addresses the input question by explaining the relationship between MLflow and Databricks. It provides a clear and concise answer that MLflow is a product created by Databricks, and also adds relevant information about the purpose of MLflow, which is to enhance the efficiency of machine learning processes. Therefore, the output is highly relevant to the input and deserves a full score.\\n        \\n\\nYou must return the following fields in your response one below the other:\\nscore: Your numerical score for the model's answer_relevance based on the rubric\\njustification: Your step-by-step reasoning about the model's answer_relevance score\\n    \"}]}, token_consumption=1640, attempts_left=4, results=[])\n",
      "2023/10/25 16:46:10 WARNING mlflow.openai.api_request_parallel_processor: Encountered rate limit error. Pausing to cool down for 14.99854588508606 seconds...\n",
      "2023/10/25 16:46:10 WARNING mlflow.openai.api_request_parallel_processor: Request #0 failed with RateLimitError(message='Rate limit reached for gpt-4 in organization org-n6HsoZWRns6Q46qNiDMiTFU7 on tokens per min. Limit: 10000 / min. Please try again in 6ms. Contact us through our help center at help.openai.com if you continue to have issues.', http_status=429, request_id=None)\n",
      "2023/10/25 16:46:10 WARNING mlflow.openai.api_request_parallel_processor: Retrying request 0: APIRequest(index=0, task=<class 'openai.api_resources.chat_completion.ChatCompletion'>, request_json={'model': 'gpt-4', 'temperature': 0.0, 'max_tokens': 200, 'top_p': 1.0, 'messages': [{'role': 'user', 'content': \"\\nTask:\\nYou are an impartial judge. You will be given an input that was sent to a machine\\nlearning model, and you will be given an output that the model produced. You\\nmay also be given additional information that was used by the model to generate the output.\\n\\nYour task is to determine a numerical score called answer_relevance based on the input and output.\\nA definition of answer_relevance and a grading rubric are provided below.\\nYou must use the grading rubric to determine your score. You must also justify your score.\\n\\nExamples could be included below for reference. Make sure to use them as references and to\\nunderstand them before completing the task.\\n\\nInput:\\nHow to run Mlflow.evalaute()?\\n\\nOutput:\\n You can use the Mlflow.evaluate() function to evaluate a model's performance. This function takes in a model, a dataset, and a list of metrics to evaluate the model on. It returns a dictionary of metric names and values.\\n\\nAdditional information used by the model:\\nkey: context\\nvalue:\\n[Document(page_content='Tracking experiments to record and compare parameters and results (MLflow Tracking).\\\\nPackaging ML code in a reusable, reproducible form in order to share with other data\\\\nscientists or transfer to production (MLflow Projects).\\\\nManaging and deploying models from a variety of ML libraries to a variety of model serving and\\\\ninference platforms (MLflow Models).\\\\nProviding a central model store to collaboratively manage the full lifecycle of an MLflow Model,\\\\nincluding model versioning, stage transitions, and annotations (MLflow Model Registry).\\\\n\\\\nMLflow is library-agnostic. You can use it with any machine learning library, and in any\\\\nprogramming language, since all functions are accessible through a REST API\\\\nand CLI. For convenience, the project also includes a Python API, R API,\\\\nand Java API.\\\\nGet started using the Quickstart: Install MLflow, instrument code & view results in minutes or by reading about the key concepts.', metadata={'language': 'en', 'source': 'https://mlflow.org/docs/latest/index.html', 'title': 'MLflow Documentation — MLflow 2.7.1 documentation'}), Document(page_content='What is MLflow?\\\\nQuickstart: Install MLflow, instrument code & view results in minutes\\\\nQuickstart: Compare runs, choose a model, and deploy it to a REST API\\\\nTutorials and Examples\\\\nConcepts\\\\nMLflow Tracking\\\\nMLflow LLM Tracking\\\\nMLflow Projects\\\\nMLflow Models\\\\nMLflow Model Registry\\\\nMLflow Recipes\\\\nMLflow AI Gateway (Experimental)\\\\nPrompt Engineering UI (Experimental)\\\\nMLflow Plugins\\\\nMLflow Authentication\\\\nCommand-Line Interface\\\\nSearch Runs\\\\nSearch Experiments\\\\nPython API\\\\nR API\\\\nJava API\\\\nREST API\\\\nOfficial MLflow Docker Image\\\\nCommunity Model Flavors\\\\n\\\\nNext \\\\n\\\\n\\\\n          © MLflow Project, a Series of LF Projects, LLC. All rights reserved.', metadata={'language': 'en', 'source': 'https://mlflow.org/docs/latest/index.html', 'title': 'MLflow Documentation — MLflow 2.7.1 documentation'}), Document(page_content='MLflow Documentation — MLflow 2.7.1 documentation\\\\n\\\\n\\\\n2.7.1\\\\n\\\\n\\\\n MLflow\\\\n\\\\nWhat is MLflow?\\\\nQuickstart: Install MLflow, instrument code & view results in minutes\\\\nQuickstart: Compare runs, choose a model, and deploy it to a REST API\\\\nTutorials and Examples\\\\nConcepts\\\\nMLflow Tracking\\\\nMLflow LLM Tracking\\\\nMLflow Projects\\\\nMLflow Models\\\\nMLflow Model Registry\\\\nMLflow Recipes\\\\nMLflow AI Gateway (Experimental)\\\\nPrompt Engineering UI (Experimental)\\\\nMLflow Plugins\\\\nMLflow Authentication\\\\nCommand-Line Interface\\\\nSearch Runs\\\\nSearch Experiments\\\\nPython API\\\\nR API\\\\nJava API\\\\nREST API\\\\nOfficial MLflow Docker Image\\\\nCommunity Model Flavors\\\\n\\\\n\\\\nContribute\\\\n\\\\n\\\\nDocumentation \\\\nMLflow Documentation\\\\n\\\\n\\\\nMLflow Documentation \\\\nMLflow is an open source platform for managing the end-to-end machine learning lifecycle.\\\\nIt tackles four primary functions:', metadata={'language': 'en', 'source': 'https://mlflow.org/docs/latest/index.html', 'title': 'MLflow Documentation — MLflow 2.7.1 documentation'})]\\n\\nMetric definition:\\nAnswer relevance measures the appropriateness and applicability of the output with respect to the input. Scores should reflect the extent to which the output directly addresses the question provided in the input, and give lower scores for incomplete or redundant output.\\n\\nGrading rubric:\\nAnswer relevance: Please give a score from 1-5 based on the degree of relevance to the input, where the lowest and highest scores are defined as follows:- Score 1: the output doesn't mention anything about the question or is completely irrelevant to the input.\\n- Score 5: the output addresses all aspects of the question and all parts of the output are meaningful and relevant to the question.\\n\\nExamples:\\n\\nInput:\\nHow is MLflow related to Databricks?\\n\\nOutput:\\nDatabricks is a company that specializes in big data and machine learning solutions.\\n\\nAdditional information used by the model:\\nkey: context\\nvalue:\\nMLflow is an open-source platform for managing the end-to-end machine learning (ML) lifecycle. It was developed by Databricks, a company that specializes in big data and machine learning solutions. MLflow is designed to address the challenges that data scientists and machine learning engineers face when developing, training, and deploying machine learning models.\\n\\nscore: 2\\njustification: The output provided by the model does give some information about Databricks, which is part of the input question. However, it does not address the main point of the question, which is the relationship between MLflow and Databricks. Therefore, while the output is not completely irrelevant, it does not fully answer the question, leading to a lower score.\\n        \\n\\nInput:\\nHow is MLflow related to Databricks?\\n\\nOutput:\\nMLflow is a product created by Databricks to enhance the efficiency of machine learning processes.\\n\\nAdditional information used by the model:\\nkey: context\\nvalue:\\nMLflow is an open-source platform for managing the end-to-end machine learning (ML) lifecycle. It was developed by Databricks, a company that specializes in big data and machine learning solutions. MLflow is designed to address the challenges that data scientists and machine learning engineers face when developing, training, and deploying machine learning models.\\n\\nscore: 5\\njustification: The output directly addresses the input question by explaining the relationship between MLflow and Databricks. It provides a clear and concise answer that MLflow is a product created by Databricks, and also adds relevant information about the purpose of MLflow, which is to enhance the efficiency of machine learning processes. Therefore, the output is highly relevant to the input and deserves a full score.\\n        \\n\\nYou must return the following fields in your response one below the other:\\nscore: Your numerical score for the model's answer_relevance based on the rubric\\njustification: Your step-by-step reasoning about the model's answer_relevance score\\n    \"}]}, token_consumption=1682, attempts_left=4, results=[])\n",
      "2023/10/25 16:46:10 WARNING mlflow.openai.api_request_parallel_processor: Encountered rate limit error. Pausing to cool down for 14.998249053955078 seconds...\n",
      "2023/10/25 16:46:10 WARNING mlflow.openai.api_request_parallel_processor: Request #0 failed with RateLimitError(message='Rate limit reached for gpt-4 in organization org-n6HsoZWRns6Q46qNiDMiTFU7 on tokens per min. Limit: 10000 / min. Please try again in 6ms. Contact us through our help center at help.openai.com if you continue to have issues.', http_status=429, request_id=None)\n",
      "2023/10/25 16:46:10 WARNING mlflow.openai.api_request_parallel_processor: Request #0 failed with RateLimitError(message='Rate limit reached for gpt-4 in organization org-n6HsoZWRns6Q46qNiDMiTFU7 on tokens per min. Limit: 10000 / min. Please try again in 6ms. Contact us through our help center at help.openai.com if you continue to have issues.', http_status=429, request_id=None)\n",
      "2023/10/25 16:46:10 WARNING mlflow.openai.api_request_parallel_processor: Request #0 failed with RateLimitError(message='Rate limit reached for gpt-4 in organization org-n6HsoZWRns6Q46qNiDMiTFU7 on tokens per min. Limit: 10000 / min. Please try again in 6ms. Contact us through our help center at help.openai.com if you continue to have issues.', http_status=429, request_id=None)\n",
      "2023/10/25 16:46:10 WARNING mlflow.openai.api_request_parallel_processor: Request #0 failed with RateLimitError(message='Rate limit reached for gpt-4 in organization org-n6HsoZWRns6Q46qNiDMiTFU7 on tokens per min. Limit: 10000 / min. Please try again in 6ms. Contact us through our help center at help.openai.com if you continue to have issues.', http_status=429, request_id=None)\n",
      "2023/10/25 16:46:25 WARNING mlflow.openai.api_request_parallel_processor: Retrying request 0: APIRequest(index=0, task=<class 'openai.api_resources.chat_completion.ChatCompletion'>, request_json={'model': 'gpt-4', 'temperature': 0.0, 'max_tokens': 200, 'top_p': 1.0, 'messages': [{'role': 'user', 'content': \"\\nTask:\\nYou are an impartial judge. You will be given an input that was sent to a machine\\nlearning model, and you will be given an output that the model produced. You\\nmay also be given additional information that was used by the model to generate the output.\\n\\nYour task is to determine a numerical score called answer_relevance based on the input and output.\\nA definition of answer_relevance and a grading rubric are provided below.\\nYou must use the grading rubric to determine your score. You must also justify your score.\\n\\nExamples could be included below for reference. Make sure to use them as references and to\\nunderstand them before completing the task.\\n\\nInput:\\nHow to log_table()?\\n\\nOutput:\\n log_table() is not a function in MLflow.\\n\\nAdditional information used by the model:\\nkey: context\\nvalue:\\n[Document(page_content='MLflow Documentation — MLflow 2.7.1 documentation\\\\n\\\\n\\\\n2.7.1\\\\n\\\\n\\\\n MLflow\\\\n\\\\nWhat is MLflow?\\\\nQuickstart: Install MLflow, instrument code & view results in minutes\\\\nQuickstart: Compare runs, choose a model, and deploy it to a REST API\\\\nTutorials and Examples\\\\nConcepts\\\\nMLflow Tracking\\\\nMLflow LLM Tracking\\\\nMLflow Projects\\\\nMLflow Models\\\\nMLflow Model Registry\\\\nMLflow Recipes\\\\nMLflow AI Gateway (Experimental)\\\\nPrompt Engineering UI (Experimental)\\\\nMLflow Plugins\\\\nMLflow Authentication\\\\nCommand-Line Interface\\\\nSearch Runs\\\\nSearch Experiments\\\\nPython API\\\\nR API\\\\nJava API\\\\nREST API\\\\nOfficial MLflow Docker Image\\\\nCommunity Model Flavors\\\\n\\\\n\\\\nContribute\\\\n\\\\n\\\\nDocumentation \\\\nMLflow Documentation\\\\n\\\\n\\\\nMLflow Documentation \\\\nMLflow is an open source platform for managing the end-to-end machine learning lifecycle.\\\\nIt tackles four primary functions:', metadata={'language': 'en', 'source': 'https://mlflow.org/docs/latest/index.html', 'title': 'MLflow Documentation — MLflow 2.7.1 documentation'}), Document(page_content='Tracking experiments to record and compare parameters and results (MLflow Tracking).\\\\nPackaging ML code in a reusable, reproducible form in order to share with other data\\\\nscientists or transfer to production (MLflow Projects).\\\\nManaging and deploying models from a variety of ML libraries to a variety of model serving and\\\\ninference platforms (MLflow Models).\\\\nProviding a central model store to collaboratively manage the full lifecycle of an MLflow Model,\\\\nincluding model versioning, stage transitions, and annotations (MLflow Model Registry).\\\\n\\\\nMLflow is library-agnostic. You can use it with any machine learning library, and in any\\\\nprogramming language, since all functions are accessible through a REST API\\\\nand CLI. For convenience, the project also includes a Python API, R API,\\\\nand Java API.\\\\nGet started using the Quickstart: Install MLflow, instrument code & view results in minutes or by reading about the key concepts.', metadata={'language': 'en', 'source': 'https://mlflow.org/docs/latest/index.html', 'title': 'MLflow Documentation — MLflow 2.7.1 documentation'}), Document(page_content='What is MLflow?\\\\nQuickstart: Install MLflow, instrument code & view results in minutes\\\\nQuickstart: Compare runs, choose a model, and deploy it to a REST API\\\\nTutorials and Examples\\\\nConcepts\\\\nMLflow Tracking\\\\nMLflow LLM Tracking\\\\nMLflow Projects\\\\nMLflow Models\\\\nMLflow Model Registry\\\\nMLflow Recipes\\\\nMLflow AI Gateway (Experimental)\\\\nPrompt Engineering UI (Experimental)\\\\nMLflow Plugins\\\\nMLflow Authentication\\\\nCommand-Line Interface\\\\nSearch Runs\\\\nSearch Experiments\\\\nPython API\\\\nR API\\\\nJava API\\\\nREST API\\\\nOfficial MLflow Docker Image\\\\nCommunity Model Flavors\\\\n\\\\nNext \\\\n\\\\n\\\\n          © MLflow Project, a Series of LF Projects, LLC. All rights reserved.', metadata={'language': 'en', 'source': 'https://mlflow.org/docs/latest/index.html', 'title': 'MLflow Documentation — MLflow 2.7.1 documentation'})]\\n\\nMetric definition:\\nAnswer relevance measures the appropriateness and applicability of the output with respect to the input. Scores should reflect the extent to which the output directly addresses the question provided in the input, and give lower scores for incomplete or redundant output.\\n\\nGrading rubric:\\nAnswer relevance: Please give a score from 1-5 based on the degree of relevance to the input, where the lowest and highest scores are defined as follows:- Score 1: the output doesn't mention anything about the question or is completely irrelevant to the input.\\n- Score 5: the output addresses all aspects of the question and all parts of the output are meaningful and relevant to the question.\\n\\nExamples:\\n\\nInput:\\nHow is MLflow related to Databricks?\\n\\nOutput:\\nDatabricks is a company that specializes in big data and machine learning solutions.\\n\\nAdditional information used by the model:\\nkey: context\\nvalue:\\nMLflow is an open-source platform for managing the end-to-end machine learning (ML) lifecycle. It was developed by Databricks, a company that specializes in big data and machine learning solutions. MLflow is designed to address the challenges that data scientists and machine learning engineers face when developing, training, and deploying machine learning models.\\n\\nscore: 2\\njustification: The output provided by the model does give some information about Databricks, which is part of the input question. However, it does not address the main point of the question, which is the relationship between MLflow and Databricks. Therefore, while the output is not completely irrelevant, it does not fully answer the question, leading to a lower score.\\n        \\n\\nInput:\\nHow is MLflow related to Databricks?\\n\\nOutput:\\nMLflow is a product created by Databricks to enhance the efficiency of machine learning processes.\\n\\nAdditional information used by the model:\\nkey: context\\nvalue:\\nMLflow is an open-source platform for managing the end-to-end machine learning (ML) lifecycle. It was developed by Databricks, a company that specializes in big data and machine learning solutions. MLflow is designed to address the challenges that data scientists and machine learning engineers face when developing, training, and deploying machine learning models.\\n\\nscore: 5\\njustification: The output directly addresses the input question by explaining the relationship between MLflow and Databricks. It provides a clear and concise answer that MLflow is a product created by Databricks, and also adds relevant information about the purpose of MLflow, which is to enhance the efficiency of machine learning processes. Therefore, the output is highly relevant to the input and deserves a full score.\\n        \\n\\nYou must return the following fields in your response one below the other:\\nscore: Your numerical score for the model's answer_relevance based on the rubric\\njustification: Your step-by-step reasoning about the model's answer_relevance score\\n    \"}]}, token_consumption=1640, attempts_left=3, results=[])\n",
      "2023/10/25 16:46:25 WARNING mlflow.openai.api_request_parallel_processor: Encountered rate limit error. Pausing to cool down for 0.07660531997680664 seconds...\n",
      "2023/10/25 16:46:25 WARNING mlflow.openai.api_request_parallel_processor: Retrying request 0: APIRequest(index=0, task=<class 'openai.api_resources.chat_completion.ChatCompletion'>, request_json={'model': 'gpt-4', 'temperature': 0.0, 'max_tokens': 200, 'top_p': 1.0, 'messages': [{'role': 'user', 'content': \"\\nTask:\\nYou are an impartial judge. You will be given an input that was sent to a machine\\nlearning model, and you will be given an output that the model produced. You\\nmay also be given additional information that was used by the model to generate the output.\\n\\nYour task is to determine a numerical score called answer_relevance based on the input and output.\\nA definition of answer_relevance and a grading rubric are provided below.\\nYou must use the grading rubric to determine your score. You must also justify your score.\\n\\nExamples could be included below for reference. Make sure to use them as references and to\\nunderstand them before completing the task.\\n\\nInput:\\nWhat is MLflow?\\n\\nOutput:\\n MLflow is an open source platform for managing the end-to-end machine learning lifecycle. It tackles four primary functions: Tracking experiments to record and compare parameters and results (MLflow Tracking); Packaging ML code in a reusable, reproducible form in order to share with other data scientists or transfer to production (MLflow Projects); Managing and deploying models from a variety of ML libraries to a variety of model serving and inference platforms (MLflow Models); and Providing a central model store to collaboratively manage the full lifecycle of an MLflow Model, including model versioning, stage transitions, and annotations (MLflow Model Registry). MLflow is library-agnostic. You can use it with any machine learning library, and in any programming language, since all functions are accessible through a REST API and CLI. For convenience, the project also includes a Python API, R API, and Java API.\\n\\nAdditional information used by the model:\\nkey: context\\nvalue:\\n[Document(page_content='What is MLflow?\\\\nQuickstart: Install MLflow, instrument code & view results in minutes\\\\nQuickstart: Compare runs, choose a model, and deploy it to a REST API\\\\nTutorials and Examples\\\\nConcepts\\\\nMLflow Tracking\\\\nMLflow LLM Tracking\\\\nMLflow Projects\\\\nMLflow Models\\\\nMLflow Model Registry\\\\nMLflow Recipes\\\\nMLflow AI Gateway (Experimental)\\\\nPrompt Engineering UI (Experimental)\\\\nMLflow Plugins\\\\nMLflow Authentication\\\\nCommand-Line Interface\\\\nSearch Runs\\\\nSearch Experiments\\\\nPython API\\\\nR API\\\\nJava API\\\\nREST API\\\\nOfficial MLflow Docker Image\\\\nCommunity Model Flavors\\\\n\\\\nNext \\\\n\\\\n\\\\n          © MLflow Project, a Series of LF Projects, LLC. All rights reserved.', metadata={'language': 'en', 'source': 'https://mlflow.org/docs/latest/index.html', 'title': 'MLflow Documentation — MLflow 2.7.1 documentation'}), Document(page_content='Tracking experiments to record and compare parameters and results (MLflow Tracking).\\\\nPackaging ML code in a reusable, reproducible form in order to share with other data\\\\nscientists or transfer to production (MLflow Projects).\\\\nManaging and deploying models from a variety of ML libraries to a variety of model serving and\\\\ninference platforms (MLflow Models).\\\\nProviding a central model store to collaboratively manage the full lifecycle of an MLflow Model,\\\\nincluding model versioning, stage transitions, and annotations (MLflow Model Registry).\\\\n\\\\nMLflow is library-agnostic. You can use it with any machine learning library, and in any\\\\nprogramming language, since all functions are accessible through a REST API\\\\nand CLI. For convenience, the project also includes a Python API, R API,\\\\nand Java API.\\\\nGet started using the Quickstart: Install MLflow, instrument code & view results in minutes or by reading about the key concepts.', metadata={'language': 'en', 'source': 'https://mlflow.org/docs/latest/index.html', 'title': 'MLflow Documentation — MLflow 2.7.1 documentation'}), Document(page_content='MLflow Documentation — MLflow 2.7.1 documentation\\\\n\\\\n\\\\n2.7.1\\\\n\\\\n\\\\n MLflow\\\\n\\\\nWhat is MLflow?\\\\nQuickstart: Install MLflow, instrument code & view results in minutes\\\\nQuickstart: Compare runs, choose a model, and deploy it to a REST API\\\\nTutorials and Examples\\\\nConcepts\\\\nMLflow Tracking\\\\nMLflow LLM Tracking\\\\nMLflow Projects\\\\nMLflow Models\\\\nMLflow Model Registry\\\\nMLflow Recipes\\\\nMLflow AI Gateway (Experimental)\\\\nPrompt Engineering UI (Experimental)\\\\nMLflow Plugins\\\\nMLflow Authentication\\\\nCommand-Line Interface\\\\nSearch Runs\\\\nSearch Experiments\\\\nPython API\\\\nR API\\\\nJava API\\\\nREST API\\\\nOfficial MLflow Docker Image\\\\nCommunity Model Flavors\\\\n\\\\n\\\\nContribute\\\\n\\\\n\\\\nDocumentation \\\\nMLflow Documentation\\\\n\\\\n\\\\nMLflow Documentation \\\\nMLflow is an open source platform for managing the end-to-end machine learning lifecycle.\\\\nIt tackles four primary functions:', metadata={'language': 'en', 'source': 'https://mlflow.org/docs/latest/index.html', 'title': 'MLflow Documentation — MLflow 2.7.1 documentation'})]\\n\\nMetric definition:\\nAnswer relevance measures the appropriateness and applicability of the output with respect to the input. Scores should reflect the extent to which the output directly addresses the question provided in the input, and give lower scores for incomplete or redundant output.\\n\\nGrading rubric:\\nAnswer relevance: Please give a score from 1-5 based on the degree of relevance to the input, where the lowest and highest scores are defined as follows:- Score 1: the output doesn't mention anything about the question or is completely irrelevant to the input.\\n- Score 5: the output addresses all aspects of the question and all parts of the output are meaningful and relevant to the question.\\n\\nExamples:\\n\\nInput:\\nHow is MLflow related to Databricks?\\n\\nOutput:\\nDatabricks is a company that specializes in big data and machine learning solutions.\\n\\nAdditional information used by the model:\\nkey: context\\nvalue:\\nMLflow is an open-source platform for managing the end-to-end machine learning (ML) lifecycle. It was developed by Databricks, a company that specializes in big data and machine learning solutions. MLflow is designed to address the challenges that data scientists and machine learning engineers face when developing, training, and deploying machine learning models.\\n\\nscore: 2\\njustification: The output provided by the model does give some information about Databricks, which is part of the input question. However, it does not address the main point of the question, which is the relationship between MLflow and Databricks. Therefore, while the output is not completely irrelevant, it does not fully answer the question, leading to a lower score.\\n        \\n\\nInput:\\nHow is MLflow related to Databricks?\\n\\nOutput:\\nMLflow is a product created by Databricks to enhance the efficiency of machine learning processes.\\n\\nAdditional information used by the model:\\nkey: context\\nvalue:\\nMLflow is an open-source platform for managing the end-to-end machine learning (ML) lifecycle. It was developed by Databricks, a company that specializes in big data and machine learning solutions. MLflow is designed to address the challenges that data scientists and machine learning engineers face when developing, training, and deploying machine learning models.\\n\\nscore: 5\\njustification: The output directly addresses the input question by explaining the relationship between MLflow and Databricks. It provides a clear and concise answer that MLflow is a product created by Databricks, and also adds relevant information about the purpose of MLflow, which is to enhance the efficiency of machine learning processes. Therefore, the output is highly relevant to the input and deserves a full score.\\n        \\n\\nYou must return the following fields in your response one below the other:\\nscore: Your numerical score for the model's answer_relevance based on the rubric\\njustification: Your step-by-step reasoning about the model's answer_relevance score\\n    \"}]}, token_consumption=1804, attempts_left=3, results=[])\n",
      "2023/10/25 16:46:25 WARNING mlflow.openai.api_request_parallel_processor: Encountered rate limit error. Pausing to cool down for 0.06268095970153809 seconds...\n",
      "2023/10/25 16:46:25 WARNING mlflow.openai.api_request_parallel_processor: Retrying request 0: APIRequest(index=0, task=<class 'openai.api_resources.chat_completion.ChatCompletion'>, request_json={'model': 'gpt-4', 'temperature': 0.0, 'max_tokens': 200, 'top_p': 1.0, 'messages': [{'role': 'user', 'content': \"\\nTask:\\nYou are an impartial judge. You will be given an input that was sent to a machine\\nlearning model, and you will be given an output that the model produced. You\\nmay also be given additional information that was used by the model to generate the output.\\n\\nYour task is to determine a numerical score called answer_relevance based on the input and output.\\nA definition of answer_relevance and a grading rubric are provided below.\\nYou must use the grading rubric to determine your score. You must also justify your score.\\n\\nExamples could be included below for reference. Make sure to use them as references and to\\nunderstand them before completing the task.\\n\\nInput:\\nHow to load_table()?\\n\\nOutput:\\n load_table() is not a function in MLflow.\\n\\nAdditional information used by the model:\\nkey: context\\nvalue:\\n[Document(page_content='What is MLflow?\\\\nQuickstart: Install MLflow, instrument code & view results in minutes\\\\nQuickstart: Compare runs, choose a model, and deploy it to a REST API\\\\nTutorials and Examples\\\\nConcepts\\\\nMLflow Tracking\\\\nMLflow LLM Tracking\\\\nMLflow Projects\\\\nMLflow Models\\\\nMLflow Model Registry\\\\nMLflow Recipes\\\\nMLflow AI Gateway (Experimental)\\\\nPrompt Engineering UI (Experimental)\\\\nMLflow Plugins\\\\nMLflow Authentication\\\\nCommand-Line Interface\\\\nSearch Runs\\\\nSearch Experiments\\\\nPython API\\\\nR API\\\\nJava API\\\\nREST API\\\\nOfficial MLflow Docker Image\\\\nCommunity Model Flavors\\\\n\\\\nNext \\\\n\\\\n\\\\n          © MLflow Project, a Series of LF Projects, LLC. All rights reserved.', metadata={'language': 'en', 'source': 'https://mlflow.org/docs/latest/index.html', 'title': 'MLflow Documentation — MLflow 2.7.1 documentation'}), Document(page_content='MLflow Documentation — MLflow 2.7.1 documentation\\\\n\\\\n\\\\n2.7.1\\\\n\\\\n\\\\n MLflow\\\\n\\\\nWhat is MLflow?\\\\nQuickstart: Install MLflow, instrument code & view results in minutes\\\\nQuickstart: Compare runs, choose a model, and deploy it to a REST API\\\\nTutorials and Examples\\\\nConcepts\\\\nMLflow Tracking\\\\nMLflow LLM Tracking\\\\nMLflow Projects\\\\nMLflow Models\\\\nMLflow Model Registry\\\\nMLflow Recipes\\\\nMLflow AI Gateway (Experimental)\\\\nPrompt Engineering UI (Experimental)\\\\nMLflow Plugins\\\\nMLflow Authentication\\\\nCommand-Line Interface\\\\nSearch Runs\\\\nSearch Experiments\\\\nPython API\\\\nR API\\\\nJava API\\\\nREST API\\\\nOfficial MLflow Docker Image\\\\nCommunity Model Flavors\\\\n\\\\n\\\\nContribute\\\\n\\\\n\\\\nDocumentation \\\\nMLflow Documentation\\\\n\\\\n\\\\nMLflow Documentation \\\\nMLflow is an open source platform for managing the end-to-end machine learning lifecycle.\\\\nIt tackles four primary functions:', metadata={'language': 'en', 'source': 'https://mlflow.org/docs/latest/index.html', 'title': 'MLflow Documentation — MLflow 2.7.1 documentation'}), Document(page_content='Tracking experiments to record and compare parameters and results (MLflow Tracking).\\\\nPackaging ML code in a reusable, reproducible form in order to share with other data\\\\nscientists or transfer to production (MLflow Projects).\\\\nManaging and deploying models from a variety of ML libraries to a variety of model serving and\\\\ninference platforms (MLflow Models).\\\\nProviding a central model store to collaboratively manage the full lifecycle of an MLflow Model,\\\\nincluding model versioning, stage transitions, and annotations (MLflow Model Registry).\\\\n\\\\nMLflow is library-agnostic. You can use it with any machine learning library, and in any\\\\nprogramming language, since all functions are accessible through a REST API\\\\nand CLI. For convenience, the project also includes a Python API, R API,\\\\nand Java API.\\\\nGet started using the Quickstart: Install MLflow, instrument code & view results in minutes or by reading about the key concepts.', metadata={'language': 'en', 'source': 'https://mlflow.org/docs/latest/index.html', 'title': 'MLflow Documentation — MLflow 2.7.1 documentation'})]\\n\\nMetric definition:\\nAnswer relevance measures the appropriateness and applicability of the output with respect to the input. Scores should reflect the extent to which the output directly addresses the question provided in the input, and give lower scores for incomplete or redundant output.\\n\\nGrading rubric:\\nAnswer relevance: Please give a score from 1-5 based on the degree of relevance to the input, where the lowest and highest scores are defined as follows:- Score 1: the output doesn't mention anything about the question or is completely irrelevant to the input.\\n- Score 5: the output addresses all aspects of the question and all parts of the output are meaningful and relevant to the question.\\n\\nExamples:\\n\\nInput:\\nHow is MLflow related to Databricks?\\n\\nOutput:\\nDatabricks is a company that specializes in big data and machine learning solutions.\\n\\nAdditional information used by the model:\\nkey: context\\nvalue:\\nMLflow is an open-source platform for managing the end-to-end machine learning (ML) lifecycle. It was developed by Databricks, a company that specializes in big data and machine learning solutions. MLflow is designed to address the challenges that data scientists and machine learning engineers face when developing, training, and deploying machine learning models.\\n\\nscore: 2\\njustification: The output provided by the model does give some information about Databricks, which is part of the input question. However, it does not address the main point of the question, which is the relationship between MLflow and Databricks. Therefore, while the output is not completely irrelevant, it does not fully answer the question, leading to a lower score.\\n        \\n\\nInput:\\nHow is MLflow related to Databricks?\\n\\nOutput:\\nMLflow is a product created by Databricks to enhance the efficiency of machine learning processes.\\n\\nAdditional information used by the model:\\nkey: context\\nvalue:\\nMLflow is an open-source platform for managing the end-to-end machine learning (ML) lifecycle. It was developed by Databricks, a company that specializes in big data and machine learning solutions. MLflow is designed to address the challenges that data scientists and machine learning engineers face when developing, training, and deploying machine learning models.\\n\\nscore: 5\\njustification: The output directly addresses the input question by explaining the relationship between MLflow and Databricks. It provides a clear and concise answer that MLflow is a product created by Databricks, and also adds relevant information about the purpose of MLflow, which is to enhance the efficiency of machine learning processes. Therefore, the output is highly relevant to the input and deserves a full score.\\n        \\n\\nYou must return the following fields in your response one below the other:\\nscore: Your numerical score for the model's answer_relevance based on the rubric\\njustification: Your step-by-step reasoning about the model's answer_relevance score\\n    \"}]}, token_consumption=1640, attempts_left=3, results=[])\n",
      "2023/10/25 16:46:25 WARNING mlflow.openai.api_request_parallel_processor: Encountered rate limit error. Pausing to cool down for 0.06040596961975098 seconds...\n",
      "2023/10/25 16:46:25 WARNING mlflow.openai.api_request_parallel_processor: Retrying request 0: APIRequest(index=0, task=<class 'openai.api_resources.chat_completion.ChatCompletion'>, request_json={'model': 'gpt-4', 'temperature': 0.0, 'max_tokens': 200, 'top_p': 1.0, 'messages': [{'role': 'user', 'content': \"\\nTask:\\nYou are an impartial judge. You will be given an input that was sent to a machine\\nlearning model, and you will be given an output that the model produced. You\\nmay also be given additional information that was used by the model to generate the output.\\n\\nYour task is to determine a numerical score called answer_relevance based on the input and output.\\nA definition of answer_relevance and a grading rubric are provided below.\\nYou must use the grading rubric to determine your score. You must also justify your score.\\n\\nExamples could be included below for reference. Make sure to use them as references and to\\nunderstand them before completing the task.\\n\\nInput:\\nHow to run Mlflow.evalaute()?\\n\\nOutput:\\n You can use the Mlflow.evaluate() function to evaluate a model's performance. This function takes in a model, a dataset, and a list of metrics to evaluate the model on. It returns a dictionary of metric names and values.\\n\\nAdditional information used by the model:\\nkey: context\\nvalue:\\n[Document(page_content='Tracking experiments to record and compare parameters and results (MLflow Tracking).\\\\nPackaging ML code in a reusable, reproducible form in order to share with other data\\\\nscientists or transfer to production (MLflow Projects).\\\\nManaging and deploying models from a variety of ML libraries to a variety of model serving and\\\\ninference platforms (MLflow Models).\\\\nProviding a central model store to collaboratively manage the full lifecycle of an MLflow Model,\\\\nincluding model versioning, stage transitions, and annotations (MLflow Model Registry).\\\\n\\\\nMLflow is library-agnostic. You can use it with any machine learning library, and in any\\\\nprogramming language, since all functions are accessible through a REST API\\\\nand CLI. For convenience, the project also includes a Python API, R API,\\\\nand Java API.\\\\nGet started using the Quickstart: Install MLflow, instrument code & view results in minutes or by reading about the key concepts.', metadata={'language': 'en', 'source': 'https://mlflow.org/docs/latest/index.html', 'title': 'MLflow Documentation — MLflow 2.7.1 documentation'}), Document(page_content='What is MLflow?\\\\nQuickstart: Install MLflow, instrument code & view results in minutes\\\\nQuickstart: Compare runs, choose a model, and deploy it to a REST API\\\\nTutorials and Examples\\\\nConcepts\\\\nMLflow Tracking\\\\nMLflow LLM Tracking\\\\nMLflow Projects\\\\nMLflow Models\\\\nMLflow Model Registry\\\\nMLflow Recipes\\\\nMLflow AI Gateway (Experimental)\\\\nPrompt Engineering UI (Experimental)\\\\nMLflow Plugins\\\\nMLflow Authentication\\\\nCommand-Line Interface\\\\nSearch Runs\\\\nSearch Experiments\\\\nPython API\\\\nR API\\\\nJava API\\\\nREST API\\\\nOfficial MLflow Docker Image\\\\nCommunity Model Flavors\\\\n\\\\nNext \\\\n\\\\n\\\\n          © MLflow Project, a Series of LF Projects, LLC. All rights reserved.', metadata={'language': 'en', 'source': 'https://mlflow.org/docs/latest/index.html', 'title': 'MLflow Documentation — MLflow 2.7.1 documentation'}), Document(page_content='MLflow Documentation — MLflow 2.7.1 documentation\\\\n\\\\n\\\\n2.7.1\\\\n\\\\n\\\\n MLflow\\\\n\\\\nWhat is MLflow?\\\\nQuickstart: Install MLflow, instrument code & view results in minutes\\\\nQuickstart: Compare runs, choose a model, and deploy it to a REST API\\\\nTutorials and Examples\\\\nConcepts\\\\nMLflow Tracking\\\\nMLflow LLM Tracking\\\\nMLflow Projects\\\\nMLflow Models\\\\nMLflow Model Registry\\\\nMLflow Recipes\\\\nMLflow AI Gateway (Experimental)\\\\nPrompt Engineering UI (Experimental)\\\\nMLflow Plugins\\\\nMLflow Authentication\\\\nCommand-Line Interface\\\\nSearch Runs\\\\nSearch Experiments\\\\nPython API\\\\nR API\\\\nJava API\\\\nREST API\\\\nOfficial MLflow Docker Image\\\\nCommunity Model Flavors\\\\n\\\\n\\\\nContribute\\\\n\\\\n\\\\nDocumentation \\\\nMLflow Documentation\\\\n\\\\n\\\\nMLflow Documentation \\\\nMLflow is an open source platform for managing the end-to-end machine learning lifecycle.\\\\nIt tackles four primary functions:', metadata={'language': 'en', 'source': 'https://mlflow.org/docs/latest/index.html', 'title': 'MLflow Documentation — MLflow 2.7.1 documentation'})]\\n\\nMetric definition:\\nAnswer relevance measures the appropriateness and applicability of the output with respect to the input. Scores should reflect the extent to which the output directly addresses the question provided in the input, and give lower scores for incomplete or redundant output.\\n\\nGrading rubric:\\nAnswer relevance: Please give a score from 1-5 based on the degree of relevance to the input, where the lowest and highest scores are defined as follows:- Score 1: the output doesn't mention anything about the question or is completely irrelevant to the input.\\n- Score 5: the output addresses all aspects of the question and all parts of the output are meaningful and relevant to the question.\\n\\nExamples:\\n\\nInput:\\nHow is MLflow related to Databricks?\\n\\nOutput:\\nDatabricks is a company that specializes in big data and machine learning solutions.\\n\\nAdditional information used by the model:\\nkey: context\\nvalue:\\nMLflow is an open-source platform for managing the end-to-end machine learning (ML) lifecycle. It was developed by Databricks, a company that specializes in big data and machine learning solutions. MLflow is designed to address the challenges that data scientists and machine learning engineers face when developing, training, and deploying machine learning models.\\n\\nscore: 2\\njustification: The output provided by the model does give some information about Databricks, which is part of the input question. However, it does not address the main point of the question, which is the relationship between MLflow and Databricks. Therefore, while the output is not completely irrelevant, it does not fully answer the question, leading to a lower score.\\n        \\n\\nInput:\\nHow is MLflow related to Databricks?\\n\\nOutput:\\nMLflow is a product created by Databricks to enhance the efficiency of machine learning processes.\\n\\nAdditional information used by the model:\\nkey: context\\nvalue:\\nMLflow is an open-source platform for managing the end-to-end machine learning (ML) lifecycle. It was developed by Databricks, a company that specializes in big data and machine learning solutions. MLflow is designed to address the challenges that data scientists and machine learning engineers face when developing, training, and deploying machine learning models.\\n\\nscore: 5\\njustification: The output directly addresses the input question by explaining the relationship between MLflow and Databricks. It provides a clear and concise answer that MLflow is a product created by Databricks, and also adds relevant information about the purpose of MLflow, which is to enhance the efficiency of machine learning processes. Therefore, the output is highly relevant to the input and deserves a full score.\\n        \\n\\nYou must return the following fields in your response one below the other:\\nscore: Your numerical score for the model's answer_relevance based on the rubric\\njustification: Your step-by-step reasoning about the model's answer_relevance score\\n    \"}]}, token_consumption=1682, attempts_left=3, results=[])\n",
      "2023/10/25 16:46:25 WARNING mlflow.openai.api_request_parallel_processor: Encountered rate limit error. Pausing to cool down for 0.06020617485046387 seconds...\n",
      "2023/10/25 16:46:25 WARNING mlflow.openai.api_request_parallel_processor: Request #0 failed with RateLimitError(message='Rate limit reached for gpt-4 in organization org-n6HsoZWRns6Q46qNiDMiTFU7 on tokens per min. Limit: 10000 / min. Please try again in 6ms. Contact us through our help center at help.openai.com if you continue to have issues.', http_status=429, request_id=None)\n",
      "2023/10/25 16:46:25 WARNING mlflow.openai.api_request_parallel_processor: Retrying request 0: APIRequest(index=0, task=<class 'openai.api_resources.chat_completion.ChatCompletion'>, request_json={'model': 'gpt-4', 'temperature': 0.0, 'max_tokens': 200, 'top_p': 1.0, 'messages': [{'role': 'user', 'content': \"\\nTask:\\nYou are an impartial judge. You will be given an input that was sent to a machine\\nlearning model, and you will be given an output that the model produced. You\\nmay also be given additional information that was used by the model to generate the output.\\n\\nYour task is to determine a numerical score called answer_relevance based on the input and output.\\nA definition of answer_relevance and a grading rubric are provided below.\\nYou must use the grading rubric to determine your score. You must also justify your score.\\n\\nExamples could be included below for reference. Make sure to use them as references and to\\nunderstand them before completing the task.\\n\\nInput:\\nHow to load_table()?\\n\\nOutput:\\n load_table() is not a function in MLflow.\\n\\nAdditional information used by the model:\\nkey: context\\nvalue:\\n[Document(page_content='What is MLflow?\\\\nQuickstart: Install MLflow, instrument code & view results in minutes\\\\nQuickstart: Compare runs, choose a model, and deploy it to a REST API\\\\nTutorials and Examples\\\\nConcepts\\\\nMLflow Tracking\\\\nMLflow LLM Tracking\\\\nMLflow Projects\\\\nMLflow Models\\\\nMLflow Model Registry\\\\nMLflow Recipes\\\\nMLflow AI Gateway (Experimental)\\\\nPrompt Engineering UI (Experimental)\\\\nMLflow Plugins\\\\nMLflow Authentication\\\\nCommand-Line Interface\\\\nSearch Runs\\\\nSearch Experiments\\\\nPython API\\\\nR API\\\\nJava API\\\\nREST API\\\\nOfficial MLflow Docker Image\\\\nCommunity Model Flavors\\\\n\\\\nNext \\\\n\\\\n\\\\n          © MLflow Project, a Series of LF Projects, LLC. All rights reserved.', metadata={'language': 'en', 'source': 'https://mlflow.org/docs/latest/index.html', 'title': 'MLflow Documentation — MLflow 2.7.1 documentation'}), Document(page_content='MLflow Documentation — MLflow 2.7.1 documentation\\\\n\\\\n\\\\n2.7.1\\\\n\\\\n\\\\n MLflow\\\\n\\\\nWhat is MLflow?\\\\nQuickstart: Install MLflow, instrument code & view results in minutes\\\\nQuickstart: Compare runs, choose a model, and deploy it to a REST API\\\\nTutorials and Examples\\\\nConcepts\\\\nMLflow Tracking\\\\nMLflow LLM Tracking\\\\nMLflow Projects\\\\nMLflow Models\\\\nMLflow Model Registry\\\\nMLflow Recipes\\\\nMLflow AI Gateway (Experimental)\\\\nPrompt Engineering UI (Experimental)\\\\nMLflow Plugins\\\\nMLflow Authentication\\\\nCommand-Line Interface\\\\nSearch Runs\\\\nSearch Experiments\\\\nPython API\\\\nR API\\\\nJava API\\\\nREST API\\\\nOfficial MLflow Docker Image\\\\nCommunity Model Flavors\\\\n\\\\n\\\\nContribute\\\\n\\\\n\\\\nDocumentation \\\\nMLflow Documentation\\\\n\\\\n\\\\nMLflow Documentation \\\\nMLflow is an open source platform for managing the end-to-end machine learning lifecycle.\\\\nIt tackles four primary functions:', metadata={'language': 'en', 'source': 'https://mlflow.org/docs/latest/index.html', 'title': 'MLflow Documentation — MLflow 2.7.1 documentation'}), Document(page_content='Tracking experiments to record and compare parameters and results (MLflow Tracking).\\\\nPackaging ML code in a reusable, reproducible form in order to share with other data\\\\nscientists or transfer to production (MLflow Projects).\\\\nManaging and deploying models from a variety of ML libraries to a variety of model serving and\\\\ninference platforms (MLflow Models).\\\\nProviding a central model store to collaboratively manage the full lifecycle of an MLflow Model,\\\\nincluding model versioning, stage transitions, and annotations (MLflow Model Registry).\\\\n\\\\nMLflow is library-agnostic. You can use it with any machine learning library, and in any\\\\nprogramming language, since all functions are accessible through a REST API\\\\nand CLI. For convenience, the project also includes a Python API, R API,\\\\nand Java API.\\\\nGet started using the Quickstart: Install MLflow, instrument code & view results in minutes or by reading about the key concepts.', metadata={'language': 'en', 'source': 'https://mlflow.org/docs/latest/index.html', 'title': 'MLflow Documentation — MLflow 2.7.1 documentation'})]\\n\\nMetric definition:\\nAnswer relevance measures the appropriateness and applicability of the output with respect to the input. Scores should reflect the extent to which the output directly addresses the question provided in the input, and give lower scores for incomplete or redundant output.\\n\\nGrading rubric:\\nAnswer relevance: Please give a score from 1-5 based on the degree of relevance to the input, where the lowest and highest scores are defined as follows:- Score 1: the output doesn't mention anything about the question or is completely irrelevant to the input.\\n- Score 5: the output addresses all aspects of the question and all parts of the output are meaningful and relevant to the question.\\n\\nExamples:\\n\\nInput:\\nHow is MLflow related to Databricks?\\n\\nOutput:\\nDatabricks is a company that specializes in big data and machine learning solutions.\\n\\nAdditional information used by the model:\\nkey: context\\nvalue:\\nMLflow is an open-source platform for managing the end-to-end machine learning (ML) lifecycle. It was developed by Databricks, a company that specializes in big data and machine learning solutions. MLflow is designed to address the challenges that data scientists and machine learning engineers face when developing, training, and deploying machine learning models.\\n\\nscore: 2\\njustification: The output provided by the model does give some information about Databricks, which is part of the input question. However, it does not address the main point of the question, which is the relationship between MLflow and Databricks. Therefore, while the output is not completely irrelevant, it does not fully answer the question, leading to a lower score.\\n        \\n\\nInput:\\nHow is MLflow related to Databricks?\\n\\nOutput:\\nMLflow is a product created by Databricks to enhance the efficiency of machine learning processes.\\n\\nAdditional information used by the model:\\nkey: context\\nvalue:\\nMLflow is an open-source platform for managing the end-to-end machine learning (ML) lifecycle. It was developed by Databricks, a company that specializes in big data and machine learning solutions. MLflow is designed to address the challenges that data scientists and machine learning engineers face when developing, training, and deploying machine learning models.\\n\\nscore: 5\\njustification: The output directly addresses the input question by explaining the relationship between MLflow and Databricks. It provides a clear and concise answer that MLflow is a product created by Databricks, and also adds relevant information about the purpose of MLflow, which is to enhance the efficiency of machine learning processes. Therefore, the output is highly relevant to the input and deserves a full score.\\n        \\n\\nYou must return the following fields in your response one below the other:\\nscore: Your numerical score for the model's answer_relevance based on the rubric\\njustification: Your step-by-step reasoning about the model's answer_relevance score\\n    \"}]}, token_consumption=1640, attempts_left=2, results=[])\n",
      "2023/10/25 16:46:25 WARNING mlflow.openai.api_request_parallel_processor: Encountered rate limit error. Pausing to cool down for 14.998722791671753 seconds...\n",
      "2023/10/25 16:46:25 WARNING mlflow.openai.api_request_parallel_processor: Request #0 failed with RateLimitError(message='Rate limit reached for gpt-4 in organization org-n6HsoZWRns6Q46qNiDMiTFU7 on tokens per min. Limit: 10000 / min. Please try again in 6ms. Contact us through our help center at help.openai.com if you continue to have issues.', http_status=429, request_id=None)\n",
      "2023/10/25 16:46:30 WARNING mlflow.openai.api_request_parallel_processor: 2 rate limit errors received. Consider running at a lower rate.\n",
      "2023/10/25 16:46:31 WARNING mlflow.openai.api_request_parallel_processor: 2 rate limit errors received. Consider running at a lower rate.\n",
      "2023/10/25 16:46:31 WARNING mlflow.openai.api_request_parallel_processor: 2 rate limit errors received. Consider running at a lower rate.\n",
      "2023/10/25 16:46:40 WARNING mlflow.openai.api_request_parallel_processor: Retrying request 0: APIRequest(index=0, task=<class 'openai.api_resources.chat_completion.ChatCompletion'>, request_json={'model': 'gpt-4', 'temperature': 0.0, 'max_tokens': 200, 'top_p': 1.0, 'messages': [{'role': 'user', 'content': \"\\nTask:\\nYou are an impartial judge. You will be given an input that was sent to a machine\\nlearning model, and you will be given an output that the model produced. You\\nmay also be given additional information that was used by the model to generate the output.\\n\\nYour task is to determine a numerical score called answer_relevance based on the input and output.\\nA definition of answer_relevance and a grading rubric are provided below.\\nYou must use the grading rubric to determine your score. You must also justify your score.\\n\\nExamples could be included below for reference. Make sure to use them as references and to\\nunderstand them before completing the task.\\n\\nInput:\\nHow to load_table()?\\n\\nOutput:\\n load_table() is not a function in MLflow.\\n\\nAdditional information used by the model:\\nkey: context\\nvalue:\\n[Document(page_content='What is MLflow?\\\\nQuickstart: Install MLflow, instrument code & view results in minutes\\\\nQuickstart: Compare runs, choose a model, and deploy it to a REST API\\\\nTutorials and Examples\\\\nConcepts\\\\nMLflow Tracking\\\\nMLflow LLM Tracking\\\\nMLflow Projects\\\\nMLflow Models\\\\nMLflow Model Registry\\\\nMLflow Recipes\\\\nMLflow AI Gateway (Experimental)\\\\nPrompt Engineering UI (Experimental)\\\\nMLflow Plugins\\\\nMLflow Authentication\\\\nCommand-Line Interface\\\\nSearch Runs\\\\nSearch Experiments\\\\nPython API\\\\nR API\\\\nJava API\\\\nREST API\\\\nOfficial MLflow Docker Image\\\\nCommunity Model Flavors\\\\n\\\\nNext \\\\n\\\\n\\\\n          © MLflow Project, a Series of LF Projects, LLC. All rights reserved.', metadata={'language': 'en', 'source': 'https://mlflow.org/docs/latest/index.html', 'title': 'MLflow Documentation — MLflow 2.7.1 documentation'}), Document(page_content='MLflow Documentation — MLflow 2.7.1 documentation\\\\n\\\\n\\\\n2.7.1\\\\n\\\\n\\\\n MLflow\\\\n\\\\nWhat is MLflow?\\\\nQuickstart: Install MLflow, instrument code & view results in minutes\\\\nQuickstart: Compare runs, choose a model, and deploy it to a REST API\\\\nTutorials and Examples\\\\nConcepts\\\\nMLflow Tracking\\\\nMLflow LLM Tracking\\\\nMLflow Projects\\\\nMLflow Models\\\\nMLflow Model Registry\\\\nMLflow Recipes\\\\nMLflow AI Gateway (Experimental)\\\\nPrompt Engineering UI (Experimental)\\\\nMLflow Plugins\\\\nMLflow Authentication\\\\nCommand-Line Interface\\\\nSearch Runs\\\\nSearch Experiments\\\\nPython API\\\\nR API\\\\nJava API\\\\nREST API\\\\nOfficial MLflow Docker Image\\\\nCommunity Model Flavors\\\\n\\\\n\\\\nContribute\\\\n\\\\n\\\\nDocumentation \\\\nMLflow Documentation\\\\n\\\\n\\\\nMLflow Documentation \\\\nMLflow is an open source platform for managing the end-to-end machine learning lifecycle.\\\\nIt tackles four primary functions:', metadata={'language': 'en', 'source': 'https://mlflow.org/docs/latest/index.html', 'title': 'MLflow Documentation — MLflow 2.7.1 documentation'}), Document(page_content='Tracking experiments to record and compare parameters and results (MLflow Tracking).\\\\nPackaging ML code in a reusable, reproducible form in order to share with other data\\\\nscientists or transfer to production (MLflow Projects).\\\\nManaging and deploying models from a variety of ML libraries to a variety of model serving and\\\\ninference platforms (MLflow Models).\\\\nProviding a central model store to collaboratively manage the full lifecycle of an MLflow Model,\\\\nincluding model versioning, stage transitions, and annotations (MLflow Model Registry).\\\\n\\\\nMLflow is library-agnostic. You can use it with any machine learning library, and in any\\\\nprogramming language, since all functions are accessible through a REST API\\\\nand CLI. For convenience, the project also includes a Python API, R API,\\\\nand Java API.\\\\nGet started using the Quickstart: Install MLflow, instrument code & view results in minutes or by reading about the key concepts.', metadata={'language': 'en', 'source': 'https://mlflow.org/docs/latest/index.html', 'title': 'MLflow Documentation — MLflow 2.7.1 documentation'})]\\n\\nMetric definition:\\nAnswer relevance measures the appropriateness and applicability of the output with respect to the input. Scores should reflect the extent to which the output directly addresses the question provided in the input, and give lower scores for incomplete or redundant output.\\n\\nGrading rubric:\\nAnswer relevance: Please give a score from 1-5 based on the degree of relevance to the input, where the lowest and highest scores are defined as follows:- Score 1: the output doesn't mention anything about the question or is completely irrelevant to the input.\\n- Score 5: the output addresses all aspects of the question and all parts of the output are meaningful and relevant to the question.\\n\\nExamples:\\n\\nInput:\\nHow is MLflow related to Databricks?\\n\\nOutput:\\nDatabricks is a company that specializes in big data and machine learning solutions.\\n\\nAdditional information used by the model:\\nkey: context\\nvalue:\\nMLflow is an open-source platform for managing the end-to-end machine learning (ML) lifecycle. It was developed by Databricks, a company that specializes in big data and machine learning solutions. MLflow is designed to address the challenges that data scientists and machine learning engineers face when developing, training, and deploying machine learning models.\\n\\nscore: 2\\njustification: The output provided by the model does give some information about Databricks, which is part of the input question. However, it does not address the main point of the question, which is the relationship between MLflow and Databricks. Therefore, while the output is not completely irrelevant, it does not fully answer the question, leading to a lower score.\\n        \\n\\nInput:\\nHow is MLflow related to Databricks?\\n\\nOutput:\\nMLflow is a product created by Databricks to enhance the efficiency of machine learning processes.\\n\\nAdditional information used by the model:\\nkey: context\\nvalue:\\nMLflow is an open-source platform for managing the end-to-end machine learning (ML) lifecycle. It was developed by Databricks, a company that specializes in big data and machine learning solutions. MLflow is designed to address the challenges that data scientists and machine learning engineers face when developing, training, and deploying machine learning models.\\n\\nscore: 5\\njustification: The output directly addresses the input question by explaining the relationship between MLflow and Databricks. It provides a clear and concise answer that MLflow is a product created by Databricks, and also adds relevant information about the purpose of MLflow, which is to enhance the efficiency of machine learning processes. Therefore, the output is highly relevant to the input and deserves a full score.\\n        \\n\\nYou must return the following fields in your response one below the other:\\nscore: Your numerical score for the model's answer_relevance based on the rubric\\njustification: Your step-by-step reasoning about the model's answer_relevance score\\n    \"}]}, token_consumption=1640, attempts_left=1, results=[])\n",
      "2023/10/25 16:46:40 WARNING mlflow.openai.api_request_parallel_processor: Encountered rate limit error. Pausing to cool down for 0.057646989822387695 seconds...\n",
      "2023/10/25 16:46:46 WARNING mlflow.openai.api_request_parallel_processor: 4 rate limit errors received. Consider running at a lower rate.\n"
     ]
    },
    {
     "name": "stdout",
     "output_type": "stream",
     "text": [
      "{'toxicity/v1/mean': 0.00019068770416197367, 'toxicity/v1/variance': 2.3719048510286652e-09, 'toxicity/v1/p90': 0.0002462980875861831, 'toxicity/v1/ratio': 0.0, 'perplexity/v1/mean': 112.43641662597656, 'perplexity/v1/variance': 7690.103411271099, 'perplexity/v1/p90': 202.41207427978514, 'flesch_kincaid_grade_level/v1/mean': 6.25, 'flesch_kincaid_grade_level/v1/variance': 34.042500000000004, 'flesch_kincaid_grade_level/v1/p90': 12.880000000000003, 'ari_grade_level/v1/mean': 8.875, 'ari_grade_level/v1/variance': 33.62687499999999, 'ari_grade_level/v1/p90': 15.030000000000001, 'faithfulness/v1/mean': 4.0, 'faithfulness/v1/variance': 3.0, 'faithfulness/v1/p90': 5.0, 'answer_relevance/v1/mean': 4.0, 'answer_relevance/v1/variance': 3.0, 'answer_relevance/v1/p90': 5.0}\n"
     ]
    }
   ],
   "source": [
    "results = mlflow.evaluate(\n",
    "    model,\n",
    "    eval_df,\n",
    "    model_type=\"question-answering\",\n",
    "    evaluators=\"default\",\n",
    "    predictions=\"result\",\n",
    "    extra_metrics=[faithfulness_metric, answer_relevance_metric, mlflow.metrics.latency()],\n",
    "    evaluator_config={\n",
    "        \"col_mapping\": {\n",
    "            \"inputs\": \"questions\",\n",
    "            \"context\": \"source_documents\",\n",
    "        }\n",
    "    },\n",
    ")\n",
    "print(results.metrics)"
   ]
  },
  {
   "cell_type": "code",
   "execution_count": 11,
   "metadata": {
    "application/vnd.databricks.v1+cell": {
     "cellMetadata": {},
     "inputWidgets": {},
     "nuid": "989a0861-5153-44e6-a19d-efcae7fe6cb5",
     "showTitle": false,
     "title": ""
    }
   },
   "outputs": [
    {
     "data": {
      "application/vnd.jupyter.widget-view+json": {
       "model_id": "39f5ea2241bb4e5f8ac1dca9fc68f8e8",
       "version_major": 2,
       "version_minor": 0
      },
      "text/plain": [
       "Downloading artifacts:   0%|          | 0/1 [00:00<?, ?it/s]"
      ]
     },
     "metadata": {},
     "output_type": "display_data"
    },
    {
     "data": {
      "text/html": [
       "<div>\n",
       "<style scoped>\n",
       "    .dataframe tbody tr th:only-of-type {\n",
       "        vertical-align: middle;\n",
       "    }\n",
       "\n",
       "    .dataframe tbody tr th {\n",
       "        vertical-align: top;\n",
       "    }\n",
       "\n",
       "    .dataframe thead th {\n",
       "        text-align: right;\n",
       "    }\n",
       "</style>\n",
       "<table border=\"1\" class=\"dataframe\">\n",
       "  <thead>\n",
       "    <tr style=\"text-align: right;\">\n",
       "      <th></th>\n",
       "      <th>questions</th>\n",
       "      <th>outputs</th>\n",
       "      <th>query</th>\n",
       "      <th>source_documents</th>\n",
       "      <th>latency</th>\n",
       "      <th>token_count</th>\n",
       "      <th>toxicity/v1/score</th>\n",
       "      <th>perplexity/v1/score</th>\n",
       "      <th>flesch_kincaid_grade_level/v1/score</th>\n",
       "      <th>ari_grade_level/v1/score</th>\n",
       "      <th>faithfulness/v1/score</th>\n",
       "      <th>faithfulness/v1/justification</th>\n",
       "      <th>answer_relevance/v1/score</th>\n",
       "      <th>answer_relevance/v1/justification</th>\n",
       "    </tr>\n",
       "  </thead>\n",
       "  <tbody>\n",
       "    <tr>\n",
       "      <th>0</th>\n",
       "      <td>What is MLflow?</td>\n",
       "      <td>MLflow is an open source platform for managin...</td>\n",
       "      <td>What is MLflow?</td>\n",
       "      <td>[{'lc_attributes': {}, 'lc_namespace': ['langc...</td>\n",
       "      <td>4.151958</td>\n",
       "      <td>176</td>\n",
       "      <td>0.000208</td>\n",
       "      <td>28.626591</td>\n",
       "      <td>15.4</td>\n",
       "      <td>18.9</td>\n",
       "      <td>5</td>\n",
       "      <td>The output provided by the model is completely...</td>\n",
       "      <td>5</td>\n",
       "      <td>The output provided by the model is highly rel...</td>\n",
       "    </tr>\n",
       "    <tr>\n",
       "      <th>1</th>\n",
       "      <td>How to run Mlflow.evalaute()?</td>\n",
       "      <td>You can use the Mlflow.evaluate() function to...</td>\n",
       "      <td>How to run Mlflow.evalaute()?</td>\n",
       "      <td>[{'lc_attributes': {}, 'lc_namespace': ['langc...</td>\n",
       "      <td>1.401133</td>\n",
       "      <td>48</td>\n",
       "      <td>0.000263</td>\n",
       "      <td>21.149670</td>\n",
       "      <td>7.0</td>\n",
       "      <td>6.0</td>\n",
       "      <td>1</td>\n",
       "      <td>The output claims that there is a function cal...</td>\n",
       "      <td>1</td>\n",
       "      <td>The output provided by the model does not addr...</td>\n",
       "    </tr>\n",
       "    <tr>\n",
       "      <th>2</th>\n",
       "      <td>How to log_table()?</td>\n",
       "      <td>log_table() is not a function in MLflow.</td>\n",
       "      <td>How to log_table()?</td>\n",
       "      <td>[{'lc_attributes': {}, 'lc_namespace': ['langc...</td>\n",
       "      <td>6.668169</td>\n",
       "      <td>11</td>\n",
       "      <td>0.000148</td>\n",
       "      <td>206.053131</td>\n",
       "      <td>0.1</td>\n",
       "      <td>5.0</td>\n",
       "      <td>5</td>\n",
       "      <td>The output claim that \"log_table() is not a fu...</td>\n",
       "      <td>5</td>\n",
       "      <td>The output directly addresses the input questi...</td>\n",
       "    </tr>\n",
       "    <tr>\n",
       "      <th>3</th>\n",
       "      <td>How to load_table()?</td>\n",
       "      <td>load_table() is not a function in MLflow.</td>\n",
       "      <td>How to load_table()?</td>\n",
       "      <td>[{'lc_attributes': {}, 'lc_namespace': ['langc...</td>\n",
       "      <td>0.682007</td>\n",
       "      <td>11</td>\n",
       "      <td>0.000144</td>\n",
       "      <td>193.916275</td>\n",
       "      <td>2.5</td>\n",
       "      <td>5.6</td>\n",
       "      <td>5</td>\n",
       "      <td>The output claim that \"load_table() is not a f...</td>\n",
       "      <td>5</td>\n",
       "      <td>The output directly addresses the input questi...</td>\n",
       "    </tr>\n",
       "  </tbody>\n",
       "</table>\n",
       "</div>"
      ],
      "text/plain": [
       "                       questions  \\\n",
       "0                What is MLflow?   \n",
       "1  How to run Mlflow.evalaute()?   \n",
       "2            How to log_table()?   \n",
       "3           How to load_table()?   \n",
       "\n",
       "                                             outputs  \\\n",
       "0   MLflow is an open source platform for managin...   \n",
       "1   You can use the Mlflow.evaluate() function to...   \n",
       "2           log_table() is not a function in MLflow.   \n",
       "3          load_table() is not a function in MLflow.   \n",
       "\n",
       "                           query  \\\n",
       "0                What is MLflow?   \n",
       "1  How to run Mlflow.evalaute()?   \n",
       "2            How to log_table()?   \n",
       "3           How to load_table()?   \n",
       "\n",
       "                                    source_documents   latency  token_count  \\\n",
       "0  [{'lc_attributes': {}, 'lc_namespace': ['langc...  4.151958          176   \n",
       "1  [{'lc_attributes': {}, 'lc_namespace': ['langc...  1.401133           48   \n",
       "2  [{'lc_attributes': {}, 'lc_namespace': ['langc...  6.668169           11   \n",
       "3  [{'lc_attributes': {}, 'lc_namespace': ['langc...  0.682007           11   \n",
       "\n",
       "   toxicity/v1/score  perplexity/v1/score  \\\n",
       "0           0.000208            28.626591   \n",
       "1           0.000263            21.149670   \n",
       "2           0.000148           206.053131   \n",
       "3           0.000144           193.916275   \n",
       "\n",
       "   flesch_kincaid_grade_level/v1/score  ari_grade_level/v1/score  \\\n",
       "0                                 15.4                      18.9   \n",
       "1                                  7.0                       6.0   \n",
       "2                                  0.1                       5.0   \n",
       "3                                  2.5                       5.6   \n",
       "\n",
       "   faithfulness/v1/score                      faithfulness/v1/justification  \\\n",
       "0                      5  The output provided by the model is completely...   \n",
       "1                      1  The output claims that there is a function cal...   \n",
       "2                      5  The output claim that \"log_table() is not a fu...   \n",
       "3                      5  The output claim that \"load_table() is not a f...   \n",
       "\n",
       "   answer_relevance/v1/score  \\\n",
       "0                          5   \n",
       "1                          1   \n",
       "2                          5   \n",
       "3                          5   \n",
       "\n",
       "                   answer_relevance/v1/justification  \n",
       "0  The output provided by the model is highly rel...  \n",
       "1  The output provided by the model does not addr...  \n",
       "2  The output directly addresses the input questi...  \n",
       "3  The output directly addresses the input questi...  "
      ]
     },
     "execution_count": 11,
     "metadata": {},
     "output_type": "execute_result"
    }
   ],
   "source": [
    "results.tables[\"eval_results_table\"]"
   ]
  },
  {
   "cell_type": "code",
   "execution_count": null,
   "metadata": {},
   "outputs": [],
   "source": []
  }
 ],
 "metadata": {
  "application/vnd.databricks.v1+notebook": {
   "dashboards": [],
   "language": "python",
   "notebookMetadata": {
    "pythonIndentUnit": 2
   },
   "notebookName": "LLM Evaluation Examples -- RAG",
   "widgets": {}
  },
  "kernelspec": {
   "display_name": "mlflow-dev-env",
   "language": "python",
   "name": "python3"
  },
  "language_info": {
   "codemirror_mode": {
    "name": "ipython",
    "version": 3
   },
   "file_extension": ".py",
   "mimetype": "text/x-python",
   "name": "python",
   "nbconvert_exporter": "python",
   "pygments_lexer": "ipython3",
   "version": "3.9.13"
  }
 },
 "nbformat": 4,
 "nbformat_minor": 0
}
