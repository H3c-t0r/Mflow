{
 "cells": [
  {
   "cell_type": "markdown",
   "metadata": {
    "application/vnd.databricks.v1+cell": {
     "cellMetadata": {},
     "inputWidgets": {},
     "nuid": "42084110-295b-493a-9b3e-5d8d29ff78b3",
     "showTitle": false,
     "title": ""
    }
   },
   "source": [
    "# LLM RAG Evaluation with MLflow Example Notebook\n",
    "\n",
    "In this notebook, we will demonstrate how to evaluate various RAG systems with MLflow."
   ]
  },
  {
   "cell_type": "code",
   "execution_count": null,
   "metadata": {
    "application/vnd.databricks.v1+cell": {
     "cellMetadata": {
      "byteLimit": 2048000,
      "rowLimit": 10000
     },
     "inputWidgets": {},
     "nuid": "d87628a6-ef1d-4586-8080-13f538904076",
     "showTitle": false,
     "title": ""
    },
    "jupyter": {
     "outputs_hidden": true
    }
   },
   "outputs": [],
   "source": [
    "%pip install mlflow>=2.8.1\n",
    "%pip install openai\n",
    "%pip install chromadb==0.4.15\n",
    "%pip install langchain==0.0.348\n",
    "%pip install tiktoken\n",
    "%pip install 'mlflow[genai]'\n",
    "%pip install databricks-sdk --upgrade"
   ]
  },
  {
   "cell_type": "code",
   "execution_count": null,
   "metadata": {
    "application/vnd.databricks.v1+cell": {
     "cellMetadata": {
      "byteLimit": 2048000,
      "rowLimit": 10000
     },
     "inputWidgets": {},
     "nuid": "bbe9a743-feca-4de0-80f9-f64267578482",
     "showTitle": false,
     "title": ""
    }
   },
   "outputs": [],
   "source": [
    "dbutils.library.restartPython()"
   ]
  },
  {
   "cell_type": "code",
   "execution_count": null,
   "metadata": {
    "application/vnd.databricks.v1+cell": {
     "cellMetadata": {
      "byteLimit": 2048000,
      "rowLimit": 10000
     },
     "inputWidgets": {},
     "nuid": "695c9abf-466c-4b34-a901-852a62d9d10f",
     "showTitle": false,
     "title": ""
    }
   },
   "outputs": [],
   "source": [
    "\n",
    "import os\n",
    "import pandas as pd\n",
    "import mlflow\n",
    "import chromadb\n",
    "import openai\n",
    "import langchain"
   ]
  },
  {
   "cell_type": "code",
   "execution_count": null,
   "metadata": {
    "application/vnd.databricks.v1+cell": {
     "cellMetadata": {
      "byteLimit": 2048000,
      "rowLimit": 10000
     },
     "inputWidgets": {},
     "nuid": "9f8dfd16-c064-4a7e-9e3e-226894275e95",
     "showTitle": false,
     "title": ""
    }
   },
   "outputs": [
    {
     "data": {
      "text/plain": [
       "'2.9.1'"
      ]
     },
     "execution_count": 2,
     "metadata": {},
     "output_type": "execute_result"
    }
   ],
   "source": [
    "# check mlflow version\n",
    "mlflow.__version__"
   ]
  },
  {
   "cell_type": "code",
   "execution_count": null,
   "metadata": {
    "application/vnd.databricks.v1+cell": {
     "cellMetadata": {
      "byteLimit": 2048000,
      "rowLimit": 10000
     },
     "inputWidgets": {},
     "nuid": "899aa208-48aa-404e-b823-f47e410d9490",
     "showTitle": false,
     "title": ""
    }
   },
   "outputs": [
    {
     "data": {
      "text/plain": [
       "'0.4.18'"
      ]
     },
     "execution_count": 3,
     "metadata": {},
     "output_type": "execute_result"
    }
   ],
   "source": [
    "# check chroma version\n",
    "chromadb.__version__"
   ]
  },
  {
   "cell_type": "markdown",
   "metadata": {
    "application/vnd.databricks.v1+cell": {
     "cellMetadata": {},
     "inputWidgets": {},
     "nuid": "64d5d5eb-8ee7-496a-be8e-fd658c4a4f44",
     "showTitle": false,
     "title": ""
    }
   },
   "source": [
    "## Set-up Databricks Workspace Secrets\n",
    "\n",
    "In order to use the secrets that are defined within this notebook, ensure that they are set via following the [guide to Databricks Secrets here](https://docs.databricks.com/en/security/secrets/secrets.html). It is highly recommended to utilize the [Databricks CLI](https://docs.databricks.com/en/dev-tools/cli/index.html) to set secrets within your workspace for a secure experience.\n",
    "\n",
    "In order to safely store and access your API KEY for Azure OpenAI, ensure that you are setting the following when registering your secret:\n",
    "\n",
    "- **KEY_NAME**: The name that you will be setting for your Azure OpenAI Key\n",
    "- **SCOPE_NAME**: The referenced scope that your secret will reside in, within Databricks Secrets\n",
    "- **OPENAI_API_KEY**: Your Azure OpenAI Key\n",
    "\n",
    "As an example, you would set these keys through a terminal as follows:\n",
    "\n",
    "```bash\n",
    "    databricks secrets put-secret \"<SCOPE_NAME>\" \"<KEY_NAME>\" --string-value \"<OPENAI_API_KEY>\"\n",
    "```"
   ]
  },
  {
   "cell_type": "code",
   "execution_count": null,
   "metadata": {},
   "outputs": [],
   "source": [
    "# Set your Scope and Key Names that you used when registering your API KEY from the Databricks CLI\n",
    "# Do not put your OpenAI API Key in the notebook!\n",
    "SCOPE_NAME = ...\n",
    "KEY_NAME = ..."
   ]
  },
  {
   "cell_type": "code",
   "execution_count": null,
   "metadata": {
    "application/vnd.databricks.v1+cell": {
     "cellMetadata": {
      "byteLimit": 2048000,
      "rowLimit": 10000
     },
     "inputWidgets": {},
     "nuid": "19cb7955-5f15-48e9-896c-fcf36cb60782",
     "showTitle": false,
     "title": ""
    }
   },
   "outputs": [],
   "source": [
    "os.environ[\"OPENAI_API_KEY\"] = dbutils.secrets.get(scope=SCOPE_NAME, key=KEY_NAME)\n",
    "os.environ[\"OPENAI_API_TYPE\"] = \"azure\"\n",
    "os.environ[\"OPENAI_API_VERSION\"] = \"2023-05-15\"\n",
    "# Ensure that you set the name of your OPEN_API_BASE value to the name of your OpenAI instance on Azure\n",
    "os.environ[\"OPENAI_API_BASE\"] = \"https://<NAME_OF_YOUR_INSTANCE>.openai.azure.com/\"\n",
    "os.environ[\"OPENAI_DEPLOYMENT_NAME\"] = \"gpt-35-turbo\"\n",
    "os.environ[\"OPENAI_ENGINE\"] = \"gpt-35-turbo\""
   ]
  },
  {
   "cell_type": "markdown",
   "metadata": {
    "application/vnd.databricks.v1+cell": {
     "cellMetadata": {},
     "inputWidgets": {},
     "nuid": "96a5c4f9-8bd7-4e07-8caa-a80133d53433",
     "showTitle": false,
     "title": ""
    }
   },
   "source": [
    "## Create and Test Endpoint on MLflow for OpenAI"
   ]
  },
  {
   "cell_type": "code",
   "execution_count": null,
   "metadata": {
    "application/vnd.databricks.v1+cell": {
     "cellMetadata": {
      "byteLimit": 2048000,
      "rowLimit": 10000
     },
     "inputWidgets": {},
     "nuid": "ff5ecf97-c82c-4812-8b5b-05734bc2fded",
     "showTitle": false,
     "title": ""
    }
   },
   "outputs": [],
   "source": [
    "import mlflow\n",
    "import mlflow.deployments\n",
    "\n",
    "client = mlflow.deployments.get_deploy_client(\"databricks\")\n",
    "\n",
    "endpoint_name = \"<your-endpoint-name>\"\n",
    "client.create_endpoint(\n",
    "name=endpoint_name,\n",
    "config={\n",
    "        \"served_entities\": [\n",
    "            {\n",
    "                \"name\": \"test-gpt\",  # Provide a unique identifying name for your deployments endpoint\n",
    "                \"external_model\": {\n",
    "                    \"name\": \"gpt-3.5-turbo\",\n",
    "                    \"provider\": \"openai\",\n",
    "                    \"task\": \"llm/v1/completions\",\n",
    "                    \"openai_config\": {\n",
    "                        \"openai_api_type\": \"azure\",\n",
    "                        \"openai_api_key\": os.environ.get(\"OPENAI_API_KEY\"),\n",
    "                        \"openai_api_base\": os.environ.get(\"OPENAI_API_BASE\"),\n",
    "                        \"openai_deployment_name\": \"gpt-35-turbo\",\n",
    "                        \"openai_api_version\": \"2023-05-15\",\n",
    "                    },\n",
    "                },\n",
    "            }\n",
    "        ],\n",
    "    },\n",
    ")\n"
   ]
  },
  {
   "cell_type": "code",
   "execution_count": null,
   "metadata": {
    "application/vnd.databricks.v1+cell": {
     "cellMetadata": {
      "byteLimit": 2048000,
      "rowLimit": 10000
     },
     "inputWidgets": {},
     "nuid": "0e99f3b3-69b3-4a0c-82bb-d39170038b6a",
     "showTitle": false,
     "title": ""
    }
   },
   "outputs": [],
   "source": [
    "print(client.predict(\n",
    "    endpoint=endpoint_name,\n",
    "    inputs={\n",
    "        \"prompt\": \"How is Pi calculated? Be very concise.\",\n",
    "        \"max_tokens\": 100,\n",
    "    }\n",
    "))"
   ]
  },
  {
   "cell_type": "markdown",
   "metadata": {
    "application/vnd.databricks.v1+cell": {
     "cellMetadata": {},
     "inputWidgets": {},
     "nuid": "273d1345-95d7-435a-a7b6-a5f3dbb3f073",
     "showTitle": false,
     "title": ""
    }
   },
   "source": [
    "## Create RAG POC with LangChain and log with MLflow\n",
    "\n",
    "Use Langchain and Chroma to create a RAG system that answers questions based on the MLflow documentation."
   ]
  },
  {
   "cell_type": "code",
   "execution_count": null,
   "metadata": {
    "application/vnd.databricks.v1+cell": {
     "cellMetadata": {
      "byteLimit": 2048000,
      "rowLimit": 10000
     },
     "inputWidgets": {},
     "nuid": "c7f64bef-116d-48f0-98d7-a18f858a9b64",
     "showTitle": false,
     "title": ""
    }
   },
   "outputs": [],
   "source": [
    "import os\n",
    "import pandas as pd\n",
    "import mlflow\n",
    "import chromadb\n",
    "import openai\n",
    "from langchain import LLMChain, PromptTemplate\n",
    "from langchain.chains import RetrievalQA\n",
    "from langchain.document_loaders import WebBaseLoader\n",
    "from langchain.llms import OpenAI,Databricks \n",
    "from langchain.embeddings.databricks import DatabricksEmbeddings\n",
    "from langchain.text_splitter import CharacterTextSplitter\n",
    "from langchain.vectorstores import Chroma\n",
    "from langchain.embeddings.sentence_transformer import SentenceTransformerEmbeddings\n",
    "\n",
    "loader = WebBaseLoader(\n",
    "    [ \n",
    "     \"https://mlflow.org/docs/latest/index.html\",\n",
    "     \"https://mlflow.org/docs/latest/tracking/autolog.html\", \n",
    "     \"https://mlflow.org/docs/latest/getting-started/tracking-server-overview/index.html\",\n",
    "     \"https://mlflow.org/docs/latest/python_api/mlflow.deployments.html\" ])\n",
    "\n",
    "documents = loader.load()\n",
    "CHUNK_SIZE = 1000\n",
    "text_splitter = CharacterTextSplitter(chunk_size=CHUNK_SIZE, chunk_overlap=0)\n",
    "texts = text_splitter.split_documents(documents)\n",
    "\n",
    "llm = Databricks(\n",
    "    endpoint_name=\"test-endpoint-abraham-omor\",\n",
    "    extra_params={\"temperature\": 0.1,\n",
    "                 \"top_p\": 0.1,\n",
    "                 \"max_tokens\": 500,\n",
    "                 } #parameters used in AI Playground\n",
    ")\n",
    "\n",
    "\n",
    "# create the embedding function using Databricks Foundation Model APIs\n",
    "embedding_function = DatabricksEmbeddings(endpoint=\"databricks-bge-large-en\")\n",
    "docsearch = Chroma.from_documents(texts, embedding_function)\n",
    "\n",
    "qa = RetrievalQA.from_chain_type(\n",
    "    llm=llm,\n",
    "    chain_type=\"stuff\",\n",
    "    retriever=docsearch.as_retriever(fetch_k=3),\n",
    "    return_source_documents=True,\n",
    ")\n"
   ]
  },
  {
   "cell_type": "markdown",
   "metadata": {
    "application/vnd.databricks.v1+cell": {
     "cellMetadata": {},
     "inputWidgets": {},
     "nuid": "36b6749f-a42a-449e-9348-8bdabc3f76dd",
     "showTitle": false,
     "title": ""
    }
   },
   "source": [
    "## Evaluate the Vector Database and Retrieval using `mlflow.evaluate()`"
   ]
  },
  {
   "cell_type": "markdown",
   "metadata": {
    "application/vnd.databricks.v1+cell": {
     "cellMetadata": {},
     "inputWidgets": {},
     "nuid": "6bcacabf-3f1e-4622-82ca-f9045ebf77c6",
     "showTitle": false,
     "title": ""
    }
   },
   "source": [
    "### Create an eval dataset (Golden Dataset)"
   ]
  },
  {
   "cell_type": "markdown",
   "metadata": {
    "application/vnd.databricks.v1+cell": {
     "cellMetadata": {},
     "inputWidgets": {},
     "nuid": "54d629aa-7920-44d9-b896-a987adc5bffb",
     "showTitle": false,
     "title": ""
    }
   },
   "source": [
    "We can [leveraging the power of an LLM to generate synthetic data for testing](https://mlflow.org/docs/latest/llms/rag/notebooks/question-generation-retrieval-evaluation.html), offering a creative and efficient alternative. To our readers and customers, we emphasize the importance of crafting a dataset that mirrors the expected inputs and outputs of your RAG application. It's a journey worth taking for the incredible insights you'll gain!"
   ]
  },
  {
   "cell_type": "code",
   "execution_count": null,
   "metadata": {
    "application/vnd.databricks.v1+cell": {
     "cellMetadata": {
      "byteLimit": 2048000,
      "rowLimit": 10000
     },
     "inputWidgets": {},
     "nuid": "e6d59ea8-3586-459e-88e4-c3b774e415a9",
     "showTitle": false,
     "title": ""
    },
    "jupyter": {
     "outputs_hidden": true
    }
   },
   "outputs": [],
   "source": [
    "import ast\n",
    "\n",
    "EVALUATION_DATASET_PATH = \"https://raw.githubusercontent.com/mlflow/mlflow/master/examples/llms/RAG/static_evaluation_dataset.csv\"\n",
    "\n",
    "synthetic_eval_data = pd.read_csv(EVALUATION_DATASET_PATH)\n",
    "\n",
    "# Load the static evaluation dataset from disk and deserialize the source and retrieved doc ids\n",
    "synthetic_eval_data[\"source\"] = synthetic_eval_data[\"source\"].apply(ast.literal_eval)\n",
    "synthetic_eval_data[\"retrieved_doc_ids\"] = synthetic_eval_data[\"retrieved_doc_ids\"].apply(ast.literal_eval)"
   ]
  },
  {
   "cell_type": "code",
   "execution_count": null,
   "metadata": {
    "application/vnd.databricks.v1+cell": {
     "cellMetadata": {
      "byteLimit": 2048000,
      "rowLimit": 10000
     },
     "inputWidgets": {},
     "nuid": "78650ad4-0ea3-41a4-9298-47b47b1e112f",
     "showTitle": false,
     "title": ""
    }
   },
   "outputs": [],
   "source": [
    "display(synthetic_eval_data)"
   ]
  },
  {
   "cell_type": "markdown",
   "metadata": {
    "application/vnd.databricks.v1+cell": {
     "cellMetadata": {},
     "inputWidgets": {},
     "nuid": "33374a05-1992-4361-9c7b-3b1e1f8169cc",
     "showTitle": false,
     "title": ""
    }
   },
   "source": [
    "### Evaluate the Embedding Model with MLflow\n",
    "You can explore with the full dataset but let's demo with fewer data points"
   ]
  },
  {
   "cell_type": "code",
   "execution_count": null,
   "metadata": {
    "application/vnd.databricks.v1+cell": {
     "cellMetadata": {
      "byteLimit": 2048000,
      "rowLimit": 10000
     },
     "inputWidgets": {},
     "nuid": "30e2ac2a-40e7-4fb5-8850-95e51013a269",
     "showTitle": false,
     "title": ""
    }
   },
   "outputs": [],
   "source": [
    "eval_data = pd.DataFrame(\n",
    "    {\n",
    "        \"question\": [\n",
    "            \"What is MLflow?\",\n",
    "            \"What is Databricks?\",\n",
    "            \"How to serve a model on Databricks?\",\n",
    "            \"How to enable MLflow Autologging for my workspace by default?\",\n",
    "        ],\n",
    "        \"source\": [\n",
    "            [\"https://mlflow.org/docs/latest/index.html\"],\n",
    "            [\"https://mlflow.org/docs/latest/getting-started/tracking-server-overview/index.html\"],\n",
    "            [\"https://mlflow.org/docs/latest/python_api/mlflow.deployments.html\"],\n",
    "            [\"https://mlflow.org/docs/latest/tracking/autolog.html\"],\n",
    "        ],\n",
    "    }\n",
    ")\n"
   ]
  },
  {
   "cell_type": "code",
   "execution_count": null,
   "metadata": {
    "application/vnd.databricks.v1+cell": {
     "cellMetadata": {
      "byteLimit": 2048000,
      "rowLimit": 10000
     },
     "inputWidgets": {},
     "nuid": "de0be80f-2e00-4d3a-b05f-63c4c4359efe",
     "showTitle": false,
     "title": ""
    }
   },
   "outputs": [],
   "source": [
    "from typing import List\n",
    "from langchain.embeddings.sentence_transformer import SentenceTransformerEmbeddings\n",
    "\n",
    "def evaluate_embedding(embedding_function):\n",
    "    CHUNK_SIZE = 1000\n",
    "    list_of_documents = loader.load()\n",
    "    text_splitter = CharacterTextSplitter(chunk_size=CHUNK_SIZE, chunk_overlap=0)\n",
    "    docs = text_splitter.split_documents(list_of_documents)\n",
    "    retriever = Chroma.from_documents(docs, embedding_function).as_retriever()\n",
    "\n",
    "    def retrieve_doc_ids(question: str) -> List[str]:\n",
    "        docs = retriever.get_relevant_documents(question)\n",
    "        doc_ids = [doc.metadata[\"source\"] for doc in docs]\n",
    "        return doc_ids\n",
    "\n",
    "    def retriever_model_function(question_df: pd.DataFrame) -> pd.Series:\n",
    "        return question_df[\"question\"].apply(retrieve_doc_ids)\n",
    "\n",
    "    with mlflow.start_run() as run:\n",
    "        evaluate_results = mlflow.evaluate(\n",
    "                model=retriever_model_function,\n",
    "                data=eval_data,\n",
    "                model_type=\"retriever\",\n",
    "                targets=\"source\",\n",
    "                evaluators=\"default\",\n",
    "            )\n",
    "    return evaluate_results\n",
    "\n",
    "result1 = evaluate_embedding(DatabricksEmbeddings(endpoint=\"databricks-bge-large-en\"))\t\n",
    "#result2 = evaluate_embedding(SentenceTransformerEmbeddings(model_name=\"all-MiniLM-L6-v2\"))\n",
    "\n",
    "eval_results_of_retriever_df_bge = result1.tables[\"eval_results_table\"]\n",
    "#eval_results_of_retriever_df_MiniLM = result2.tables[\"eval_results_table\"]\n",
    "display(eval_results_of_retriever_df_bge)"
   ]
  },
  {
   "cell_type": "markdown",
   "metadata": {
    "application/vnd.databricks.v1+cell": {
     "cellMetadata": {},
     "inputWidgets": {},
     "nuid": "7fecbb62-44ec-4af4-aa5a-7aa79bfa0943",
     "showTitle": false,
     "title": ""
    }
   },
   "source": [
    "### Evaluate different Top K strategy with MLflow"
   ]
  },
  {
   "cell_type": "code",
   "execution_count": null,
   "metadata": {
    "application/vnd.databricks.v1+cell": {
     "cellMetadata": {
      "byteLimit": 2048000,
      "rowLimit": 10000
     },
     "inputWidgets": {},
     "nuid": "95a3acd8-170b-4e14-bc51-da977d2b1939",
     "showTitle": false,
     "title": ""
    }
   },
   "outputs": [],
   "source": [
    "with mlflow.start_run() as run:\n",
    "        evaluate_results = mlflow.evaluate(\n",
    "        data=eval_results_of_retriever_df_bge,\n",
    "        targets=\"source\",\n",
    "        predictions=\"outputs\",\n",
    "        evaluators=\"default\",\n",
    "        extra_metrics=[\n",
    "            mlflow.metrics.precision_at_k(1),\n",
    "            mlflow.metrics.precision_at_k(2),\n",
    "            mlflow.metrics.precision_at_k(3),\n",
    "            mlflow.metrics.recall_at_k(1),\n",
    "            mlflow.metrics.recall_at_k(2),\n",
    "            mlflow.metrics.recall_at_k(3),\n",
    "            mlflow.metrics.ndcg_at_k(1),\n",
    "            mlflow.metrics.ndcg_at_k(2),\n",
    "            mlflow.metrics.ndcg_at_k(3),\n",
    "        ],\n",
    "    )\n",
    "\n",
    "display(evaluate_results.tables[\"eval_results_table\"])"
   ]
  },
  {
   "cell_type": "markdown",
   "metadata": {
    "application/vnd.databricks.v1+cell": {
     "cellMetadata": {},
     "inputWidgets": {},
     "nuid": "74a52bda-1ea7-4f50-abac-e36d78e1b96b",
     "showTitle": false,
     "title": ""
    }
   },
   "source": [
    "### Evaluate the Chunking Strategy with MLflow"
   ]
  },
  {
   "cell_type": "code",
   "execution_count": null,
   "metadata": {
    "application/vnd.databricks.v1+cell": {
     "cellMetadata": {
      "byteLimit": 2048000,
      "rowLimit": 10000
     },
     "inputWidgets": {},
     "nuid": "d2c6bff7-d988-4f09-ac10-6c9ea14b9242",
     "showTitle": false,
     "title": ""
    }
   },
   "outputs": [],
   "source": [
    "from typing import List\n",
    "\n",
    "def evaluate_chunk_size(chunk_size):\n",
    "  list_of_documents = loader.load()\n",
    "  text_splitter = CharacterTextSplitter(chunk_size=chunk_size,chunk_overlap=0)\n",
    "  docs = text_splitter.split_documents(list_of_documents)\n",
    "  embedding_function = SentenceTransformerEmbeddings(model_name=\"all-MiniLM-L6-v2\")\n",
    "  retriever = Chroma.from_documents(docs, embedding_function).as_retriever()\n",
    "  \n",
    "  def retrieve_doc_ids(question: str) -> List[str]:\n",
    "    docs = retriever.get_relevant_documents(question)\n",
    "    doc_ids = [doc.metadata[\"source\"] for doc in docs]\n",
    "    return doc_ids\n",
    "   \n",
    "  def retriever_model_function(question_df: pd.DataFrame) -> pd.Series:\n",
    "    return question_df[\"question\"].apply(retrieve_doc_ids)\n",
    "\n",
    "  with mlflow.start_run() as run:\n",
    "      evaluate_results = mlflow.evaluate(\n",
    "          model=retriever_model_function,\n",
    "          data=eval_data,\n",
    "          model_type=\"retriever\",\n",
    "          targets=\"source\",\n",
    "          evaluators=\"default\",\n",
    "      )\n",
    "  return evaluate_results\n",
    "\n",
    "result1 = evaluate_chunk_size(1000)\n",
    "result2 = evaluate_chunk_size(2000)\n",
    "\n",
    "\n",
    "display(result1.tables[\"eval_results_table\"])\n",
    "display(result2.tables[\"eval_results_table\"])"
   ]
  },
  {
   "cell_type": "markdown",
   "metadata": {
    "application/vnd.databricks.v1+cell": {
     "cellMetadata": {},
     "inputWidgets": {},
     "nuid": "bd45cf0e-e139-4059-a2bd-6e4fc4d5d36e",
     "showTitle": false,
     "title": ""
    }
   },
   "source": [
    "## Evaluate the RAG system using `mlflow.evaluate()`\n",
    "Create a simple function that runs each input through the RAG chain"
   ]
  },
  {
   "cell_type": "code",
   "execution_count": null,
   "metadata": {
    "application/vnd.databricks.v1+cell": {
     "cellMetadata": {
      "byteLimit": 2048000,
      "rowLimit": 10000
     },
     "inputWidgets": {},
     "nuid": "667ec809-2bb5-4170-9937-6804386b41ec",
     "showTitle": false,
     "title": ""
    }
   },
   "outputs": [],
   "source": [
    "def model(input_df):\n",
    "    return input_df[\"questions\"].map(qa).tolist()"
   ]
  },
  {
   "cell_type": "markdown",
   "metadata": {
    "application/vnd.databricks.v1+cell": {
     "cellMetadata": {},
     "inputWidgets": {},
     "nuid": "d1064306-b7f3-4b3e-825c-4353d808f21d",
     "showTitle": false,
     "title": ""
    }
   },
   "source": [
    "## Create an eval dataset (Golden Dataset)"
   ]
  },
  {
   "cell_type": "code",
   "execution_count": null,
   "metadata": {
    "application/vnd.databricks.v1+cell": {
     "cellMetadata": {
      "byteLimit": 2048000,
      "rowLimit": 10000
     },
     "inputWidgets": {},
     "nuid": "a5481491-e4a9-42ea-8a3f-f527faffd04d",
     "showTitle": false,
     "title": ""
    }
   },
   "outputs": [],
   "source": [
    "eval_df = pd.DataFrame(\n",
    "    {\n",
    "        \"questions\": [\n",
    "            \"What is MLflow?\",\n",
    "            \"What is Databricks?\",\n",
    "            \"How to serve a model on Databricks?\",\n",
    "            \"How to enable MLflow Autologging for my workspace by default?\",\n",
    "        ],\n",
    "    }\n",
    ")\n",
    "display(eval_df)"
   ]
  },
  {
   "cell_type": "markdown",
   "metadata": {
    "application/vnd.databricks.v1+cell": {
     "cellMetadata": {},
     "inputWidgets": {},
     "nuid": "77f56ede-0b2d-449f-868c-e3a561ef28d0",
     "showTitle": false,
     "title": ""
    }
   },
   "source": [
    "## Evaluate using LLM as a Judge and Basic Metric\n",
    "\n",
    "Use relevance metric to determine the relevance of the answer and context. There are other metrics you can use too.\n"
   ]
  },
  {
   "cell_type": "code",
   "execution_count": null,
   "metadata": {
    "application/vnd.databricks.v1+cell": {
     "cellMetadata": {
      "byteLimit": 2048000,
      "rowLimit": 10000
     },
     "inputWidgets": {},
     "nuid": "a290ca1c-11c9-4025-9025-70807479f1e2",
     "showTitle": false,
     "title": ""
    }
   },
   "outputs": [],
   "source": [
    "from mlflow.deployments import set_deployments_target\n",
    "from  mlflow.metrics.genai.metric_definitions import relevance\n",
    "\n",
    "set_deployments_target(\"databricks\")  # To retrieve all endpoint in your Databricks Workspace\n",
    "\n",
    "relevance_metric = relevance(model=\"endpoints:/databricks-llama-2-70b-chat\")  # You can also use any model you have hosted on Databricks, models from the Marketplace or models in the Foundation model API\n",
    "\n",
    "with mlflow.start_run():\n",
    "    results =  mlflow.evaluate(\n",
    "        model,\n",
    "        eval_df,\n",
    "        model_type=\"question-answering\",\n",
    "        evaluators=\"default\",\n",
    "        predictions=\"result\",\n",
    "        extra_metrics=[relevance_metric, mlflow.metrics.latency()],\n",
    "        evaluator_config={\n",
    "            \"col_mapping\": {\n",
    "                \"inputs\": \"questions\",\n",
    "                \"context\": \"source_documents\",\n",
    "            }\n",
    "        }\n",
    "    )\n",
    "    print(results.metrics)\n",
    "\n",
    "display(results.tables[\"eval_results_table\"])"
   ]
  }
 ],
 "metadata": {
  "application/vnd.databricks.v1+notebook": {
   "dashboards": [
    {
     "elements": [
      {
       "dashboardResultIndex": 0,
       "elementNUID": "f55e4f48-684d-4903-8bd0-06ca638dcea9",
       "elementType": "command",
       "guid": "f9125ba6-77fb-411f-9859-66be60ebd6a5",
       "options": null,
       "position": {
        "height": 12,
        "width": 22,
        "x": 0,
        "y": 0,
        "z": null
       },
       "resultIndex": null
      }
     ],
     "globalVars": {},
     "guid": "",
     "layoutOption": {
      "grid": true,
      "stack": true
     },
     "nuid": "5cc44542-d2d1-4b49-9760-7d912cbd5a44",
     "origId": 2038904942228793,
     "title": "Untitled",
     "version": "DashboardViewV1",
     "width": 1024
    }
   ],
   "language": "python",
   "notebookMetadata": {
    "pythonIndentUnit": 2
   },
   "notebookName": "MLflow for e2e Evaluation Blog",
   "widgets": {}
  },
  "kernelspec": {
   "display_name": "mlflow-dev-env",
   "language": "python",
   "name": "python3"
  },
  "language_info": {
   "codemirror_mode": {
    "name": "ipython",
    "version": 3
   },
   "file_extension": ".py",
   "mimetype": "text/x-python",
   "name": "python",
   "nbconvert_exporter": "python",
   "pygments_lexer": "ipython3",
   "version": "3.8.17"
  }
 },
 "nbformat": 4,
 "nbformat_minor": 0
}
