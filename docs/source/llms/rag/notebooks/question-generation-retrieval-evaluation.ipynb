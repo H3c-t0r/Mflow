{
 "cells": [
  {
   "cell_type": "markdown",
   "metadata": {
    "application/vnd.databricks.v1+cell": {
     "cellMetadata": {},
     "inputWidgets": {},
     "nuid": "cd68bc70-d82e-4919-bc28-68b2450ed3eb",
     "showTitle": false,
     "title": ""
    }
   },
   "source": [
    "# Question Generation For Retrieval Evaluation\n",
    "MLflow provides an advanced framework for constructing Retrieval-Augmented Generation (RAG) models.\n",
    "RAG is a cutting edge approach that combines the strengths of retrieval models (a model that chooses and ranks relevant \n",
    "chunks of a document based on the user's question) and generative models.\n",
    "It effectively merges the capabilities of searching and generating text to provide responses that are contextually\n",
    "relevant and coherent, allowing the generated text to make reference to existing documents. RAG leverges the retriever to find context documents, and\n",
    "this novel approach has revolutionized various NLP tasks.\n",
    "\n",
    "Naturally, we want to be able to evaluate this retriever system for the RAG model to compare and judge its\n",
    "performance. To evaluate a retriever system, we would first need a test set of questions on the documents.\n",
    "These questions need to be diverse, relevant, and coherent. Manually generating questions may be challenging\n",
    "because it first requires you to understand the documents, and spend lots of time coming up with questions \n",
    "for them. \n",
    "\n",
    "We want to make this process simpler by utilizing an LLM to generate questions for this test set. This\n",
    "tutorial will walk through how to generate the questions and how to analyze the diversity and relevance\n",
    "of the questions."
   ]
  },
  {
   "cell_type": "markdown",
   "metadata": {
    "application/vnd.databricks.v1+cell": {
     "cellMetadata": {},
     "inputWidgets": {},
     "nuid": "b58f25ee-d0d6-4d9d-9cbb-dbbcaceebcdc",
     "showTitle": false,
     "title": ""
    }
   },
   "source": [
    "## Step 1: Install and Load Packages"
   ]
  },
  {
   "cell_type": "code",
   "execution_count": 1,
   "metadata": {
    "application/vnd.databricks.v1+cell": {
     "cellMetadata": {
      "byteLimit": 2048000,
      "rowLimit": 10000
     },
     "inputWidgets": {},
     "nuid": "5cbd5d73-4b97-46c8-a83d-9a3cb48901d1",
     "showTitle": false,
     "title": ""
    }
   },
   "outputs": [],
   "source": [
    "import os\n",
    "import json\n",
    "from langchain.text_splitter import CharacterTextSplitter\n",
    "import openai\n",
    "\n",
    "# For scraping\n",
    "import requests\n",
    "import pandas as pd\n",
    "from bs4 import BeautifulSoup\n",
    "\n",
    "# For data analysis and visualization\n",
    "import matplotlib.pyplot as plt\n",
    "import seaborn as sns\n",
    "from sklearn.decomposition import PCA\n",
    "from sklearn.manifold import TSNE\n",
    "from langchain.embeddings import OpenAIEmbeddings\n",
    "import numpy as np\n",
    "import random"
   ]
  },
  {
   "cell_type": "markdown",
   "metadata": {
    "application/vnd.databricks.v1+cell": {
     "cellMetadata": {},
     "inputWidgets": {},
     "nuid": "b0a21c3b-a534-46a2-891a-f2c737d52124",
     "showTitle": false,
     "title": ""
    }
   },
   "source": [
    "## Step 2: Set OpenAI Key\n",
    "The question generation system can be done using any LLM. We chose to use OpenAI here, so we will need their API key."
   ]
  },
  {
   "cell_type": "code",
   "execution_count": 2,
   "metadata": {
    "application/vnd.databricks.v1+cell": {
     "cellMetadata": {
      "byteLimit": 2048000,
      "rowLimit": 10000
     },
     "inputWidgets": {},
     "nuid": "4b6cb5cd-e6f9-47ce-ad78-6c4a9266879f",
     "showTitle": false,
     "title": ""
    }
   },
   "outputs": [],
   "source": [
    "openai.api_key = \"<redacted>\"\n",
    "os.environ[\"OPENAI_API_KEY\"] = openai.api_key"
   ]
  },
  {
   "cell_type": "markdown",
   "metadata": {
    "application/vnd.databricks.v1+cell": {
     "cellMetadata": {},
     "inputWidgets": {},
     "nuid": "db7d1074-b850-4318-9681-e0629a78682e",
     "showTitle": false,
     "title": ""
    }
   },
   "source": [
    "## Step 3: Decide on Chunk Size"
   ]
  },
  {
   "cell_type": "code",
   "execution_count": 3,
   "metadata": {
    "application/vnd.databricks.v1+cell": {
     "cellMetadata": {
      "byteLimit": 2048000,
      "rowLimit": 10000
     },
     "inputWidgets": {},
     "nuid": "b1ce021d-47f6-44e7-9626-4c2d69db10fe",
     "showTitle": false,
     "title": ""
    }
   },
   "outputs": [],
   "source": [
    "CHUNK_SIZE = 1500\n",
    "# Choose a seed for reproducible results\n",
    "SEED = 2023"
   ]
  },
  {
   "cell_type": "markdown",
   "metadata": {
    "application/vnd.databricks.v1+cell": {
     "cellMetadata": {},
     "inputWidgets": {},
     "nuid": "28cd0b69-59e7-42e1-b5d7-c4346c5ed898",
     "showTitle": false,
     "title": ""
    }
   },
   "source": [
    "## Step 4: Prepare Document Data"
   ]
  },
  {
   "cell_type": "markdown",
   "metadata": {
    "application/vnd.databricks.v1+cell": {
     "cellMetadata": {},
     "inputWidgets": {},
     "nuid": "0e50b398-04be-4746-8bcc-0dcd6f413bce",
     "showTitle": false,
     "title": ""
    }
   },
   "source": [
    "### 4.1 Scrape the documents from the MLflow website"
   ]
  },
  {
   "cell_type": "code",
   "execution_count": 4,
   "metadata": {
    "application/vnd.databricks.v1+cell": {
     "cellMetadata": {
      "byteLimit": 2048000,
      "rowLimit": 10000
     },
     "inputWidgets": {},
     "nuid": "5eaa267e-925f-4e53-93e8-891eeca3f56e",
     "showTitle": false,
     "title": ""
    }
   },
   "outputs": [
    {
     "name": "stderr",
     "output_type": "stream",
     "text": [
      "/Users/liang.zhang/miniconda3/envs/mlflow-dev-env/lib/python3.8/site-packages/bs4/builder/__init__.py:545: XMLParsedAsHTMLWarning: It looks like you're parsing an XML document using an HTML parser. If this really is an HTML document (maybe it's XHTML?), you can ignore or filter this warning. If it's XML, you should know that using an XML parser will be more reliable. To parse this document as XML, make sure you have the lxml package installed, and pass the keyword argument `features=\"xml\"` into the BeautifulSoup constructor.\n",
      "  warnings.warn(\n"
     ]
    },
    {
     "data": {
      "text/html": [
       "<div>\n",
       "<style scoped>\n",
       "    .dataframe tbody tr th:only-of-type {\n",
       "        vertical-align: middle;\n",
       "    }\n",
       "\n",
       "    .dataframe tbody tr th {\n",
       "        vertical-align: top;\n",
       "    }\n",
       "\n",
       "    .dataframe thead th {\n",
       "        text-align: right;\n",
       "    }\n",
       "</style>\n",
       "<table border=\"1\" class=\"dataframe\">\n",
       "  <thead>\n",
       "    <tr style=\"text-align: right;\">\n",
       "      <th></th>\n",
       "      <th>source</th>\n",
       "      <th>text</th>\n",
       "    </tr>\n",
       "  </thead>\n",
       "  <tbody>\n",
       "    <tr>\n",
       "      <th>0</th>\n",
       "      <td>introduction/index.html</td>\n",
       "      <td>Documentation  What is MLflow?       What i...</td>\n",
       "    </tr>\n",
       "    <tr>\n",
       "      <th>1</th>\n",
       "      <td>getting-started/index.html</td>\n",
       "      <td>Documentation  Getting Started with MLflow ...</td>\n",
       "    </tr>\n",
       "    <tr>\n",
       "      <th>2</th>\n",
       "      <td>new-features/index.html</td>\n",
       "      <td>Documentation  New Features       New Featu...</td>\n",
       "    </tr>\n",
       "  </tbody>\n",
       "</table>\n",
       "</div>"
      ],
      "text/plain": [
       "                       source  \\\n",
       "0     introduction/index.html   \n",
       "1  getting-started/index.html   \n",
       "2     new-features/index.html   \n",
       "\n",
       "                                                text  \n",
       "0     Documentation  What is MLflow?       What i...  \n",
       "1     Documentation  Getting Started with MLflow ...  \n",
       "2     Documentation  New Features       New Featu...  "
      ]
     },
     "execution_count": 4,
     "metadata": {},
     "output_type": "execute_result"
    }
   ],
   "source": [
    "page = requests.get(\"https://mlflow.org/docs/latest/index.html\")\n",
    "soup = BeautifulSoup(page.content, \"html.parser\")\n",
    "\n",
    "mainLocation = \"https://mlflow.org/docs/latest/\"\n",
    "header = {\n",
    "    \"User-Agent\": \"Mozilla/5.0 (X11; Linux x86_64) AppleWebKit/537.11 (KHTML, like Gecko) Chrome/23.0.1271.64 Safari/537.11\",\n",
    "    \"Accept-Language\": \"en-US,en;q=0.8\",\n",
    "    \"Connection\": \"keep-alive\",\n",
    "}\n",
    "\n",
    "data = []\n",
    "for a_link in soup.find_all(\"a\"):\n",
    "    document_url = mainLocation + a_link[\"href\"]\n",
    "    page = requests.get(document_url, headers=header)\n",
    "    soup = BeautifulSoup(page.content, \"html.parser\")\n",
    "    file_to_store = a_link.get(\"href\")\n",
    "    if soup.find(\"div\", {\"class\": \"rst-content\"}):\n",
    "        data.append(\n",
    "            [file_to_store, soup.find(\"div\", {\"class\": \"rst-content\"}).text.replace(\"\\n\", \" \")]\n",
    "        )\n",
    "\n",
    "df = pd.DataFrame(data, columns=[\"source\", \"text\"])\n",
    "df.head(3)"
   ]
  },
  {
   "cell_type": "code",
   "execution_count": 5,
   "metadata": {
    "application/vnd.databricks.v1+cell": {
     "cellMetadata": {
      "byteLimit": 2048000,
      "rowLimit": 10000
     },
     "inputWidgets": {},
     "nuid": "d6661fd5-8920-4801-a6af-388191b2a28e",
     "showTitle": false,
     "title": ""
    }
   },
   "outputs": [],
   "source": [
    "# Save the results to the disk and load them back to avoid re-running the scraping process\n",
    "# if you want to re-run the rest of the notebook with different parameters\n",
    "df.to_csv(\"mlflow_docs_scraped.csv\", index=False)\n",
    "df = pd.read_csv(\"mlflow_docs_scraped.csv\")"
   ]
  },
  {
   "cell_type": "markdown",
   "metadata": {
    "application/vnd.databricks.v1+cell": {
     "cellMetadata": {},
     "inputWidgets": {},
     "nuid": "eb1014bb-559b-4fde-8788-0a7c926adc4b",
     "showTitle": false,
     "title": ""
    }
   },
   "source": [
    "### 4.2 Select a subset of the documents and split them into chunks"
   ]
  },
  {
   "cell_type": "code",
   "execution_count": 6,
   "metadata": {
    "application/vnd.databricks.v1+cell": {
     "cellMetadata": {
      "byteLimit": 2048000,
      "rowLimit": 10000
     },
     "inputWidgets": {},
     "nuid": "2d85e38d-2b3a-4ab3-adb4-5b3ca214fa52",
     "showTitle": false,
     "title": ""
    }
   },
   "outputs": [],
   "source": [
    "# For demonstration purposes, let's pick 5 popular MLflow documantation pages from the dataset\n",
    "mask = df[\"source\"].isin(\n",
    "    {\n",
    "        \"tracking.html\",\n",
    "        \"models.html\",\n",
    "        \"model-registry.html\",\n",
    "        \"search-runs.html\",\n",
    "        \"projects.html\",\n",
    "    }\n",
    ")\n",
    "sub_df = df[mask]"
   ]
  },
  {
   "cell_type": "code",
   "execution_count": 7,
   "metadata": {
    "application/vnd.databricks.v1+cell": {
     "cellMetadata": {
      "byteLimit": 2048000,
      "rowLimit": 10000
     },
     "inputWidgets": {},
     "nuid": "49f3aaa3-ef58-4da1-9689-62d52bcf3a2b",
     "showTitle": false,
     "title": ""
    }
   },
   "outputs": [
    {
     "data": {
      "text/html": [
       "<div>\n",
       "<style scoped>\n",
       "    .dataframe tbody tr th:only-of-type {\n",
       "        vertical-align: middle;\n",
       "    }\n",
       "\n",
       "    .dataframe tbody tr th {\n",
       "        vertical-align: top;\n",
       "    }\n",
       "\n",
       "    .dataframe thead th {\n",
       "        text-align: right;\n",
       "    }\n",
       "</style>\n",
       "<table border=\"1\" class=\"dataframe\">\n",
       "  <thead>\n",
       "    <tr style=\"text-align: right;\">\n",
       "      <th></th>\n",
       "      <th>chunk</th>\n",
       "      <th>source</th>\n",
       "      <th>chunk_index</th>\n",
       "    </tr>\n",
       "  </thead>\n",
       "  <tbody>\n",
       "    <tr>\n",
       "      <th>0</th>\n",
       "      <td>Documentation MLflow Tracking MLflow Tracking ...</td>\n",
       "      <td>tracking.html</td>\n",
       "      <td>0</td>\n",
       "    </tr>\n",
       "    <tr>\n",
       "      <th>1</th>\n",
       "      <td>Tags Concepts MLflow Tracking is organized aro...</td>\n",
       "      <td>tracking.html</td>\n",
       "      <td>1</td>\n",
       "    </tr>\n",
       "    <tr>\n",
       "      <th>2</th>\n",
       "      <td>runs into experiments, which group together ru...</td>\n",
       "      <td>tracking.html</td>\n",
       "      <td>2</td>\n",
       "    </tr>\n",
       "    <tr>\n",
       "      <th>3</th>\n",
       "      <td>or as databricks://&lt;profileName&gt;, a Databricks...</td>\n",
       "      <td>tracking.html</td>\n",
       "      <td>3</td>\n",
       "    </tr>\n",
       "    <tr>\n",
       "      <th>4</th>\n",
       "      <td>Many developers run MLflow on their local mach...</td>\n",
       "      <td>tracking.html</td>\n",
       "      <td>4</td>\n",
       "    </tr>\n",
       "    <tr>\n",
       "      <th>...</th>\n",
       "      <td>...</td>\n",
       "      <td>...</td>\n",
       "      <td>...</td>\n",
       "    </tr>\n",
       "    <tr>\n",
       "      <th>248</th>\n",
       "      <td>Containing Special Characters When a metric, p...</td>\n",
       "      <td>search-runs.html</td>\n",
       "      <td>2</td>\n",
       "    </tr>\n",
       "    <tr>\n",
       "      <th>249</th>\n",
       "      <td>= 'models:/mymodel/1' attributes.status = 'ACT...</td>\n",
       "      <td>search-runs.html</td>\n",
       "      <td>3</td>\n",
       "    </tr>\n",
       "    <tr>\n",
       "      <th>250</th>\n",
       "      <td>expression to be a constant. The type of the c...</td>\n",
       "      <td>search-runs.html</td>\n",
       "      <td>4</td>\n",
       "    </tr>\n",
       "    <tr>\n",
       "      <th>251</th>\n",
       "      <td>run_view_type=ViewType.ACTIVE_ONLY, max_result...</td>\n",
       "      <td>search-runs.html</td>\n",
       "      <td>5</td>\n",
       "    </tr>\n",
       "    <tr>\n",
       "      <th>252</th>\n",
       "      <td>API. List&lt;Long&gt; experimentIds = Arrays.asList(...</td>\n",
       "      <td>search-runs.html</td>\n",
       "      <td>6</td>\n",
       "    </tr>\n",
       "  </tbody>\n",
       "</table>\n",
       "<p>253 rows × 3 columns</p>\n",
       "</div>"
      ],
      "text/plain": [
       "                                                 chunk            source  \\\n",
       "0    Documentation MLflow Tracking MLflow Tracking ...     tracking.html   \n",
       "1    Tags Concepts MLflow Tracking is organized aro...     tracking.html   \n",
       "2    runs into experiments, which group together ru...     tracking.html   \n",
       "3    or as databricks://<profileName>, a Databricks...     tracking.html   \n",
       "4    Many developers run MLflow on their local mach...     tracking.html   \n",
       "..                                                 ...               ...   \n",
       "248  Containing Special Characters When a metric, p...  search-runs.html   \n",
       "249  = 'models:/mymodel/1' attributes.status = 'ACT...  search-runs.html   \n",
       "250  expression to be a constant. The type of the c...  search-runs.html   \n",
       "251  run_view_type=ViewType.ACTIVE_ONLY, max_result...  search-runs.html   \n",
       "252  API. List<Long> experimentIds = Arrays.asList(...  search-runs.html   \n",
       "\n",
       "    chunk_index  \n",
       "0             0  \n",
       "1             1  \n",
       "2             2  \n",
       "3             3  \n",
       "4             4  \n",
       "..          ...  \n",
       "248           2  \n",
       "249           3  \n",
       "250           4  \n",
       "251           5  \n",
       "252           6  \n",
       "\n",
       "[253 rows x 3 columns]"
      ]
     },
     "execution_count": 7,
     "metadata": {},
     "output_type": "execute_result"
    }
   ],
   "source": [
    "# Split documents into chunks\n",
    "text_splitter = CharacterTextSplitter(chunk_size=CHUNK_SIZE, separator=\" \")\n",
    "\n",
    "\n",
    "def get_chunks(input_row):\n",
    "    new_rows = []\n",
    "    chunks = text_splitter.split_text(input_row[\"text\"])\n",
    "    for i, chunk in enumerate(chunks):\n",
    "        new_rows.append({\"chunk\": chunk, \"source\": input_row[\"source\"], \"chunk_index\": i})\n",
    "    return new_rows\n",
    "\n",
    "\n",
    "expanded_df = pd.DataFrame(columns=[\"chunk\", \"source\", \"chunk_index\"])\n",
    "\n",
    "for index, row in sub_df.iterrows():\n",
    "    new_rows = get_chunks(row)\n",
    "    expanded_df = pd.concat([expanded_df, pd.DataFrame(new_rows)], ignore_index=True)\n",
    "\n",
    "expanded_df"
   ]
  },
  {
   "cell_type": "code",
   "execution_count": 12,
   "metadata": {
    "application/vnd.databricks.v1+cell": {
     "cellMetadata": {
      "byteLimit": 2048000,
      "rowLimit": 10000
     },
     "inputWidgets": {},
     "nuid": "d1743300-f55d-4a93-9bbe-70fbe47f022e",
     "showTitle": false,
     "title": ""
    },
    "jupyter": {
     "outputs_hidden": true
    }
   },
   "outputs": [],
   "source": [
    "# For cost-saving purposes, let's pick the first 4 chunks from each doc\n",
    "# To generate questions with more chunks, change the start index and end index in iloc[]\n",
    "grouped = expanded_df.groupby(\"source\")\n",
    "filtered_df = pd.DataFrame()\n",
    "for name, group in grouped:\n",
    "    filtered_df = pd.concat([filtered_df, group.iloc[0:4]])\n",
    "filtered_df = filtered_df.reset_index(drop=True)"
   ]
  },
  {
   "cell_type": "markdown",
   "metadata": {
    "application/vnd.databricks.v1+cell": {
     "cellMetadata": {},
     "inputWidgets": {},
     "nuid": "fd2fac88-c82d-4d56-abd5-73abc951bd00",
     "showTitle": false,
     "title": ""
    }
   },
   "source": [
    "## Step 5: Generate questions\n",
    "The prompt below instructs the LLM to generate a question for each given chunk, and also generate an answer to the question to make it easier to do human validation. Also, return the results in a structured format.\n",
    "\n",
    "This example uses OpenAI's gpt-3.5-turbo model to generate the questions, you can replace it with the LLM that works best for your use case."
   ]
  },
  {
   "cell_type": "code",
   "execution_count": 9,
   "metadata": {
    "application/vnd.databricks.v1+cell": {
     "cellMetadata": {
      "byteLimit": 2048000,
      "rowLimit": 10000
     },
     "inputWidgets": {},
     "nuid": "1d34bd7e-b982-44ba-83d9-ee8ab3adc34f",
     "showTitle": false,
     "title": ""
    }
   },
   "outputs": [],
   "source": [
    "def generate_question_answer(content):\n",
    "    prompt = f\"\"\"Please generate a question asking for the key information in the given paragraph. Also answer the questions using the information in the given paragraph. Please ask the specific question instead of the general question, like 'What is the key information in the given paragraph?'. Please generate the answer using as much information as possible. If you are unable to answer it, please generate the answer as 'I don't know.' The answer should be informative and should be more than 3 sentences.\n",
    "    \n",
    "Paragraph: {content}\n",
    "\n",
    "Please call the submit_function function to submit the generated question and answer.\n",
    "    \"\"\"\n",
    "\n",
    "    messages = [{\"role\": \"user\", \"content\": prompt}]\n",
    "\n",
    "    submit_function = {\n",
    "        \"name\": \"submit_function\",\n",
    "        \"description\": \"Call this function to submit the generated question and answer.\",\n",
    "        \"parameters\": {\n",
    "            \"type\": \"object\",\n",
    "            \"properties\": {\n",
    "                \"question\": {\n",
    "                    \"type\": \"string\",\n",
    "                    \"description\": \"The question asking for the key information in the given paragraph.\",\n",
    "                },\n",
    "                \"answer\": {\n",
    "                    \"type\": \"string\",\n",
    "                    \"description\": \"The answer to the question using the information in the given paragraph.\",\n",
    "                },\n",
    "            },\n",
    "            \"required\": [\"question\", \"answer\"],\n",
    "        },\n",
    "    }\n",
    "\n",
    "    response = openai.ChatCompletion.create(\n",
    "        messages=messages,\n",
    "        model=\"gpt-3.5-turbo\",\n",
    "        functions=[submit_function],\n",
    "        function_call=\"auto\",\n",
    "        temperature=0.0,\n",
    "        seed=SEED,\n",
    "    )\n",
    "    try:\n",
    "        func_args = json.loads(response[\"choices\"][0][\"message\"][\"function_call\"][\"arguments\"])\n",
    "        question = func_args[\"question\"]\n",
    "        answer = func_args[\"answer\"]\n",
    "        return question, answer\n",
    "    except Exception as e:\n",
    "        return str(e), \"N/A\""
   ]
  },
  {
   "cell_type": "code",
   "execution_count": 10,
   "metadata": {
    "application/vnd.databricks.v1+cell": {
     "cellMetadata": {},
     "inputWidgets": {},
     "nuid": "844b40f2-533f-4ee5-9162-0091935cb8fd",
     "showTitle": false,
     "title": ""
    }
   },
   "outputs": [],
   "source": [
    "queries = []"
   ]
  },
  {
   "cell_type": "code",
   "execution_count": null,
   "metadata": {
    "application/vnd.databricks.v1+cell": {
     "cellMetadata": {
      "byteLimit": 2048000,
      "rowLimit": 10000
     },
     "inputWidgets": {},
     "nuid": "b88bd73d-222f-42c4-ada4-f251d40c2da2",
     "showTitle": false,
     "title": ""
    }
   },
   "outputs": [],
   "source": [
    "n = len(filtered_df)\n",
    "for i, row in filtered_df.iterrows():\n",
    "    chunk = row[\"chunk\"]\n",
    "    question, answer = generate_question_answer(chunk)\n",
    "    print(f\"{i+1}/{n}: {question}\")\n",
    "    queries.append(\n",
    "        {\n",
    "            \"question\": question,\n",
    "            \"answer\": answer,\n",
    "            \"chunk\": chunk,\n",
    "            \"chunk_id\": row[\"chunk_index\"],\n",
    "            \"source\": row[\"source\"],\n",
    "        }\n",
    "    )\n",
    "result_df = pd.DataFrame(queries)"
   ]
  },
  {
   "cell_type": "markdown",
   "metadata": {
    "application/vnd.databricks.v1+cell": {
     "cellMetadata": {
      "byteLimit": 2048000,
      "rowLimit": 10000
     },
     "inputWidgets": {},
     "nuid": "eca136f3-b6dc-41c1-a195-08653ccc349d",
     "showTitle": false,
     "title": ""
    }
   },
   "source": [
    "Sometimes, the LLM may fail to generate a question. We can examine the data above to see whether there are any errors. If so, remove the error records."
   ]
  },
  {
   "cell_type": "code",
   "execution_count": null,
   "metadata": {
    "application/vnd.databricks.v1+cell": {
     "cellMetadata": {
      "byteLimit": 2048000,
      "rowLimit": 10000
     },
     "inputWidgets": {},
     "nuid": "f3c60e95-2bfa-4724-b2d2-27415f4d6d2b",
     "showTitle": false,
     "title": ""
    },
    "jupyter": {
     "outputs_hidden": true
    }
   },
   "outputs": [],
   "source": [
    "result_df = result_df[result_df[\"answer\"] != \"N/A\"]"
   ]
  },
  {
   "cell_type": "code",
   "execution_count": 13,
   "metadata": {
    "application/vnd.databricks.v1+cell": {
     "cellMetadata": {
      "byteLimit": 2048000,
      "rowLimit": 10000
     },
     "inputWidgets": {},
     "nuid": "80cacc85-5358-47e2-b0f5-c47cab8dbff5",
     "showTitle": false,
     "title": ""
    }
   },
   "outputs": [],
   "source": [
    "# Save the results to a csv file\n",
    "result_df.to_csv(\"question_answer_source.csv\")\n",
    "result_df = pd.read_csv(\"question_answer_source.csv\")"
   ]
  },
  {
   "cell_type": "markdown",
   "metadata": {
    "application/vnd.databricks.v1+cell": {
     "cellMetadata": {},
     "inputWidgets": {},
     "nuid": "03138482-c22e-4e05-ac15-f860544f1d87",
     "showTitle": false,
     "title": ""
    }
   },
   "source": [
    "## Quality Analysis of Questions Generated (Optional)\n",
    "If you would like to compare quality of questions generated across different prompts, we can\n",
    "analyze the quality of questions manually and in aggregate. We want to evaluate questions \n",
    "along two dimensions - their diversity and relevance.\n",
    "\n",
    "Note: There isn't a well-defined way to analyze the quality of generated questions, so this is just one approach you can take to gain insight into how diverse and relevant your generated questions are."
   ]
  },
  {
   "cell_type": "markdown",
   "metadata": {
    "application/vnd.databricks.v1+cell": {
     "cellMetadata": {},
     "inputWidgets": {},
     "nuid": "5df96390-b4db-4c47-8e80-34d0a1f404a7",
     "showTitle": false,
     "title": ""
    }
   },
   "source": [
    "### Evaluating Diversity of Questions\n",
    "\n",
    "Diversity of questions is important because we want questions to cover the majority of the\n",
    "document content. In addition, we want to be able to evaluate the retriever with different \n",
    "forms of questioning. We want to be able to have harder questions and easier questions. All\n",
    "of these are not straightforward to analyze, and we decided to analyze its through question\n",
    "length and latent space embeddings."
   ]
  },
  {
   "cell_type": "markdown",
   "metadata": {
    "application/vnd.databricks.v1+cell": {
     "cellMetadata": {},
     "inputWidgets": {},
     "nuid": "f9f3e4b3-4988-4570-a687-e762c6bac202",
     "showTitle": false,
     "title": ""
    }
   },
   "source": [
    "#### Length\n",
    "Length gives a sense of how diverse the questions are. Some questions may be wordy while\n",
    "others are straight to the point. It also allows us to identify problems with the question\n",
    "generated. For example, you may identify some questions to have a length of 0."
   ]
  },
  {
   "cell_type": "code",
   "execution_count": 14,
   "metadata": {
    "application/vnd.databricks.v1+cell": {
     "cellMetadata": {
      "byteLimit": 2048000,
      "rowLimit": 10000
     },
     "inputWidgets": {},
     "nuid": "3222af59-f1e3-477f-a13e-52428044a09a",
     "showTitle": false,
     "title": ""
    }
   },
   "outputs": [
    {
     "data": {
      "image/png": "[encoded data removed]",
      "text/plain": [
       "<Figure size 640x480 with 1 Axes>"
      ]
     },
     "metadata": {},
     "output_type": "display_data"
    }
   ],
   "source": [
    "# Length\n",
    "questions = result_df[\"question\"].to_list()\n",
    "question_len = pd.DataFrame([len(q) for q in questions], columns=[\"length\"])\n",
    "question_len.hist(bins=5)\n",
    "plt.title(\"Histogram of Question Lengths\")\n",
    "plt.xlabel(\"Question Length\")\n",
    "plt.ylabel(\"Frequency\")\n",
    "plt.show()"
   ]
  },
  {
   "cell_type": "markdown",
   "metadata": {
    "application/vnd.databricks.v1+cell": {
     "cellMetadata": {},
     "inputWidgets": {},
     "nuid": "9d6f9401-ed13-4a2e-9336-2ae0bc031a5f",
     "showTitle": false,
     "title": ""
    }
   },
   "source": [
    "In addition to visual representation, we also want to look at more concrete percentile values.\n"
   ]
  },
  {
   "cell_type": "code",
   "execution_count": 15,
   "metadata": {
    "application/vnd.databricks.v1+cell": {
     "cellMetadata": {
      "byteLimit": 2048000,
      "rowLimit": 10000
     },
     "inputWidgets": {},
     "nuid": "d31fbb55-0504-4f14-aeb5-5e48912f3275",
     "showTitle": false,
     "title": ""
    }
   },
   "outputs": [
    {
     "name": "stdout",
     "output_type": "stream",
     "text": [
      "p10-p90 range is 45\n"
     ]
    }
   ],
   "source": [
    "# Calculating percentile values\n",
    "p10 = int(question_len[\"length\"].quantile(0.10))\n",
    "p90 = int(question_len[\"length\"].quantile(0.90))\n",
    "print(\"p10-p90 range is\", p90 - p10)"
   ]
  },
  {
   "cell_type": "markdown",
   "metadata": {
    "application/vnd.databricks.v1+cell": {
     "cellMetadata": {},
     "inputWidgets": {},
     "nuid": "37cc6a27-434b-47b5-906a-b8b0f42e8fc8",
     "showTitle": false,
     "title": ""
    }
   },
   "source": [
    "There are also a couple queries that are longer than normal. However, these seem fine."
   ]
  },
  {
   "cell_type": "code",
   "execution_count": 16,
   "metadata": {
    "application/vnd.databricks.v1+cell": {
     "cellMetadata": {
      "byteLimit": 2048000,
      "rowLimit": 10000
     },
     "inputWidgets": {},
     "nuid": "40808ff8-d227-427a-89ae-beeac614dfa0",
     "showTitle": false,
     "title": ""
    }
   },
   "outputs": [
    {
     "data": {
      "text/plain": [
       "['What is a common configuration for lowering the total memory pressure for pytorch models within transformers pipelines?',\n",
       " 'How can you get all active runs from experiments IDs 3, 4, and 17 that used a CNN model with 10 layers and had a prediction accuracy of 94.5% or higher?',\n",
       " 'How can you get all active runs from experiments IDs 3, 4, and 17 that used a CNN model with 10 layers and had a prediction accuracy of 94.5% or higher?',\n",
       " 'What interfaces does the MLflow client use to record MLflow entities and artifacts when running MLflow on a local machine with a SQLAlchemy-compatible database?']"
      ]
     },
     "execution_count": 16,
     "metadata": {},
     "output_type": "execute_result"
    }
   ],
   "source": [
    "[q for q in questions if len(q) > 100]"
   ]
  },
  {
   "cell_type": "markdown",
   "metadata": {
    "application/vnd.databricks.v1+cell": {
     "cellMetadata": {},
     "inputWidgets": {},
     "nuid": "e6c43c4e-2b9a-4071-bce8-be87c2484383",
     "showTitle": false,
     "title": ""
    }
   },
   "source": [
    "#### Latent Space\n",
    "Latent space embeddings contain semantic information about the question. This can be used to \n",
    "evaluate the diversity and the difference between two questions semantically. To do so, we will need to map the\n",
    "high dimensional space to a lower dimensional space. We utilize PCA and TSNE to map the embeddings \n",
    "into a 2-dimensional space for visualization."
   ]
  },
  {
   "cell_type": "markdown",
   "metadata": {
    "application/vnd.databricks.v1+cell": {
     "cellMetadata": {},
     "inputWidgets": {},
     "nuid": "0f056942-595a-46d1-9b69-c5efa08aa5f3",
     "showTitle": false,
     "title": ""
    }
   },
   "source": [
    "We append 5 benchmark queries to help visualize how diverse the questions are. The first four of these questions are semantically similar and all asking about MLflow, while the last is different and refers to RAG."
   ]
  },
  {
   "cell_type": "code",
   "execution_count": 17,
   "metadata": {
    "application/vnd.databricks.v1+cell": {
     "cellMetadata": {
      "byteLimit": 2048000,
      "rowLimit": 10000
     },
     "inputWidgets": {},
     "nuid": "4e52277d-939e-4447-999e-9728b3db8c58",
     "showTitle": false,
     "title": ""
    }
   },
   "outputs": [],
   "source": [
    "benchmark_questions = [\n",
    "    \"What is MLflow?\",\n",
    "    \"What is MLflow about?\",\n",
    "    \"What is MLflow Tracking?\",\n",
    "    \"What is MLflow Evaluation?\",\n",
    "    \"Why is RAG so popular?\",\n",
    "]\n",
    "questions_to_embed = questions + benchmark_questions"
   ]
  },
  {
   "cell_type": "markdown",
   "metadata": {
    "application/vnd.databricks.v1+cell": {
     "cellMetadata": {},
     "inputWidgets": {},
     "nuid": "3c772b11-337b-4d0e-99f3-86a79158c686",
     "showTitle": false,
     "title": ""
    }
   },
   "source": [
    "We apply PCA to reduce the embedding dimensions to 10 before applying TSNE to reduce it to 2 dimensions, as recommended by sklearn due to the computational complexity of TSNE."
   ]
  },
  {
   "cell_type": "code",
   "execution_count": 18,
   "metadata": {
    "application/vnd.databricks.v1+cell": {
     "cellMetadata": {
      "byteLimit": 2048000,
      "rowLimit": 10000
     },
     "inputWidgets": {},
     "nuid": "5c9aa32e-8168-417d-89f1-5fdf65e91491",
     "showTitle": false,
     "title": ""
    }
   },
   "outputs": [],
   "source": [
    "# Apply embeddings\n",
    "embeddings = OpenAIEmbeddings()\n",
    "question_embeddings = embeddings.embed_documents(questions_to_embed)\n",
    "# PCA on embeddings to reduce to 10-dim\n",
    "pca = PCA(n_components=10)\n",
    "question_embeddings_reduced = pca.fit_transform(question_embeddings)\n",
    "# TSNE on embeddings to reduce to 2-dim\n",
    "tsne = TSNE(n_components=2, random_state=SEED)\n",
    "lower_dim_embeddings = tsne.fit_transform(question_embeddings_reduced)"
   ]
  },
  {
   "cell_type": "markdown",
   "metadata": {
    "application/vnd.databricks.v1+cell": {
     "cellMetadata": {},
     "inputWidgets": {},
     "nuid": "44cc8950-679d-4d65-ad43-0c18cd46c8bc",
     "showTitle": false,
     "title": ""
    }
   },
   "source": [
    "Now that we have 2-dimensional embeddings representing the semantics of the question, we can visualize it with a scatter plot, differentiating the generated questions and the benchmark questions."
   ]
  },
  {
   "cell_type": "code",
   "execution_count": 19,
   "metadata": {
    "application/vnd.databricks.v1+cell": {
     "cellMetadata": {
      "byteLimit": 2048000,
      "rowLimit": 10000
     },
     "inputWidgets": {},
     "nuid": "ea3260ed-c69a-4de1-901d-7855554e4e1b",
     "showTitle": false,
     "title": ""
    }
   },
   "outputs": [
    {
     "data": {
      "image/png": "[encoded data removed]",
      "text/plain": [
       "<Figure size 640x480 with 1 Axes>"
      ]
     },
     "metadata": {},
     "output_type": "display_data"
    }
   ],
   "source": [
    "labels = np.concatenate(\n",
    "    [\n",
    "        np.full(len(lower_dim_embeddings) - len(benchmark_questions), \"generated\"),\n",
    "        np.full(len(benchmark_questions), \"benchmark\"),\n",
    "    ]\n",
    ")\n",
    "data = pd.DataFrame(\n",
    "    {\"x\": lower_dim_embeddings[:, 0], \"y\": lower_dim_embeddings[:, 1], \"label\": labels}\n",
    ")\n",
    "sns.scatterplot(data=data, x=\"x\", y=\"y\", hue=\"label\");"
   ]
  },
  {
   "cell_type": "markdown",
   "metadata": {
    "application/vnd.databricks.v1+cell": {
     "cellMetadata": {},
     "inputWidgets": {},
     "nuid": "3a2c0588-8695-4703-a4fd-d7f53e463ce8",
     "showTitle": false,
     "title": ""
    }
   },
   "source": [
    "Observe that within the orange points on the scatter plot, there is one point that is further than the others. That is the unique benchmark question about RAG. This plot gives a sense of the diversity of the questions generated."
   ]
  },
  {
   "cell_type": "markdown",
   "metadata": {
    "application/vnd.databricks.v1+cell": {
     "cellMetadata": {},
     "inputWidgets": {},
     "nuid": "927a179b-1cf0-49fe-a195-34182d7f4fd1",
     "showTitle": false,
     "title": ""
    }
   },
   "source": [
    "### Evaluate Document Relevance\n",
    "Another important axis to consider is how relevant the questions are to the document we provided. We want to understand whether the questions generated by the LLM is actually referring to our provided text, or whether it is hallucinating irrelevant questions. We will evaluate relevance by first manually checking certain questions against their document chunk. Then, we define a measure of relevance to analyze it quantitatively."
   ]
  },
  {
   "cell_type": "markdown",
   "metadata": {
    "application/vnd.databricks.v1+cell": {
     "cellMetadata": {},
     "inputWidgets": {},
     "nuid": "232c205e-5f9d-43f3-83c2-6c3b81661f0c",
     "showTitle": false,
     "title": ""
    }
   },
   "source": [
    "#### Manual Checking of Document Relevance\n",
    "\n",
    "Manual qualitative check of whether the questions are relevant to the document."
   ]
  },
  {
   "cell_type": "code",
   "execution_count": 20,
   "metadata": {
    "application/vnd.databricks.v1+cell": {
     "cellMetadata": {
      "byteLimit": 2048000,
      "rowLimit": 10000
     },
     "inputWidgets": {},
     "nuid": "81791b6e-8e26-4a35-9139-4632380d1e08",
     "showTitle": false,
     "title": ""
    }
   },
   "outputs": [
    {
     "data": {
      "text/html": [
       "<div>\n",
       "<style scoped>\n",
       "    .dataframe tbody tr th:only-of-type {\n",
       "        vertical-align: middle;\n",
       "    }\n",
       "\n",
       "    .dataframe tbody tr th {\n",
       "        vertical-align: top;\n",
       "    }\n",
       "\n",
       "    .dataframe thead th {\n",
       "        text-align: right;\n",
       "    }\n",
       "</style>\n",
       "<table border=\"1\" class=\"dataframe\">\n",
       "  <thead>\n",
       "    <tr style=\"text-align: right;\">\n",
       "      <th></th>\n",
       "      <th>Unnamed: 0</th>\n",
       "      <th>question</th>\n",
       "      <th>answer</th>\n",
       "      <th>chunk</th>\n",
       "      <th>chunk_id</th>\n",
       "      <th>source</th>\n",
       "    </tr>\n",
       "  </thead>\n",
       "  <tbody>\n",
       "    <tr>\n",
       "      <th>52</th>\n",
       "      <td>53</td>\n",
       "      <td>What is the default backend store used by MLflow?</td>\n",
       "      <td>The default backend store used by MLflow is th...</td>\n",
       "      <td>are used. The default is local FileStore. For ...</td>\n",
       "      <td>5</td>\n",
       "      <td>tracking.html</td>\n",
       "    </tr>\n",
       "    <tr>\n",
       "      <th>26</th>\n",
       "      <td>27</td>\n",
       "      <td>What are the entry points in a MLproject file ...</td>\n",
       "      <td>The entry points in a MLproject file are the ....</td>\n",
       "      <td>might have a single Git repository containing ...</td>\n",
       "      <td>1</td>\n",
       "      <td>projects.html</td>\n",
       "    </tr>\n",
       "    <tr>\n",
       "      <th>1</th>\n",
       "      <td>1</td>\n",
       "      <td>What is the purpose of saving the model in pic...</td>\n",
       "      <td>The purpose of saving the model in pickled for...</td>\n",
       "      <td># Make predictions using the testing set diabe...</td>\n",
       "      <td>15</td>\n",
       "      <td>model-registry.html</td>\n",
       "    </tr>\n",
       "  </tbody>\n",
       "</table>\n",
       "</div>"
      ],
      "text/plain": [
       "    Unnamed: 0                                           question  \\\n",
       "52          53  What is the default backend store used by MLflow?   \n",
       "26          27  What are the entry points in a MLproject file ...   \n",
       "1            1  What is the purpose of saving the model in pic...   \n",
       "\n",
       "                                               answer  \\\n",
       "52  The default backend store used by MLflow is th...   \n",
       "26  The entry points in a MLproject file are the ....   \n",
       "1   The purpose of saving the model in pickled for...   \n",
       "\n",
       "                                                chunk  chunk_id  \\\n",
       "52  are used. The default is local FileStore. For ...         5   \n",
       "26  might have a single Git repository containing ...         1   \n",
       "1   # Make predictions using the testing set diabe...        15   \n",
       "\n",
       "                 source  \n",
       "52        tracking.html  \n",
       "26        projects.html  \n",
       "1   model-registry.html  "
      ]
     },
     "metadata": {},
     "output_type": "display_data"
    }
   ],
   "source": [
    "display(result_df.sample(3))"
   ]
  },
  {
   "cell_type": "markdown",
   "metadata": {
    "application/vnd.databricks.v1+cell": {
     "cellMetadata": {},
     "inputWidgets": {},
     "nuid": "5b1a688f-6844-4e54-8518-8e31ef999497",
     "showTitle": false,
     "title": ""
    }
   },
   "source": [
    "#### Embeddings Cosine Similarity\n",
    "\n",
    "The embedding of the chunk and query is placed in the same latent space, and the retriever model would extract similar chunk embeddings to a query embedding. Hence, relevance for the retriever is defined by the distance of embeddings in this latent space.\n",
    "\n",
    "Cosine similarity is a measure of vector similarity, and can be used to determine the distance of embeddings between the chunk and the query. It is a distance metric that approaches 1 when the question and chunk are similar, and becomes 0 when they are different.\n",
    "\n",
    "We can use the cosine similarity score directly to measure the relevancy."
   ]
  },
  {
   "cell_type": "code",
   "execution_count": 21,
   "metadata": {
    "application/vnd.databricks.v1+cell": {
     "cellMetadata": {
      "byteLimit": 2048000,
      "rowLimit": 10000
     },
     "inputWidgets": {},
     "nuid": "1fae2149-66d3-4b6d-8bf6-ac302f24ad9c",
     "showTitle": false,
     "title": ""
    }
   },
   "outputs": [],
   "source": [
    "embedded_queries = result_df.copy()\n",
    "embedded_queries[\"chunk_emb\"] = result_df[\"chunk\"].apply(\n",
    "    lambda x: np.squeeze(embeddings.embed_documents([x]))\n",
    ")\n",
    "embedded_queries[\"question_emb\"] = result_df[\"question\"].apply(\n",
    "    lambda x: np.squeeze(embeddings.embed_documents([x]))\n",
    ")"
   ]
  },
  {
   "cell_type": "code",
   "execution_count": 22,
   "metadata": {
    "application/vnd.databricks.v1+cell": {
     "cellMetadata": {
      "byteLimit": 2048000,
      "rowLimit": 10000
     },
     "inputWidgets": {},
     "nuid": "51196872-7bde-46a6-9169-49126dd374b3",
     "showTitle": false,
     "title": ""
    }
   },
   "outputs": [],
   "source": [
    "def cossim(x, y):\n",
    "    return np.dot(x, y) / (np.linalg.norm(x) * np.linalg.norm(y))\n",
    "\n",
    "\n",
    "embedded_queries[\"cossim\"] = embedded_queries.apply(\n",
    "    lambda row: cossim(row[\"question_emb\"], row[\"chunk_emb\"]), axis=1\n",
    ")"
   ]
  },
  {
   "cell_type": "markdown",
   "metadata": {
    "application/vnd.databricks.v1+cell": {
     "cellMetadata": {},
     "inputWidgets": {},
     "nuid": "ff7ea2dd-252f-45f4-b50b-951ecdb45f03",
     "showTitle": false,
     "title": ""
    }
   },
   "source": [
    "After we score each question by its relative relevancy, we can evaluate the generated questions as a whole."
   ]
  },
  {
   "cell_type": "code",
   "execution_count": 23,
   "metadata": {
    "application/vnd.databricks.v1+cell": {
     "cellMetadata": {
      "byteLimit": 2048000,
      "rowLimit": 10000
     },
     "inputWidgets": {},
     "nuid": "972da253-3fa2-490f-9712-ecfcc8630463",
     "showTitle": false,
     "title": ""
    }
   },
   "outputs": [
    {
     "data": {
      "text/plain": [
       "(array([ 1.,  7., 15., 20., 11.]),\n",
       " array([0.72731436, 0.7629336 , 0.79855285, 0.8341721 , 0.86979135,\n",
       "        0.9054106 ]),\n",
       " <BarContainer object of 5 artists>)"
      ]
     },
     "execution_count": 23,
     "metadata": {},
     "output_type": "execute_result"
    },
    {
     "data": {
      "image/png": "[encoded data removed]",
      "text/plain": [
       "<Figure size 640x480 with 1 Axes>"
      ]
     },
     "metadata": {},
     "output_type": "display_data"
    }
   ],
   "source": [
    "scores = embedded_queries[\"cossim\"].to_list()\n",
    "plt.hist(scores, bins=5)"
   ]
  },
  {
   "cell_type": "markdown",
   "metadata": {
    "application/vnd.databricks.v1+cell": {
     "cellMetadata": {},
     "inputWidgets": {},
     "nuid": "c91cb46d-e3c0-4478-9a67-14d380fcd40a",
     "showTitle": false,
     "title": ""
    }
   },
   "source": [
    "There are a couple lower scores. Let's take a look at them."
   ]
  },
  {
   "cell_type": "code",
   "execution_count": 24,
   "metadata": {
    "application/vnd.databricks.v1+cell": {
     "cellMetadata": {
      "byteLimit": 2048000,
      "rowLimit": 10000
     },
     "inputWidgets": {},
     "nuid": "410503c4-49a8-44d0-88ea-2f2075534a36",
     "showTitle": false,
     "title": ""
    }
   },
   "outputs": [
    {
     "data": {
      "text/html": [
       "<div>\n",
       "<style scoped>\n",
       "    .dataframe tbody tr th:only-of-type {\n",
       "        vertical-align: middle;\n",
       "    }\n",
       "\n",
       "    .dataframe tbody tr th {\n",
       "        vertical-align: top;\n",
       "    }\n",
       "\n",
       "    .dataframe thead th {\n",
       "        text-align: right;\n",
       "    }\n",
       "</style>\n",
       "<table border=\"1\" class=\"dataframe\">\n",
       "  <thead>\n",
       "    <tr style=\"text-align: right;\">\n",
       "      <th></th>\n",
       "      <th>Unnamed: 0</th>\n",
       "      <th>question</th>\n",
       "      <th>answer</th>\n",
       "      <th>chunk</th>\n",
       "      <th>chunk_id</th>\n",
       "      <th>source</th>\n",
       "      <th>chunk_emb</th>\n",
       "      <th>question_emb</th>\n",
       "      <th>cossim</th>\n",
       "    </tr>\n",
       "  </thead>\n",
       "  <tbody>\n",
       "    <tr>\n",
       "      <th>49</th>\n",
       "      <td>50</td>\n",
       "      <td>What is the purpose of the 'experimentIds' var...</td>\n",
       "      <td>The 'experimentIds' variable is used to store ...</td>\n",
       "      <td>API. List&lt;Long&gt; experimentIds = Arrays.asList(...</td>\n",
       "      <td>6</td>\n",
       "      <td>search-runs.html</td>\n",
       "      <td>[-0.0224397570176948, -0.01785830753462161, 0....</td>\n",
       "      <td>[-0.010870431773125582, 0.011472354827119134, ...</td>\n",
       "      <td>0.727314</td>\n",
       "    </tr>\n",
       "  </tbody>\n",
       "</table>\n",
       "</div>"
      ],
      "text/plain": [
       "    Unnamed: 0                                           question  \\\n",
       "49          50  What is the purpose of the 'experimentIds' var...   \n",
       "\n",
       "                                               answer  \\\n",
       "49  The 'experimentIds' variable is used to store ...   \n",
       "\n",
       "                                                chunk  chunk_id  \\\n",
       "49  API. List<Long> experimentIds = Arrays.asList(...         6   \n",
       "\n",
       "              source                                          chunk_emb  \\\n",
       "49  search-runs.html  [-0.0224397570176948, -0.01785830753462161, 0....   \n",
       "\n",
       "                                         question_emb    cossim  \n",
       "49  [-0.010870431773125582, 0.011472354827119134, ...  0.727314  "
      ]
     },
     "metadata": {},
     "output_type": "display_data"
    }
   ],
   "source": [
    "mask = embedded_queries[\"cossim\"] < 0.76\n",
    "lower_cossim = embedded_queries[mask]\n",
    "display(lower_cossim)"
   ]
  },
  {
   "cell_type": "markdown",
   "metadata": {
    "application/vnd.databricks.v1+cell": {
     "cellMetadata": {},
     "inputWidgets": {},
     "nuid": "e5c39126-3768-4961-bdcd-b20eb45ef7bf",
     "showTitle": false,
     "title": ""
    }
   },
   "source": [
    "Manual inspection of these less relevant questions reveals that some chunks are less informative or mainly consists of code, hence the generated question might be less useful. You can choose to filter these as desired."
   ]
  }
 ],
 "metadata": {
  "application/vnd.databricks.v1+notebook": {
   "dashboards": [],
   "language": "python",
   "notebookMetadata": {
    "pythonIndentUnit": 2
   },
   "notebookName": "question-generation-retrieval-evaluation",
   "widgets": {}
  },
  "kernelspec": {
   "display_name": "Python 3 (ipykernel)",
   "language": "python",
   "name": "python3"
  },
  "language_info": {
   "codemirror_mode": {
    "name": "ipython",
    "version": 3
   },
   "file_extension": ".py",
   "mimetype": "text/x-python",
   "name": "python",
   "nbconvert_exporter": "python",
   "pygments_lexer": "ipython3",
   "version": "3.8.17"
  }
 },
 "nbformat": 4,
 "nbformat_minor": 1
}
