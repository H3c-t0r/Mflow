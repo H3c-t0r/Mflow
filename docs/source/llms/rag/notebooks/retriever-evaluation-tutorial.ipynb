{
 "cells": [
  {
   "cell_type": "markdown",
   "metadata": {
    "application/vnd.databricks.v1+cell": {
     "cellMetadata": {
      "byteLimit": 2048000,
      "rowLimit": 10000
     },
     "inputWidgets": {},
     "nuid": "f8938de9-7fae-41cd-ad6b-7ee26c288eab",
     "showTitle": false,
     "title": ""
    }
   },
   "source": [
    "# Retriever Evaluation Tutorial\n",
    "\n",
    "In mlflow 2.8.0, we introduced a new model type \"retriever\" to the `mlflow.evaluate()` API. It helps you to evaluate the retriever in a RAG application. It contains two built-in metrics `precision_at_k` and `recall_at_k`. As of Nov 22, 2023, in mlflow master, `ndcg_at_k` is available.\n",
    "\n",
    "This notebook illustrates how to use `mlflow.evaluate()` to evaluate the retriever in a RAG application. It has the following sections:\n",
    "\n",
    "1. Evaluation Dataset Preparation\n",
    "1. Calling `mlflow.evaluate()`\n",
    "1. Result Analysis and Visualization"
   ]
  },
  {
   "cell_type": "code",
   "execution_count": 1,
   "metadata": {
    "application/vnd.databricks.v1+cell": {
     "cellMetadata": {
      "byteLimit": 2048000,
      "rowLimit": 10000
     },
     "inputWidgets": {},
     "nuid": "5bf12edb-2498-4edd-aeff-b4844451850f",
     "showTitle": false,
     "title": ""
    }
   },
   "outputs": [],
   "source": [
    "%pip install git+https://github.com/mlflow/mlflow.git langchain==0.0.339 openai faiss-cpu gensim nltk pyLDAvis tiktoken"
   ]
  },
  {
   "cell_type": "code",
   "execution_count": 1,
   "metadata": {
    "application/vnd.databricks.v1+cell": {
     "cellMetadata": {
      "byteLimit": 2048000,
      "rowLimit": 10000
     },
     "inputWidgets": {},
     "nuid": "414eb948-7f7a-411b-8308-facadb0bdde8",
     "showTitle": false,
     "title": ""
    }
   },
   "outputs": [
    {
     "data": {
      "text/plain": [
       "'2.8.2.dev0'"
      ]
     },
     "execution_count": 1,
     "metadata": {},
     "output_type": "execute_result"
    }
   ],
   "source": [
    "import ast\n",
    "import os\n",
    "import pprint\n",
    "from typing import List\n",
    "\n",
    "import pandas as pd\n",
    "from langchain.docstore.document import Document\n",
    "from langchain.embeddings.openai import OpenAIEmbeddings\n",
    "from langchain.text_splitter import CharacterTextSplitter\n",
    "from langchain.vectorstores import FAISS\n",
    "\n",
    "import mlflow\n",
    "\n",
    "os.environ[\"OPENAI_API_KEY\"] = \"<redacted>\"\n",
    "\n",
    "CHUNK_SIZE = 1000\n",
    "# Assume running from mlflow/examples/llms/RAG/\n",
    "OUTPUT_DF_PATH = \"question_answer_source.csv\"\n",
    "SCRAPPED_DOCS_PATH = \"mlflow_docs_scraped.csv\"\n",
    "EVALUATION_DATASET_PATH = \"static_evaluation_dataset.csv\"\n",
    "DB_PERSIST_DIR = \"faiss_index\"\n",
    "\n",
    "mlflow.__version__"
   ]
  },
  {
   "cell_type": "markdown",
   "metadata": {
    "application/vnd.databricks.v1+cell": {
     "cellMetadata": {},
     "inputWidgets": {},
     "nuid": "eebcf0d9-6634-47d9-808d-e79c5a50fbbf",
     "showTitle": false,
     "title": ""
    }
   },
   "source": [
    "## 1. Evaluation Dataset Preparation\n",
    "The evaluation dataset should contain three columns: questions, ground truth doc IDs, retrieved relevant doc IDs. A \"doc ID\" is a unique string identifier of the documents in you RAG application. For example, it could be the URL of a documentation web page, or the file path of a PDF document.\n",
    "\n",
    "If you have a list of questions that you would like to evaluate, please see 1.1 Manual Preparation. If you do not have a question list yet, please see 1.2 Generate the Evaluation Dataset.\n"
   ]
  },
  {
   "cell_type": "markdown",
   "metadata": {
    "application/vnd.databricks.v1+cell": {
     "cellMetadata": {
      "byteLimit": 2048000,
      "rowLimit": 10000
     },
     "inputWidgets": {},
     "nuid": "f8a690cc-7672-4f24-8518-8faabfc9afea",
     "showTitle": false,
     "title": ""
    }
   },
   "source": [
    "### 1.1 Manual Preparation\n",
    "\n",
    "When evaluating a retriever, it's recommended to save the retrieved document IDs into a static dataset represented by a Pandas Dataframe or an MLflow Pandas Dataset containing the input queries, retrieved relevant document IDs, and the ground-truth document IDs for the evaluation.\n",
    "\n",
    "#### 1.1.1 Concepts\n",
    "\n",
    "A \"document ID\" is a string that identifies a document.\n",
    "\n",
    "A list of \"retrieved relevant document IDs\" are the output of the retriever for a specific input query and a `k` value.\n",
    "\n",
    "A list of \"ground-truth document IDs\" are the labeled relevant documents for a specific input query.\n",
    "\n",
    "#### 1.1.2 Expected Data Format\n",
    "\n",
    "For each row, the retrieved relevant document IDs and the ground-truth relevant document IDs should be provided as a tuple of document ID strings.\n",
    "\n",
    "The column name of the retrieved relevant document IDs should be specified by the `predictions` parameter, and the column name of the ground-truth relevant document IDs should be specified by the `targets` parameter.\n",
    "\n",
    "Here is a simple example dataset that illustrates the expected data format. The doc IDs are the paths of the documentation pages."
   ]
  },
  {
   "cell_type": "code",
   "execution_count": null,
   "metadata": {
    "application/vnd.databricks.v1+cell": {
     "cellMetadata": {
      "byteLimit": 2048000,
      "rowLimit": 10000
     },
     "inputWidgets": {},
     "nuid": "1a61b1b2-582e-49d5-864d-b58d2b6c3392",
     "showTitle": false,
     "title": ""
    }
   },
   "outputs": [],
   "source": [
    "data = pd.DataFrame(\n",
    "    {\n",
    "        \"questions\": [\n",
    "            \"What is MLflow?\",\n",
    "            \"What is Databricks?\",\n",
    "            \"How to serve a model on Databricks?\",\n",
    "            \"How to enable MLflow Autologging for my workspace by default?\",\n",
    "        ],\n",
    "        \"retrieved_context\": [\n",
    "            [\n",
    "                \"mlflow/index.html\",\n",
    "                \"mlflow/quick-start.html\",\n",
    "            ],\n",
    "            [\n",
    "                \"introduction/index.html\",\n",
    "                \"getting-started/overview.html\",\n",
    "            ],\n",
    "            [\n",
    "                \"machine-learning/model-serving/index.html\",\n",
    "                \"machine-learning/model-serving/model-serving-intro.html\",\n",
    "            ],\n",
    "            [],\n",
    "        ],\n",
    "        \"ground_truth_context\": [\n",
    "            [\"mlflow/index.html\"],\n",
    "            [\"introduction/index.html\"],\n",
    "            [\n",
    "                \"machine-learning/model-serving/index.html\",\n",
    "                \"machine-learning/model-serving/llm-optimized-model-serving.html\",\n",
    "            ],\n",
    "            [\"mlflow/databricks-autologging.html\"],\n",
    "        ],\n",
    "    }\n",
    ")"
   ]
  },
  {
   "cell_type": "markdown",
   "metadata": {
    "application/vnd.databricks.v1+cell": {
     "cellMetadata": {},
     "inputWidgets": {},
     "nuid": "f740b47c-71ee-4633-944c-172887ff5081",
     "showTitle": false,
     "title": ""
    }
   },
   "source": [
    "### 1.2 Generate the Evaluation Dataset\n",
    "There are two steps to generate the evaluation dataset: generate questions with ground truth doc IDs and retrieve relevant doc IDs. "
   ]
  },
  {
   "cell_type": "markdown",
   "metadata": {
    "application/vnd.databricks.v1+cell": {
     "cellMetadata": {},
     "inputWidgets": {},
     "nuid": "f6beddae-85e2-44e7-8ec6-7ca2f02bc16b",
     "showTitle": false,
     "title": ""
    }
   },
   "source": [
    "\n",
    "#### 1.2.1 Generate Questions with Ground Truth Doc IDs\n",
    "If you don't have a list of questions to evaluate, you can generate them using LLMs. The [Question Generation Notebook](https://mlflow.org/docs/latest/llms/rag/notebooks/question-generation-retrieval-evaluation.html) provides an example way to do it. Here is the result of running that notebook."
   ]
  },
  {
   "cell_type": "code",
   "execution_count": 2,
   "metadata": {
    "application/vnd.databricks.v1+cell": {
     "cellMetadata": {
      "byteLimit": 2048000,
      "rowLimit": 10000
     },
     "inputWidgets": {},
     "nuid": "98bf55c7-3e58-4fff-bc0e-1af58d64839f",
     "showTitle": false,
     "title": ""
    }
   },
   "outputs": [],
   "source": [
    "generated_df = pd.read_csv(OUTPUT_DF_PATH)"
   ]
  },
  {
   "cell_type": "code",
   "execution_count": 3,
   "metadata": {
    "application/vnd.databricks.v1+cell": {
     "cellMetadata": {
      "byteLimit": 2048000,
      "rowLimit": 10000
     },
     "inputWidgets": {},
     "nuid": "17baa097-457f-46df-9e25-56061972785f",
     "showTitle": false,
     "title": ""
    }
   },
   "outputs": [
    {
     "data": {
      "text/html": [
       "<div>\n",
       "<style scoped>\n",
       "    .dataframe tbody tr th:only-of-type {\n",
       "        vertical-align: middle;\n",
       "    }\n",
       "\n",
       "    .dataframe tbody tr th {\n",
       "        vertical-align: top;\n",
       "    }\n",
       "\n",
       "    .dataframe thead th {\n",
       "        text-align: right;\n",
       "    }\n",
       "</style>\n",
       "<table border=\"1\" class=\"dataframe\">\n",
       "  <thead>\n",
       "    <tr style=\"text-align: right;\">\n",
       "      <th></th>\n",
       "      <th>question</th>\n",
       "      <th>answer</th>\n",
       "      <th>chunk</th>\n",
       "      <th>chunk_id</th>\n",
       "      <th>source</th>\n",
       "    </tr>\n",
       "  </thead>\n",
       "  <tbody>\n",
       "    <tr>\n",
       "      <th>0</th>\n",
       "      <td>What is the purpose of the MLflow Model Registry?</td>\n",
       "      <td>The purpose of the MLflow Model Registry is to...</td>\n",
       "      <td>Documentation MLflow Model Registry MLflow Mod...</td>\n",
       "      <td>0</td>\n",
       "      <td>model-registry.html</td>\n",
       "    </tr>\n",
       "    <tr>\n",
       "      <th>1</th>\n",
       "      <td>What is the purpose of registering a model wit...</td>\n",
       "      <td>The purpose of registering a model with the Mo...</td>\n",
       "      <td>logged, this model can then be registered with...</td>\n",
       "      <td>1</td>\n",
       "      <td>model-registry.html</td>\n",
       "    </tr>\n",
       "    <tr>\n",
       "      <th>2</th>\n",
       "      <td>What can you do with registered models and mod...</td>\n",
       "      <td>With registered models and model versions, you...</td>\n",
       "      <td>associate with registered models and model ver...</td>\n",
       "      <td>2</td>\n",
       "      <td>model-registry.html</td>\n",
       "    </tr>\n",
       "    <tr>\n",
       "      <th>3</th>\n",
       "      <td>How can you add, modify, update, or delete a m...</td>\n",
       "      <td>Once a model has been logged, you can add, mod...</td>\n",
       "      <td>flavors. Once a model has been logged, you can...</td>\n",
       "      <td>3</td>\n",
       "      <td>model-registry.html</td>\n",
       "    </tr>\n",
       "    <tr>\n",
       "      <th>4</th>\n",
       "      <td>How can you deploy and organize models in the ...</td>\n",
       "      <td>You can deploy and organize your models in the...</td>\n",
       "      <td>and then click the model version at the top ri...</td>\n",
       "      <td>4</td>\n",
       "      <td>model-registry.html</td>\n",
       "    </tr>\n",
       "  </tbody>\n",
       "</table>\n",
       "</div>"
      ],
      "text/plain": [
       "                                            question  \\\n",
       "0  What is the purpose of the MLflow Model Registry?   \n",
       "1  What is the purpose of registering a model wit...   \n",
       "2  What can you do with registered models and mod...   \n",
       "3  How can you add, modify, update, or delete a m...   \n",
       "4  How can you deploy and organize models in the ...   \n",
       "\n",
       "                                              answer  \\\n",
       "0  The purpose of the MLflow Model Registry is to...   \n",
       "1  The purpose of registering a model with the Mo...   \n",
       "2  With registered models and model versions, you...   \n",
       "3  Once a model has been logged, you can add, mod...   \n",
       "4  You can deploy and organize your models in the...   \n",
       "\n",
       "                                               chunk  chunk_id  \\\n",
       "0  Documentation MLflow Model Registry MLflow Mod...         0   \n",
       "1  logged, this model can then be registered with...         1   \n",
       "2  associate with registered models and model ver...         2   \n",
       "3  flavors. Once a model has been logged, you can...         3   \n",
       "4  and then click the model version at the top ri...         4   \n",
       "\n",
       "                source  \n",
       "0  model-registry.html  \n",
       "1  model-registry.html  \n",
       "2  model-registry.html  \n",
       "3  model-registry.html  \n",
       "4  model-registry.html  "
      ]
     },
     "execution_count": 3,
     "metadata": {},
     "output_type": "execute_result"
    }
   ],
   "source": [
    "generated_df.head(5)"
   ]
  },
  {
   "cell_type": "code",
   "execution_count": 11,
   "metadata": {
    "application/vnd.databricks.v1+cell": {
     "cellMetadata": {
      "byteLimit": 2048000,
      "rowLimit": 10000
     },
     "inputWidgets": {},
     "nuid": "93165dc5-aff9-46f9-83ab-e6dbfcbbc32b",
     "showTitle": false,
     "title": ""
    }
   },
   "outputs": [
    {
     "data": {
      "text/html": [
       "<div>\n",
       "<style scoped>\n",
       "    .dataframe tbody tr th:only-of-type {\n",
       "        vertical-align: middle;\n",
       "    }\n",
       "\n",
       "    .dataframe tbody tr th {\n",
       "        vertical-align: top;\n",
       "    }\n",
       "\n",
       "    .dataframe thead th {\n",
       "        text-align: right;\n",
       "    }\n",
       "</style>\n",
       "<table border=\"1\" class=\"dataframe\">\n",
       "  <thead>\n",
       "    <tr style=\"text-align: right;\">\n",
       "      <th></th>\n",
       "      <th>question</th>\n",
       "      <th>source</th>\n",
       "    </tr>\n",
       "  </thead>\n",
       "  <tbody>\n",
       "    <tr>\n",
       "      <th>0</th>\n",
       "      <td>What is the purpose of the MLflow Model Registry?</td>\n",
       "      <td>[model-registry.html]</td>\n",
       "    </tr>\n",
       "    <tr>\n",
       "      <th>1</th>\n",
       "      <td>What is the purpose of registering a model wit...</td>\n",
       "      <td>[model-registry.html]</td>\n",
       "    </tr>\n",
       "    <tr>\n",
       "      <th>2</th>\n",
       "      <td>What can you do with registered models and mod...</td>\n",
       "      <td>[model-registry.html]</td>\n",
       "    </tr>\n",
       "    <tr>\n",
       "      <th>3</th>\n",
       "      <td>How can you add, modify, update, or delete a m...</td>\n",
       "      <td>[model-registry.html]</td>\n",
       "    </tr>\n",
       "    <tr>\n",
       "      <th>4</th>\n",
       "      <td>How can you deploy and organize models in the ...</td>\n",
       "      <td>[model-registry.html]</td>\n",
       "    </tr>\n",
       "  </tbody>\n",
       "</table>\n",
       "</div>"
      ],
      "text/plain": [
       "                                            question                 source\n",
       "0  What is the purpose of the MLflow Model Registry?  [model-registry.html]\n",
       "1  What is the purpose of registering a model wit...  [model-registry.html]\n",
       "2  What can you do with registered models and mod...  [model-registry.html]\n",
       "3  How can you add, modify, update, or delete a m...  [model-registry.html]\n",
       "4  How can you deploy and organize models in the ...  [model-registry.html]"
      ]
     },
     "execution_count": 11,
     "metadata": {},
     "output_type": "execute_result"
    }
   ],
   "source": [
    "# Prepare dataframe `data` with the required format\n",
    "data = pd.DataFrame({})\n",
    "data[\"question\"] = generated_df[\"question\"].copy(deep=True)\n",
    "data[\"source\"] = generated_df[\"source\"].apply(lambda x: [x])\n",
    "data.head(5)"
   ]
  },
  {
   "cell_type": "markdown",
   "metadata": {
    "application/vnd.databricks.v1+cell": {
     "cellMetadata": {},
     "inputWidgets": {},
     "nuid": "3eabe651-28be-45bb-94ad-58e6bc582137",
     "showTitle": false,
     "title": ""
    }
   },
   "source": [
    "#### 1.2.2 Retrieve Relevant Doc IDs\n",
    "\n",
    "Once we have a list of questions with ground truth doc IDs from 1.1, we can collect the retrieved relevant doc IDs. In this tutorial, we use a LangChain retriever. You can plug in your own retriever as needed."
   ]
  },
  {
   "cell_type": "markdown",
   "metadata": {
    "application/vnd.databricks.v1+cell": {
     "cellMetadata": {},
     "inputWidgets": {},
     "nuid": "9817f671-f2fd-4b2e-abe9-3bc9afd9ce3c",
     "showTitle": false,
     "title": ""
    }
   },
   "source": [
    "First, we build a FAISS retriever from the docs saved at `examples/llms/question_generation/mlflow_docs_scraped.csv`. See the [Question Generation Notebook](https://mlflow.org/docs/latest/llms/rag/notebooks/question-generation-retrieval-evaluation.html) for how to create this csv file."
   ]
  },
  {
   "cell_type": "code",
   "execution_count": 3,
   "metadata": {
    "application/vnd.databricks.v1+cell": {
     "cellMetadata": {
      "byteLimit": 2048000,
      "rowLimit": 10000
     },
     "inputWidgets": {},
     "nuid": "178b45b4-11f9-47ca-9564-c8caa32d2504",
     "showTitle": false,
     "title": ""
    }
   },
   "outputs": [],
   "source": [
    "embeddings = OpenAIEmbeddings()"
   ]
  },
  {
   "cell_type": "code",
   "execution_count": 5,
   "metadata": {
    "application/vnd.databricks.v1+cell": {
     "cellMetadata": {
      "byteLimit": 2048000,
      "rowLimit": 10000
     },
     "inputWidgets": {},
     "nuid": "e5a113bb-11b8-4d1a-a21b-b59b523f3525",
     "showTitle": false,
     "title": ""
    }
   },
   "outputs": [],
   "source": [
    "scrapped_df = pd.read_csv(SCRAPPED_DOCS_PATH)\n",
    "list_of_documents = [\n",
    "    Document(page_content=row[\"text\"], metadata={\"source\": row[\"source\"]})\n",
    "    for i, row in scrapped_df.iterrows()\n",
    "]\n",
    "text_splitter = CharacterTextSplitter(chunk_size=CHUNK_SIZE, chunk_overlap=0)\n",
    "docs = text_splitter.split_documents(list_of_documents)\n",
    "db = FAISS.from_documents(docs, embeddings)\n",
    "\n",
    "# Save the db to local disk\n",
    "db.save_local(DB_PERSIST_DIR)"
   ]
  },
  {
   "cell_type": "code",
   "execution_count": 5,
   "metadata": {
    "application/vnd.databricks.v1+cell": {
     "cellMetadata": {
      "byteLimit": 2048000,
      "rowLimit": 10000
     },
     "inputWidgets": {},
     "nuid": "bace7c63-e3d5-42f3-bf6a-00ef1842baae",
     "showTitle": false,
     "title": ""
    }
   },
   "outputs": [],
   "source": [
    "# Load the db from local disk\n",
    "db = FAISS.load_local(DB_PERSIST_DIR, embeddings)\n",
    "retriever = db.as_retriever()"
   ]
  },
  {
   "cell_type": "code",
   "execution_count": 7,
   "metadata": {
    "application/vnd.databricks.v1+cell": {
     "cellMetadata": {
      "byteLimit": 2048000,
      "rowLimit": 10000
     },
     "inputWidgets": {},
     "nuid": "c06bcb3c-58c8-454c-bf5b-e29ec227991f",
     "showTitle": false,
     "title": ""
    }
   },
   "outputs": [
    {
     "data": {
      "text/plain": [
       "4"
      ]
     },
     "execution_count": 7,
     "metadata": {},
     "output_type": "execute_result"
    }
   ],
   "source": [
    "# Test the retriever with a query\n",
    "retrieved_docs = retriever.get_relevant_documents(\n",
    "    \"What is the purpose of the MLflow Model Registry?\"\n",
    ")\n",
    "len(retrieved_docs)"
   ]
  },
  {
   "cell_type": "code",
   "execution_count": 8,
   "metadata": {
    "application/vnd.databricks.v1+cell": {
     "cellMetadata": {
      "byteLimit": 2048000,
      "rowLimit": 10000
     },
     "inputWidgets": {},
     "nuid": "2893e2fd-09d3-415d-865e-30222dd0edc1",
     "showTitle": false,
     "title": ""
    }
   },
   "outputs": [
    {
     "name": "stdout",
     "output_type": "stream",
     "text": [
      "model-registry.html\n",
      "Documentation  MLflow Model Registry       MLflow Model Registry  The MLflow Model Registry componen\n",
      "introduction/index.html\n",
      "Documentation  What is MLflow?       What is MLflow?  Stepping into the world of Machine Learning (M\n",
      "introduction/index.html\n",
      "Documentation  What is MLflow?       What is MLflow?  Stepping into the world of Machine Learning (M\n",
      "deep-learning/index.html\n",
      "Documentation  Deep Learning       Deep Learning  The realm of deep learning has witnessed an unprec\n"
     ]
    }
   ],
   "source": [
    "# Print the retrieved documents\n",
    "for d in retrieved_docs:\n",
    "    print(d.metadata[\"source\"])\n",
    "    print(d.page_content[:100])"
   ]
  },
  {
   "cell_type": "markdown",
   "metadata": {
    "application/vnd.databricks.v1+cell": {
     "cellMetadata": {},
     "inputWidgets": {},
     "nuid": "2ec7b458-c248-4ec0-9d85-0e447d6b4ecd",
     "showTitle": false,
     "title": ""
    }
   },
   "source": [
    "After building a retriever, we define a function that takes a question string as input and returns a list of relevant doc ID strings."
   ]
  },
  {
   "cell_type": "code",
   "execution_count": 8,
   "metadata": {
    "application/vnd.databricks.v1+cell": {
     "cellMetadata": {
      "byteLimit": 2048000,
      "rowLimit": 10000
     },
     "inputWidgets": {},
     "nuid": "bc688e4b-3389-4804-b7bf-159bce4f9db8",
     "showTitle": false,
     "title": ""
    }
   },
   "outputs": [],
   "source": [
    "# Define a function to return a list of retrieved doc ids\n",
    "def retrieve_doc_ids(question: str) -> List[str]:\n",
    "    if not isinstance(question, str):\n",
    "        print(f\"Retrieving documents for question: {question}\")\n",
    "        raise Exception(\"Question must be a string\")\n",
    "    docs = retriever.get_relevant_documents(question)\n",
    "    doc_ids = [doc.metadata[\"source\"] for doc in docs]\n",
    "    return doc_ids"
   ]
  },
  {
   "cell_type": "markdown",
   "metadata": {
    "application/vnd.databricks.v1+cell": {
     "cellMetadata": {},
     "inputWidgets": {},
     "nuid": "330a3336-6ca2-455f-a1ae-5bd842a4d2bb",
     "showTitle": false,
     "title": ""
    }
   },
   "source": [
    "We can store the retrieved doc IDs in the dataframe as a column \"retrieved_doc_ids\"."
   ]
  },
  {
   "cell_type": "code",
   "execution_count": 12,
   "metadata": {
    "application/vnd.databricks.v1+cell": {
     "cellMetadata": {
      "byteLimit": 2048000,
      "rowLimit": 10000
     },
     "inputWidgets": {},
     "nuid": "f96ec69b-bea3-4023-8cd3-6bee1e327ff0",
     "showTitle": false,
     "title": ""
    }
   },
   "outputs": [
    {
     "data": {
      "text/html": [
       "<div>\n",
       "<style scoped>\n",
       "    .dataframe tbody tr th:only-of-type {\n",
       "        vertical-align: middle;\n",
       "    }\n",
       "\n",
       "    .dataframe tbody tr th {\n",
       "        vertical-align: top;\n",
       "    }\n",
       "\n",
       "    .dataframe thead th {\n",
       "        text-align: right;\n",
       "    }\n",
       "</style>\n",
       "<table border=\"1\" class=\"dataframe\">\n",
       "  <thead>\n",
       "    <tr style=\"text-align: right;\">\n",
       "      <th></th>\n",
       "      <th>question</th>\n",
       "      <th>source</th>\n",
       "      <th>retrieved_doc_ids</th>\n",
       "    </tr>\n",
       "  </thead>\n",
       "  <tbody>\n",
       "    <tr>\n",
       "      <th>0</th>\n",
       "      <td>What is the purpose of the MLflow Model Registry?</td>\n",
       "      <td>[model-registry.html]</td>\n",
       "      <td>[model-registry.html, introduction/index.html,...</td>\n",
       "    </tr>\n",
       "    <tr>\n",
       "      <th>1</th>\n",
       "      <td>What is the purpose of registering a model wit...</td>\n",
       "      <td>[model-registry.html]</td>\n",
       "      <td>[model-registry.html, models.html, introductio...</td>\n",
       "    </tr>\n",
       "    <tr>\n",
       "      <th>2</th>\n",
       "      <td>What can you do with registered models and mod...</td>\n",
       "      <td>[model-registry.html]</td>\n",
       "      <td>[model-registry.html, models.html, deployment/...</td>\n",
       "    </tr>\n",
       "    <tr>\n",
       "      <th>3</th>\n",
       "      <td>How can you add, modify, update, or delete a m...</td>\n",
       "      <td>[model-registry.html]</td>\n",
       "      <td>[model-registry.html, models.html, deployment/...</td>\n",
       "    </tr>\n",
       "    <tr>\n",
       "      <th>4</th>\n",
       "      <td>How can you deploy and organize models in the ...</td>\n",
       "      <td>[model-registry.html]</td>\n",
       "      <td>[model-registry.html, deployment/index.html, d...</td>\n",
       "    </tr>\n",
       "  </tbody>\n",
       "</table>\n",
       "</div>"
      ],
      "text/plain": [
       "                                            question                 source  \\\n",
       "0  What is the purpose of the MLflow Model Registry?  [model-registry.html]   \n",
       "1  What is the purpose of registering a model wit...  [model-registry.html]   \n",
       "2  What can you do with registered models and mod...  [model-registry.html]   \n",
       "3  How can you add, modify, update, or delete a m...  [model-registry.html]   \n",
       "4  How can you deploy and organize models in the ...  [model-registry.html]   \n",
       "\n",
       "                                   retrieved_doc_ids  \n",
       "0  [model-registry.html, introduction/index.html,...  \n",
       "1  [model-registry.html, models.html, introductio...  \n",
       "2  [model-registry.html, models.html, deployment/...  \n",
       "3  [model-registry.html, models.html, deployment/...  \n",
       "4  [model-registry.html, deployment/index.html, d...  "
      ]
     },
     "metadata": {},
     "output_type": "display_data"
    }
   ],
   "source": [
    "data[\"retrieved_doc_ids\"] = data[\"question\"].apply(retrieve_doc_ids)\n",
    "data.head(5)"
   ]
  },
  {
   "cell_type": "code",
   "execution_count": 13,
   "metadata": {
    "application/vnd.databricks.v1+cell": {
     "cellMetadata": {
      "byteLimit": 2048000,
      "rowLimit": 10000
     },
     "inputWidgets": {},
     "nuid": "5e5c4cd1-38c3-4709-8d41-6e319fb8a924",
     "showTitle": false,
     "title": ""
    }
   },
   "outputs": [],
   "source": [
    "# Persist the static evaluation dataset to disk\n",
    "data.to_csv(EVALUATION_DATASET_PATH, index=False)"
   ]
  },
  {
   "cell_type": "code",
   "execution_count": 9,
   "metadata": {
    "application/vnd.databricks.v1+cell": {
     "cellMetadata": {
      "byteLimit": 2048000,
      "rowLimit": 10000
     },
     "inputWidgets": {},
     "nuid": "deabd8f0-44cf-409f-a27b-e82dd4d99940",
     "showTitle": false,
     "title": ""
    }
   },
   "outputs": [
    {
     "data": {
      "text/html": [
       "<div>\n",
       "<style scoped>\n",
       "    .dataframe tbody tr th:only-of-type {\n",
       "        vertical-align: middle;\n",
       "    }\n",
       "\n",
       "    .dataframe tbody tr th {\n",
       "        vertical-align: top;\n",
       "    }\n",
       "\n",
       "    .dataframe thead th {\n",
       "        text-align: right;\n",
       "    }\n",
       "</style>\n",
       "<table border=\"1\" class=\"dataframe\">\n",
       "  <thead>\n",
       "    <tr style=\"text-align: right;\">\n",
       "      <th></th>\n",
       "      <th>question</th>\n",
       "      <th>source</th>\n",
       "      <th>retrieved_doc_ids</th>\n",
       "    </tr>\n",
       "  </thead>\n",
       "  <tbody>\n",
       "    <tr>\n",
       "      <th>0</th>\n",
       "      <td>What is the purpose of the MLflow Model Registry?</td>\n",
       "      <td>[model-registry.html]</td>\n",
       "      <td>[model-registry.html, introduction/index.html,...</td>\n",
       "    </tr>\n",
       "    <tr>\n",
       "      <th>1</th>\n",
       "      <td>What is the purpose of registering a model wit...</td>\n",
       "      <td>[model-registry.html]</td>\n",
       "      <td>[model-registry.html, models.html, introductio...</td>\n",
       "    </tr>\n",
       "    <tr>\n",
       "      <th>2</th>\n",
       "      <td>What can you do with registered models and mod...</td>\n",
       "      <td>[model-registry.html]</td>\n",
       "      <td>[model-registry.html, models.html, deployment/...</td>\n",
       "    </tr>\n",
       "    <tr>\n",
       "      <th>3</th>\n",
       "      <td>How can you add, modify, update, or delete a m...</td>\n",
       "      <td>[model-registry.html]</td>\n",
       "      <td>[model-registry.html, models.html, deployment/...</td>\n",
       "    </tr>\n",
       "    <tr>\n",
       "      <th>4</th>\n",
       "      <td>How can you deploy and organize models in the ...</td>\n",
       "      <td>[model-registry.html]</td>\n",
       "      <td>[model-registry.html, deployment/index.html, d...</td>\n",
       "    </tr>\n",
       "  </tbody>\n",
       "</table>\n",
       "</div>"
      ],
      "text/plain": [
       "                                            question                 source  \\\n",
       "0  What is the purpose of the MLflow Model Registry?  [model-registry.html]   \n",
       "1  What is the purpose of registering a model wit...  [model-registry.html]   \n",
       "2  What can you do with registered models and mod...  [model-registry.html]   \n",
       "3  How can you add, modify, update, or delete a m...  [model-registry.html]   \n",
       "4  How can you deploy and organize models in the ...  [model-registry.html]   \n",
       "\n",
       "                                   retrieved_doc_ids  \n",
       "0  [model-registry.html, introduction/index.html,...  \n",
       "1  [model-registry.html, models.html, introductio...  \n",
       "2  [model-registry.html, models.html, deployment/...  \n",
       "3  [model-registry.html, models.html, deployment/...  \n",
       "4  [model-registry.html, deployment/index.html, d...  "
      ]
     },
     "metadata": {},
     "output_type": "display_data"
    }
   ],
   "source": [
    "# Load the static evaluation dataset from disk and deserialize the source and retrieved doc ids\n",
    "data = pd.read_csv(EVALUATION_DATASET_PATH)\n",
    "data[\"source\"] = data[\"source\"].apply(ast.literal_eval)\n",
    "data[\"retrieved_doc_ids\"] = data[\"retrieved_doc_ids\"].apply(ast.literal_eval)\n",
    "data.head(5)"
   ]
  },
  {
   "cell_type": "markdown",
   "metadata": {
    "application/vnd.databricks.v1+cell": {
     "cellMetadata": {},
     "inputWidgets": {},
     "nuid": "c62b5306-9c0d-4ce8-8c4a-23cb1ecc7f66",
     "showTitle": false,
     "title": ""
    }
   },
   "source": [
    "## 2. Calling `mlflow.evaluate()`"
   ]
  },
  {
   "cell_type": "markdown",
   "metadata": {
    "application/vnd.databricks.v1+cell": {
     "cellMetadata": {},
     "inputWidgets": {},
     "nuid": "bdeebdcc-b4e7-4f9d-8fdc-366f9c13ed20",
     "showTitle": false,
     "title": ""
    }
   },
   "source": [
    "### 2.1 Metrics Definition\n",
    "\n",
    "There are three built-in metrics provided for the retriever model type. Click the metric name below to see the metrics definitions.\n",
    "\n",
    "1.  [`mlflow.metrics.precision_at_k(k)`](https://mlflow.org/docs/latest/python_api/mlflow.metrics.html#mlflow.metrics.precision_at_k)\n",
    "1.  [`mlflow.metrics.recall_at_k(k)`](https://mlflow.org/docs/latest/python_api/mlflow.metrics.html#mlflow.metrics.recall_at_k)\n",
    "1.  [`mlflow.metrics.ndcg_at_k(k)`](https://mlflow.org/docs/latest/python_api/mlflow.metrics.html#mlflow.metrics.ndcg_at_k) \n",
    "\n",
    "All metrics compute a score between 0 and 1 for each row representing the corresponding metric of the retriever model at the given `k` value.\n",
    "\n",
    "The `k` parameter should be a positive integer representing the number of retrieved documents\n",
    "to evaluate for each row. `k` defaults to 3.\n",
    "\n",
    "When the model type is `\"retriever\"`, these metrics will be calculated automatically with the\n",
    "default `k` value of 3.\n"
   ]
  },
  {
   "cell_type": "markdown",
   "metadata": {
    "application/vnd.databricks.v1+cell": {
     "cellMetadata": {},
     "inputWidgets": {},
     "nuid": "25a32237-b2ef-4f4a-9e5a-4537e7e43012",
     "showTitle": false,
     "title": ""
    }
   },
   "source": [
    "### 2.2 Basic usage\n",
    "\n",
    "There are two supported ways to specify the retriever's output:\n",
    "* Case 1: Save the retriever's output to a static evaluation dataset\n",
    "* Case 2: Wrap the retriever in a function"
   ]
  },
  {
   "cell_type": "code",
   "execution_count": 10,
   "metadata": {
    "application/vnd.databricks.v1+cell": {
     "cellMetadata": {
      "byteLimit": 2048000,
      "rowLimit": 10000
     },
     "inputWidgets": {},
     "nuid": "0390728a-a6cf-4c84-867a-0c6832114471",
     "showTitle": false,
     "title": ""
    }
   },
   "outputs": [
    {
     "name": "stderr",
     "output_type": "stream",
     "text": [
      "2023/11/22 14:39:59 WARNING mlflow.data.pandas_dataset: Failed to infer schema for Pandas dataset. Exception: Unable to map 'object' type to MLflow DataType. object can be mapped iff all values have identical data type which is one of (string, (bytes or byterray),  int, float).\n",
      "2023/11/22 14:39:59 INFO mlflow.models.evaluation.base: Evaluating the model with the default evaluator.\n",
      "2023/11/22 14:39:59 INFO mlflow.models.evaluation.default_evaluator: Testing metrics on first row...\n",
      "2023/11/22 14:39:59 INFO mlflow.models.evaluation.default_evaluator: Evaluating builtin metrics: precision_at_3\n",
      "2023/11/22 14:39:59 INFO mlflow.models.evaluation.default_evaluator: Evaluating builtin metrics: recall_at_3\n",
      "2023/11/22 14:39:59 INFO mlflow.models.evaluation.default_evaluator: Evaluating builtin metrics: ndcg_at_3\n"
     ]
    }
   ],
   "source": [
    "# Case 1: Evaluating a static evaluation dataset\n",
    "with mlflow.start_run() as run:\n",
    "    evaluate_results = mlflow.evaluate(\n",
    "        data=data,\n",
    "        model_type=\"retriever\",\n",
    "        targets=\"source\",\n",
    "        predictions=\"retrieved_doc_ids\",\n",
    "        evaluators=\"default\",\n",
    "    )"
   ]
  },
  {
   "cell_type": "code",
   "execution_count": 11,
   "metadata": {
    "application/vnd.databricks.v1+cell": {
     "cellMetadata": {
      "byteLimit": 2048000,
      "rowLimit": 10000
     },
     "inputWidgets": {},
     "nuid": "70aa6719-f69d-4fda-8a67-ac4e0d8ea6d8",
     "showTitle": false,
     "title": ""
    }
   },
   "outputs": [
    {
     "data": {
      "text/html": [
       "<div>\n",
       "<style scoped>\n",
       "    .dataframe tbody tr th:only-of-type {\n",
       "        vertical-align: middle;\n",
       "    }\n",
       "\n",
       "    .dataframe tbody tr th {\n",
       "        vertical-align: top;\n",
       "    }\n",
       "\n",
       "    .dataframe thead th {\n",
       "        text-align: right;\n",
       "    }\n",
       "</style>\n",
       "<table border=\"1\" class=\"dataframe\">\n",
       "  <thead>\n",
       "    <tr style=\"text-align: right;\">\n",
       "      <th></th>\n",
       "      <th>question</th>\n",
       "      <th>source</th>\n",
       "    </tr>\n",
       "  </thead>\n",
       "  <tbody>\n",
       "    <tr>\n",
       "      <th>0</th>\n",
       "      <td>What is the purpose of the MLflow Model Registry?</td>\n",
       "      <td>[model-registry.html]</td>\n",
       "    </tr>\n",
       "    <tr>\n",
       "      <th>1</th>\n",
       "      <td>What is the purpose of registering a model wit...</td>\n",
       "      <td>[model-registry.html]</td>\n",
       "    </tr>\n",
       "    <tr>\n",
       "      <th>2</th>\n",
       "      <td>What can you do with registered models and mod...</td>\n",
       "      <td>[model-registry.html]</td>\n",
       "    </tr>\n",
       "    <tr>\n",
       "      <th>3</th>\n",
       "      <td>How can you add, modify, update, or delete a m...</td>\n",
       "      <td>[model-registry.html]</td>\n",
       "    </tr>\n",
       "    <tr>\n",
       "      <th>4</th>\n",
       "      <td>How can you deploy and organize models in the ...</td>\n",
       "      <td>[model-registry.html]</td>\n",
       "    </tr>\n",
       "  </tbody>\n",
       "</table>\n",
       "</div>"
      ],
      "text/plain": [
       "                                            question                 source\n",
       "0  What is the purpose of the MLflow Model Registry?  [model-registry.html]\n",
       "1  What is the purpose of registering a model wit...  [model-registry.html]\n",
       "2  What can you do with registered models and mod...  [model-registry.html]\n",
       "3  How can you add, modify, update, or delete a m...  [model-registry.html]\n",
       "4  How can you deploy and organize models in the ...  [model-registry.html]"
      ]
     },
     "metadata": {},
     "output_type": "display_data"
    }
   ],
   "source": [
    "question_source_df = data[[\"question\", \"source\"]]\n",
    "question_source_df.head(5)"
   ]
  },
  {
   "cell_type": "code",
   "execution_count": 8,
   "metadata": {
    "application/vnd.databricks.v1+cell": {
     "cellMetadata": {
      "byteLimit": 2048000,
      "rowLimit": 10000
     },
     "inputWidgets": {},
     "nuid": "00672280-3dfc-4c00-9ae2-bea50732ef8b",
     "showTitle": false,
     "title": ""
    }
   },
   "outputs": [
    {
     "name": "stderr",
     "output_type": "stream",
     "text": [
      "2023/11/22 14:09:12 WARNING mlflow.data.pandas_dataset: Failed to infer schema for Pandas dataset. Exception: Unable to map 'object' type to MLflow DataType. object can be mapped iff all values have identical data type which is one of (string, (bytes or byterray),  int, float).\n",
      "2023/11/22 14:09:12 INFO mlflow.models.evaluation.base: Evaluating the model with the default evaluator.\n",
      "2023/11/22 14:09:12 INFO mlflow.models.evaluation.default_evaluator: Computing model predictions.\n",
      "2023/11/22 14:09:24 INFO mlflow.models.evaluation.default_evaluator: Testing metrics on first row...\n",
      "2023/11/22 14:09:24 INFO mlflow.models.evaluation.default_evaluator: Evaluating builtin metrics: precision_at_3\n",
      "2023/11/22 14:09:24 INFO mlflow.models.evaluation.default_evaluator: Evaluating builtin metrics: recall_at_3\n",
      "2023/11/22 14:09:24 INFO mlflow.models.evaluation.default_evaluator: Evaluating builtin metrics: ndcg_at_3\n"
     ]
    }
   ],
   "source": [
    "# Case 2: Evaluating a function\n",
    "def retriever_model_function(question_df: pd.DataFrame) -> pd.Series:\n",
    "    return question_df[\"question\"].apply(retrieve_doc_ids)\n",
    "\n",
    "\n",
    "with mlflow.start_run() as run:\n",
    "    evaluate_results = mlflow.evaluate(\n",
    "        model=retriever_model_function,\n",
    "        data=question_source_df,\n",
    "        model_type=\"retriever\",\n",
    "        targets=\"source\",\n",
    "        evaluators=\"default\",\n",
    "    )"
   ]
  },
  {
   "cell_type": "code",
   "execution_count": 12,
   "metadata": {
    "application/vnd.databricks.v1+cell": {
     "cellMetadata": {
      "byteLimit": 2048000,
      "rowLimit": 10000
     },
     "inputWidgets": {},
     "nuid": "cb24318b-6149-4703-ad06-731c8a75866f",
     "showTitle": false,
     "title": ""
    }
   },
   "outputs": [
    {
     "name": "stdout",
     "output_type": "stream",
     "text": [
      "{   'ndcg_at_3/mean': 0.7530888125490431,\n",
      "    'ndcg_at_3/p90': 1.0,\n",
      "    'ndcg_at_3/variance': 0.1209151911325433,\n",
      "    'precision_at_3/mean': 0.26785714285714285,\n",
      "    'precision_at_3/p90': 0.3333333333333333,\n",
      "    'precision_at_3/variance': 0.017538265306122448,\n",
      "    'recall_at_3/mean': 0.8035714285714286,\n",
      "    'recall_at_3/p90': 1.0,\n",
      "    'recall_at_3/variance': 0.15784438775510204}\n"
     ]
    }
   ],
   "source": [
    "pp = pprint.PrettyPrinter(indent=4)\n",
    "pp.pprint(evaluate_results.metrics)"
   ]
  },
  {
   "cell_type": "markdown",
   "metadata": {
    "application/vnd.databricks.v1+cell": {
     "cellMetadata": {},
     "inputWidgets": {},
     "nuid": "7a9b83c5-1544-4b0e-81f6-7abc1fafa258",
     "showTitle": false,
     "title": ""
    }
   },
   "source": [
    "### 2.3 Try different k values\n",
    "To use another `k` value, use the `evaluator_config` parameter\n",
    "in the `mlflow.evaluate()` API as follows: `evaluator_config={\"k\": <k_value>}`.\n",
    "\n",
    "\n",
    "```python\n",
    "# Case 1: Specifying the model type\n",
    "evaluate_results = mlflow.evaluate(\n",
    "    data=data,\n",
    "    model_type=\"retriever\",\n",
    "    targets=\"ground_truth_context\",\n",
    "    predictions=\"retrieved_context\",\n",
    "    evaluators=\"default\",\n",
    "    evaluator_config={\"k\": 5}\n",
    "  )\n",
    "```\n",
    "\n",
    "Alternatively, you can directly specify the desired metrics\n",
    "in the `extra_metrics` parameter of the `mlflow.evaluate()` API without specifying a model\n",
    "type. In this case, the `k` value specified in the `evaluator_config` parameter will be\n",
    "ignored.\n",
    "\n",
    "\n",
    "```python\n",
    "# Case 2: Specifying the extra_metrics\n",
    "evaluate_results = mlflow.evaluate(\n",
    "    data=data,\n",
    "    targets=\"ground_truth_context\",\n",
    "    predictions=\"retrieved_context\",\n",
    "    extra_matrics=[\n",
    "      mlflow.metrics.precision_at_k(4),\n",
    "      mlflow.metrics.precision_at_k(5)\n",
    "    ],\n",
    "  )\n",
    "```"
   ]
  },
  {
   "cell_type": "code",
   "execution_count": 13,
   "metadata": {
    "application/vnd.databricks.v1+cell": {
     "cellMetadata": {
      "byteLimit": 2048000,
      "rowLimit": 10000
     },
     "inputWidgets": {},
     "nuid": "4b7174aa-0aa2-497d-aaa5-842121fcf270",
     "showTitle": false,
     "title": ""
    }
   },
   "outputs": [
    {
     "name": "stderr",
     "output_type": "stream",
     "text": [
      "2023/11/22 14:40:22 WARNING mlflow.data.pandas_dataset: Failed to infer schema for Pandas dataset. Exception: Unable to map 'object' type to MLflow DataType. object can be mapped iff all values have identical data type which is one of (string, (bytes or byterray),  int, float).\n",
      "2023/11/22 14:40:22 INFO mlflow.models.evaluation.base: Evaluating the model with the default evaluator.\n",
      "2023/11/22 14:40:22 INFO mlflow.models.evaluation.default_evaluator: Testing metrics on first row...\n",
      "2023/11/22 14:40:22 INFO mlflow.models.evaluation.default_evaluator: Evaluating metrics: precision_at_1\n",
      "2023/11/22 14:40:22 INFO mlflow.models.evaluation.default_evaluator: Evaluating metrics: precision_at_2\n",
      "2023/11/22 14:40:22 INFO mlflow.models.evaluation.default_evaluator: Evaluating metrics: precision_at_3\n",
      "2023/11/22 14:40:22 INFO mlflow.models.evaluation.default_evaluator: Evaluating metrics: recall_at_1\n",
      "2023/11/22 14:40:22 INFO mlflow.models.evaluation.default_evaluator: Evaluating metrics: recall_at_2\n",
      "2023/11/22 14:40:22 INFO mlflow.models.evaluation.default_evaluator: Evaluating metrics: recall_at_3\n",
      "2023/11/22 14:40:22 INFO mlflow.models.evaluation.default_evaluator: Evaluating metrics: ndcg_at_1\n",
      "2023/11/22 14:40:22 INFO mlflow.models.evaluation.default_evaluator: Evaluating metrics: ndcg_at_2\n",
      "2023/11/22 14:40:22 INFO mlflow.models.evaluation.default_evaluator: Evaluating metrics: ndcg_at_3\n"
     ]
    }
   ],
   "source": [
    "with mlflow.start_run() as run:\n",
    "    evaluate_results = mlflow.evaluate(\n",
    "        data=data,\n",
    "        targets=\"source\",\n",
    "        predictions=\"retrieved_doc_ids\",\n",
    "        evaluators=\"default\",\n",
    "        extra_metrics=[\n",
    "            mlflow.metrics.precision_at_k(1),\n",
    "            mlflow.metrics.precision_at_k(2),\n",
    "            mlflow.metrics.precision_at_k(3),\n",
    "            mlflow.metrics.recall_at_k(1),\n",
    "            mlflow.metrics.recall_at_k(2),\n",
    "            mlflow.metrics.recall_at_k(3),\n",
    "            mlflow.metrics.ndcg_at_k(1),\n",
    "            mlflow.metrics.ndcg_at_k(2),\n",
    "            mlflow.metrics.ndcg_at_k(3),\n",
    "        ],\n",
    "    )"
   ]
  },
  {
   "cell_type": "code",
   "execution_count": 14,
   "metadata": {
    "application/vnd.databricks.v1+cell": {
     "cellMetadata": {
      "byteLimit": 2048000,
      "rowLimit": 10000
     },
     "inputWidgets": {},
     "nuid": "d57c201b-3718-43af-b8c2-ef22bfa2c15b",
     "showTitle": false,
     "title": ""
    }
   },
   "outputs": [
    {
     "data": {
      "image/png": "[encoded data removed]",
      "text/plain": [
       "<Figure size 640x480 with 1 Axes>"
      ]
     },
     "metadata": {},
     "output_type": "display_data"
    }
   ],
   "source": [
    "import matplotlib.pyplot as plt\n",
    "\n",
    "# Plotting each metric\n",
    "for metric_name in [\"precision\", \"recall\", \"ndcg\"]:\n",
    "    y = [evaluate_results.metrics[f\"{metric_name}_at_{k}/mean\"] for k in range(1, 4)]\n",
    "    plt.plot([1, 2, 3], y, label=f\"{metric_name}@k\")\n",
    "\n",
    "# Adding labels and title\n",
    "plt.xlabel(\"k\")\n",
    "plt.ylabel(\"Metric Value\")\n",
    "plt.title(\"Metrics Comparison at Different Ks\")\n",
    "# Setting x-axis ticks\n",
    "plt.xticks([1, 2, 3])\n",
    "plt.legend()\n",
    "\n",
    "# Display the plot\n",
    "plt.show()"
   ]
  },
  {
   "cell_type": "markdown",
   "metadata": {
    "application/vnd.databricks.v1+cell": {
     "cellMetadata": {},
     "inputWidgets": {},
     "nuid": "cac23d4b-bece-4274-836f-9ca2b7c3860d",
     "showTitle": false,
     "title": ""
    }
   },
   "source": [
    "### 2.4 Corner case handling\n",
    "\n",
    "There are a few corner cases handle specially for each built-in metric."
   ]
  },
  {
   "cell_type": "markdown",
   "metadata": {
    "application/vnd.databricks.v1+cell": {
     "cellMetadata": {},
     "inputWidgets": {},
     "nuid": "e05a4ede-db44-46d2-bce8-752b0ce5d807",
     "showTitle": false,
     "title": ""
    }
   },
   "source": [
    "#### 2.4.1 Empty retrieved document IDs\n",
    "\n",
    "When no relevant docs are retrieved:\n",
    "\n",
    "- `mlflow.metrics.precision_at_k(k)` is defined as:\n",
    "  * 0 if the ground-truth doc IDs is non-empty\n",
    "  * 1 if the ground-truth doc IDs is also empty\n",
    "\n",
    "- `mlflow.metrics.ndcg_at_k(k)` is defined as:\n",
    "  * 0 if the ground-truth doc IDs is non-empty\n",
    "  * 1 if the ground-truth doc IDs is also empty"
   ]
  },
  {
   "cell_type": "markdown",
   "metadata": {
    "application/vnd.databricks.v1+cell": {
     "cellMetadata": {},
     "inputWidgets": {},
     "nuid": "931a32e7-29cb-4a22-b94e-ea2bf4f0b1a7",
     "showTitle": false,
     "title": ""
    }
   },
   "source": [
    "#### 2.4.2 Empty ground-truth document IDs\n",
    "\n",
    "When no ground-truth document IDs are provided:\n",
    "\n",
    "- `mlflow.metrics.recall_at_k(k)` is defined as:\n",
    "  * 0 if the retrieved doc IDs is non-empty\n",
    "  * 1 if the retrieved doc IDs is also empty\n",
    "\n",
    "- `mlflow.metrics.ndcg_at_k(k)` is defined as:\n",
    "  * 0 if the retrieved doc IDs is non-empty\n",
    "  * 1 if the retrieved doc IDs is also empty"
   ]
  },
  {
   "cell_type": "markdown",
   "metadata": {
    "application/vnd.databricks.v1+cell": {
     "cellMetadata": {},
     "inputWidgets": {},
     "nuid": "5a1453f6-a62d-43da-b230-955841c66651",
     "showTitle": false,
     "title": ""
    }
   },
   "source": [
    "#### 2.4.3 Duplicate retreived document IDs\n",
    "\n",
    "It is a common case for the retriever in a RAG system to retrieve multiple chunks in the same document for a given query. In this case, `mlflow.metrics.ndcg_at_k(k)` is calculated as follows:\n",
    "\n",
    "If the duplicate doc IDs are in the ground truth,\n",
    "       they will be treated as different docs. For example, if the ground truth doc IDs are\n",
    "       [1, 2] and the retrieved doc IDs are [1, 1, 1, 3], the score will be equavalent to\n",
    "       ground truth doc IDs [10, 11, 12, 2] and retrieved doc IDs [10, 11, 12, 3].\n",
    "\n",
    "If the duplicate doc IDs are not in the ground truth, the ndcg score is calculated as normal."
   ]
  },
  {
   "cell_type": "markdown",
   "metadata": {
    "application/vnd.databricks.v1+cell": {
     "cellMetadata": {
      "byteLimit": 2048000,
      "rowLimit": 10000
     },
     "inputWidgets": {},
     "nuid": "525ccc10-3a60-4dc9-804e-083cfa313349",
     "showTitle": false,
     "title": ""
    }
   },
   "source": [
    "## 3. Result Analysis and Visualization\n",
    "\n",
    "You can view the per-row scores in the logged \"eval_results_table.json\" in artifacts by either loading it to a pandas dataframe (shown below) or visiting the MLflow run comparison UI."
   ]
  },
  {
   "cell_type": "code",
   "execution_count": 15,
   "metadata": {
    "application/vnd.databricks.v1+cell": {
     "cellMetadata": {
      "byteLimit": 2048000,
      "rowLimit": 10000
     },
     "inputWidgets": {},
     "nuid": "32f3d5b3-245c-46b7-87ce-d85e261eac28",
     "showTitle": true,
     "title": ""
    }
   },
   "outputs": [
    {
     "data": {
      "application/vnd.jupyter.widget-view+json": {
       "model_id": "ee4bfb1998174c558e537ebb1dd737d9",
       "version_major": 2,
       "version_minor": 0
      },
      "text/plain": [
       "Downloading artifacts:   0%|          | 0/1 [00:00<?, ?it/s]"
      ]
     },
     "metadata": {},
     "output_type": "display_data"
    },
    {
     "data": {
      "text/html": [
       "<div>\n",
       "<style scoped>\n",
       "    .dataframe tbody tr th:only-of-type {\n",
       "        vertical-align: middle;\n",
       "    }\n",
       "\n",
       "    .dataframe tbody tr th {\n",
       "        vertical-align: top;\n",
       "    }\n",
       "\n",
       "    .dataframe thead th {\n",
       "        text-align: right;\n",
       "    }\n",
       "</style>\n",
       "<table border=\"1\" class=\"dataframe\">\n",
       "  <thead>\n",
       "    <tr style=\"text-align: right;\">\n",
       "      <th></th>\n",
       "      <th>question</th>\n",
       "      <th>source</th>\n",
       "      <th>retrieved_doc_ids</th>\n",
       "      <th>precision_at_1/score</th>\n",
       "      <th>precision_at_2/score</th>\n",
       "      <th>precision_at_3/score</th>\n",
       "      <th>recall_at_1/score</th>\n",
       "      <th>recall_at_2/score</th>\n",
       "      <th>recall_at_3/score</th>\n",
       "      <th>ndcg_at_1/score</th>\n",
       "      <th>ndcg_at_2/score</th>\n",
       "      <th>ndcg_at_3/score</th>\n",
       "    </tr>\n",
       "  </thead>\n",
       "  <tbody>\n",
       "    <tr>\n",
       "      <th>0</th>\n",
       "      <td>What is the purpose of the MLflow Model Registry?</td>\n",
       "      <td>[model-registry.html]</td>\n",
       "      <td>[model-registry.html, introduction/index.html,...</td>\n",
       "      <td>1</td>\n",
       "      <td>0.5</td>\n",
       "      <td>0.333333</td>\n",
       "      <td>1</td>\n",
       "      <td>1</td>\n",
       "      <td>1</td>\n",
       "      <td>1</td>\n",
       "      <td>1.0</td>\n",
       "      <td>0.919721</td>\n",
       "    </tr>\n",
       "    <tr>\n",
       "      <th>1</th>\n",
       "      <td>What is the purpose of registering a model wit...</td>\n",
       "      <td>[model-registry.html]</td>\n",
       "      <td>[model-registry.html, models.html, introductio...</td>\n",
       "      <td>1</td>\n",
       "      <td>0.5</td>\n",
       "      <td>0.333333</td>\n",
       "      <td>1</td>\n",
       "      <td>1</td>\n",
       "      <td>1</td>\n",
       "      <td>1</td>\n",
       "      <td>1.0</td>\n",
       "      <td>1.000000</td>\n",
       "    </tr>\n",
       "    <tr>\n",
       "      <th>2</th>\n",
       "      <td>What can you do with registered models and mod...</td>\n",
       "      <td>[model-registry.html]</td>\n",
       "      <td>[model-registry.html, models.html, deployment/...</td>\n",
       "      <td>1</td>\n",
       "      <td>0.5</td>\n",
       "      <td>0.333333</td>\n",
       "      <td>1</td>\n",
       "      <td>1</td>\n",
       "      <td>1</td>\n",
       "      <td>1</td>\n",
       "      <td>1.0</td>\n",
       "      <td>1.000000</td>\n",
       "    </tr>\n",
       "    <tr>\n",
       "      <th>3</th>\n",
       "      <td>How can you add, modify, update, or delete a m...</td>\n",
       "      <td>[model-registry.html]</td>\n",
       "      <td>[model-registry.html, models.html, deployment/...</td>\n",
       "      <td>1</td>\n",
       "      <td>0.5</td>\n",
       "      <td>0.333333</td>\n",
       "      <td>1</td>\n",
       "      <td>1</td>\n",
       "      <td>1</td>\n",
       "      <td>1</td>\n",
       "      <td>1.0</td>\n",
       "      <td>1.000000</td>\n",
       "    </tr>\n",
       "    <tr>\n",
       "      <th>4</th>\n",
       "      <td>How can you deploy and organize models in the ...</td>\n",
       "      <td>[model-registry.html]</td>\n",
       "      <td>[model-registry.html, deployment/index.html, d...</td>\n",
       "      <td>1</td>\n",
       "      <td>0.5</td>\n",
       "      <td>0.333333</td>\n",
       "      <td>1</td>\n",
       "      <td>1</td>\n",
       "      <td>1</td>\n",
       "      <td>1</td>\n",
       "      <td>1.0</td>\n",
       "      <td>0.919721</td>\n",
       "    </tr>\n",
       "  </tbody>\n",
       "</table>\n",
       "</div>"
      ],
      "text/plain": [
       "                                            question                 source  \\\n",
       "0  What is the purpose of the MLflow Model Registry?  [model-registry.html]   \n",
       "1  What is the purpose of registering a model wit...  [model-registry.html]   \n",
       "2  What can you do with registered models and mod...  [model-registry.html]   \n",
       "3  How can you add, modify, update, or delete a m...  [model-registry.html]   \n",
       "4  How can you deploy and organize models in the ...  [model-registry.html]   \n",
       "\n",
       "                                   retrieved_doc_ids  precision_at_1/score  \\\n",
       "0  [model-registry.html, introduction/index.html,...                     1   \n",
       "1  [model-registry.html, models.html, introductio...                     1   \n",
       "2  [model-registry.html, models.html, deployment/...                     1   \n",
       "3  [model-registry.html, models.html, deployment/...                     1   \n",
       "4  [model-registry.html, deployment/index.html, d...                     1   \n",
       "\n",
       "   precision_at_2/score  precision_at_3/score  recall_at_1/score  \\\n",
       "0                   0.5              0.333333                  1   \n",
       "1                   0.5              0.333333                  1   \n",
       "2                   0.5              0.333333                  1   \n",
       "3                   0.5              0.333333                  1   \n",
       "4                   0.5              0.333333                  1   \n",
       "\n",
       "   recall_at_2/score  recall_at_3/score  ndcg_at_1/score  ndcg_at_2/score  \\\n",
       "0                  1                  1                1              1.0   \n",
       "1                  1                  1                1              1.0   \n",
       "2                  1                  1                1              1.0   \n",
       "3                  1                  1                1              1.0   \n",
       "4                  1                  1                1              1.0   \n",
       "\n",
       "   ndcg_at_3/score  \n",
       "0         0.919721  \n",
       "1         1.000000  \n",
       "2         1.000000  \n",
       "3         1.000000  \n",
       "4         0.919721  "
      ]
     },
     "metadata": {},
     "output_type": "display_data"
    }
   ],
   "source": [
    "eval_results_table = evaluate_results.tables[\"eval_results_table\"]\n",
    "eval_results_table.head(5)"
   ]
  },
  {
   "cell_type": "markdown",
   "metadata": {
    "application/vnd.databricks.v1+cell": {
     "cellMetadata": {
      "byteLimit": 2048000,
      "rowLimit": 10000
     },
     "inputWidgets": {},
     "nuid": "cf18dd29-1017-4245-9f3b-923dbd46f742",
     "showTitle": false,
     "title": ""
    }
   },
   "source": [
    "With the evaluate results table, you can further visualize the well-answered questions and poorly-answered questions using topical analysis techniques."
   ]
  },
  {
   "cell_type": "code",
   "execution_count": 16,
   "metadata": {
    "application/vnd.databricks.v1+cell": {
     "cellMetadata": {
      "byteLimit": 2048000,
      "rowLimit": 10000
     },
     "inputWidgets": {},
     "nuid": "b1d9e40a-ccf6-4d6a-b24c-8cf41bbfa005",
     "showTitle": true,
     "title": "Utilitity functions"
    }
   },
   "outputs": [
    {
     "name": "stderr",
     "output_type": "stream",
     "text": [
      "[nltk_data] Downloading package punkt to\n",
      "[nltk_data]     /Users/liang.zhang/nltk_data...\n",
      "[nltk_data]   Package punkt is already up-to-date!\n",
      "[nltk_data] Downloading package stopwords to\n",
      "[nltk_data]     /Users/liang.zhang/nltk_data...\n",
      "[nltk_data]   Package stopwords is already up-to-date!\n"
     ]
    }
   ],
   "source": [
    "import nltk\n",
    "import pyLDAvis\n",
    "import pyLDAvis.gensim_models as gensimvis\n",
    "from gensim import corpora, models\n",
    "from nltk.corpus import stopwords\n",
    "from nltk.tokenize import word_tokenize\n",
    "\n",
    "# Initialize NLTK resources\n",
    "nltk.download(\"punkt\")\n",
    "nltk.download(\"stopwords\")\n",
    "\n",
    "\n",
    "def topical_analysis(questions: List[str]):\n",
    "    stop_words = set(stopwords.words(\"english\"))\n",
    "\n",
    "    # Tokenize and remove stop words\n",
    "    tokenized_data = []\n",
    "    for question in questions:\n",
    "        tokens = word_tokenize(question.lower())\n",
    "        filtered_tokens = [word for word in tokens if word not in stop_words and word.isalpha()]\n",
    "        tokenized_data.append(filtered_tokens)\n",
    "\n",
    "    # Create a dictionary and corpus\n",
    "    dictionary = corpora.Dictionary(tokenized_data)\n",
    "    corpus = [dictionary.doc2bow(text) for text in tokenized_data]\n",
    "\n",
    "    # Apply LDA model\n",
    "    lda_model = models.LdaModel(corpus, num_topics=5, id2word=dictionary, passes=15)\n",
    "\n",
    "    # Get topic distribution for each question\n",
    "    topic_distribution = []\n",
    "    for i, ques in enumerate(questions):\n",
    "        bow = dictionary.doc2bow(tokenized_data[i])\n",
    "        topics = lda_model.get_document_topics(bow)\n",
    "        topic_distribution.append(topics)\n",
    "        print(f\"Question: {ques}\\nTopic: {topics}\")\n",
    "\n",
    "    # Print all topics\n",
    "    print(\"\\nTopics found are:\")\n",
    "    for idx, topic in lda_model.print_topics(-1):\n",
    "        print(f\"Topic: {idx} \\nWords: {topic}\\n\")\n",
    "    return lda_model, corpus, dictionary"
   ]
  },
  {
   "cell_type": "code",
   "execution_count": 17,
   "metadata": {
    "application/vnd.databricks.v1+cell": {
     "cellMetadata": {
      "byteLimit": 2048000,
      "rowLimit": 10000
     },
     "inputWidgets": {},
     "nuid": "e892d804-a4d8-468c-93e2-acc4a5fbcf2c",
     "showTitle": false,
     "title": ""
    }
   },
   "outputs": [],
   "source": [
    "filtered_df = eval_results_table[eval_results_table[\"precision_at_1/score\"] == 1]\n",
    "hit_questions = filtered_df[\"question\"].tolist()\n",
    "filtered_df = eval_results_table[eval_results_table[\"precision_at_1/score\"] == 0]\n",
    "miss_questions = filtered_df[\"question\"].tolist()"
   ]
  },
  {
   "cell_type": "code",
   "execution_count": 20,
   "metadata": {
    "application/vnd.databricks.v1+cell": {
     "cellMetadata": {
      "byteLimit": 2048000,
      "rowLimit": 10000
     },
     "inputWidgets": {},
     "nuid": "7c178b69-37d4-4a6b-9737-b93e7f3d75c5",
     "showTitle": false,
     "title": ""
    }
   },
   "outputs": [
    {
     "name": "stdout",
     "output_type": "stream",
     "text": [
      "Question: What is the purpose of the MLflow Model Registry?\n",
      "Topic: [(0, 0.0400703), (1, 0.040002838), (2, 0.040673085), (3, 0.04075462), (4, 0.8384991)]\n",
      "Question: What is the purpose of registering a model with the Model Registry?\n",
      "Topic: [(0, 0.0334267), (1, 0.033337697), (2, 0.033401005), (3, 0.033786207), (4, 0.8660484)]\n",
      "Question: What can you do with registered models and model versions?\n",
      "Topic: [(0, 0.04019648), (1, 0.04000775), (2, 0.040166058), (3, 0.8391777), (4, 0.040452003)]\n",
      "Question: How can you add, modify, update, or delete a model in the Model Registry?\n",
      "Topic: [(0, 0.025052568), (1, 0.025006149), (2, 0.025024023), (3, 0.025236268), (4, 0.899681)]\n",
      "Question: How can you deploy and organize models in the Model Registry?\n",
      "Topic: [(0, 0.033460867), (1, 0.033337582), (2, 0.033362914), (3, 0.8659808), (4, 0.033857808)]\n",
      "Question: What method do you use to create a new registered model?\n",
      "Topic: [(0, 0.028867528), (1, 0.028582651), (2, 0.882546), (3, 0.030021703), (4, 0.029982116)]\n",
      "Question: How can you deploy and organize models in the Model Registry?\n",
      "Topic: [(0, 0.033460878), (1, 0.033337586), (2, 0.033362918), (3, 0.8659798), (4, 0.03385884)]\n",
      "Question: How can you fetch a list of registered models in the MLflow registry?\n",
      "Topic: [(0, 0.0286206), (1, 0.028577656), (2, 0.02894385), (3, 0.88495284), (4, 0.028905064)]\n",
      "Question: What is the default channel logged for models using MLflow v1.18 and above?\n",
      "Topic: [(0, 0.02862059), (1, 0.028577654), (2, 0.028883327), (3, 0.8851736), (4, 0.028744776)]\n",
      "Question: What information is stored in the conda.yaml file?\n",
      "Topic: [(0, 0.050020963), (1, 0.051287953), (2, 0.051250603), (3, 0.7968765), (4, 0.05056402)]\n",
      "Question: How can you save a model with a manually specified conda environment?\n",
      "Topic: [(0, 0.02862434), (1, 0.02858204), (2, 0.02886313), (3, 0.8851747), (4, 0.028755778)]\n",
      "Question: What are inference params and how are they used during model inference?\n",
      "Topic: [(0, 0.86457103), (1, 0.03353862), (2, 0.033417325), (3, 0.034004394), (4, 0.034468662)]\n",
      "Question: What is the purpose of model signatures in MLflow?\n",
      "Topic: [(0, 0.040070876), (1, 0.04000346), (2, 0.040688124), (3, 0.040469088), (4, 0.8387685)]\n",
      "Question: What is the API used to set signatures on models?\n",
      "Topic: [(0, 0.033873636), (1, 0.033508822), (2, 0.033337757), (3, 0.035357967), (4, 0.8639218)]\n",
      "Question: What components are used to generate the final time series?\n",
      "Topic: [(0, 0.028693806), (1, 0.8853218), (2, 0.028573763), (3, 0.02862714), (4, 0.0287835)]\n",
      "Question: What functionality does the configuration DataFrame submitted to the pyfunc flavor provide?\n",
      "Topic: [(0, 0.02519801), (1, 0.025009492), (2, 0.025004204), (3, 0.025004204), (4, 0.8997841)]\n",
      "Question: What is a common configuration for lowering the total memory pressure for pytorch models within transformers pipelines?\n",
      "Topic: [(0, 0.93316424), (1, 0.016669936), (2, 0.016668117), (3, 0.016788227), (4, 0.016709473)]\n",
      "Question: What does the save_model() function do?\n",
      "Topic: [(0, 0.10002145), (1, 0.59994656), (2, 0.10001026), (3, 0.10001026), (4, 0.10001151)]\n",
      "Question: What is an MLflow Project?\n",
      "Topic: [(0, 0.06667001), (1, 0.06667029), (2, 0.7321751), (3, 0.06711196), (4, 0.06737265)]\n",
      "Question: What are the entry points in a MLproject file and how can you specify parameters for them?\n",
      "Topic: [(0, 0.02857626), (1, 0.88541776), (2, 0.02868285), (3, 0.028626908), (4, 0.02869626)]\n",
      "Question: What are the project environments supported by MLflow?\n",
      "Topic: [(0, 0.040009078), (1, 0.040009864), (2, 0.839655), (3, 0.040126894), (4, 0.040199146)]\n",
      "Question: What is the purpose of specifying a Conda environment in an MLflow project?\n",
      "Topic: [(0, 0.028579442), (1, 0.028580135), (2, 0.8841217), (3, 0.028901232), (4, 0.029817443)]\n",
      "Question: What is the purpose of the MLproject file?\n",
      "Topic: [(0, 0.05001335), (1, 0.052611485), (2, 0.050071735), (3, 0.05043289), (4, 0.7968705)]\n",
      "Question: How can you pass runtime parameters to the entry point of an MLflow Project?\n",
      "Topic: [(0, 0.025007373), (1, 0.025498485), (2, 0.8993807), (3, 0.02504522), (4, 0.025068246)]\n",
      "Question: How does MLflow run a Project on Kubernetes?\n",
      "Topic: [(0, 0.04000677), (1, 0.040007353), (2, 0.83931196), (3, 0.04012452), (4, 0.04054937)]\n",
      "Question: What fields are replaced when MLflow creates a Kubernetes Job for an MLflow Project?\n",
      "Topic: [(0, 0.022228329), (1, 0.022228856), (2, 0.023192631), (3, 0.02235802), (4, 0.90999216)]\n",
      "Question: What is the syntax for searching runs using the MLflow UI and API?\n",
      "Topic: [(0, 0.025003674), (1, 0.02500399), (2, 0.02527212), (3, 0.89956146), (4, 0.025158761)]\n",
      "Question: What is the syntax for searching runs using the MLflow UI and API?\n",
      "Topic: [(0, 0.025003672), (1, 0.025003988), (2, 0.025272164), (3, 0.8995614), (4, 0.025158769)]\n",
      "Question: What are the key parts of a search expression in MLflow?\n",
      "Topic: [(0, 0.03334423), (1, 0.03334517), (2, 0.8662702), (3, 0.033611353), (4, 0.033429127)]\n",
      "Question: What are the key attributes for the model with the run_id 'a1b2c3d4' and run_name 'my-run'?\n",
      "Topic: [(0, 0.05017508), (1, 0.05001634), (2, 0.05058142), (3, 0.7985237), (4, 0.050703418)]\n",
      "Question: What information does each run record in MLflow Tracking?\n",
      "Topic: [(0, 0.03333968), (1, 0.033340227), (2, 0.86639804), (3, 0.03349555), (4, 0.033426523)]\n",
      "Question: What are the two components used by MLflow for storage?\n",
      "Topic: [(0, 0.0334928), (1, 0.033938777), (2, 0.033719826), (3, 0.03357158), (4, 0.86527705)]\n",
      "Question: What interfaces does the MLflow client use to record MLflow entities and artifacts when running MLflow on a local machine with a SQLAlchemy-compatible database?\n",
      "Topic: [(0, 0.014289577), (1, 0.014289909), (2, 0.94276434), (3, 0.014325481), (4, 0.014330726)]\n",
      "Question: What is the default backend store used by MLflow?\n",
      "Topic: [(0, 0.033753525), (1, 0.03379533), (2, 0.033777602), (3, 0.86454684), (4, 0.0341267)]\n",
      "Question: What information does autologging capture when launching short-lived MLflow runs?\n",
      "Topic: [(0, 0.028579954), (1, 0.02858069), (2, 0.8851724), (3, 0.029027484), (4, 0.028639426)]\n",
      "Question: What is the purpose of the --serve-artifacts flag?\n",
      "Topic: [(0, 0.06670548), (1, 0.066708855), (2, 0.067003354), (3, 0.3969311), (4, 0.40265122)]\n",
      "\n",
      "Topics found are:\n",
      "Topic: 0 \n",
      "Words: 0.059*\"inference\" + 0.032*\"models\" + 0.032*\"used\" + 0.032*\"configuration\" + 0.032*\"common\" + 0.032*\"transformers\" + 0.032*\"total\" + 0.032*\"within\" + 0.032*\"pytorch\" + 0.032*\"pipelines\"\n",
      "\n",
      "Topic: 1 \n",
      "Words: 0.036*\"file\" + 0.035*\"mlproject\" + 0.035*\"used\" + 0.035*\"components\" + 0.035*\"entry\" + 0.035*\"parameters\" + 0.035*\"specify\" + 0.035*\"final\" + 0.035*\"points\" + 0.035*\"time\"\n",
      "\n",
      "Topic: 2 \n",
      "Words: 0.142*\"mlflow\" + 0.066*\"project\" + 0.028*\"information\" + 0.028*\"use\" + 0.028*\"record\" + 0.028*\"run\" + 0.015*\"key\" + 0.015*\"running\" + 0.015*\"artifacts\" + 0.015*\"client\"\n",
      "\n",
      "Topic: 3 \n",
      "Words: 0.066*\"models\" + 0.066*\"model\" + 0.066*\"mlflow\" + 0.041*\"using\" + 0.041*\"registry\" + 0.028*\"api\" + 0.028*\"registered\" + 0.028*\"runs\" + 0.028*\"syntax\" + 0.028*\"searching\"\n",
      "\n",
      "Topic: 4 \n",
      "Words: 0.089*\"model\" + 0.074*\"purpose\" + 0.074*\"mlflow\" + 0.046*\"registry\" + 0.031*\"used\" + 0.031*\"signatures\" + 0.017*\"kubernetes\" + 0.017*\"fields\" + 0.017*\"job\" + 0.017*\"replaced\"\n",
      "\n"
     ]
    }
   ],
   "source": [
    "lda_model, corpus, dictionary = topical_analysis(hit_questions)\n",
    "vis_data = gensimvis.prepare(lda_model, corpus, dictionary)"
   ]
  },
  {
   "cell_type": "code",
   "execution_count": 21,
   "metadata": {},
   "outputs": [
    {
     "data": {
      "text/html": [
       "\n",
       "<link rel=\"stylesheet\" type=\"text/css\" href=\"https://cdn.jsdelivr.net/gh/bmabey/pyLDAvis@3.4.0/pyLDAvis/js/ldavis.v1.0.0.css\">\n",
       "\n",
       "\n",
       "<div id=\"ldavis_el7686112553344963303318783\" style=\"background-color:white;\"></div>\n",
       "<script type=\"text/javascript\">\n",
       "\n",
       "var ldavis_el7686112553344963303318783_data = {\"mdsDat\": {\"x\": [0.1583295967301181, -0.052237971876222436, -0.034888102468807185, -0.059516659007813895, -0.011686863377274764], \"y\": [-0.013249714522077296, -0.12245872210761465, -0.02690981267567777, 0.06977885479437544, 0.09283939451099422], \"topics\": [1, 2, 3, 4, 5], \"cluster\": [1, 1, 1, 1, 1], \"Freq\": [28.654927515241035, 28.06362086578148, 24.272383293450854, 10.393078215126227, 8.615990110400402]}, \"tinfo\": {\"Term\": [\"purpose\", \"inference\", \"mlflow\", \"models\", \"project\", \"model\", \"used\", \"mlproject\", \"components\", \"entry\", \"parameters\", \"file\", \"registry\", \"specify\", \"final\", \"points\", \"time\", \"generate\", \"series\", \"function\", \"configuration\", \"using\", \"common\", \"total\", \"transformers\", \"within\", \"pytorch\", \"pipelines\", \"lowering\", \"pressure\", \"use\", \"record\", \"run\", \"project\", \"running\", \"artifacts\", \"client\", \"machine\", \"local\", \"database\", \"interfaces\", \"entities\", \"pass\", \"runtime\", \"point\", \"autologging\", \"capture\", \"launching\", \"specifying\", \"method\", \"new\", \"create\", \"tracking\", \"supported\", \"environments\", \"expression\", \"search\", \"parts\", \"information\", \"mlflow\", \"key\", \"environment\", \"conda\", \"using\", \"syntax\", \"searching\", \"ui\", \"default\", \"deploy\", \"organize\", \"models\", \"fetch\", \"specified\", \"logged\", \"channel\", \"manually\", \"list\", \"save\", \"store\", \"backend\", \"versions\", \"attributes\", \"stored\", \"flag\", \"api\", \"registered\", \"runs\", \"registry\", \"conda\", \"environment\", \"key\", \"model\", \"file\", \"mlflow\", \"information\", \"signatures\", \"purpose\", \"fields\", \"job\", \"replaced\", \"creates\", \"flavor\", \"dataframe\", \"functionality\", \"update\", \"provide\", \"pyfunc\", \"add\", \"modify\", \"submitted\", \"delete\", \"storage\", \"registering\", \"two\", \"set\", \"registry\", \"components\", \"mlproject\", \"model\", \"configuration\", \"kubernetes\", \"used\", \"file\", \"api\", \"mlflow\", \"project\", \"inference\", \"common\", \"transformers\", \"total\", \"within\", \"pytorch\", \"pipelines\", \"lowering\", \"pressure\", \"memory\", \"params\", \"configuration\", \"used\", \"models\", \"function\", \"generate\", \"specify\", \"time\", \"series\", \"points\", \"final\", \"set\", \"two\", \"storage\", \"registering\", \"provide\", \"modify\", \"pyfunc\", \"delete\", \"submitted\", \"model\", \"flag\", \"mlflow\", \"file\", \"purpose\", \"key\", \"information\", \"project\", \"registry\", \"mlproject\", \"registered\", \"kubernetes\", \"environment\", \"stored\", \"attributes\", \"specify\", \"final\", \"points\", \"time\", \"generate\", \"series\", \"function\", \"mlproject\", \"components\", \"entry\", \"parameters\", \"file\", \"used\", \"params\", \"pipelines\", \"pressure\", \"memory\", \"lowering\", \"within\", \"total\", \"transformers\", \"pytorch\", \"common\", \"two\", \"storage\", \"set\", \"registering\", \"pyfunc\", \"submitted\", \"delete\", \"flag\", \"model\", \"mlflow\", \"purpose\", \"information\", \"key\", \"models\", \"registry\", \"project\", \"stored\", \"kubernetes\", \"registered\", \"environment\", \"attributes\", \"conda\", \"api\", \"runs\"], \"Freq\": [4.0, 1.0, 15.0, 5.0, 4.0, 9.0, 3.0, 1.0, 1.0, 1.0, 1.0, 2.0, 4.0, 1.0, 1.0, 1.0, 1.0, 1.0, 1.0, 1.0, 1.0, 2.0, 1.0, 1.0, 1.0, 1.0, 1.0, 1.0, 1.0, 1.0, 1.5483403887594014, 1.5483379036677547, 1.548316573297787, 3.6619523560296896, 0.8445440033134723, 0.8445436409042739, 0.8445435891315313, 0.8445434338133033, 0.844543330267818, 0.8445431749495901, 0.8445431749495901, 0.8445429678586196, 0.8445287303543936, 0.8445285750361657, 0.8445277984450261, 0.8445259863990336, 0.8445241743530413, 0.8445234495346443, 0.8445219998978504, 0.8445211715339682, 0.8445210162157403, 0.8445204467155712, 0.844516874396329, 0.8445072446661981, 0.8445065716205438, 0.8443151160182615, 0.8443040366513365, 0.8442196988535762, 1.5511520628666884, 7.889981253172831, 0.8449004068738053, 0.8445249509441809, 0.8445231906709312, 2.205665912277805, 1.5163890146705317, 1.5163882034002913, 1.516387594947611, 1.5163799892891086, 1.5163759329379074, 1.516372079404266, 3.588810888599567, 0.8270998466008739, 0.8270996944877038, 0.8270994409657537, 0.8270984268779534, 0.8270980212428333, 0.827096956450643, 0.8270962465891827, 0.8270887423394603, 0.8270882352955601, 0.8270776380780467, 0.8270630352137219, 0.8270588267493505, 0.8201523817852026, 1.5178998026754633, 1.5175009619435935, 1.5174365673682726, 2.2052215390037007, 0.8271102917052173, 0.8271051198574356, 0.8264849037587537, 3.586540548832188, 0.823530358952492, 3.5803140497381616, 0.8243093812007056, 1.4798841793691273, 3.4988490665180914, 0.8072089463935443, 0.8072081570123341, 0.8072080693033107, 0.8072078061762407, 0.8072060519957732, 0.80720596428675, 0.8072057011596798, 0.8072055257416331, 0.8072051749055396, 0.8072048240694462, 0.8072049117784695, 0.8072047363604228, 0.8072046486513994, 0.8072042978153059, 0.8071943866956655, 0.8071944744046888, 0.807194035859572, 0.8071921939700812, 2.153027603111444, 0.8058551576178731, 0.8040689633570021, 4.181951849863743, 0.80637527212644, 0.8078367675828061, 1.4804385003968075, 0.8044056782977084, 0.805731137058832, 3.4947614751930907, 0.8050900718070418, 1.1987143931038284, 0.653845771275417, 0.6538454708296868, 0.6538454708296868, 0.6538453957182543, 0.6538453206068218, 0.6538451703839567, 0.6538451703839567, 0.6538450201610917, 0.6538447197153615, 0.6538349552291328, 0.6545251541826378, 0.6548759996839787, 0.6551605969018294, 0.10900528806741659, 0.10898008818180326, 0.10897998490358353, 0.10897992857000913, 0.1089799379589382, 0.10897985345857661, 0.10897975018035688, 0.10898514881456987, 0.1089847544795491, 0.1089845291452515, 0.10898449158953524, 0.10898238846942444, 0.10898216313512686, 0.1089821537461978, 0.10898216313512686, 0.10898212557941059, 0.6520649543215974, 0.10903258168421165, 0.10901241426457774, 0.10901232037528708, 0.1090035135598231, 0.10900277183442689, 0.10900109121612406, 0.10899688497590246, 0.10899577708227266, 0.10899517619081243, 0.10899345801679335, 0.10899337351643175, 0.10899284773640405, 0.10899246279031234, 0.10899227501173102, 0.5895089838709194, 0.5895086102610919, 0.589508298919569, 0.5895080498463507, 0.589507863041437, 0.5895076762365232, 0.5894410491506205, 0.5917883774284483, 0.5904960610351533, 0.5902845978727929, 0.5902832902383967, 0.5940921801613732, 0.5913678172993013, 0.09825894096873014, 0.0982559520901102, 0.09825587425472948, 0.09825586647119142, 0.09825585868765334, 0.09825579641934876, 0.09825578863581068, 0.09825571080042995, 0.09825570301689188, 0.09825559404735887, 0.09826263036577663, 0.09826240464317251, 0.09826214000287804, 0.09826175860951249, 0.09825982829207044, 0.09825978937438007, 0.09825968040484706, 0.09830840535318247, 0.0982877478431374, 0.09828500025419772, 0.09828275081169469, 0.09828092168024759, 0.09827959069523715, 0.09827650841416034, 0.09827239092251985, 0.09827195504438778, 0.09827156586748415, 0.09827101323628099, 0.09827044503800167, 0.09826965111711825, 0.0982694409615903, 0.09826893503161556, 0.0982688649797729, 0.0982676663149097], \"Total\": [4.0, 1.0, 15.0, 5.0, 4.0, 9.0, 3.0, 1.0, 1.0, 1.0, 1.0, 2.0, 4.0, 1.0, 1.0, 1.0, 1.0, 1.0, 1.0, 1.0, 1.0, 2.0, 1.0, 1.0, 1.0, 1.0, 1.0, 1.0, 1.0, 1.0, 2.027987020376637, 2.027986476227387, 2.0279820760916007, 4.812184629690396, 1.3241815006737214, 1.3241814367714462, 1.3241814846451223, 1.3241814602557644, 1.3241814193227048, 1.3241814125006148, 1.3241814393497333, 1.3241813883614812, 1.324178367999416, 1.324178242853663, 1.324178159011382, 1.324177772850711, 1.3241775018602084, 1.3241774634968733, 1.3241773247998485, 1.3241771469726233, 1.3241772397385094, 1.3241770862971312, 1.3241759481181752, 1.3241736431590931, 1.3241736007160403, 1.324166972173277, 1.3241664097522108, 1.3241626227389178, 2.717303252852551, 15.172354192622858, 2.0134398893419756, 2.01344574351266, 2.0134463946533816, 2.6882255311851586, 1.9989423735342626, 1.9989423316746984, 1.9989423019173196, 1.9989403558271748, 1.9989398778403586, 1.9989392593044717, 5.284158640621816, 1.3096562633035367, 1.3096561566672142, 1.3096562720310503, 1.3096560049225556, 1.309655904774173, 1.3096557769389137, 1.309655887836275, 1.309654183135982, 1.3096542452228674, 1.3096521229752243, 1.3096491785411917, 1.3096481761453476, 1.309442561370274, 2.6716626977592344, 2.70270680163506, 2.702710891162556, 4.706294710257684, 2.0134463946533816, 2.01344574351266, 2.0134398893419756, 9.35158994080828, 2.4718303892692126, 15.172354192622858, 2.717303252852551, 1.9657696738037638, 4.687535534983525, 1.2930739921418788, 1.2930739716089363, 1.293074042658026, 1.2930739832965303, 1.2930734968167519, 1.2930734798053782, 1.293073381987317, 1.2930733670619323, 1.2930733264742802, 1.2930731884035247, 1.2930734068796064, 1.2930732997340746, 1.2930732301169088, 1.2930733494670452, 1.2930714249102933, 1.2930716911487046, 1.293071387830734, 1.2930713906917246, 4.706294710257684, 1.7839779424650049, 1.783498640110468, 9.35158994080828, 1.8377921016514278, 1.9968315258220772, 3.690160651883496, 2.4718303892692126, 2.6716626977592344, 15.172354192622858, 4.812184629690396, 1.710144742522745, 1.165263840637557, 1.1652639422216189, 1.1652639519211587, 1.1652639063186792, 1.1652638963255622, 1.1652638687919694, 1.1652638773746489, 1.1652639515197867, 1.1652639679309724, 1.1652649250192664, 1.8377921016514278, 3.690160651883496, 5.284158640621816, 1.1116722487934632, 1.111655453511371, 1.111655005509598, 1.1116553193004957, 1.1116555699820596, 1.1116552160584257, 1.1116551600759135, 1.2930713906917246, 1.293071387830734, 1.2930714249102933, 1.2930716911487046, 1.2930733264742802, 1.2930732997340746, 1.2930731884035247, 1.2930733494670452, 1.2930732301169088, 9.35158994080828, 1.309442561370274, 15.172354192622858, 2.4718303892692126, 4.687535534983525, 2.0134398893419756, 2.717303252852551, 4.812184629690396, 4.706294710257684, 1.783498640110468, 2.70270680163506, 1.9968315258220772, 2.01344574351266, 1.3096481761453476, 1.3096491785411917, 1.111655005509598, 1.1116551600759135, 1.1116552160584257, 1.1116553193004957, 1.111655453511371, 1.1116555699820596, 1.1116722487934632, 1.783498640110468, 1.7839779424650049, 1.8151139992343546, 1.8151141596054639, 2.4718303892692126, 3.690160651883496, 1.1652649250192664, 1.1652638687919694, 1.1652639515197867, 1.1652639679309724, 1.1652638773746489, 1.1652639063186792, 1.1652639519211587, 1.1652639422216189, 1.1652638963255622, 1.165263840637557, 1.293071387830734, 1.2930714249102933, 1.2930713906917246, 1.2930716911487046, 1.2930731884035247, 1.2930732301169088, 1.2930733494670452, 1.309442561370274, 9.35158994080828, 15.172354192622858, 4.687535534983525, 2.717303252852551, 2.0134398893419756, 5.284158640621816, 4.706294710257684, 4.812184629690396, 1.3096481761453476, 1.9968315258220772, 2.70270680163506, 2.01344574351266, 1.3096491785411917, 2.0134463946533816, 2.6716626977592344, 2.702710891162556], \"Category\": [\"Default\", \"Default\", \"Default\", \"Default\", \"Default\", \"Default\", \"Default\", \"Default\", \"Default\", \"Default\", \"Default\", \"Default\", \"Default\", \"Default\", \"Default\", \"Default\", \"Default\", \"Default\", \"Default\", \"Default\", \"Default\", \"Default\", \"Default\", \"Default\", \"Default\", \"Default\", \"Default\", \"Default\", \"Default\", \"Default\", \"Topic1\", \"Topic1\", \"Topic1\", \"Topic1\", \"Topic1\", \"Topic1\", \"Topic1\", \"Topic1\", \"Topic1\", \"Topic1\", \"Topic1\", \"Topic1\", \"Topic1\", \"Topic1\", \"Topic1\", \"Topic1\", \"Topic1\", \"Topic1\", \"Topic1\", \"Topic1\", \"Topic1\", \"Topic1\", \"Topic1\", \"Topic1\", \"Topic1\", \"Topic1\", \"Topic1\", \"Topic1\", \"Topic1\", \"Topic1\", \"Topic1\", \"Topic1\", \"Topic1\", \"Topic2\", \"Topic2\", \"Topic2\", \"Topic2\", \"Topic2\", \"Topic2\", \"Topic2\", \"Topic2\", \"Topic2\", \"Topic2\", \"Topic2\", \"Topic2\", \"Topic2\", \"Topic2\", \"Topic2\", \"Topic2\", \"Topic2\", \"Topic2\", \"Topic2\", \"Topic2\", \"Topic2\", \"Topic2\", \"Topic2\", \"Topic2\", \"Topic2\", \"Topic2\", \"Topic2\", \"Topic2\", \"Topic2\", \"Topic2\", \"Topic2\", \"Topic2\", \"Topic3\", \"Topic3\", \"Topic3\", \"Topic3\", \"Topic3\", \"Topic3\", \"Topic3\", \"Topic3\", \"Topic3\", \"Topic3\", \"Topic3\", \"Topic3\", \"Topic3\", \"Topic3\", \"Topic3\", \"Topic3\", \"Topic3\", \"Topic3\", \"Topic3\", \"Topic3\", \"Topic3\", \"Topic3\", \"Topic3\", \"Topic3\", \"Topic3\", \"Topic3\", \"Topic3\", \"Topic3\", \"Topic3\", \"Topic3\", \"Topic3\", \"Topic4\", \"Topic4\", \"Topic4\", \"Topic4\", \"Topic4\", \"Topic4\", \"Topic4\", \"Topic4\", \"Topic4\", \"Topic4\", \"Topic4\", \"Topic4\", \"Topic4\", \"Topic4\", \"Topic4\", \"Topic4\", \"Topic4\", \"Topic4\", \"Topic4\", \"Topic4\", \"Topic4\", \"Topic4\", \"Topic4\", \"Topic4\", \"Topic4\", \"Topic4\", \"Topic4\", \"Topic4\", \"Topic4\", \"Topic4\", \"Topic4\", \"Topic4\", \"Topic4\", \"Topic4\", \"Topic4\", \"Topic4\", \"Topic4\", \"Topic4\", \"Topic4\", \"Topic4\", \"Topic4\", \"Topic4\", \"Topic4\", \"Topic4\", \"Topic4\", \"Topic5\", \"Topic5\", \"Topic5\", \"Topic5\", \"Topic5\", \"Topic5\", \"Topic5\", \"Topic5\", \"Topic5\", \"Topic5\", \"Topic5\", \"Topic5\", \"Topic5\", \"Topic5\", \"Topic5\", \"Topic5\", \"Topic5\", \"Topic5\", \"Topic5\", \"Topic5\", \"Topic5\", \"Topic5\", \"Topic5\", \"Topic5\", \"Topic5\", \"Topic5\", \"Topic5\", \"Topic5\", \"Topic5\", \"Topic5\", \"Topic5\", \"Topic5\", \"Topic5\", \"Topic5\", \"Topic5\", \"Topic5\", \"Topic5\", \"Topic5\", \"Topic5\", \"Topic5\", \"Topic5\", \"Topic5\", \"Topic5\", \"Topic5\", \"Topic5\", \"Topic5\", \"Topic5\"], \"logprob\": [30.0, 29.0, 28.0, 27.0, 26.0, 25.0, 24.0, 23.0, 22.0, 21.0, 20.0, 19.0, 18.0, 17.0, 16.0, 15.0, 14.0, 13.0, 12.0, 11.0, 10.0, 9.0, 8.0, 7.0, 6.0, 5.0, 4.0, 3.0, 2.0, 1.0, -3.5808, -3.5808, -3.5808, -2.72, -4.187, -4.187, -4.187, -4.187, -4.187, -4.187, -4.187, -4.187, -4.187, -4.187, -4.187, -4.187, -4.187, -4.187, -4.187, -4.187, -4.187, -4.187, -4.187, -4.187, -4.187, -4.1872, -4.1873, -4.1874, -3.579, -1.9524, -4.1865, -4.187, -4.187, -3.2061, -3.5808, -3.5808, -3.5808, -3.5808, -3.5808, -3.5808, -2.7193, -4.187, -4.187, -4.187, -4.187, -4.187, -4.187, -4.187, -4.187, -4.187, -4.187, -4.187, -4.187, -4.1954, -3.5798, -3.5801, -3.5801, -3.2063, -4.187, -4.187, -4.1877, -2.72, -4.1913, -2.7217, -4.1904, -3.4601, -2.5996, -4.0662, -4.0662, -4.0662, -4.0662, -4.0662, -4.0662, -4.0662, -4.0662, -4.0662, -4.0662, -4.0662, -4.0662, -4.0662, -4.0662, -4.0662, -4.0662, -4.0662, -4.0662, -3.0852, -4.0679, -4.0701, -2.4212, -4.0672, -4.0654, -3.4597, -4.0697, -4.068, -2.6008, -4.0688, -2.8226, -3.4287, -3.4287, -3.4287, -3.4287, -3.4287, -3.4287, -3.4287, -3.4287, -3.4287, -3.4287, -3.4277, -3.4271, -3.4267, -5.2202, -5.2204, -5.2204, -5.2204, -5.2204, -5.2204, -5.2204, -5.2204, -5.2204, -5.2204, -5.2204, -5.2204, -5.2204, -5.2204, -5.2204, -5.2204, -3.4314, -5.2199, -5.2201, -5.2201, -5.2202, -5.2202, -5.2202, -5.2203, -5.2203, -5.2203, -5.2203, -5.2203, -5.2203, -5.2203, -5.2203, -3.3448, -3.3448, -3.3448, -3.3448, -3.3448, -3.3448, -3.3449, -3.3409, -3.3431, -3.3435, -3.3435, -3.337, -3.3416, -5.1365, -5.1365, -5.1365, -5.1365, -5.1365, -5.1365, -5.1365, -5.1365, -5.1365, -5.1365, -5.1364, -5.1364, -5.1364, -5.1364, -5.1364, -5.1364, -5.1364, -5.136, -5.1362, -5.1362, -5.1362, -5.1362, -5.1362, -5.1363, -5.1363, -5.1363, -5.1363, -5.1363, -5.1363, -5.1363, -5.1363, -5.1364, -5.1364, -5.1364], \"loglift\": [30.0, 29.0, 28.0, 27.0, 26.0, 25.0, 24.0, 23.0, 22.0, 21.0, 20.0, 19.0, 18.0, 17.0, 16.0, 15.0, 14.0, 13.0, 12.0, 11.0, 10.0, 9.0, 8.0, 7.0, 6.0, 5.0, 4.0, 3.0, 2.0, 1.0, 0.98, 0.98, 0.98, 0.9767, 0.8001, 0.8001, 0.8001, 0.8001, 0.8001, 0.8001, 0.8001, 0.8001, 0.8001, 0.8001, 0.8001, 0.8001, 0.8001, 0.8001, 0.8001, 0.8001, 0.8001, 0.8001, 0.8001, 0.8001, 0.8001, 0.7998, 0.7998, 0.7997, 0.6892, 0.596, 0.3815, 0.381, 0.381, 1.0728, 0.9944, 0.9944, 0.9944, 0.9944, 0.9944, 0.9944, 0.8838, 0.8111, 0.8111, 0.8111, 0.8111, 0.8111, 0.8111, 0.8111, 0.8111, 0.8111, 0.8111, 0.8111, 0.8111, 0.8028, 0.7053, 0.6935, 0.6935, 0.5126, 0.381, 0.381, 0.3803, 0.3123, 0.1716, -0.1733, 0.0778, 1.1319, 1.1234, 0.9446, 0.9446, 0.9446, 0.9446, 0.9446, 0.9446, 0.9446, 0.9446, 0.9446, 0.9446, 0.9446, 0.9446, 0.9446, 0.9446, 0.9446, 0.9446, 0.9446, 0.9446, 0.6338, 0.6211, 0.6192, 0.6111, 0.5921, 0.5109, 0.5025, 0.2932, 0.2171, -0.0524, -0.3721, 1.9087, 1.6862, 1.6862, 1.6862, 1.6862, 1.6862, 1.6862, 1.6862, 1.6862, 1.6862, 1.6862, 1.2316, 0.5351, 0.1764, -0.0582, -0.0584, -0.0584, -0.0584, -0.0584, -0.0584, -0.0584, -0.2095, -0.2095, -0.2095, -0.2095, -0.2096, -0.2096, -0.2096, -0.2096, -0.2096, -0.3991, -0.2217, -2.6717, -0.8572, -1.4973, -0.6522, -0.952, -1.5236, -1.5013, -0.531, -0.9467, -0.644, -0.6523, -0.2222, -0.2222, 1.8172, 1.8172, 1.8172, 1.8172, 1.8172, 1.8172, 1.8171, 1.3484, 1.3459, 1.3283, 1.3282, 1.0259, 0.6206, -0.0215, -0.0216, -0.0216, -0.0216, -0.0216, -0.0216, -0.0216, -0.0216, -0.0216, -0.0216, -0.1256, -0.1256, -0.1256, -0.1256, -0.1256, -0.1256, -0.1256, -0.1377, -2.1039, -2.5878, -1.4133, -0.868, -0.5682, -1.5331, -1.4174, -1.4396, -0.1382, -0.56, -0.8627, -0.5683, -0.1383, -0.5683, -0.8512, -0.8628]}, \"token.table\": {\"Topic\": [3, 2, 3, 1, 2, 1, 2, 1, 2, 1, 4, 3, 5, 1, 2, 3, 4, 1, 3, 1, 3, 2, 3, 2, 1, 1, 5, 1, 2, 1, 1, 2, 3, 2, 3, 5, 5, 2, 3, 5, 3, 5, 4, 1, 2, 1, 3, 1, 2, 1, 3, 1, 2, 1, 2, 4, 1, 2, 4, 1, 1, 2, 3, 3, 5, 1, 2, 3, 4, 2, 3, 4, 3, 1, 2, 1, 5, 4, 1, 1, 4, 1, 5, 4, 1, 3, 3, 1, 3, 3, 4, 1, 1, 2, 3, 2, 3, 3, 1, 1, 1, 2, 1, 2, 1, 2, 5, 3, 3, 2, 5, 1, 3, 2, 2, 3, 1, 2, 5, 4, 1, 4, 3, 2, 3, 1, 2, 3, 4, 5, 2, 2, 4], \"Freq\": [0.7733512998408656, 0.7485974938668087, 0.37429874693340437, 0.7551835211027808, 0.7635632628837995, 0.7551856106504372, 0.7635603088736045, 0.7551857651977903, 0.7635592829272244, 0.7551834938003213, 0.8581747456034203, 0.5605450472208494, 0.5605450472208494, 0.49666085109365515, 0.49666085109365515, 0.5441311882347337, 0.5441311882347337, 0.7551860021957899, 0.7733509551020624, 0.7551835349444883, 0.7733512562259888, 1.0005301029466618, 0.7733513341777257, 1.0005303421935765, 0.755183548711089, 0.5509295837186076, 0.5509295837186076, 0.49666101171189186, 0.49666101171189186, 0.7551879900484763, 0.7551917703843339, 0.7635591322852566, 0.7733509498119099, 0.4045585022100348, 0.4045585022100348, 0.4045585022100348, 0.8995595360090906, 0.7636837456646773, 0.7733512460519598, 0.8995457079056665, 0.7733513147282529, 0.8995592985590217, 0.5847458259730901, 0.7360238493441813, 0.36801192467209065, 0.7551835196323781, 0.7733509620920817, 0.4966624557770215, 0.4966624557770215, 0.500793375439277, 0.500793375439277, 0.7551857870766135, 0.7635594158469039, 0.7551835310538356, 0.7635591271969194, 0.8581747185478794, 0.7551835077096238, 0.7635593413160172, 0.8581746518564262, 0.7551859675922005, 0.5272747985207056, 0.2636373992603528, 0.1977280494452646, 0.5606956896463129, 0.5606956896463129, 0.10693368788939517, 0.4277347515575807, 0.4277347515575807, 0.10693368788939517, 0.7569795443403452, 0.1892448860850863, 0.1892448860850863, 0.7733513639216383, 0.755185914687277, 1.0005306517897383, 0.5509295350422265, 0.5509295350422265, 0.8581739469961872, 0.7551942509384422, 0.755185271234125, 0.8581747248687126, 0.7551853904210215, 0.899559490707632, 0.8581746639426695, 0.8312233024727794, 0.20780582561819486, 0.7733513479290615, 0.21333171610900967, 0.639995148327029, 0.7733514305053656, 0.8581747045912171, 0.986199870385995, 0.3699994388570113, 0.7399988777140226, 0.7733523259732387, 0.42496276224284596, 0.42496276224284596, 0.7733509195996334, 0.9862020101550756, 0.7551834846591775, 0.3699988790032424, 0.7399977580064848, 0.7551853426053546, 0.7635593511911991, 0.7551920911414212, 1.0005291139761974, 0.899559204310143, 0.7733525056687343, 0.5087065963658908, 0.7635591944566421, 0.8995596610853079, 0.755185866176308, 0.7733524852034952, 0.763560345071772, 0.7635638473099495, 0.7733514055577413, 0.7551879658428262, 1.0005290930242614, 0.8995594071634054, 0.8581746636470735, 0.7551866513065193, 0.8581746707904331, 0.7733525073798185, 1.0005291288706362, 0.7733513236547115, 0.9861996057689565, 0.27099091186980967, 0.27099091186980967, 0.27099091186980967, 0.27099091186980967, 0.7439851964795006, 0.7635615461976523, 0.8581746972316481], \"Term\": [\"add\", \"api\", \"api\", \"artifacts\", \"attributes\", \"autologging\", \"backend\", \"capture\", \"channel\", \"client\", \"common\", \"components\", \"components\", \"conda\", \"conda\", \"configuration\", \"configuration\", \"create\", \"creates\", \"database\", \"dataframe\", \"default\", \"delete\", \"deploy\", \"entities\", \"entry\", \"entry\", \"environment\", \"environment\", \"environments\", \"expression\", \"fetch\", \"fields\", \"file\", \"file\", \"file\", \"final\", \"flag\", \"flavor\", \"function\", \"functionality\", \"generate\", \"inference\", \"information\", \"information\", \"interfaces\", \"job\", \"key\", \"key\", \"kubernetes\", \"kubernetes\", \"launching\", \"list\", \"local\", \"logged\", \"lowering\", \"machine\", \"manually\", \"memory\", \"method\", \"mlflow\", \"mlflow\", \"mlflow\", \"mlproject\", \"mlproject\", \"model\", \"model\", \"model\", \"model\", \"models\", \"models\", \"models\", \"modify\", \"new\", \"organize\", \"parameters\", \"parameters\", \"params\", \"parts\", \"pass\", \"pipelines\", \"point\", \"points\", \"pressure\", \"project\", \"project\", \"provide\", \"purpose\", \"purpose\", \"pyfunc\", \"pytorch\", \"record\", \"registered\", \"registered\", \"registering\", \"registry\", \"registry\", \"replaced\", \"run\", \"running\", \"runs\", \"runs\", \"runtime\", \"save\", \"search\", \"searching\", \"series\", \"set\", \"signatures\", \"specified\", \"specify\", \"specifying\", \"storage\", \"store\", \"stored\", \"submitted\", \"supported\", \"syntax\", \"time\", \"total\", \"tracking\", \"transformers\", \"two\", \"ui\", \"update\", \"use\", \"used\", \"used\", \"used\", \"used\", \"using\", \"versions\", \"within\"]}, \"R\": 30, \"lambda.step\": 0.01, \"plot.opts\": {\"xlab\": \"PC1\", \"ylab\": \"PC2\"}, \"topic.order\": [3, 4, 5, 1, 2]};\n",
       "\n",
       "function LDAvis_load_lib(url, callback){\n",
       "  var s = document.createElement('script');\n",
       "  s.src = url;\n",
       "  s.async = true;\n",
       "  s.onreadystatechange = s.onload = callback;\n",
       "  s.onerror = function(){console.warn(\"failed to load library \" + url);};\n",
       "  document.getElementsByTagName(\"head\")[0].appendChild(s);\n",
       "}\n",
       "\n",
       "if(typeof(LDAvis) !== \"undefined\"){\n",
       "   // already loaded: just create the visualization\n",
       "   !function(LDAvis){\n",
       "       new LDAvis(\"#\" + \"ldavis_el7686112553344963303318783\", ldavis_el7686112553344963303318783_data);\n",
       "   }(LDAvis);\n",
       "}else if(typeof define === \"function\" && define.amd){\n",
       "   // require.js is available: use it to load d3/LDAvis\n",
       "   require.config({paths: {d3: \"https://d3js.org/d3.v5\"}});\n",
       "   require([\"d3\"], function(d3){\n",
       "      window.d3 = d3;\n",
       "      LDAvis_load_lib(\"https://cdn.jsdelivr.net/gh/bmabey/pyLDAvis@3.4.0/pyLDAvis/js/ldavis.v3.0.0.js\", function(){\n",
       "        new LDAvis(\"#\" + \"ldavis_el7686112553344963303318783\", ldavis_el7686112553344963303318783_data);\n",
       "      });\n",
       "    });\n",
       "}else{\n",
       "    // require.js not available: dynamically load d3 & LDAvis\n",
       "    LDAvis_load_lib(\"https://d3js.org/d3.v5.js\", function(){\n",
       "         LDAvis_load_lib(\"https://cdn.jsdelivr.net/gh/bmabey/pyLDAvis@3.4.0/pyLDAvis/js/ldavis.v3.0.0.js\", function(){\n",
       "                 new LDAvis(\"#\" + \"ldavis_el7686112553344963303318783\", ldavis_el7686112553344963303318783_data);\n",
       "            })\n",
       "         });\n",
       "}\n",
       "</script>"
      ],
      "text/plain": [
       "<IPython.core.display.HTML object>"
      ]
     },
     "execution_count": 21,
     "metadata": {},
     "output_type": "execute_result"
    }
   ],
   "source": [
    "pyLDAvis.display(vis_data)"
   ]
  },
  {
   "cell_type": "code",
   "execution_count": 22,
   "metadata": {
    "application/vnd.databricks.v1+cell": {
     "cellMetadata": {
      "byteLimit": 2048000,
      "rowLimit": 10000
     },
     "inputWidgets": {},
     "nuid": "1375250d-9818-4503-87ec-f14020d87c81",
     "showTitle": false,
     "title": ""
    }
   },
   "outputs": [
    {
     "name": "stdout",
     "output_type": "stream",
     "text": [
      "Question: What is the purpose of the mlflow.sklearn.log_model() method?\n",
      "Topic: [(0, 0.0669118), (1, 0.06701085), (2, 0.06667974), (3, 0.73235476), (4, 0.06704286)]\n",
      "Question: How can you fetch a specific model version?\n",
      "Topic: [(0, 0.83980393), (1, 0.040003464), (2, 0.04000601), (3, 0.040101767), (4, 0.040084846)]\n",
      "Question: How can you fetch the latest model version in a specific stage?\n",
      "Topic: [(0, 0.88561153), (1, 0.028575428), (2, 0.028578365), (3, 0.0286214), (4, 0.028613236)]\n",
      "Question: What can you do to promote MLflow Models across environments?\n",
      "Topic: [(0, 0.8661927), (1, 0.0333396), (2, 0.03362743), (3, 0.033428304), (4, 0.033411972)]\n",
      "Question: What is the name of the model and its version details?\n",
      "Topic: [(0, 0.83978903), (1, 0.04000637), (2, 0.04001106), (3, 0.040105395), (4, 0.040088095)]\n",
      "Question: What is the purpose of saving the model in pickled format?\n",
      "Topic: [(0, 0.033948876), (1, 0.03339717), (2, 0.033340737), (3, 0.86575514), (4, 0.033558063)]\n",
      "Question: What is an MLflow Model and what is its purpose?\n",
      "Topic: [(0, 0.7940762), (1, 0.05068333), (2, 0.050770763), (3, 0.053328265), (4, 0.05114142)]\n",
      "Question: What are the flavors defined in the MLmodel file for the mlflow.sklearn library?\n",
      "Topic: [(0, 0.86628276), (1, 0.033341788), (2, 0.03334801), (3, 0.03368498), (4, 0.033342462)]\n",
      "Question: What command can be used to package and deploy models to AWS SageMaker?\n",
      "Topic: [(0, 0.89991224), (1, 0.025005225), (2, 0.025009066), (3, 0.025006713), (4, 0.025066752)]\n",
      "Question: What is the purpose of the --build-image flag when running mlflow run?\n",
      "Topic: [(0, 0.033957016), (1, 0.033506736), (2, 0.034095332), (3, 0.034164555), (4, 0.86427635)]\n",
      "Question: What is the relative path to the python_env YAML file within the MLflow project's directory?\n",
      "Topic: [(0, 0.02243), (1, 0.02222536), (2, 0.022470985), (3, 0.9105873), (4, 0.02228631)]\n",
      "Question: What are the additional local volume mounted and environment variables in the docker container?\n",
      "Topic: [(0, 0.022225259), (1, 0.9110914), (2, 0.02222932), (3, 0.022227468), (4, 0.022226628)]\n",
      "Question: What are some examples of entity names that contain special characters?\n",
      "Topic: [(0, 0.028575381), (1, 0.88568854), (2, 0.02858065), (3, 0.028578246), (4, 0.028577149)]\n",
      "Question: What type of constant does the RHS need to be if LHS is a metric?\n",
      "Topic: [(0, 0.028575381), (1, 0.8856886), (2, 0.028580645), (3, 0.028578239), (4, 0.028577147)]\n",
      "Question: How can you get all active runs from experiments IDs 3, 4, and 17 that used a CNN model with 10 layers and had a prediction accuracy of 94.5% or higher?\n",
      "Topic: [(0, 0.015563371), (1, 0.015387185), (2, 0.015389071), (3, 0.015427767), (4, 0.9382326)]\n",
      "Question: What is the purpose of the 'experimentIds' variable in the given paragraph?\n",
      "Topic: [(0, 0.040206533), (1, 0.8384999), (2, 0.040013183), (3, 0.040967643), (4, 0.040312726)]\n",
      "Question: What is the MLflow Tracking component used for?\n",
      "Topic: [(0, 0.8390845), (1, 0.04000697), (2, 0.040462855), (3, 0.04014182), (4, 0.040303845)]\n",
      "Question: How can you create an experiment in MLflow?\n",
      "Topic: [(0, 0.050333958), (1, 0.0500024), (2, 0.7993825), (3, 0.050153885), (4, 0.05012722)]\n",
      "Question: How can you create an experiment using MLflow?\n",
      "Topic: [(0, 0.04019285), (1, 0.04000254), (2, 0.8396381), (3, 0.040091105), (4, 0.04007539)]\n",
      "Question: What is the architecture depicted in this example scenario?\n",
      "Topic: [(0, 0.04000523), (1, 0.040007014), (2, 0.040012203), (3, 0.04000902), (4, 0.83996654)]\n",
      "\n",
      "Topics found are:\n",
      "Topic: 0 \n",
      "Words: 0.078*\"model\" + 0.059*\"mlflow\" + 0.059*\"version\" + 0.041*\"models\" + 0.041*\"fetch\" + 0.041*\"specific\" + 0.041*\"used\" + 0.022*\"command\" + 0.022*\"deploy\" + 0.022*\"sagemaker\"\n",
      "\n",
      "Topic: 1 \n",
      "Words: 0.030*\"local\" + 0.030*\"container\" + 0.030*\"variables\" + 0.030*\"docker\" + 0.030*\"mounted\" + 0.030*\"environment\" + 0.030*\"volume\" + 0.030*\"additional\" + 0.030*\"special\" + 0.030*\"names\"\n",
      "\n",
      "Topic: 2 \n",
      "Words: 0.096*\"experiment\" + 0.096*\"create\" + 0.096*\"mlflow\" + 0.051*\"using\" + 0.009*\"purpose\" + 0.009*\"model\" + 0.009*\"method\" + 0.009*\"file\" + 0.009*\"version\" + 0.009*\"used\"\n",
      "\n",
      "Topic: 3 \n",
      "Words: 0.071*\"purpose\" + 0.039*\"file\" + 0.039*\"mlflow\" + 0.039*\"yaml\" + 0.039*\"directory\" + 0.039*\"relative\" + 0.039*\"within\" + 0.039*\"path\" + 0.039*\"project\" + 0.039*\"format\"\n",
      "\n",
      "Topic: 4 \n",
      "Words: 0.032*\"purpose\" + 0.032*\"used\" + 0.032*\"model\" + 0.032*\"prediction\" + 0.032*\"get\" + 0.032*\"accuracy\" + 0.032*\"active\" + 0.032*\"layers\" + 0.032*\"higher\" + 0.032*\"experiments\"\n",
      "\n"
     ]
    }
   ],
   "source": [
    "lda_model, corpus, dictionary = topical_analysis(miss_questions)\n",
    "vis_data = gensimvis.prepare(lda_model, corpus, dictionary)"
   ]
  },
  {
   "cell_type": "code",
   "execution_count": 23,
   "metadata": {
    "application/vnd.databricks.v1+cell": {
     "cellMetadata": {},
     "inputWidgets": {},
     "nuid": "724db985-5382-43a6-ada5-0ac1c2d49c18",
     "showTitle": false,
     "title": ""
    }
   },
   "outputs": [
    {
     "data": {
      "text/html": [
       "\n",
       "<link rel=\"stylesheet\" type=\"text/css\" href=\"https://cdn.jsdelivr.net/gh/bmabey/pyLDAvis@3.4.0/pyLDAvis/js/ldavis.v1.0.0.css\">\n",
       "\n",
       "\n",
       "<div id=\"ldavis_el768611255335280934753677\" style=\"background-color:white;\"></div>\n",
       "<script type=\"text/javascript\">\n",
       "\n",
       "var ldavis_el768611255335280934753677_data = {\"mdsDat\": {\"x\": [0.1279920589945831, -0.14162615724323852, 0.010709237797886247, 0.006717326614699554, -0.0037924661639304287], \"y\": [-0.060285402949004675, -0.04575910646580593, 0.11375874850968974, -0.0011569245235563247, -0.00655731457132278], \"topics\": [1, 2, 3, 4, 5], \"cluster\": [1, 1, 1, 1, 1], \"Freq\": [33.071584778139844, 22.746685791571007, 20.69446736681105, 15.155659526924085, 8.331602536554012]}, \"tinfo\": {\"Term\": [\"mlflow\", \"experiment\", \"create\", \"using\", \"purpose\", \"version\", \"model\", \"yaml\", \"directory\", \"relative\", \"within\", \"path\", \"project\", \"format\", \"pickled\", \"saving\", \"method\", \"file\", \"accuracy\", \"prediction\", \"layers\", \"get\", \"active\", \"experiments\", \"higher\", \"runs\", \"cnn\", \"ids\", \"flag\", \"run\", \"version\", \"models\", \"fetch\", \"specific\", \"command\", \"deploy\", \"sagemaker\", \"aws\", \"package\", \"latest\", \"stage\", \"environments\", \"mlmodel\", \"flavors\", \"defined\", \"across\", \"promote\", \"library\", \"details\", \"name\", \"component\", \"tracking\", \"model\", \"used\", \"mlflow\", \"file\", \"purpose\", \"using\", \"method\", \"pickled\", \"create\", \"experiment\", \"local\", \"container\", \"variables\", \"docker\", \"mounted\", \"environment\", \"volume\", \"additional\", \"special\", \"names\", \"constant\", \"type\", \"characters\", \"rhs\", \"lhs\", \"need\", \"contain\", \"metric\", \"entity\", \"examples\", \"variable\", \"given\", \"paragraph\", \"purpose\", \"using\", \"method\", \"format\", \"pickled\", \"saving\", \"project\", \"mlflow\", \"model\", \"version\", \"file\", \"used\", \"prediction\", \"layers\", \"get\", \"accuracy\", \"active\", \"higher\", \"experiments\", \"runs\", \"cnn\", \"ids\", \"flag\", \"run\", \"running\", \"architecture\", \"scenario\", \"example\", \"depicted\", \"used\", \"purpose\", \"model\", \"mlflow\", \"using\", \"method\", \"saving\", \"pickled\", \"format\", \"project\", \"within\", \"path\", \"relative\", \"file\", \"version\", \"component\", \"tracking\", \"name\", \"details\", \"specific\", \"fetch\", \"yaml\", \"directory\", \"relative\", \"within\", \"path\", \"project\", \"format\", \"saving\", \"pickled\", \"method\", \"file\", \"purpose\", \"model\", \"mlflow\", \"using\", \"depicted\", \"example\", \"architecture\", \"scenario\", \"run\", \"running\", \"flag\", \"cnn\", \"ids\", \"accuracy\", \"experiments\", \"higher\", \"runs\", \"layers\", \"get\", \"version\", \"used\", \"tracking\", \"name\", \"component\", \"details\", \"library\", \"given\", \"promote\", \"paragraph\", \"fetch\", \"defined\", \"specific\", \"flavors\", \"variable\", \"experiment\", \"create\", \"using\", \"mlflow\", \"method\", \"format\", \"pickled\", \"saving\", \"project\", \"relative\", \"yaml\", \"directory\", \"path\", \"within\", \"example\", \"depicted\", \"architecture\", \"scenario\", \"run\", \"running\", \"flag\", \"ids\", \"experiments\", \"cnn\", \"runs\", \"accuracy\", \"higher\", \"layers\", \"get\", \"active\", \"purpose\", \"model\", \"file\", \"version\", \"used\", \"tracking\", \"component\", \"name\", \"details\", \"across\", \"fetch\", \"library\", \"specific\", \"promote\", \"defined\", \"environments\", \"flavors\", \"mlmodel\", \"paragraph\", \"given\", \"variable\"], \"Freq\": [4.0, 1.0, 1.0, 0.0, 3.0, 2.0, 4.0, 1.0, 1.0, 1.0, 1.0, 1.0, 1.0, 1.0, 1.0, 1.0, 1.0, 1.0, 1.0, 1.0, 1.0, 1.0, 1.0, 1.0, 1.0, 1.0, 1.0, 1.0, 1.0, 1.0, 2.0564361504643514, 1.4138037989643946, 1.4137943555882906, 1.4137931913364423, 0.7711534015607872, 0.7711531428381542, 0.7711530781574959, 0.7711526253928882, 0.7711526253928882, 0.7711489385953681, 0.7711475156208867, 0.7711418884036193, 0.7711417590423029, 0.7711409181937456, 0.7711406594711127, 0.7711400773451884, 0.771139430538606, 0.7711393011772895, 0.7711321863048824, 0.7711314101369835, 0.7711304399271097, 0.7711297931205273, 2.6997036660282845, 1.4133611245393585, 2.061996358569815, 0.7701174114576601, 0.7623867791840919, 0.15134041863036674, 0.12854141638309557, 0.12853545767745464, 0.1305654682215893, 0.1305634065256077, 0.7165454986560801, 0.7165453207062636, 0.7165449203191767, 0.7165444309571816, 0.7165443419822733, 0.7165442530073651, 0.7165440750575488, 0.7165432742833749, 0.7165399822117713, 0.7165399377243172, 0.7165397152870467, 0.7165395818246844, 0.7165394928497761, 0.7165392704125056, 0.7165391369501434, 0.7165390924626893, 0.7165389145128729, 0.71653855861324, 0.7165384251508777, 0.7165374464268874, 0.716526813925357, 0.7165258352013667, 0.7165254793017339, 0.7153299234601829, 0.11943446706130555, 0.1194409955951951, 0.11943237615096274, 0.11943217595741927, 0.11943208698251107, 0.1194304965560269, 0.11945318515761918, 0.11944447673847862, 0.11943764791427389, 0.11943738098954926, 0.11943719191786933, 0.704782090253886, 0.7047820093063427, 0.7047820093063427, 0.7047820093063427, 0.7047820093063427, 0.704781847411256, 0.7047817664637126, 0.7047816855161693, 0.7047813617259959, 0.7047807950931924, 0.7047663864304751, 0.704765253164868, 0.7047645246369779, 0.7047614486303303, 0.7047614486303303, 0.7047595868368332, 0.7047591820991164, 0.7051873946034686, 0.7053458898933592, 0.7051314598510097, 0.7015280799585262, 0.11747305813275306, 0.1174788964743176, 0.11747102432572624, 0.11747066006178114, 0.11747062970645239, 0.1174706398248953, 0.11747011366586349, 0.11746994165233386, 0.11746992141544803, 0.11747786439313981, 0.1174766602984324, 0.11747543596683914, 0.11747522347953783, 0.11747514253199447, 0.11747512229510863, 0.11747459613607682, 0.11747424199057464, 0.6156735545817029, 0.6156732581707384, 0.6156730803241597, 0.6156729617597738, 0.615672783913195, 0.6156715982693368, 0.6156666778473252, 0.6156665592829393, 0.6156665000007464, 0.6156355546960466, 0.6164994740933469, 1.136299613575129, 0.6149047831040257, 0.6161211944203782, 0.10262239635193837, 0.10262224073618197, 0.10262190727384685, 0.10262149970877057, 0.10262124775945071, 0.1026209735793085, 0.10262095134848614, 0.10262047709094285, 0.10261700167238341, 0.10261698685183518, 0.10261693497991639, 0.10261688310799759, 0.10261683123607879, 0.10261680900525645, 0.10261677936416, 0.10261677936416, 0.10262564205200027, 0.10262536046158394, 0.10262463425472078, 0.10262441194649735, 0.10262430820265976, 0.10262420445882217, 0.10262306327660863, 0.1026229447122228, 0.10262280391701463, 0.10262279650674051, 0.1026226853526288, 0.10262260383961355, 0.10262254455742065, 0.10262250750605008, 0.10262247786495361, 0.8371900928195508, 0.8371891151339517, 0.4437710371991477, 0.8369209033845859, 0.07623184082046208, 0.07622393786186898, 0.07622388897758903, 0.07622372602998917, 0.07622236541753036, 0.07622211284875058, 0.07622210470137059, 0.07622201508019066, 0.07622201508019066, 0.07622195804853071, 0.0762265613182267, 0.07622624357040697, 0.07622579546450736, 0.07622567325380747, 0.07622515996886792, 0.07622511108458796, 0.076225070347688, 0.07622149364787112, 0.0762214040266912, 0.07622138773193121, 0.07622137958455122, 0.07622131440551128, 0.07622130625813128, 0.07622124922647133, 0.07622124922647133, 0.07622124922647133, 0.07625614445498086, 0.07623586562617857, 0.07622974694380391, 0.07622963288048401, 0.07622921736410437, 0.07622917662720441, 0.07622902997436454, 0.07622864704750487, 0.07622841077348508, 0.07622716422434617, 0.07622715607696617, 0.07622688721342641, 0.07622683018176646, 0.07622677315010651, 0.07622677315010651, 0.07622674056058654, 0.07622664279202662, 0.07622661020250665, 0.07622646354966678, 0.07622628430730694, 0.07622621912826699], \"Total\": [4.0, 1.0, 1.0, 0.0, 3.0, 2.0, 4.0, 1.0, 1.0, 1.0, 1.0, 1.0, 1.0, 1.0, 1.0, 1.0, 1.0, 1.0, 1.0, 1.0, 1.0, 1.0, 1.0, 1.0, 1.0, 1.0, 1.0, 1.0, 1.0, 1.0, 2.4722057336095418, 1.829555643092935, 1.8295535400159868, 1.8295535311116748, 1.1869011731828791, 1.1869010787229448, 1.1869010563142606, 1.186901040268257, 1.186901093292858, 1.186900121741627, 1.1868997208304015, 1.1868983192615268, 1.1868984059669332, 1.186898256149063, 1.1868981270315637, 1.1868979369461095, 1.1868979548126601, 1.1868979349597946, 1.1868961036605867, 1.186895880466177, 1.1868956497021226, 1.18689545218482, 4.215420251347976, 2.4168402888863847, 4.336019721490924, 1.6997618778775, 3.395618350567744, 0.9346413773755113, 1.0573287039691168, 1.0573286826749904, 1.3072827814553114, 1.30728207969078, 1.1413890135952576, 1.1413889767166183, 1.1413889419428518, 1.141388878879619, 1.1413889277630143, 1.1413887997313104, 1.14138886688766, 1.1413887521481958, 1.1413880098562907, 1.1413880722873846, 1.1413879922811958, 1.1413879517706953, 1.1413878606724626, 1.1413879582566353, 1.1413879189779126, 1.1413879043619999, 1.141387887716149, 1.141387867679165, 1.1413878760897713, 1.1413878560296915, 1.141385886684592, 1.141385816305939, 1.1413858047763925, 3.395618350567744, 0.9346413773755113, 1.0573287039691168, 1.0573286264794564, 1.0573286826749904, 1.0573287168522216, 1.057328803282389, 4.336019721490924, 4.215420251347976, 2.4722057336095418, 1.6997618778775, 2.4168402888863847, 1.1315824756515274, 1.1315824443618199, 1.1315824827757115, 1.131582519625135, 1.1315825404223583, 1.1315824591267543, 1.1315823741641236, 1.131582403936583, 1.1315824427015655, 1.131582399735557, 1.131579867794295, 1.1315796865954653, 1.1315797482282528, 1.1315792484617573, 1.1315793916689971, 1.131578836991373, 1.1315788806175813, 2.4168402888863847, 3.395618350567744, 4.215420251347976, 4.336019721490924, 0.9346413773755113, 1.0573287039691168, 1.0573287168522216, 1.0573286826749904, 1.0573286264794564, 1.057328803282389, 1.0573287884092566, 1.0573287756389163, 1.0573286209364192, 1.6997618778775, 2.4722057336095418, 1.1868956497021226, 1.18689545218482, 1.186895880466177, 1.1868961036605867, 1.8295535311116748, 1.8295535400159868, 1.057328610410822, 1.057328638002099, 1.0573286209364192, 1.0573287884092566, 1.0573287756389163, 1.057328803282389, 1.0573286264794564, 1.0573287168522216, 1.0573286826749904, 1.0573287039691168, 1.6997618778775, 3.395618350567744, 4.215420251347976, 4.336019721490924, 0.9346413773755113, 1.1315788806175813, 1.131578836991373, 1.1315792484617573, 1.1315793916689971, 1.1315796865954653, 1.1315797482282528, 1.131579867794295, 1.1315824427015655, 1.131582399735557, 1.131582519625135, 1.1315823741641236, 1.1315824591267543, 1.131582403936583, 1.1315824443618199, 1.1315824827757115, 2.4722057336095418, 2.4168402888863847, 1.18689545218482, 1.186895880466177, 1.1868956497021226, 1.1868961036605867, 1.1868979349597946, 1.141385816305939, 1.1868979548126601, 1.1413858047763925, 1.8295535400159868, 1.1868981270315637, 1.8295535311116748, 1.186898256149063, 1.141385886684592, 1.30728207969078, 1.3072827814553114, 0.9346413773755113, 4.336019721490924, 1.0573287039691168, 1.0573286264794564, 1.0573286826749904, 1.0573287168522216, 1.057328803282389, 1.0573286209364192, 1.057328610410822, 1.057328638002099, 1.0573287756389163, 1.0573287884092566, 1.131578836991373, 1.1315788806175813, 1.1315792484617573, 1.1315793916689971, 1.1315796865954653, 1.1315797482282528, 1.131579867794295, 1.131582399735557, 1.1315823741641236, 1.1315824427015655, 1.131582403936583, 1.131582519625135, 1.1315824591267543, 1.1315824443618199, 1.1315824827757115, 1.1315825404223583, 3.395618350567744, 4.215420251347976, 1.6997618778775, 2.4722057336095418, 2.4168402888863847, 1.18689545218482, 1.1868956497021226, 1.186895880466177, 1.1868961036605867, 1.1868979369461095, 1.8295535400159868, 1.1868979349597946, 1.8295535311116748, 1.1868979548126601, 1.1868981270315637, 1.1868983192615268, 1.186898256149063, 1.1868984059669332, 1.1413858047763925, 1.141385816305939, 1.141385886684592], \"Category\": [\"Default\", \"Default\", \"Default\", \"Default\", \"Default\", \"Default\", \"Default\", \"Default\", \"Default\", \"Default\", \"Default\", \"Default\", \"Default\", \"Default\", \"Default\", \"Default\", \"Default\", \"Default\", \"Default\", \"Default\", \"Default\", \"Default\", \"Default\", \"Default\", \"Default\", \"Default\", \"Default\", \"Default\", \"Default\", \"Default\", \"Topic1\", \"Topic1\", \"Topic1\", \"Topic1\", \"Topic1\", \"Topic1\", \"Topic1\", \"Topic1\", \"Topic1\", \"Topic1\", \"Topic1\", \"Topic1\", \"Topic1\", \"Topic1\", \"Topic1\", \"Topic1\", \"Topic1\", \"Topic1\", \"Topic1\", \"Topic1\", \"Topic1\", \"Topic1\", \"Topic1\", \"Topic1\", \"Topic1\", \"Topic1\", \"Topic1\", \"Topic1\", \"Topic1\", \"Topic1\", \"Topic1\", \"Topic1\", \"Topic2\", \"Topic2\", \"Topic2\", \"Topic2\", \"Topic2\", \"Topic2\", \"Topic2\", \"Topic2\", \"Topic2\", \"Topic2\", \"Topic2\", \"Topic2\", \"Topic2\", \"Topic2\", \"Topic2\", \"Topic2\", \"Topic2\", \"Topic2\", \"Topic2\", \"Topic2\", \"Topic2\", \"Topic2\", \"Topic2\", \"Topic2\", \"Topic2\", \"Topic2\", \"Topic2\", \"Topic2\", \"Topic2\", \"Topic2\", \"Topic2\", \"Topic2\", \"Topic2\", \"Topic2\", \"Topic2\", \"Topic3\", \"Topic3\", \"Topic3\", \"Topic3\", \"Topic3\", \"Topic3\", \"Topic3\", \"Topic3\", \"Topic3\", \"Topic3\", \"Topic3\", \"Topic3\", \"Topic3\", \"Topic3\", \"Topic3\", \"Topic3\", \"Topic3\", \"Topic3\", \"Topic3\", \"Topic3\", \"Topic3\", \"Topic3\", \"Topic3\", \"Topic3\", \"Topic3\", \"Topic3\", \"Topic3\", \"Topic3\", \"Topic3\", \"Topic3\", \"Topic3\", \"Topic3\", \"Topic3\", \"Topic3\", \"Topic3\", \"Topic3\", \"Topic3\", \"Topic3\", \"Topic4\", \"Topic4\", \"Topic4\", \"Topic4\", \"Topic4\", \"Topic4\", \"Topic4\", \"Topic4\", \"Topic4\", \"Topic4\", \"Topic4\", \"Topic4\", \"Topic4\", \"Topic4\", \"Topic4\", \"Topic4\", \"Topic4\", \"Topic4\", \"Topic4\", \"Topic4\", \"Topic4\", \"Topic4\", \"Topic4\", \"Topic4\", \"Topic4\", \"Topic4\", \"Topic4\", \"Topic4\", \"Topic4\", \"Topic4\", \"Topic4\", \"Topic4\", \"Topic4\", \"Topic4\", \"Topic4\", \"Topic4\", \"Topic4\", \"Topic4\", \"Topic4\", \"Topic4\", \"Topic4\", \"Topic4\", \"Topic4\", \"Topic4\", \"Topic4\", \"Topic5\", \"Topic5\", \"Topic5\", \"Topic5\", \"Topic5\", \"Topic5\", \"Topic5\", \"Topic5\", \"Topic5\", \"Topic5\", \"Topic5\", \"Topic5\", \"Topic5\", \"Topic5\", \"Topic5\", \"Topic5\", \"Topic5\", \"Topic5\", \"Topic5\", \"Topic5\", \"Topic5\", \"Topic5\", \"Topic5\", \"Topic5\", \"Topic5\", \"Topic5\", \"Topic5\", \"Topic5\", \"Topic5\", \"Topic5\", \"Topic5\", \"Topic5\", \"Topic5\", \"Topic5\", \"Topic5\", \"Topic5\", \"Topic5\", \"Topic5\", \"Topic5\", \"Topic5\", \"Topic5\", \"Topic5\", \"Topic5\", \"Topic5\", \"Topic5\", \"Topic5\", \"Topic5\", \"Topic5\", \"Topic5\", \"Topic5\", \"Topic5\"], \"logprob\": [30.0, 29.0, 28.0, 27.0, 26.0, 25.0, 24.0, 23.0, 22.0, 21.0, 20.0, 19.0, 18.0, 17.0, 16.0, 15.0, 14.0, 13.0, 12.0, 11.0, 10.0, 9.0, 8.0, 7.0, 6.0, 5.0, 4.0, 3.0, 2.0, 1.0, -2.8265, -3.2012, -3.2012, -3.2012, -3.8073, -3.8073, -3.8073, -3.8073, -3.8073, -3.8073, -3.8073, -3.8073, -3.8073, -3.8073, -3.8073, -3.8073, -3.8074, -3.8074, -3.8074, -3.8074, -3.8074, -3.8074, -2.5543, -3.2015, -2.8238, -3.8087, -3.8188, -5.4357, -5.599, -5.599, -5.5833, -5.5834, -3.5065, -3.5065, -3.5065, -3.5065, -3.5065, -3.5065, -3.5065, -3.5065, -3.5065, -3.5065, -3.5065, -3.5065, -3.5065, -3.5065, -3.5065, -3.5065, -3.5065, -3.5065, -3.5065, -3.5065, -3.5065, -3.5066, -3.5066, -3.5082, -5.2982, -5.2981, -5.2982, -5.2982, -5.2982, -5.2982, -5.298, -5.2981, -5.2982, -5.2982, -5.2982, -3.4285, -3.4285, -3.4285, -3.4285, -3.4285, -3.4285, -3.4285, -3.4285, -3.4285, -3.4285, -3.4285, -3.4285, -3.4285, -3.4286, -3.4286, -3.4286, -3.4286, -3.4279, -3.4277, -3.428, -3.4332, -5.2202, -5.2202, -5.2202, -5.2202, -5.2202, -5.2202, -5.2202, -5.2202, -5.2202, -5.2202, -5.2202, -5.2202, -5.2202, -5.2202, -5.2202, -5.2202, -5.2202, -3.2522, -3.2522, -3.2522, -3.2522, -3.2522, -3.2522, -3.2522, -3.2522, -3.2522, -3.2523, -3.2509, -2.6394, -3.2535, -3.2515, -5.0439, -5.0439, -5.0439, -5.0439, -5.0439, -5.0439, -5.0439, -5.0439, -5.0439, -5.0439, -5.0439, -5.0439, -5.0439, -5.0439, -5.0439, -5.0439, -5.0438, -5.0438, -5.0438, -5.0438, -5.0438, -5.0438, -5.0439, -5.0439, -5.0439, -5.0439, -5.0439, -5.0439, -5.0439, -5.0439, -5.0439, -2.3466, -2.3466, -2.9813, -2.3469, -4.7428, -4.7429, -4.7429, -4.7429, -4.7429, -4.7429, -4.7429, -4.743, -4.743, -4.743, -4.7429, -4.7429, -4.7429, -4.7429, -4.7429, -4.7429, -4.7429, -4.743, -4.743, -4.743, -4.743, -4.743, -4.743, -4.743, -4.743, -4.743, -4.7425, -4.7428, -4.7428, -4.7429, -4.7429, -4.7429, -4.7429, -4.7429, -4.7429, -4.7429, -4.7429, -4.7429, -4.7429, -4.7429, -4.7429, -4.7429, -4.7429, -4.7429, -4.7429, -4.7429, -4.7429], \"loglift\": [30.0, 29.0, 28.0, 27.0, 26.0, 25.0, 24.0, 23.0, 22.0, 21.0, 20.0, 19.0, 18.0, 17.0, 16.0, 15.0, 14.0, 13.0, 12.0, 11.0, 10.0, 9.0, 8.0, 7.0, 6.0, 5.0, 4.0, 3.0, 2.0, 1.0, 0.9224, 0.8487, 0.8487, 0.8487, 0.6753, 0.6753, 0.6753, 0.6753, 0.6753, 0.6753, 0.6753, 0.6753, 0.6753, 0.6753, 0.6753, 0.6753, 0.6753, 0.6753, 0.6753, 0.6753, 0.6753, 0.6753, 0.6609, 0.57, 0.3632, 0.3148, -0.3873, -0.7141, -1.0008, -1.0008, -1.1973, -1.1974, 1.0152, 1.0152, 1.0152, 1.0152, 1.0152, 1.0152, 1.0152, 1.0152, 1.0152, 1.0152, 1.0152, 1.0152, 1.0152, 1.0152, 1.0152, 1.0152, 1.0152, 1.0152, 1.0152, 1.0152, 1.0152, 1.0152, 1.0152, -0.0767, -0.5766, -0.6999, -0.7, -0.7, -0.7, -0.7, -2.111, -2.0829, -1.5493, -1.1747, -1.5267, 1.1018, 1.1018, 1.1018, 1.1018, 1.1018, 1.1018, 1.1018, 1.1018, 1.1018, 1.1018, 1.1018, 1.1018, 1.1018, 1.1018, 1.1018, 1.1018, 1.1018, 0.3436, 0.0038, -0.2128, -0.2461, -0.4987, -0.6219, -0.622, -0.622, -0.622, -0.622, -0.622, -0.622, -0.622, -1.0967, -1.4713, -0.7376, -0.7376, -0.7376, -0.7376, -1.1703, -1.1703, 1.346, 1.346, 1.346, 1.346, 1.346, 1.346, 1.346, 1.346, 1.346, 1.346, 0.8726, 0.7921, -0.0382, -0.0645, -0.3223, -0.5135, -0.5135, -0.5135, -0.5135, -0.5135, -0.5135, -0.5135, -0.5136, -0.5136, -0.5136, -0.5136, -0.5136, -0.5136, -0.5136, -0.5136, -1.295, -1.2723, -0.5612, -0.5612, -0.5612, -0.5612, -0.5612, -0.5221, -0.5612, -0.5221, -0.994, -0.5612, -0.994, -0.5612, -0.5221, 2.0395, 2.0395, 1.7403, 0.8401, -0.1446, -0.1447, -0.1447, -0.1447, -0.1447, -0.1447, -0.1447, -0.1447, -0.1447, -0.1447, -0.2125, -0.2125, -0.2126, -0.2126, -0.2126, -0.2126, -0.2126, -0.2126, -0.2126, -0.2126, -0.2126, -0.2126, -0.2126, -0.2126, -0.2126, -0.2126, -1.311, -1.5276, -0.6194, -0.994, -0.9714, -0.2602, -0.2602, -0.2602, -0.2602, -0.2603, -0.693, -0.2603, -0.693, -0.2603, -0.2603, -0.2603, -0.2603, -0.2603, -0.2212, -0.2212, -0.2212]}, \"token.table\": {\"Topic\": [3, 1, 3, 2, 3, 1, 2, 3, 1, 1, 2, 2, 2, 5, 1, 3, 1, 1, 4, 2, 2, 2, 1, 3, 2, 5, 3, 1, 1, 4, 3, 1, 4, 3, 2, 3, 3, 1, 3, 2, 1, 2, 4, 2, 1, 3, 4, 5, 1, 1, 3, 4, 1, 2, 1, 2, 2, 1, 2, 4, 4, 3, 4, 1, 1, 2, 3, 4, 4, 2, 3, 3, 3, 1, 4, 3, 2, 1, 1, 1, 2, 1, 3, 2, 2, 1, 2, 4, 4], \"Freq\": [0.8837181404421791, 0.8425324274916188, 0.8837181242004267, 0.8761256829611388, 0.8837206950899612, 0.8425302245703529, 0.8761263672550694, 0.8837182005162412, 0.8425301302199647, 0.8425340511198031, 0.8761262662325582, 0.8761263464964063, 0.8761255105833021, 0.7649454381145954, 0.8425322925574105, 0.8837209823624761, 0.8425301972730175, 0.8425337288713243, 0.9457797358913632, 0.8761255856825892, 0.8761263554207833, 0.8761256464365218, 0.8425321561009433, 0.883721016432922, 0.8761263708188485, 0.7649458487463827, 0.8837182540410983, 0.5465814353764481, 0.5883177008586075, 0.5883177008586075, 0.8837202114148832, 0.8425322009019867, 0.9457797461983593, 0.883718169220023, 0.8761279365083317, 0.8837181876888611, 0.8837182340708843, 0.8425308765935801, 0.8837181992196524, 0.8761263224999593, 0.8425324289016262, 0.8761254822754104, 0.9457796768839151, 0.876126361876743, 0.46125251462470457, 0.23062625731235228, 0.23062625731235228, 0.23062625731235228, 0.8425320945522105, 0.7116728157864407, 0.2372242719288136, 0.2372242719288136, 0.5465808070802707, 0.8761255481598901, 0.8425338873088263, 0.8761262048200332, 0.876126333719095, 0.8425301869304608, 0.8761279453584134, 0.9457796127753414, 0.9457796959314945, 0.8837181747837103, 0.9457795880482811, 0.8425324148088534, 0.2944971715778368, 0.2944971715778368, 0.2944971715778368, 0.2944971715778368, 0.9457797511566023, 0.8761262923497175, 0.8837203529241998, 0.8837203047913582, 0.88371823079006, 0.8425302131799822, 0.9457796653599883, 0.8837205832505246, 0.8761262527419641, 0.5465814380366226, 0.8425311611838284, 0.8425341913301752, 0.8761262973283074, 0.41376337716580075, 0.41376337716580075, 0.8761278824856695, 0.8761255372755039, 0.8089941596729096, 0.8761255948875696, 0.9457796013522839, 0.9457797605717422], \"Term\": [\"accuracy\", \"across\", \"active\", \"additional\", \"architecture\", \"aws\", \"characters\", \"cnn\", \"command\", \"component\", \"constant\", \"contain\", \"container\", \"create\", \"defined\", \"depicted\", \"deploy\", \"details\", \"directory\", \"docker\", \"entity\", \"environment\", \"environments\", \"example\", \"examples\", \"experiment\", \"experiments\", \"fetch\", \"file\", \"file\", \"flag\", \"flavors\", \"format\", \"get\", \"given\", \"higher\", \"ids\", \"latest\", \"layers\", \"lhs\", \"library\", \"local\", \"method\", \"metric\", \"mlflow\", \"mlflow\", \"mlflow\", \"mlflow\", \"mlmodel\", \"model\", \"model\", \"model\", \"models\", \"mounted\", \"name\", \"names\", \"need\", \"package\", \"paragraph\", \"path\", \"pickled\", \"prediction\", \"project\", \"promote\", \"purpose\", \"purpose\", \"purpose\", \"purpose\", \"relative\", \"rhs\", \"run\", \"running\", \"runs\", \"sagemaker\", \"saving\", \"scenario\", \"special\", \"specific\", \"stage\", \"tracking\", \"type\", \"used\", \"used\", \"variable\", \"variables\", \"version\", \"volume\", \"within\", \"yaml\"]}, \"R\": 30, \"lambda.step\": 0.01, \"plot.opts\": {\"xlab\": \"PC1\", \"ylab\": \"PC2\"}, \"topic.order\": [1, 2, 5, 4, 3]};\n",
       "\n",
       "function LDAvis_load_lib(url, callback){\n",
       "  var s = document.createElement('script');\n",
       "  s.src = url;\n",
       "  s.async = true;\n",
       "  s.onreadystatechange = s.onload = callback;\n",
       "  s.onerror = function(){console.warn(\"failed to load library \" + url);};\n",
       "  document.getElementsByTagName(\"head\")[0].appendChild(s);\n",
       "}\n",
       "\n",
       "if(typeof(LDAvis) !== \"undefined\"){\n",
       "   // already loaded: just create the visualization\n",
       "   !function(LDAvis){\n",
       "       new LDAvis(\"#\" + \"ldavis_el768611255335280934753677\", ldavis_el768611255335280934753677_data);\n",
       "   }(LDAvis);\n",
       "}else if(typeof define === \"function\" && define.amd){\n",
       "   // require.js is available: use it to load d3/LDAvis\n",
       "   require.config({paths: {d3: \"https://d3js.org/d3.v5\"}});\n",
       "   require([\"d3\"], function(d3){\n",
       "      window.d3 = d3;\n",
       "      LDAvis_load_lib(\"https://cdn.jsdelivr.net/gh/bmabey/pyLDAvis@3.4.0/pyLDAvis/js/ldavis.v3.0.0.js\", function(){\n",
       "        new LDAvis(\"#\" + \"ldavis_el768611255335280934753677\", ldavis_el768611255335280934753677_data);\n",
       "      });\n",
       "    });\n",
       "}else{\n",
       "    // require.js not available: dynamically load d3 & LDAvis\n",
       "    LDAvis_load_lib(\"https://d3js.org/d3.v5.js\", function(){\n",
       "         LDAvis_load_lib(\"https://cdn.jsdelivr.net/gh/bmabey/pyLDAvis@3.4.0/pyLDAvis/js/ldavis.v3.0.0.js\", function(){\n",
       "                 new LDAvis(\"#\" + \"ldavis_el768611255335280934753677\", ldavis_el768611255335280934753677_data);\n",
       "            })\n",
       "         });\n",
       "}\n",
       "</script>"
      ],
      "text/plain": [
       "<IPython.core.display.HTML object>"
      ]
     },
     "execution_count": 23,
     "metadata": {},
     "output_type": "execute_result"
    }
   ],
   "source": [
    "pyLDAvis.display(vis_data)"
   ]
  },
  {
   "cell_type": "code",
   "execution_count": null,
   "metadata": {},
   "outputs": [],
   "source": []
  }
 ],
 "metadata": {
  "application/vnd.databricks.v1+notebook": {
   "dashboards": [],
   "language": "python",
   "notebookMetadata": {
    "pythonIndentUnit": 4
   },
   "notebookName": "retriever-evaluation-tutorial",
   "widgets": {}
  },
  "kernelspec": {
   "display_name": "Python 3 (ipykernel)",
   "language": "python",
   "name": "python3"
  },
  "language_info": {
   "codemirror_mode": {
    "name": "ipython",
    "version": 3
   },
   "file_extension": ".py",
   "mimetype": "text/x-python",
   "name": "python",
   "nbconvert_exporter": "python",
   "pygments_lexer": "ipython3",
   "version": "3.10.13"
  }
 },
 "nbformat": 4,
 "nbformat_minor": 4
}
