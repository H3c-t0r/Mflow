{
 "cells": [
  {
   "cell_type": "code",
   "execution_count": 1,
   "metadata": {},
   "outputs": [
    {
     "name": "stderr",
     "output_type": "stream",
     "text": [
      "/Users/benjamin.wilson/miniconda3/envs/mlflow-dev-env/lib/python3.8/site-packages/pydantic/_internal/_fields.py:128: UserWarning: Field \"model_server_url\" has conflict with protected namespace \"model_\".\n",
      "\n",
      "You may be able to resolve this warning by setting `model_config['protected_namespaces'] = ()`.\n",
      "  warnings.warn(\n",
      "/Users/benjamin.wilson/miniconda3/envs/mlflow-dev-env/lib/python3.8/site-packages/pydantic/_internal/_config.py:317: UserWarning: Valid config keys have changed in V2:\n",
      "* 'schema_extra' has been renamed to 'json_schema_extra'\n",
      "  warnings.warn(message, UserWarning)\n"
     ]
    }
   ],
   "source": [
    "import os\n",
    "import tempfile\n",
    "\n",
    "from langchain.chains import RetrievalQA\n",
    "from langchain.document_loaders import TextLoader\n",
    "from langchain.embeddings.openai import OpenAIEmbeddings\n",
    "from langchain.llms import OpenAI\n",
    "from langchain.text_splitter import CharacterTextSplitter\n",
    "from langchain.vectorstores import FAISS\n",
    "\n",
    "import mlflow\n",
    "\n",
    "assert \"OPENAI_API_KEY\" in os.environ, \"Please set the OPENAI_API_KEY environment variable.\"\n",
    "\n"
   ]
  },
  {
   "cell_type": "code",
   "execution_count": 2,
   "metadata": {},
   "outputs": [
    {
     "name": "stdout",
     "output_type": "stream",
     "text": [
      "Requirement already satisfied: faiss-cpu in /Users/benjamin.wilson/miniconda3/envs/mlflow-dev-env/lib/python3.8/site-packages (1.7.4)\n",
      "\u001b[33mDEPRECATION: nb-black 1.0.7 has a non-standard dependency specifier black>='19.3'; python_version >= \"3.6\". pip 24.0 will enforce this behaviour change. A possible replacement is to upgrade to a newer version of nb-black or contact the author to suggest that they release a version with a conforming dependency specifiers. Discussion can be found at https://github.com/pypa/pip/issues/12063\u001b[0m\u001b[33m\n",
      "\u001b[0m\u001b[33mDEPRECATION: pytorch-lightning 1.6.3 has a non-standard dependency specifier torch>=1.8.*. pip 24.0 will enforce this behaviour change. A possible replacement is to upgrade to a newer version of pytorch-lightning or contact the author to suggest that they release a version with a conforming dependency specifiers. Discussion can be found at https://github.com/pypa/pip/issues/12063\u001b[0m\u001b[33m\n",
      "\u001b[0m\n",
      "\u001b[1m[\u001b[0m\u001b[34;49mnotice\u001b[0m\u001b[1;39;49m]\u001b[0m\u001b[39;49m A new release of pip is available: \u001b[0m\u001b[31;49m23.3.1\u001b[0m\u001b[39;49m -> \u001b[0m\u001b[32;49m23.3.2\u001b[0m\n",
      "\u001b[1m[\u001b[0m\u001b[34;49mnotice\u001b[0m\u001b[1;39;49m]\u001b[0m\u001b[39;49m To update, run: \u001b[0m\u001b[32;49mpip install --upgrade pip\u001b[0m\n",
      "Note: you may need to restart the kernel to use updated packages.\n"
     ]
    }
   ],
   "source": [
    "%pip install faiss-cpu"
   ]
  },
  {
   "cell_type": "code",
   "execution_count": 3,
   "metadata": {},
   "outputs": [],
   "source": [
    "import requests\n",
    "from bs4 import BeautifulSoup\n",
    "\n",
    "def fetch_federal_document(url, div_class):\n",
    "    \"\"\"\n",
    "    Scrapes the transcript of the Act Establishing Yellowstone National Park from the given URL.\n",
    "\n",
    "    Args:\n",
    "    url (str): URL of the webpage to scrape.\n",
    "\n",
    "    Returns:\n",
    "    str: The transcript text of the Act.\n",
    "    \"\"\"\n",
    "    # Sending a request to the URL\n",
    "    response = requests.get(url)\n",
    "    if response.status_code == 200:\n",
    "        # Parsing the HTML content of the page\n",
    "        soup = BeautifulSoup(response.text, 'html.parser')\n",
    "        \n",
    "        # Finding the transcript section by its HTML structure\n",
    "        transcript_section = soup.find('div', class_=div_class)\n",
    "        if transcript_section:\n",
    "            transcript_text = transcript_section.get_text(separator='\\n', strip=True)\n",
    "            return transcript_text\n",
    "        else:\n",
    "            return \"Transcript section not found.\"\n",
    "    else:\n",
    "        return f\"Failed to retrieve the webpage. Status code: {response.status_code}\""
   ]
  },
  {
   "cell_type": "code",
   "execution_count": 4,
   "metadata": {},
   "outputs": [
    {
     "name": "stderr",
     "output_type": "stream",
     "text": [
      "/Users/benjamin.wilson/miniconda3/envs/mlflow-dev-env/lib/python3.8/site-packages/_distutils_hack/__init__.py:30: UserWarning: Setuptools is replacing distutils.\n",
      "  warnings.warn(\"Setuptools is replacing distutils.\")\n"
     ]
    }
   ],
   "source": [
    "url_listings = [\n",
    "    \"https://www.archives.gov/milestone-documents/act-establishing-yellowstone-national-park#transcript\",\n",
    "    \"https://www.archives.gov/milestone-documents/sherman-anti-trust-act#transcript\"\n",
    "]\n",
    "\n",
    "with tempfile.TemporaryDirectory() as tmp_dir:\n",
    "    doc_path = os.path.join(tmp_dir, \"docs.txt\")\n",
    "    persist_dir = os.path.join(tmp_dir, \"faiss_index\")\n",
    "\n",
    "    for url in url_listings:\n",
    "        # Fetching the document\n",
    "        document = fetch_federal_document(url, \"col-sm-9\")\n",
    "        # Saving the document to a temporary file\n",
    "        with open(doc_path, \"a\") as f:\n",
    "            f.write(document)\n",
    "    \n",
    "    loader = TextLoader(doc_path)\n",
    "\n",
    "    raw_docs = loader.load()\n",
    "    splitter = CharacterTextSplitter(chunk_size=500, chunk_overlap=10)\n",
    "    docs = splitter.split_documents(raw_docs)\n",
    "    embeddings = OpenAIEmbeddings()\n",
    "    db = FAISS.from_documents(docs, embeddings)\n",
    "    db.save_local(persist_dir)\n",
    "\n",
    "    retrievalQA = RetrievalQA.from_llm(llm=OpenAI(), retriever=db.as_retriever())\n",
    "\n",
    "    # Log the retrievalQA chain\n",
    "    def load_retriever(persist_directory):\n",
    "        embeddings = OpenAIEmbeddings()\n",
    "        vectorstore = FAISS.load_local(persist_directory, embeddings)\n",
    "        return vectorstore.as_retriever()\n",
    "\n",
    "    with mlflow.start_run() as run:\n",
    "        model_info = mlflow.langchain.log_model(\n",
    "            retrievalQA,\n",
    "            artifact_path=\"retrieval_qa\",\n",
    "            loader_fn=load_retriever,\n",
    "            persist_dir=persist_dir,\n",
    "        )\n",
    "\n"
   ]
  },
  {
   "cell_type": "code",
   "execution_count": 5,
   "metadata": {},
   "outputs": [],
   "source": [
    "loaded_model = mlflow.pyfunc.load_model(model_info.model_uri)"
   ]
  },
  {
   "cell_type": "code",
   "execution_count": 6,
   "metadata": {},
   "outputs": [
    {
     "name": "stdout",
     "output_type": "stream",
     "text": [
      "[' Section 1 of the document states that all persons who shall locate or settle upon or occupy the land described in the document, or any part thereof, except as provided, shall be considered trespassers and removed therefrom.']\n"
     ]
    }
   ],
   "source": [
    "answer1 = loaded_model.predict([{\"query\":\"What does the document say about trespassers?\"}])\n",
    "\n",
    "print(answer1)"
   ]
  },
  {
   "cell_type": "code",
   "execution_count": 16,
   "metadata": {},
   "outputs": [
    {
     "name": "stdout",
     "output_type": "stream",
     "text": [
      "[' A bridle-path is a path designed for people to ride horses on. The Secretary of the Interior may grant leases for building purposes in the Yellowstone Park that may include the construction of roads and bridle-paths. So, it is possible that you could use a bridle-path in the park.']\n"
     ]
    }
   ],
   "source": [
    "answer2 = loaded_model.predict([{\"query\":\"What is a bridle-path and can I use one at Yellowstone?\"}])\n",
    "\n",
    "print(answer2)"
   ]
  },
  {
   "cell_type": "code",
   "execution_count": 8,
   "metadata": {},
   "outputs": [
    {
     "name": "stdout",
     "output_type": "stream",
     "text": [
      "[' No, you cannot buy Yellowstone from the Federal Government. The Forty-Second Congress of the United States of America set aside the land as a public park and it is under the exclusive control of the Secretary of the Interior. The Fifty-first Congress of the United States of America passed a law to protect trade and commerce against unlawful restraints and monopolies.']\n"
     ]
    }
   ],
   "source": [
    "answer3 = loaded_model.predict([{\"query\":\"Can I buy Yellowstone from the Federal Government to set up a buffalo-themed day spa?\"}])\n",
    "\n",
    "print(answer3)"
   ]
  },
  {
   "cell_type": "code",
   "execution_count": 9,
   "metadata": {},
   "outputs": [
    {
     "name": "stdout",
     "output_type": "stream",
     "text": [
      "[' No, this would not be allowed under the terms of the 1890 Act.']\n"
     ]
    }
   ],
   "source": [
    "answer4 = loaded_model.predict([{\"query\":\"Can I lease a small parcel of land from the Federal Government for a small buffalo-themed day spa for visitors to the park?\"}])\n",
    "\n",
    "print(answer4)"
   ]
  },
  {
   "cell_type": "code",
   "execution_count": 10,
   "metadata": {},
   "outputs": [
    {
     "name": "stdout",
     "output_type": "stream",
     "text": [
      "['No, you cannot lease a small parcel of land from the Federal Government for a small buffalo-themed day spa and hotel for visitors to stay in and relax at while visiting the park. Section 2 of the Act to set apart a certain tract of land lying near the headwaters of the Yellowstone River as a public park states that the Secretary of the Interior may in his discretion grant leases for building purposes for terms not exceeding ten years, of small parcels of ground, at such places in said park as shall require the erection of buildings for the accommodation of visitors. However, this Act does not mention anything about leasing land for a day spa and hotel.']\n"
     ]
    }
   ],
   "source": [
    "answer5 = loaded_model.predict([{\"query\":\"Can I lease a small parcel of land from the Federal Government for a small buffalo-themed day spa and hotel for visitors to stay in and relax at while visiting the park?\"}])\n",
    "print(answer5)"
   ]
  },
  {
   "cell_type": "code",
   "execution_count": 11,
   "metadata": {},
   "outputs": [
    {
     "name": "stdout",
     "output_type": "stream",
     "text": [
      "[' Yes, you can go to the park and peacefully enjoy the natural splendor, as long as you follow the rules and regulations set out by the Secretary of the Interior.']\n"
     ]
    }
   ],
   "source": [
    "answer6 = loaded_model.predict([{\"query\":\"Can I just go to the park and peacefully enjoy the natural splendor?\"}])\n",
    "\n",
    "print(answer6)"
   ]
  },
  {
   "cell_type": "code",
   "execution_count": 12,
   "metadata": {},
   "outputs": [
    {
     "name": "stdout",
     "output_type": "stream",
     "text": [
      "[' No, according to Section 1 of the Act to Protect Trade and Commerce Against Unlawful Restraints and Monopolies, contracts or conspiracies in restraint of trade or commerce among the several States, or with foreign nations, are illegal.']\n"
     ]
    }
   ],
   "source": [
    "answer7 = loaded_model.predict([{\"query\":\"Can I start a buffalo themed day spa outside of the park and stifle any competition?\"}])\n",
    "\n",
    "print(answer7)"
   ]
  },
  {
   "cell_type": "code",
   "execution_count": null,
   "metadata": {},
   "outputs": [],
   "source": []
  }
 ],
 "metadata": {
  "kernelspec": {
   "display_name": "Python 3",
   "language": "python",
   "name": "python3"
  },
  "language_info": {
   "codemirror_mode": {
    "name": "ipython",
    "version": 3
   },
   "file_extension": ".py",
   "mimetype": "text/x-python",
   "name": "python",
   "nbconvert_exporter": "python",
   "pygments_lexer": "ipython3",
   "version": "3.8.13"
  }
 },
 "nbformat": 4,
 "nbformat_minor": 2
}
