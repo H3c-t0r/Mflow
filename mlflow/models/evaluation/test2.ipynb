{
 "cells": [
  {
   "cell_type": "code",
   "execution_count": null,
   "metadata": {},
   "outputs": [],
   "source": [
    "import os\n",
    "# Configure MLflow to communicate with a Databricks-hosted tracking server\n",
    "os.environ[\"MLFLOW_TRACKING_URI\"]=\"databricks\"\n",
    "# Specify the workspace hostname and token\n",
    "os.environ[\"DATABRICKS_HOST\"]=\"...\"\n",
    "os.environ[\"DATABRICKS_TOKEN\"]=\"...\""
   ]
  },
  {
   "cell_type": "code",
   "execution_count": null,
   "metadata": {},
   "outputs": [],
   "source": [
    "import mlflow \n",
    "\n",
    "experimentName = \"/Users/ann.zhang@databricks.com/test\" \n",
    "mlflow.set_experiment(experimentName)\n",
    "\n",
    "with mlflow.start_run():\n",
    "    mlflow.log_param('epochs', 20)\n",
    "    pass"
   ]
  }
 ],
 "metadata": {
  "language_info": {
   "name": "python"
  }
 },
 "nbformat": 4,
 "nbformat_minor": 2
}
